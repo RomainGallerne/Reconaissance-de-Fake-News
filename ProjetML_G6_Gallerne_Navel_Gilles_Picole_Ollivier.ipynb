{
  "cells": [
    {
      "cell_type": "markdown",
      "metadata": {
        "id": "qR066zd4vsdj"
      },
      "source": [
        "# HAI817 - Machine Learning 1\n",
        "# Projet Machine Learning\n",
        "\n",
        "---\n",
        "\n",
        "# 2023-2024 - Semestre 2 Master 1 Informatique\n",
        "# Détection automatique des fake news à partir de données textuelles\n",
        "\n",
        "### [Sujet](https://moodle.umontpellier.fr/pluginfile.php/2476876/mod_resource/content/1/ProjetHAI817_2023_2024.pdf)\n",
        "\n",
        "---\n",
        "\n",
        "## Auteurs :\n",
        "- 22010416 - Romain Gallerne (IASD)\n",
        "- 22009176 - Morgan Navel (GL)\n",
        "- 21809267 - Éric Gilles (GL)\n",
        "- 22004340 - Richard Picole-Ollivier (GL)"
      ]
    },
    {
      "cell_type": "markdown",
      "metadata": {
        "id": "FPQc8z33acqC"
      },
      "source": [
        "#Installation et pré-traitements"
      ]
    },
    {
      "cell_type": "markdown",
      "metadata": {
        "id": "pfKcEqkPz6G9"
      },
      "source": [
        "## **Installation**\n",
        "\n",
        "Installations et import de toutes les librairies nécessaires.\n",
        "\n",
        "---\n",
        "\n",
        "**!! ATTENTION A LA VERSION DE GOOGLE TRANS : 4.0.0-rc1 !!**\n",
        "\n",
        "---\n"
      ]
    },
    {
      "cell_type": "code",
      "execution_count": null,
      "metadata": {
        "id": "GwWc_w26zQTM"
      },
      "outputs": [],
      "source": [
        "from google.colab import drive\n",
        "drive.mount('/content/gdrive/')"
      ]
    },
    {
      "cell_type": "code",
      "execution_count": null,
      "metadata": {
        "id": "qBXhaHuje-HT",
        "collapsed": true
      },
      "outputs": [],
      "source": [
        "# Importation des différentes librairies utiles pour le notebook\n",
        "!pip install nlputils\n",
        "!pip install pyLDAvis\n",
        "!pip install googletrans==4.0.0-rc1\n",
        "!pip install --upgrade nltk"
      ]
    },
    {
      "cell_type": "code",
      "execution_count": null,
      "metadata": {
        "id": "u_tBsExMvc9c"
      },
      "outputs": [],
      "source": [
        "#Sickit learn met régulièrement à jour des versions et\n",
        "#indique des futurs warnings.\n",
        "#ces deux lignes permettent de ne pas les afficher.\n",
        "import warnings\n",
        "warnings.filterwarnings(\"ignore\", category=FutureWarning)\n",
        "\n",
        "import warnings\n",
        "import asyncio\n",
        "import pandas as pd\n",
        "import seaborn as sns\n",
        "import matplotlib.pyplot as plt\n",
        "import sys\n",
        "import string\n",
        "import re\n",
        "import pandas as pd\n",
        "import numpy as np\n",
        "import sklearn\n",
        "import unicodedata\n",
        "import itertools\n",
        "from nltk.corpus import stopwords\n",
        "from googletrans import Translator\n",
        "from sklearn.naive_bayes import GaussianNB\n",
        "from sklearn.base import BaseEstimator, TransformerMixin\n",
        "from sklearn.metrics import accuracy_score\n",
        "from sklearn.metrics import recall_score\n",
        "from sklearn.metrics import precision_score\n",
        "from sklearn.metrics import f1_score\n",
        "from sklearn.model_selection import train_test_split\n",
        "from sklearn.model_selection import KFold\n",
        "from sklearn.model_selection import cross_val_score\n",
        "from sklearn.model_selection import RandomizedSearchCV\n",
        "from sklearn.metrics import confusion_matrix\n",
        "from sklearn.metrics import classification_report\n",
        "from sklearn.naive_bayes import MultinomialNB\n",
        "import seaborn as sns\n",
        "import matplotlib.pyplot as plt\n",
        "from sklearn.metrics import precision_recall_fscore_support as score\n",
        "from sklearn.linear_model import LogisticRegression\n",
        "from sklearn.tree import DecisionTreeClassifier\n",
        "from sklearn.neighbors import KNeighborsClassifier\n",
        "from sklearn.naive_bayes import GaussianNB\n",
        "from xgboost import XGBClassifier\n",
        "from sklearn.svm import SVC\n",
        "from sklearn.model_selection import GridSearchCV\n",
        "from sklearn.ensemble import RandomForestClassifier\n",
        "from sklearn.preprocessing import StandardScaler\n",
        "from gensim.models import CoherenceModel\n",
        "from sklearn.metrics import confusion_matrix, ConfusionMatrixDisplay\n",
        "import pyLDAvis\n",
        "\n",
        "import nltk\n",
        "from nltk import sent_tokenize\n",
        "from nltk.stem import WordNetLemmatizer\n",
        "warnings.filterwarnings(\"ignore\", category=DeprecationWarning)"
      ]
    },
    {
      "cell_type": "markdown",
      "metadata": {
        "id": "wt6tP5uMzWk2"
      },
      "source": [
        "Pour pouvoir lire et sauvegarder sur le répertoire Google Drive."
      ]
    },
    {
      "cell_type": "code",
      "execution_count": null,
      "metadata": {
        "id": "2xcp-GSKzzXW"
      },
      "outputs": [],
      "source": [
        "my_local_drive='/content/gdrive/MyDrive/Colab Notebooks/ML_FDS/HAI817_Project_data/'\n",
        "# Ajout du path pour les librairies, fonctions et données\n",
        "sys.path.append(my_local_drive)\n",
        "# Se positionner sur le répertoire associé\n",
        "%cd $my_local_drive\n",
        "\n",
        "%pwd"
      ]
    },
    {
      "cell_type": "code",
      "execution_count": null,
      "metadata": {
        "id": "vqTwxFk4IcZH"
      },
      "outputs": [],
      "source": [
        "nltk.download('stopwords')\n",
        "nltk.download('punkt')\n",
        "nltk.download('omw-1.4')\n",
        "nltk.download('wordnet')"
      ]
    },
    {
      "cell_type": "markdown",
      "metadata": {
        "id": "B2fQZJai071E"
      },
      "source": [
        "##Fonctions de bases des pré-traitements\n",
        "Fonctions essentiels qu'il faut activer pour réaliser les pré-traitement, à faire tourner obligatoirement avant de lancer les pré-traitements."
      ]
    },
    {
      "cell_type": "code",
      "execution_count": null,
      "metadata": {
        "id": "zjudRcOe3aTP"
      },
      "outputs": [],
      "source": [
        "def traduire_texte(texte, translator, source_lang='de', dest_lang='en'):\n",
        "    segments = [texte[i:i+5000] for i in range(0, len(texte), 5000)]  # Diviser en segments de 5000 caractères\n",
        "    traductions = []\n",
        "    for segment in segments:\n",
        "      traduction = translator.translate(segment, src=source_lang, dest=dest_lang)\n",
        "      traductions.append(traduction.text)\n",
        "    texte_traduit = ''.join(traductions)\n",
        "    return texte_traduit\n",
        "\n",
        "def modif_rating(rating):\n",
        "    if rating == \"True\":\n",
        "      return \"true\"\n",
        "    elif rating == \"False\":\n",
        "      return \"false\"\n",
        "    elif rating == \"Partially True\" or rating == \"Partially False\" :\n",
        "      return \"mixture\"\n",
        "    elif rating == \"Other\":\n",
        "      return \"other\"\n",
        "    else:\n",
        "      print(\"Rating : \",rating)\n",
        "      raise Exception(\"Rating indéterminé\")\n",
        "\n",
        "def traduire_df(df_dutch):\n",
        "  translator = Translator()\n",
        "  print(\"Traduction de l'allemand vers l'anglais :\")\n",
        "  for i in range(len(df_dutch)):\n",
        "    if(i%10==0):\n",
        "      print(round(i/len(df_dutch)*100,2),\"%\")\n",
        "    df_dutch.loc[i,'text'] = traduire_texte(df_dutch.loc[i,'text'], translator)\n",
        "    df_dutch.loc[i,'rating'] = modif_rating(df_dutch.loc[i,'our rating'])\n",
        "\n",
        "  display(df_dutch.head())\n",
        "  return df_dutch"
      ]
    },
    {
      "cell_type": "code",
      "execution_count": null,
      "metadata": {
        "id": "qzzb5Fm6_P8t"
      },
      "outputs": [],
      "source": [
        "def sep_ponctuation(tab_token : list, ponctuation : str):\n",
        "  ponctuation_inutile = string.punctuation.replace(\"!\",\"\").replace(\"?\",\"\")\n",
        "  a_separe = False\n",
        "  nouveau_tab = []\n",
        "\n",
        "  for token in tab_token :\n",
        "    tup_exc = token.partition(ponctuation)\n",
        "\n",
        "    if(tup_exc[2] != ''):\n",
        "        a_separe = True\n",
        "\n",
        "    for elem in tup_exc :\n",
        "      if(elem != ''):\n",
        "        nouveau_tab.append(elem)\n",
        "\n",
        "  if(a_separe):\n",
        "    return sep_ponctuation(nouveau_tab, ponctuation)\n",
        "  else:\n",
        "    for ponct in ponctuation_inutile:\n",
        "      for i in (0,max(len(nouveau_tab)-1,0)):\n",
        "        if(len(nouveau_tab)-1 >= 0):\n",
        "          nouveau_tab[i] = str(nouveau_tab[i]).replace(ponct,'')\n",
        "    return nouveau_tab"
      ]
    },
    {
      "cell_type": "markdown",
      "metadata": {
        "id": "VSLaRPp3kCc1"
      },
      "source": [
        "##Traduire le dataframe allemand\n",
        "Traduction du dataframe allemand pour l'enregistrer en version anglais. Ne faire tourner que si l'on souhaite re-générer le dataset traduit.\n",
        "\n",
        "---\n",
        "\n",
        "**ATTENTION : Assez long à faire tourner !**\n",
        "\n",
        "---"
      ]
    },
    {
      "cell_type": "code",
      "execution_count": null,
      "metadata": {
        "id": "ua-OuclUkPQN"
      },
      "outputs": [],
      "source": [
        "df_dutch = traduire_df(df_dutch)\n",
        "df_dutch.to_csv('HAI817_Projet_german_translate.csv', index=False)"
      ]
    },
    {
      "cell_type": "markdown",
      "metadata": {
        "id": "CMsugSHIz0q2"
      },
      "source": [
        "## Pré-Traitement\n",
        "Cette partie réalise l'ensemble des pré-traitements et génère une série de fichier prétraités, ne faire tourner que si l'on souhaite regénérer tous les fichiers.\n",
        "\n",
        "---\n",
        "\n",
        "**ATTENTION : Assez long à faire tourner !**\n",
        "\n",
        "---"
      ]
    },
    {
      "cell_type": "code",
      "execution_count": null,
      "metadata": {
        "id": "RAwb5HFx0KbW"
      },
      "outputs": [],
      "source": [
        "#Import des fichiers de base\n",
        "df1=pd.read_csv('HAI817_Projet_train.csv', sep=',')\n",
        "df2=pd.read_csv('HAI817_Projet_test.csv', sep=',')\n",
        "df_dutch=pd.read_csv('HAI817_Projet_german_translate.csv', sep=',')\n",
        "\n",
        "df1['text'] = df1['title'] + ' ' + df1['text']\n",
        "df2['text'] = df2['title'] + ' ' + df2['text']\n",
        "\n",
        "df1 = df1.drop(columns=[\"public_id\"])\n",
        "df2 = df2.drop(columns=[\"ID\"])\n",
        "\n",
        "df1 = df1.drop(columns=[\"title\"])\n",
        "df2 = df2.drop(columns=[\"title\"])\n",
        "df_dutch = df_dutch.drop(columns=[\"our rating\"])\n",
        "\n",
        "df1 = df1.rename(columns={'our rating': 'rating'})\n",
        "df2 = df2.rename(columns={'our rating': 'rating'})"
      ]
    },
    {
      "cell_type": "code",
      "execution_count": null,
      "metadata": {
        "id": "w1UCMODd1TOm"
      },
      "outputs": [],
      "source": [
        "def preTraitement(\n",
        "               dataset_allemand=False, # utilisation du dataset allemand pour augmenter nos données\n",
        "               removedigit=False, # supprimer les nombres\n",
        "               token_exclamation_interrogation=False, # tokeniser les \"!\" et \"?\"\n",
        "               removestopwords=False, # supprimer les stopwords\n",
        "               lemmatisation_racinisation=False, # lematisation des termes et conserver la racine\n",
        "               df1=df1,\n",
        "               df2=df2,\n",
        "               df_dutch=df_dutch\n",
        "              ):\n",
        "\n",
        "    df1['text'].fillna('',inplace=True)\n",
        "    df2['text'].fillna('',inplace=True)\n",
        "    df_dutch['text'].fillna('',inplace=True)\n",
        "\n",
        "    if dataset_allemand: #On utilise le dataset en allemand pour augmenter nos données\n",
        "      df = pd.concat([df1, df2, df_dutch], ignore_index=True)\n",
        "    else:\n",
        "      df = pd.concat([df1, df2], ignore_index=True)\n",
        "\n",
        "    \"\"\"\n",
        "      PARTIE PRE-TOKENISATION\n",
        "    \"\"\"\n",
        "\n",
        "    for i in range(len(df)):\n",
        "      texte = str(df.loc[i,'text'])\n",
        "\n",
        "      # suppression des caractères spéciaux\n",
        "      texte = re.sub(r'[^\\w\\s]',' ', texte)\n",
        "      # suppression de tous les caractères uniques\n",
        "      texte = re.sub(r'\\s+[a-zA-Z]\\s+', ' ', texte)\n",
        "      # substitution des espaces multiples par un seul espace\n",
        "      texte = re.sub(r'\\s+', ' ', texte, flags=re.I)\n",
        "\n",
        "      # minuscule\n",
        "      texte = texte.lower()\n",
        "\n",
        "      # retirer les chiffres\n",
        "      if removedigit:\n",
        "        texte = re.sub(r'\\d+', '', texte)\n",
        "\n",
        "      \"\"\"\n",
        "        PARTIE POST-TOKENISATION\n",
        "      \"\"\"\n",
        "\n",
        "      # découpage en tokens\n",
        "      tokens = texte.split()\n",
        "\n",
        "      # suppression ponctuation\n",
        "      if(token_exclamation_interrogation):\n",
        "        words = sep_ponctuation(sep_ponctuation(tokens,'?'),'!')\n",
        "      else:\n",
        "        table = str.maketrans('', '', string.punctuation)\n",
        "        words = [token.translate(table) for token in tokens]\n",
        "\n",
        "      # suppression des stopwords\n",
        "      stop_words = set(stopwords.words('english'))\n",
        "      stop_words.update(['always','try','go','get','make','would','really','like','came','got','know','come','also','see'])\n",
        "      non_stop_words = ['d', 'o', 't']\n",
        "      for word in non_stop_words:\n",
        "          stop_words.discard(word)\n",
        "\n",
        "      if removestopwords:\n",
        "        words = [word for word in words if not word in stop_words]\n",
        "\n",
        "      # lemmatisation & racinisation\n",
        "      if lemmatisation_racinisation:\n",
        "          lem = nltk.stem.wordnet.WordNetLemmatizer()\n",
        "          words = [lem.lemmatize(word)for word in words]\n",
        "          ps = nltk.stem.porter.PorterStemmer()\n",
        "          words=[ps.stem(word) for word in words]\n",
        "\n",
        "      df.loc[i,'text'] = ' '.join(words)\n",
        "\n",
        "    return df"
      ]
    },
    {
      "cell_type": "code",
      "execution_count": null,
      "metadata": {
        "id": "V96bTmacnTM6"
      },
      "outputs": [],
      "source": [
        "num = 0\n",
        "tabs = list(itertools.product([False, True], repeat=5))\n",
        "\n",
        "# Parcourir chaque combinaison\n",
        "for tab in tabs:\n",
        "  num += 1\n",
        "  df_preTraite = preTraitement(tab[0],tab[1],tab[2],tab[3],tab[4])\n",
        "  name = ''\n",
        "  for i in range(len(tab)):\n",
        "    if(tab[i]): name += 'T'\n",
        "    else: name += 'F'\n",
        "  df_preTraite.to_csv('HAI817_Projet_Traitement_'+name+'.csv', index=False)\n",
        "  print(name,\"exporté (\",num/0.32,\"% )\")"
      ]
    },
    {
      "cell_type": "markdown",
      "metadata": {
        "id": "wB53RyVo4nGw"
      },
      "source": [
        "# Topic Modeling\n",
        "\n"
      ]
    },
    {
      "cell_type": "markdown",
      "metadata": {
        "id": "zraF2MRumP0O"
      },
      "source": [
        "##Modélisation des différents topic"
      ]
    },
    {
      "cell_type": "markdown",
      "metadata": {
        "id": "hF8yIm7xzPU0"
      },
      "source": [
        "**Fichier Pré-traité**\n",
        "\n",
        "Importation du fichier déjà pré-traité."
      ]
    },
    {
      "cell_type": "code",
      "execution_count": null,
      "metadata": {
        "id": "1wRL9exfEc6f"
      },
      "outputs": [],
      "source": [
        "import re\n",
        "import spacy\n",
        "import gensim\n",
        "import string\n",
        "import nltk\n",
        "from nltk.corpus import stopwords\n",
        "from nltk.corpus import wordnet\n",
        "import gensim\n",
        "from gensim.utils import simple_preprocess\n",
        "from gensim.models import Phrases\n",
        "from gensim.models.phrases import Phraser\n",
        "from gensim import corpora\n",
        "from gensim import models\n",
        "nlp = spacy.load(\"en_core_web_sm\", disable=['parser', 'ner'])\n",
        "stop_words = set(stopwords.words('english'))\n",
        "\n",
        "def MyCleanTextsforLDA(texts,\n",
        "                      min_count=1, # nombre d'apparitions minimale pour un bigram\n",
        "                      threshold=2,\n",
        "                      no_below=1, # nombre minimum d'apparitions pour être dans le dictionnaire\n",
        "                      no_above=0.5, # pourcentage maximal (sur la taille totale du corpus) pour filtrer\n",
        "                      stop_words=stop_words\n",
        "                      ):\n",
        "\n",
        "    allowed_postags=['NOUN', 'ADJ', 'VERB', 'ADV']\n",
        "    sentences=texts.copy()\n",
        "\n",
        "    # suppression des caractères spéciaux\n",
        "    sentences = [re.sub(r'[^\\w\\s]', ' ', str(sentence)) for sentence in sentences]\n",
        "    # suppression de tous les caractères uniques\n",
        "    sentences = [re.sub(r'\\s+[a-zA-Z]\\s+', ' ', str(sentence)) for sentence in sentences]\n",
        "    # substitution des espaces multiples par un seul espace\n",
        "    sentences = [re.sub(r'\\s+', ' ', str(sentence), flags=re.I) for sentence in sentences]\n",
        "\n",
        "    # conversion en minuscule et split des mots dans les textes\n",
        "    sentences = [sentence.lower().split() for sentence in sentences]\n",
        "\n",
        "    # utilisation de spacy pour ne retenir que les allowed_postags\n",
        "    texts_out = []\n",
        "    for sent in sentences:\n",
        "        if len(sent) < (nlp.max_length): # si le texte est trop grand\n",
        "            doc = nlp(\" \".join(sent))\n",
        "            texts_out.append(\" \".join([token.lemma_ for token in doc if token.pos_ in allowed_postags]))\n",
        "        else:\n",
        "            texts_out.append(sent)\n",
        "    sentences=texts_out\n",
        "\n",
        "    # suppression des stopwords\n",
        "    words =[[word for word in simple_preprocess(str(doc)) if word not in stop_words] for doc in sentences]\n",
        "\n",
        "\n",
        "    # recherche des bigrammes\n",
        "    bigram = Phrases(words, min_count, threshold,delimiter=' ')\n",
        "    bigram_phraser = Phraser(bigram)\n",
        "\n",
        "\n",
        "    # sauvergarde des tokens et des bigrammes\n",
        "    bigram_token = []\n",
        "    for sent in words:\n",
        "        bigram_token.append(bigram_phraser[sent])\n",
        "\n",
        "\n",
        "    # creation du vocabulaire\n",
        "    dictionary = gensim.corpora.Dictionary(bigram_token)\n",
        "\n",
        "\n",
        "    # il est possible de filtrer des mots en fonction de leur occurrence d'apparitions\n",
        "    dictionary.filter_extremes(no_below, no_above)\n",
        "    # et de compacter le dictionnaire\n",
        "    dictionary.compactify()\n",
        "    corpus = [dictionary.doc2bow(text) for text in bigram_token]\n",
        "\n",
        "    # recuperaction du tfidf plutôt que uniquement le bag of words\n",
        "    tfidf = models.TfidfModel(corpus)\n",
        "    corpus_tfidf = tfidf[corpus]\n",
        "\n",
        "    return corpus, corpus_tfidf, dictionary, bigram_token"
      ]
    },
    {
      "cell_type": "code",
      "execution_count": null,
      "metadata": {
        "colab": {
          "base_uri": "https://localhost:8080/"
        },
        "id": "ikCo0aOAE07J",
        "outputId": "c2b1f9e9-729a-4ad4-9ced-04606afdceab"
      },
      "outputs": [
        {
          "output_type": "stream",
          "name": "stdout",
          "text": [
            "(2462, 2)\n"
          ]
        }
      ],
      "source": [
        "df_source = pd.read_csv('HAI817_Projet_Traitement_TTTTT.csv', sep=',')\n",
        "\n",
        "df_fake = df_source[df_source[\"rating\"] == \"false\"]\n",
        "df_true = df_source[df_source[\"rating\"] == \"true\"]\n",
        "df_mixture = df_source[df_source[\"rating\"] == \"mixture\"]\n",
        "df_other = df_source[df_source[\"rating\"] == \"other\"]\n",
        "\n",
        "\n",
        "df_source.reset_index(drop = True, inplace = True)\n",
        "print(df_source.shape)"
      ]
    },
    {
      "cell_type": "code",
      "execution_count": null,
      "metadata": {
        "id": "VcT1-i6XE5Fa"
      },
      "outputs": [],
      "source": [
        "import gensim\n",
        "from gensim import models\n",
        "\n",
        "def get_best_coherence_values(corpus, dictionary, listtokens, start=5, stop=15, step=2):\n",
        "    coherence_values = []\n",
        "    model_list = []\n",
        "    for num_topics in range(start, stop, step):\n",
        "        lda_model = gensim.models.LdaMulticore(corpus=corpus,\n",
        "                                           id2word=dictionary,\n",
        "                                           num_topics=num_topics,\n",
        "                                           random_state=100,\n",
        "                                           chunksize=100,\n",
        "                                           passes=10,\n",
        "                                           per_word_topics=True)\n",
        "\n",
        "        coherence_model_lda = CoherenceModel(model=lda_model, texts=listtokens, dictionary=dictionary, coherence='c_v')\n",
        "        model_list.append(lda_model)\n",
        "        coherence_values.append(coherence_model_lda.get_coherence())\n",
        "    return model_list, coherence_values"
      ]
    },
    {
      "cell_type": "code",
      "execution_count": null,
      "metadata": {
        "colab": {
          "base_uri": "https://localhost:8080/"
        },
        "id": "jG-Y2jTBFATg",
        "outputId": "88b3fedc-4503-4f33-91cf-3e5152bc77ca"
      },
      "outputs": [
        {
          "output_type": "stream",
          "name": "stdout",
          "text": [
            "Occurrences de 'true': 664\n",
            "Occurrences de 'false': 1084\n",
            "Occurrences de 'mixture': 511\n",
            "Occurrences de 'other': 203\n"
          ]
        }
      ],
      "source": [
        "# Calculer le nombre d'occurrences de chaque valeur dans la colonne 'our rating'\n",
        "value_counts = df_source['rating'].value_counts()\n",
        "\n",
        "true_count = value_counts.get(\"true\", 0)\n",
        "false_count = value_counts.get(\"false\", 0)\n",
        "mixture_count = value_counts.get(\"mixture\", 0)\n",
        "other_count = value_counts.get(\"other\", 0)\n",
        "# Afficher le nombre d'occurrences pour chaque valeur\n",
        "print(\"Occurrences de 'true':\", true_count)\n",
        "print(\"Occurrences de 'false':\", false_count)\n",
        "print(\"Occurrences de 'mixture':\", mixture_count)\n",
        "print(\"Occurrences de 'other':\", other_count)"
      ]
    },
    {
      "cell_type": "markdown",
      "metadata": {
        "id": "5JxKAxk8gyiN"
      },
      "source": [
        "---\n",
        "\n",
        "Calcul de la cohérence des différentes classes de données :\n",
        "\"true\", \"false\", \"mixture\", \"other\"\n",
        "\n",
        "---"
      ]
    },
    {
      "cell_type": "code",
      "execution_count": null,
      "metadata": {
        "id": "0KV1eO2jFGN2"
      },
      "outputs": [],
      "source": [
        "df_fake = df_source[df_source[\"rating\"] == \"false\"]\n",
        "df_true = df_source[df_source[\"rating\"] == \"true\"]\n",
        "df_mixture = df_source[df_source[\"rating\"] == \"mixture\"]\n",
        "df_other = df_source[df_source[\"rating\"] == \"other\"]\n",
        "\n",
        "corpus_fake, corpus_tfidf_fake, dictionary_fake, token_fake = MyCleanTextsforLDA(df_fake.text,stop_words=stop_words)\n",
        "corpus_true, corpus_tfidf_true, dictionary_true, token_true = MyCleanTextsforLDA(df_true.text,stop_words=stop_words)\n",
        "corpus_mixture, corpus_tfidf_mixture, dictionary_mixture, token_mixture = MyCleanTextsforLDA(df_mixture.text,stop_words=stop_words)\n",
        "corpus_other, corpus_tfidf_other, dictionary_other, token_other = MyCleanTextsforLDA(df_other.text,stop_words=stop_words)"
      ]
    },
    {
      "cell_type": "code",
      "execution_count": null,
      "metadata": {
        "id": "Q7Xe514eFIpZ"
      },
      "outputs": [],
      "source": [
        "#Coherence values pour donnnées FAKE\n",
        "start=6\n",
        "stop=15\n",
        "step=1\n",
        "\n",
        "model_list_fake, coherence_values_fake = get_best_coherence_values(\n",
        "    dictionary=dictionary_fake,\n",
        "    corpus=corpus_fake,\n",
        "    listtokens=token_fake,\n",
        "    start=start,\n",
        "    stop=stop,\n",
        "    step=step)"
      ]
    },
    {
      "cell_type": "code",
      "execution_count": null,
      "metadata": {
        "id": "Xb-gHwkoFKsX"
      },
      "outputs": [],
      "source": [
        "#Coherence values pour donnnées TRUE\n",
        "start=6\n",
        "stop=15\n",
        "step=1\n",
        "model_list_true, coherence_values_true = get_best_coherence_values(\n",
        "    dictionary=dictionary_true,\n",
        "    corpus=corpus_true,\n",
        "    listtokens=token_true,\n",
        "    start=start,\n",
        "    stop=stop,\n",
        "    step=step)"
      ]
    },
    {
      "cell_type": "code",
      "execution_count": null,
      "metadata": {
        "id": "vs4FLbFUgSzz"
      },
      "outputs": [],
      "source": [
        "#Coherence values pour donnnées MIXTURE\n",
        "start=6\n",
        "stop=15\n",
        "step=1\n",
        "model_list_mixture, coherence_values_mixture = get_best_coherence_values(\n",
        "    dictionary=dictionary_mixture,\n",
        "    corpus=corpus_mixture,\n",
        "    listtokens=token_mixture,\n",
        "    start=start,\n",
        "    stop=stop,\n",
        "    step=step)"
      ]
    },
    {
      "cell_type": "code",
      "execution_count": null,
      "metadata": {
        "id": "whx8kBp6gnGW"
      },
      "outputs": [],
      "source": [
        "#Coherence values pour donnnées OTHER\n",
        "start=6\n",
        "stop=15\n",
        "step=1\n",
        "model_list_other, coherence_values_other = get_best_coherence_values(\n",
        "    dictionary=dictionary_other,\n",
        "    corpus=corpus_other,\n",
        "    listtokens=token_other,\n",
        "    start=start,\n",
        "    stop=stop,\n",
        "    step=step)"
      ]
    },
    {
      "cell_type": "markdown",
      "metadata": {
        "id": "KJJ-ET1ugvUb"
      },
      "source": [
        "\n",
        "---\n"
      ]
    },
    {
      "cell_type": "code",
      "execution_count": null,
      "metadata": {
        "colab": {
          "base_uri": "https://localhost:8080/"
        },
        "id": "HuAWVH-mFRVY",
        "outputId": "634d2d29-4645-41dd-a0f5-e85d91bb077d"
      },
      "outputs": [
        {
          "output_type": "stream",
          "name": "stdout",
          "text": [
            "Calcul de la cohérence et de la perplexité du modèle pour le corpus : \n",
            "\n",
            "\n",
            "Cohérence pour news \"vrai\" :  [0.30986333436585367, 0.3581869120790963, 0.3839641501180163, 0.42197847901575436, 0.4749022873610732, 0.44102120928394994, 0.48063727685265817, 0.48287280265118154, 0.5182303401898596]\n",
            "Cohérence pour news \"fausse\" :  [0.3476063642765608, 0.3496531904812456, 0.38784031721044177, 0.4051681033050882, 0.4115627972345087, 0.45716132740405124, 0.45144639438866085, 0.43547910185902083, 0.50386950041314]\n",
            "Cohérence pour news \"mixture\" :  [0.3476063642765608, 0.3496531904812456, 0.38784031721044177, 0.4051681033050882, 0.4115627972345087, 0.45716132740405124, 0.45144639438866085, 0.43547910185902083, 0.50386950041314]\n",
            "Cohérence pour news \"other\" :  [0.3476063642765608, 0.3496531904812456, 0.38784031721044177, 0.4051681033050882, 0.4115627972345087, 0.45716132740405124, 0.45144639438866085, 0.43547910185902083, 0.50386950041314]\n",
            "\n",
            "\n"
          ]
        }
      ],
      "source": [
        "import pyLDAvis.gensim_models as gensimvis\n",
        "\n",
        "print (\"Calcul de la cohérence et de la perplexité du modèle pour le corpus : \")\n",
        "\n",
        "print('\\n')\n",
        "print('Cohérence pour news \"vrai\" : ', str(coherence_values_fake))\n",
        "print('Cohérence pour news \"fausse\" : ', str(coherence_values_true))\n",
        "print('Cohérence pour news \"mixture\" : ', str(coherence_values_true))\n",
        "print('Cohérence pour news \"other\" : ', str(coherence_values_true))\n",
        "print('\\n')"
      ]
    },
    {
      "cell_type": "markdown",
      "metadata": {
        "id": "Zbkru_a9jEJC"
      },
      "source": [
        "\n",
        "---\n",
        "\n",
        "Recherche du meilleur modèle pour chaque classe\n",
        "\n",
        "---\n"
      ]
    },
    {
      "cell_type": "code",
      "execution_count": null,
      "metadata": {
        "colab": {
          "base_uri": "https://localhost:8080/",
          "height": 879
        },
        "id": "yt_I-MYYFUUS",
        "outputId": "c49b277e-a8cd-48d5-fa66-f63d7bb3e39c"
      },
      "outputs": [
        {
          "output_type": "stream",
          "name": "stdout",
          "text": [
            "Best coherence: 0.5182303401898596\n"
          ]
        },
        {
          "output_type": "execute_result",
          "data": {
            "text/plain": [
              "<IPython.core.display.HTML object>"
            ],
            "text/html": [
              "\n",
              "<link rel=\"stylesheet\" type=\"text/css\" href=\"https://cdn.jsdelivr.net/gh/bmabey/pyLDAvis@3.4.0/pyLDAvis/js/ldavis.v1.0.0.css\">\n",
              "\n",
              "\n",
              "<div id=\"ldavis_el3001336685945503681723388229\" style=\"background-color:white;\"></div>\n",
              "<script type=\"text/javascript\">\n",
              "\n",
              "var ldavis_el3001336685945503681723388229_data = {\"mdsDat\": {\"x\": [0.41771630652492303, 0.2754533318335991, -0.04300997450683754, -0.04558818195185313, -0.06484306492974652, -0.042603736070986484, -0.04146224062509138, -0.07450751511782978, -0.06977659320557633, -0.06056771911407405, -0.05990140731718659, -0.06851628476774692, -0.06302376096658455, -0.05936915978500909], \"y\": [-0.17493736755522424, 0.2526233827588453, -0.005644516317356725, -0.01256745358519046, 0.005170353365474249, -0.029045739483852244, -0.02061977979739792, -0.0019099598862275676, -0.00019194160930660175, -0.007473323556119974, -0.004075065657778152, 0.0024497804051450485, -0.0017759806098026404, -0.002002388471208125], \"topics\": [1, 2, 3, 4, 5, 6, 7, 8, 9, 10, 11, 12, 13, 14], \"cluster\": [1, 1, 1, 1, 1, 1, 1, 1, 1, 1, 1, 1, 1, 1], \"Freq\": [73.30186453567299, 12.093673421321764, 3.43384106839961, 1.9458329976943016, 1.8329114965186404, 1.5761100802871015, 1.2299101948737294, 1.1057443348637837, 0.9115339575771555, 0.8007986382520446, 0.7014834276057038, 0.6713800425083023, 0.29883070318173893, 0.09608510124313861]}, \"tinfo\": {\"Term\": [\"vaccin\", \"covid\", \"death\", \"report\", \"case\", \"state\", \"time\", \"child\", \"effect\", \"year\", \"tell\", \"covid vaccin\", \"presid trump\", \"trump\", \"need\", \"number\", \"presid\", \"day\", \"go\", \"help\", \"take\", \"find\", \"order\", \"author\", \"give\", \"medium\", \"first\", \"fatal recov\", \"vote\", \"infect\", \"right\", \"person\", \"think\", \"mean\", \"ask\", \"world\", \"part\", \"plan\", \"happen\", \"differ\", \"never\", \"back\", \"talk\", \"addit\", \"appear\", \"continu\", \"exampl\", \"speak\", \"last\", \"note\", \"cour\", \"recent\", \"event\", \"term\", \"send\", \"understand\", \"turn\", \"organ\", \"name\", \"comment\", \"protect\", \"way\", \"fact\", \"thing\", \"least\", \"know\", \"reason\", \"still\", \"time\", \"help\", \"use\", \"go\", \"first\", \"give\", \"work\", \"well\", \"system\", \"countri\", \"want\", \"take\", \"need\", \"peopl\", \"govern\", \"test\", \"new\", \"question\", \"call\", \"even\", \"make\", \"find\", \"tell\", \"year\", \"show\", \"day\", \"report\", \"state\", \"case\", \"number\", \"vaccin\", \"covid vaccin\", \"fatal recov\", \"covid death\", \"vaccin rate\", \"spike protein\", \"unvaccin\", \"incl fatal\", \"vaccin peopl\", \"die covid\", \"vaccin effect\", \"datum show\", \"number death\", \"pfizer biontech\", \"report death\", \"mrna\", \"age group\", \"vaccin pfizer\", \"receiv vaccin\", \"death covid\", \"new covid\", \"nation file\", \"number case\", \"vaccin adver\", \"adver event\", \"corona\", \"peopl die\", \"new case\", \"coronaviru vaccin\", \"glyphos\", \"side effect\", \"time high\", \"public health\", \"protein\", \"death\", \"immun system\", \"covid\", \"covid case\", \"mortal\", \"caus death\", \"effect\", \"infect\", \"case\", \"child\", \"report\", \"number\", \"year\", \"state\", \"author\", \"week\", \"health\", \"datum\", \"rate\", \"day\", \"even\", \"show\", \"find\", \"carbon dioxid\", \"pilot\", \"mp\", \"cotton\", \"state govern\", \"excit\", \"theorist\", \"deposit\", \"materi\", \"summer\", \"instal\", \"represent\", \"argu\", \"thank much\", \"member state\", \"face mask\", \"tea\", \"fiction\", \"sudden\", \"supermarket\", \"guilti\", \"http www\", \"leadership\", \"stake\", \"governor\", \"go go\", \"whatsapp\", \"say good\", \"countri high\", \"outdoor\", \"mask\", \"legisl\", \"mental health\", \"wear mask\", \"elit\", \"consent\", \"http\", \"worker\", \"manipul\", \"health care\", \"tell real\", \"special unit\", \"raw news\", \"plan save\", \"gender\", \"public opinion\", \"space forc\", \"nation secur\", \"militari arrest\", \"medium platform\", \"last sit\", \"stream medium\", \"agent sole\", \"help support\", \"remain presid\", \"seal indict\", \"medium matter\", \"youtub com\", \"arena msm\", \"dogmat view\", \"follow truth\", \"help thrive\", \"msm new\", \"politifact wage\", \"present import\", \"reject big\", \"tech narrow\", \"war need\", \"watchdog snope\", \"main stream\", \"deep state\", \"visit today\", \"visit time\", \"presid trump\", \"altern medium\", \"social medium\", \"trump\", \"time visit\", \"tell\", \"unit\", \"medium\", \"report\", \"refuge\", \"tradit\", \"ideolog\", \"weekli\", \"foreign ministri\", \"vaccin side\", \"medic worker\", \"good peopl\", \"harri\", \"germani\", \"summit\", \"second amend\", \"rittenhous\", \"syrian\", \"take custodi\", \"due process\", \"use inform\", \"hurt\", \"proud\", \"domin\", \"belt\", \"use technolog\", \"softwar\", \"anybodi\", \"russian presid\", \"sing\", \"gun control\", \"right time\", \"tour\", \"excus\", \"child traffick\", \"soil\", \"spend time\", \"gun\", \"donald trump\", \"question ask\", \"risk limit\", \"stay home\", \"dominion vote\", \"ballot mix\", \"deperno explain\", \"devic\", \"properli maintain\", \"flee\", \"earthquak\", \"chain custodi\", \"error rate\", \"right vote\", \"rate mean\", \"find someth\", \"paper ballot\", \"ballot cast\", \"spoil ballot\", \"need wear\", \"watch even\", \"countri lead\", \"thing much\", \"ballot send\", \"ballot signatur\", \"conclud dominion\", \"examin dominion\", \"investig right\", \"limit audit\", \"show seal\", \"take tabl\", \"count ballot\", \"vote machin\", \"apolog\", \"ballot\", \"move forward\", \"ballot count\", \"need\", \"go\", \"tell\", \"give\", \"question\", \"state\", \"take look\", \"absente ballot\", \"ballot drop\", \"voter roll\", \"infect fatal\", \"vanish\", \"make possibl\", \"morn novemb\", \"motion\", \"discov video\", \"presid bankrupt\", \"ballot reject\", \"indic possibl\", \"vote appear\", \"write show\", \"hous senat\", \"trump remain\", \"person vote\", \"drop take\", \"ballot process\", \"excess death\", \"turn author\", \"vote biden\", \"question ballot\", \"give free\", \"hour video\", \"win presid\", \"cast ballot\", \"voter state\", \"fli white\", \"audit\", \"voter fraud\", \"novemb th\", \"gateway pundit\", \"state offici\", \"ballot\", \"state senat\", \"state\", \"time\", \"count ballot\", \"case fatal\", \"day\", \"take\", \"author\", \"vaccin campaign\", \"moderna\", \"seriou side\", \"vaccin kill\", \"user\", \"extrem\", \"rush\", \"second dose\", \"fertil\", \"parliament\", \"resist vaccin\", \"make money\", \"isra\", \"blog\", \"first appear\", \"socialist\", \"great reset\", \"ukrainian\", \"peg\", \"absorpt\", \"ever see\", \"creation\", \"shortag\", \"short time\", \"templat\", \"differ way\", \"reuter\", \"sacrific\", \"episod\", \"addit inform\", \"insan\", \"smoke gun\", \"approv\", \"case report\", \"due vaccin\", \"warrant\", \"youtub\", \"state depart\", \"oper trump\", \"radio show\", \"driver licen\", \"urgent need\", \"weigh\", \"first shoot\", \"potenti danger\", \"public servic\", \"say noth\", \"obe\", \"vulner peopl\", \"put mask\", \"junk food\", \"steep\", \"say early\", \"elector colleg\", \"individu test\", \"enough money\", \"number larg\", \"need sure\", \"chicken\", \"soft drink\", \"situat want\", \"screenshot\", \"piss\", \"stay touch\", \"desert\", \"spencer tell\", \"parent child\", \"music\", \"high level\", \"lung cancer\", \"percent increa\", \"address hack\", \"ip address\", \"court order\", \"state oper\", \"develop new\", \"ballot verifi\", \"monitor overse\", \"address chine\", \"hack address\", \"trump ban\", \"read full\", \"cancer patient\", \"tell lie\", \"host cell\", \"place arrest\", \"accord sourc\", \"relev inform\", \"research paper\", \"govern product\", \"hour wear\", \"comput scienc\", \"low rate\", \"expect go\", \"comment find\", \"former foreign\", \"report nearli\", \"rate share\", \"vote articl\", \"address address\", \"high proport\", \"voter fraud\", \"rate high\", \"presid\", \"help\", \"report\", \"presid unit\", \"everi day\", \"pregnant\", \"brother\", \"hor\", \"contin\", \"endor\", \"make name\", \"bone\", \"respiratori infect\", \"unusu\", \"print differ\", \"long allow\", \"go far\", \"vote ballot\", \"covid pandem\", \"singer\", \"flight control\", \"go let\", \"well think\", \"admit covid\", \"high tax\", \"hold hear\", \"video statement\", \"outrag\", \"vote leav\", \"watch video\", \"flight attend\", \"hear last\", \"countri continu\", \"make mistak\", \"coordin\", \"famili member\", \"drop dead\", \"transcript\", \"vote\", \"ice\", \"exagger\", \"sand\", \"rape\", \"protect law\", \"defund polic\", \"laughter\", \"nose\", \"enrol\", \"big govern\", \"simul\", \"urban\", \"colleg\", \"incap\", \"killer\", \"anyon el\", \"child bear\", \"blue line\", \"public law\", \"protestor\", \"document offic\", \"univer publish\", \"pretti\", \"arson\", \"medium never\", \"main sourc\", \"actual burn\", \"shoulder\", \"world today\", \"sanctuari\", \"transact\", \"civil right\", \"immigr\", \"democraci\", \"coordin\", \"say special\", \"diver\", \"migrant\", \"expert say\", \"follow order\", \"annoy\", \"project number\", \"press confer\", \"strange\", \"period year\", \"start want\", \"spill\", \"conscienc\", \"howev never\", \"oppos trump\", \"critic condit\", \"hard time\", \"go deal\", \"contributor\", \"collar\", \"video reader\", \"foolish\", \"govern ethic\", \"deliveri system\", \"week prior\", \"staff writer\", \"hous aid\", \"say focu\", \"even express\", \"research reveal\", \"speak differ\", \"public sidewalk\", \"bibl\", \"say happi\", \"time expen\", \"pay protest\", \"australian style\", \"point base\", \"pay bail\", \"action committe\", \"empow texan\", \"lobbyist organ\", \"requir regist\", \"share address\", \"texa scorecard\", \"sign last\", \"bootstrap\", \"cite case\", \"craigslist\", \"curfew\", \"day add\", \"stipend\", \"access hous\", \"advocaci newspap\", \"allow special\", \"almost satisfi\", \"ancient jewish\", \"anti taxpay\", \"appear remain\", \"appear undergo\", \"arise social\", \"back proof\", \"becom studi\", \"bent organ\", \"bibl give\", \"chamber floor\", \"chamber follow\", \"cite organ\", \"close jesu\", \"close organ\", \"car use\"], \"Freq\": [2287.0, 679.0, 611.0, 970.0, 794.0, 817.0, 1145.0, 573.0, 429.0, 1102.0, 491.0, 273.0, 183.0, 343.0, 481.0, 550.0, 293.0, 669.0, 664.0, 284.0, 822.0, 825.0, 323.0, 335.0, 442.0, 286.0, 419.0, 176.0, 219.0, 243.0, 424.5841811245493, 397.39886723092656, 383.80993585629176, 339.0641064621006, 298.9512433944838, 297.31047036149965, 287.2990196693899, 249.9592396817304, 246.58438355595706, 245.8630041200566, 223.2132173173743, 220.52638123330397, 219.7158519598623, 217.99168820299317, 205.4356096214352, 228.16046670347484, 194.41904612574646, 193.4025548038116, 193.08378553445618, 187.49918388825358, 173.66164818692158, 184.63606614736318, 170.5310498869728, 158.97643615290428, 156.16848792666153, 155.4468601192826, 154.82413072997352, 151.09503478308056, 150.96055715072478, 150.74197472648356, 302.65163691239997, 423.0429119151136, 431.8223158884407, 354.24218064863965, 224.00378373323665, 287.78471009547184, 236.84236934829835, 390.05924167165915, 1104.184460755007, 281.42984640176905, 714.1148806205579, 645.3875741723966, 411.828194549285, 432.86861178778787, 571.3767233563323, 515.86603943663, 386.38539285550087, 564.8545504254679, 577.2980235879899, 781.1525779937874, 466.8180745251414, 1039.6564329856358, 556.3850830107943, 472.24194877836095, 538.948101274313, 355.3393927010663, 540.5716435359807, 810.3651619872758, 561.5418337389558, 736.9730666168655, 462.1668839413368, 887.5641711934164, 587.9298751867983, 567.0746809783392, 721.3612426896724, 629.5753765549752, 547.4881682817321, 399.60893873892127, 2285.7958009880167, 272.5915914286754, 175.52355034026672, 121.03845657163828, 118.21029536121955, 107.25469729270625, 104.5249331860151, 100.7910781137066, 87.03601329469555, 68.33355644236977, 63.34820904525382, 57.662695312904475, 55.569116374207724, 54.862009483245494, 48.795185204681054, 46.995588742368504, 63.33489137374462, 42.227196458500096, 39.665334895361156, 39.42790898434958, 37.97622644585213, 36.836510362457645, 33.30213608172222, 32.65545044196095, 32.056139857502984, 29.994746145317016, 81.8198911390506, 28.0085076389844, 27.460311302215008, 26.917290929699476, 127.70462728993013, 39.70197641964618, 144.53932169054167, 82.00458675415778, 466.7029642026618, 65.2176976720829, 486.4134868333323, 59.89504438872707, 64.62517397791329, 50.47029729365205, 214.6809466831764, 127.15000773774823, 246.2638046672399, 201.51378535075753, 239.55122698591984, 150.87604394878406, 194.55222867839166, 164.48474755790903, 107.15940423087659, 105.3255301309719, 93.00959338397021, 83.48439519044639, 87.71524527475276, 98.44629715725829, 99.15500216880162, 93.3335508656128, 84.35081728792807, 29.020268808656137, 28.24033022297585, 23.418351590700944, 22.915055812070445, 20.84756627207378, 20.413615173856574, 18.40524022866022, 17.02947551079963, 16.92959328309947, 16.92238393786439, 16.336382120201538, 16.129524669701055, 16.091844678506686, 16.03060523936737, 14.849978604667287, 14.034500870275187, 13.447856218116891, 12.990866338808516, 12.6968015534309, 12.464636494208278, 12.149932649272252, 11.83356863334856, 11.861873712421621, 11.393746943636215, 11.305213217220974, 11.244567890958102, 11.207024611172265, 11.163612194267975, 11.146054958908302, 10.776708727483017, 87.58773582575486, 19.131854093129235, 24.59801251928118, 18.060429331936533, 18.531816086064772, 14.26284091881226, 13.417093242443613, 23.65030285655065, 16.438016871808955, 14.425587124410578, 12.021374266498897, 10.575044671865049, 10.193470019924856, 9.745727444114214, 9.371906324224954, 9.154642598311378, 8.775461256009356, 8.599234878623005, 8.465225197591774, 7.660291047993456, 7.305466411285954, 7.305466411285954, 7.129530132037561, 7.053780728190057, 7.034117513776454, 6.793030714496567, 6.712550733058464, 6.502816784524071, 6.469832131752551, 6.469832131752551, 6.469832131752551, 6.469832131752551, 6.469832131752551, 6.469832131752551, 6.469832131752551, 6.469832131752551, 6.469832131752551, 6.469832131752551, 6.469832131752551, 6.193514891559267, 55.34833800627748, 26.456831505444914, 25.6187280951691, 41.87948693887189, 7.404786288842711, 11.135708772019075, 13.739242311402846, 9.793668633839424, 10.502211083961019, 8.532732352922975, 7.196523022487834, 7.072913194873985, 20.00830475787029, 14.371312408770729, 13.816262414409014, 11.635916141346259, 11.459163095364184, 10.165297603528312, 10.140606891801166, 9.966561633981465, 19.321063774893634, 8.656675320956689, 8.430315720050402, 8.118515621047026, 7.95992990837225, 7.851470881948749, 7.759715057962639, 7.2190253461203, 7.157602494286831, 7.082553754315182, 7.048786362773108, 6.922083147816369, 6.775338574144081, 6.544288475509279, 6.384692000166094, 6.246226442221339, 6.203308232742346, 6.154196578894255, 6.111154158949098, 6.09981413154604, 6.071197980930408, 6.0354024653705025, 9.90785743872616, 8.27169352055119, 6.563360216273334, 7.576726646579136, 6.1576418666994766, 12.219340701561924, 11.528616894263648, 7.233549458409824, 6.789571183381131, 6.376194697417426, 6.376194697417426, 6.22305691510262, 6.181537359357343, 6.129972523697359, 6.078050549231264, 5.6295509636721155, 4.858663179159774, 4.663441762050785, 4.623924186267243, 4.602875025829278, 4.5204470556041345, 4.519559548982218, 4.517876657523886, 4.516924732407035, 4.421190170795675, 4.311288213142993, 4.279076295479237, 4.263815453896962, 4.263815453896962, 4.263815453896962, 4.263815453896962, 4.263815453896962, 4.263815453896962, 4.263815453896962, 4.263815453896962, 12.360022683908063, 8.02296907543892, 6.765904562646412, 24.77594059494386, 8.041446168923713, 4.854166901723205, 7.4286767510858, 6.4471698603022825, 5.896081318251112, 5.340188424821277, 4.969853840485723, 4.629441146385204, 10.603532382722777, 10.779362306569146, 8.60732844055022, 7.71553038949466, 7.117340462938112, 6.566730747836879, 6.083419066413739, 6.005506268299589, 5.4035553072812315, 4.587413433662734, 3.920341359051588, 3.6950777943018283, 3.579370767197682, 3.3605999356241014, 3.3423516256197106, 3.2667058665606583, 3.2092159544011536, 3.0859110646733585, 3.044445659731892, 3.0366422946019846, 2.9917937818610394, 2.876673830357788, 2.881114663984788, 2.8070834930579225, 2.8057238947275445, 2.7806333149647204, 2.776054958747981, 2.6611480630750455, 2.644813609111194, 2.621319124859587, 11.808879333789557, 7.4867980257862845, 4.66391297879975, 5.060188488484897, 4.165389423643396, 6.4932431557827135, 3.9115258484979556, 7.415712390782454, 6.589200063692247, 3.4374643844509385, 3.338051700555303, 3.8577300327215442, 3.8639122982330085, 3.3164382544535025, 19.13892412896032, 14.564331100649047, 12.465776024397718, 10.267109915543475, 15.82983024181614, 8.834643844335213, 8.066979808935109, 7.695314989460296, 7.498194669976014, 6.654273492442756, 5.976990009371285, 5.577514852521138, 5.577268042918956, 5.4242741893307596, 5.234661190383452, 8.396093622668943, 4.894561773540709, 4.64920820751226, 4.584268714043892, 4.536707520211551, 4.459288452797534, 4.346392027140384, 4.109980742979245, 4.040088665937671, 3.9844984325990356, 3.8338232779489907, 3.741487684473657, 3.725257728565432, 3.7240285980133865, 3.7147357715782703, 4.768953014218204, 4.4996387786131695, 5.375081804142818, 5.946075584627325, 4.889891124275877, 4.353988798595796, 6.672095594157306, 5.6617318136106505, 4.929301300427296, 4.8947701483758825, 4.616687470714916, 4.6133479382218505, 4.430292912388691, 4.1801298845891095, 3.6923315156798275, 3.558797702951057, 3.502381609986131, 3.377501626255286, 3.339835560464718, 3.3349154446159757, 2.853522028777208, 2.799429709925086, 2.7706502752241566, 2.6333642178364154, 2.5869742507765356, 2.535819369262389, 2.4930718090586743, 2.476905190170714, 2.362254985916025, 2.36162549369291, 2.296439749793883, 2.2950504656694557, 2.106862018588431, 2.0803005739652654, 2.075137039013994, 1.9134816601817717, 3.4884694650858306, 4.958178797700854, 2.579992118390746, 7.49359915214956, 4.947688031535629, 4.713955762332312, 4.713955762332312, 4.371141695949647, 3.7906541812931573, 3.3244065921554573, 3.3007408632703745, 3.3007408632703745, 3.1522906894066924, 3.1522906894066924, 3.1522906894066924, 3.10358321068222, 2.705794783846531, 2.660914691974136, 2.6047188034296815, 2.5330658276408, 2.381431506693303, 2.3244322891790983, 2.256890756823323, 2.2171382678070324, 2.1576729304114455, 2.1243212960783406, 2.120868355155165, 2.100731711315576, 2.1006438657579802, 2.072464265817833, 2.06939950729106, 2.0684372762219523, 2.0684372762219523, 5.184334806053305, 4.566112706414947, 4.71408023846991, 2.5301157092625495, 2.664050337456653, 2.5483297564101273, 2.5414218395315538, 2.124878555735212, 6.407484381376378, 5.174274067383547, 4.117471837476344, 3.504675900247242, 3.291839422458297, 3.14677948491888, 3.1407193760666936, 2.9645751237534226, 2.9511672406195566, 2.9286001166318782, 2.8735552420456294, 2.6905983066916836, 2.53404831720146, 2.444180174080983, 2.443289296187505, 2.436657254720696, 2.356888104589123, 2.02524562458083, 2.020170873918979, 1.9953599914348699, 1.992396637721495, 1.9407266112232973, 1.8937804510140313, 1.892803857505322, 2.6418527127782814, 3.478885453175906, 1.7967023916550877, 1.7943241918557384, 1.7707696299227624, 1.7413916055415206, 5.390317230216452, 3.0209599547510733, 2.485360807873075, 2.0482328590708856, 2.133481866420173, 13.99369875285756, 4.564525291728209, 4.392985313228504, 4.049255029947248, 3.8124370224840756, 3.569762666190723, 3.364388090851601, 3.111293158727669, 2.9481485598279757, 2.8993911501573364, 3.5191731392337107, 2.7748856574359637, 2.7482248391004447, 2.588409501288576, 2.3858384094705385, 2.3802884561666766, 2.325551570739736, 2.2720031587255525, 2.194136325729023, 2.0462067172970175, 1.899270797186792, 1.8906964143535396, 1.8531852133772049, 1.8482666765616853, 1.8028632671072136, 1.7664479810806974, 1.746371894072494, 1.6952038411773898, 1.6474871810439418, 1.6117883344870854, 2.8493871159044435, 3.7293101389577736, 5.983912306650841, 2.563692837211466, 2.4210043695157295, 2.2116094014630603, 2.087530729795055, 8.138760047008766, 1.8609616712670993, 1.7619965797602009, 1.3232087212767418, 1.203887791461055, 0.9951022371723155, 0.9186696904794254, 0.7545122517979285, 0.7543663828453022, 0.742717623692236, 0.727945876711338, 0.691482625428537, 0.6821684656383058, 0.6347275789519402, 0.6269172299735343, 0.6237892427325755, 0.591642320205881, 0.5619804224218014, 0.49703927993590136, 0.4563180158361891, 0.4378150296443064, 0.43363004622927404, 0.42280150724756954, 0.42211741033742217, 0.4185880145209718, 0.4157452786049427, 0.3933473698849527, 0.3920581224934655, 0.38590963539377604, 0.3845472636748443, 0.5457572002576341, 0.20486384996205304, 0.12662598899077182, 0.09308524207739739, 0.08703345766962474, 0.08703345766962474, 0.004846323075993212, 0.0048477735103457775, 0.0048477735103457775, 0.0048477735103457775, 0.0048477735103457775, 0.0048477735103457775, 0.0048477735103457775, 0.004843515045260672, 0.004843391685214903, 0.004843391685214903, 0.004843391685214903, 0.004843391685214903, 0.004843391685214903, 0.004843391685214903, 0.004844844663073567, 0.004844844663073567, 0.004844844663073567, 0.004844844663073567, 0.004844844663073567, 0.004844844663073567, 0.004844844663073567, 0.004844844663073567, 0.004844844663073567, 0.004844844663073567, 0.004844844663073567, 0.004844844663073567, 0.004844844663073567, 0.004844844663073567, 0.004844844663073567, 0.004844844663073567, 0.004844844663073567, 0.004844844663073567, 0.004844844663073567], \"Total\": [2287.0, 679.0, 611.0, 970.0, 794.0, 817.0, 1145.0, 573.0, 429.0, 1102.0, 491.0, 273.0, 183.0, 343.0, 481.0, 550.0, 293.0, 669.0, 664.0, 284.0, 822.0, 825.0, 323.0, 335.0, 442.0, 286.0, 419.0, 176.0, 219.0, 243.0, 425.1457454772763, 397.93174152070674, 384.3275936567319, 339.5819773518354, 299.4663569736991, 297.82579436476425, 287.8141335527816, 250.47487198318825, 247.09957773671167, 246.37840147898328, 223.7283263170233, 221.04149006466156, 220.2330444368842, 218.50718153132377, 205.950995340251, 228.7390433350906, 194.9341895713729, 193.9176640105256, 193.59889515178477, 188.01935067198386, 174.17678434888413, 185.18649355550514, 171.0462070133739, 159.49154588544806, 156.68359648937707, 155.96199312875828, 155.3392392032382, 151.61014922094958, 151.47566640295338, 151.25708322024485, 303.7674870077205, 426.10902204060824, 435.3751101077552, 356.7063491222488, 224.8582405820865, 289.7379430501953, 238.32249850677735, 394.5086342661598, 1145.703578982137, 284.46373091028596, 737.6592209912835, 664.6873968496528, 419.7415316224006, 442.4815406388768, 589.2638397689564, 530.5460652664102, 394.27067977060966, 584.3300427311252, 598.6207926575561, 822.6013707717117, 481.2682743202482, 1117.3131642954595, 581.3541376685853, 492.2782186130111, 573.5058083673349, 366.0254055246994, 579.3068132511784, 909.9489135939835, 608.0800513163498, 825.6795377455865, 491.05843524123617, 1102.6324410531781, 688.3520765745973, 669.7704266050812, 970.9635338201601, 817.7326470396625, 794.5972633350628, 550.9137979437257, 2287.2729490496395, 273.1207599399054, 176.05263858974595, 121.56759134496612, 118.7393838468998, 107.78379062833508, 105.0540219070604, 101.32016656384124, 87.56518020683718, 68.86304226915594, 63.877297732744914, 58.19178507905608, 56.09820495592964, 55.39109785582552, 49.32592044031815, 47.52467790863722, 64.0536042473938, 42.7563212843697, 40.19442327779645, 39.956998828830386, 38.505329692083606, 37.36559816653615, 33.83122768438662, 33.18453899917178, 32.585228544604504, 30.523837625390556, 83.30367739666991, 28.537595777778666, 27.989400071559306, 27.446384805333413, 132.3981099397318, 41.153181756492174, 161.41412149838567, 89.5570623319482, 611.1370456472058, 70.70499980339822, 679.4513076777775, 65.13251203845252, 71.96136725362737, 54.81885841704268, 429.8285907983684, 243.83259129677438, 794.5972633350628, 573.3282723042578, 970.9635338201601, 550.9137979437257, 1102.6324410531781, 817.7326470396625, 335.40780112348574, 335.9321464585852, 277.5324945823591, 187.12794450234293, 238.5050775450139, 669.7704266050812, 909.9489135939835, 688.3520765745973, 825.6795377455865, 29.564476556911345, 28.784539286385996, 23.96255985572911, 23.45926503120525, 21.391774846268014, 20.957824746926065, 18.949455758876898, 17.57368331635894, 17.47380133365297, 17.46659145461784, 16.88059441770873, 16.673737669597017, 16.636053539274286, 16.574814036264044, 15.394192122762469, 14.578706004031826, 13.99206349630705, 13.5350782725187, 13.241014431843134, 13.00884397077238, 12.694139461439224, 12.377777675898818, 12.41054857795937, 11.937966401007793, 11.849674241501711, 11.788777012285188, 11.751230924363409, 11.70781873816162, 11.690275356142541, 11.320914786602001, 93.9475790665256, 22.669852993955477, 31.452747909299934, 27.35261712515394, 30.446239320628855, 18.799943475346517, 17.024089612463207, 62.92255388322591, 33.428420852959526, 79.11751083452516, 12.588272219914126, 11.141940940499882, 10.760368067475124, 10.312624552596942, 9.938859048877791, 9.721551234123181, 9.342357840050436, 9.166132993227041, 9.032124754019783, 8.227188230921628, 7.872362529040281, 7.872362529040281, 7.696426565967978, 7.6206780037524755, 7.601014335504526, 7.359927210390699, 7.27944716740742, 7.0697328119500575, 7.036728493470379, 7.036728493470379, 7.036728493470379, 7.036728493470379, 7.036728493470379, 7.036728493470379, 7.036728493470379, 7.036728493470379, 7.036728493470379, 7.036728493470379, 7.036728493470379, 6.760411036367915, 73.28643248717563, 44.93613927222225, 50.30100491852142, 183.85690641450216, 10.788874106031956, 87.00228077906607, 343.8176166711588, 66.28385933930679, 491.05843524123617, 187.71065373603284, 286.00821944905687, 970.9635338201601, 20.570332826516708, 14.933342154932957, 14.378297873539882, 12.197947094106544, 12.021193905123697, 10.727367102638205, 10.70270865807661, 10.52858979456286, 20.511717379305423, 9.218713223374856, 8.992345536308108, 8.680541370226763, 8.521957027770867, 8.413497087694376, 8.321744744120002, 7.7810520626224875, 7.71963099483402, 7.644582346925864, 7.610829831544683, 7.484127937258401, 7.337408831856998, 7.1063232699151255, 6.94672359780544, 6.808261881139134, 6.765340311239355, 6.716225827968353, 6.67318326132355, 6.661840636795661, 6.633284442311671, 6.597444016818393, 11.074523868993232, 9.505433694202239, 7.896557926036834, 36.49531744200676, 8.490278385407663, 12.794838782083819, 12.10411794431311, 7.809041436786498, 7.365066017714998, 6.951680247702255, 6.951680247702255, 6.7985586197992385, 6.75702368455471, 6.705467005422852, 6.653539119002194, 6.2050376409570385, 5.434159567794891, 5.238931166553636, 5.199424249049037, 5.178377365353661, 5.095932622946893, 5.095045268326512, 5.093362622557211, 5.092412325371123, 4.996682355320862, 4.886776942362405, 4.854573884568687, 4.839301004181791, 4.839301004181791, 4.839301004181791, 4.839301004181791, 4.839301004181791, 4.839301004181791, 4.839301004181791, 4.839301004181791, 16.335252853199126, 10.215717347450264, 8.687981211329875, 52.62526955540695, 23.382723770938814, 8.502533078476675, 481.2682743202482, 664.6873968496528, 491.05843524123617, 442.4815406388768, 366.0254055246994, 817.7326470396625, 11.181333842973716, 11.472732602756222, 9.185099727166596, 8.29330178771786, 7.695118756884957, 7.144543960809709, 6.661206083847232, 6.583277533673189, 5.981333034375022, 5.165184608954035, 4.498116479105755, 4.272849183529141, 4.157145745362747, 3.9383714786758683, 3.920129805576809, 3.8444897426127973, 3.789828471062722, 3.663732149362957, 3.6222225227170353, 3.614413785714471, 3.5695698866422116, 3.454491413849358, 3.466488709328027, 3.3848986420854303, 3.38351693893597, 3.3584120131343167, 3.3538359778659315, 3.238929026509858, 3.222602239946849, 3.1990903001508864, 17.71926155672089, 12.749074263360937, 12.916058970312179, 18.729268892825544, 11.386495540067731, 52.62526955540695, 16.86804713733376, 817.7326470396625, 1145.703578982137, 16.335252853199126, 13.859108627879522, 669.7704266050812, 822.6013707717117, 335.40780112348574, 19.715745136737095, 15.141153169709863, 13.042593405430301, 10.84392995823099, 16.759878897809852, 9.411461137686246, 8.643793848026858, 8.272132503230585, 8.075018233337882, 7.2310854380300755, 6.553803916030178, 6.154341201591721, 6.154091984359191, 6.001087391122578, 5.811488444757492, 9.384513401314269, 5.471377311576991, 5.226019669879476, 5.161080386862418, 5.113518068768041, 5.036107222048468, 4.923204576939998, 4.6868137631929585, 4.616908668710591, 4.561316931818929, 4.410635529839297, 4.3182966914317085, 4.302073576340922, 4.3008419867525, 4.291557882337528, 6.519720415823495, 6.208769585381486, 13.69203664020862, 32.15885236610955, 15.902278347655894, 11.678769684756887, 7.2512591449284995, 6.240933515150662, 5.508466937159153, 5.473921267763125, 5.195833898878577, 5.192493857967712, 5.009451492841677, 4.759588468893504, 4.271482950352867, 4.1379546266910125, 4.081528348090075, 3.9566487680794324, 3.919022424541932, 3.9140933045171873, 3.4326716411371, 3.3785914659749015, 3.349799716424812, 3.212512035292374, 3.166121104975581, 3.1149714083262054, 3.072267223458766, 3.0560749100929514, 2.9414007008943055, 2.940772104310506, 2.8755983726968717, 2.8742038385984996, 2.686025240027554, 2.659448248122838, 2.6542926874217656, 2.4926756721844243, 4.571752993248549, 10.403481111170661, 48.386500164180305, 8.079515599251037, 5.533605436104806, 5.299871094223905, 5.299871094223905, 4.957059939842834, 4.376576395390639, 3.9103797267773004, 3.886656195161966, 3.886656195161966, 3.738206021298284, 3.738206021298284, 3.738206021298284, 3.711784328114146, 3.29171309479245, 3.2468390567728784, 3.1906458078863045, 3.1189952851808576, 2.9678891420413906, 2.910355638877785, 2.8428098791201504, 2.8030584700022563, 2.743598682702248, 2.71026651851581, 2.7067921822765726, 2.6866628355775295, 2.6865659363336194, 2.6584154335562, 2.6553166787678157, 2.654355230954817, 2.654355230954817, 7.434106157797859, 11.420852050339796, 12.749074263360937, 18.682514456166334, 293.4134028011504, 284.46373091028596, 970.9635338201601, 27.550711675476858, 6.996025695369201, 5.762810721682933, 4.706008437158736, 4.093214811383116, 3.8803848275160826, 3.7353139438561334, 3.7292665064001933, 3.5531147275658097, 3.5397114597250305, 3.5171431092799694, 3.462086055028658, 3.2791829211353, 3.1225854680012337, 3.0327124431047983, 3.031841862989017, 3.0251980748662013, 2.9454239656587893, 2.613786654521537, 2.608785059127987, 2.5839037800995532, 2.580929338779172, 2.5292610868642016, 2.482320417066965, 2.4813405598861524, 3.4945156610662917, 4.617468364051311, 2.3852336344473435, 2.3828607804152626, 2.3593112153718803, 2.3299298328362568, 8.372649958480356, 5.152525006433276, 15.369489571027044, 5.860405268605434, 219.92800782782814, 14.581974958994971, 5.15280974913568, 4.981260718509292, 4.637527800303394, 4.400719233959657, 4.158036475561419, 3.9526649340497935, 3.699592045654741, 3.5364391832778597, 3.487670910241239, 4.235659788034731, 3.363165752568254, 3.3365015495908303, 3.1767021028492506, 2.974118645497057, 2.9685702266221488, 2.9138578273053195, 2.8602914599694094, 2.782487347369149, 2.6344822976762794, 2.48755612868819, 2.478972637349514, 2.4414588046251366, 2.4365395861268, 2.391139435984395, 2.3547354972298398, 2.3346467742897583, 2.2834811443674057, 2.235768756168295, 2.200063999927591, 4.4195777102292695, 7.542281047561207, 26.014869362744573, 9.141123518981923, 8.372649958480356, 8.991004920886422, 8.471900012367234, 8.740259708717533, 2.4624630547181767, 2.363499091509794, 1.92472632611897, 1.805429725427851, 1.5966062362032984, 1.520176459953382, 1.3560122880184784, 1.3558598434656608, 1.3442273417663293, 1.3294650837320534, 1.2929831004765742, 1.2836613366351832, 1.2362246165426158, 1.228423210237993, 1.2253498075795803, 1.1931422017825866, 1.1634765474240754, 1.0985384435332344, 1.057813867062925, 1.0393075066859232, 1.0351264404122056, 1.0243075981210068, 1.02360972314234, 1.0200800568776767, 1.017241620848068, 0.9948560266738634, 0.9935566292121001, 0.98740691679784, 0.9860403333470354, 6.931951132879431, 0.8155197764822673, 0.7372802484089519, 0.7037355305199112, 0.6976868092821723, 0.6976868092821723, 0.615584026722883, 0.6159201939272733, 0.6159201939272733, 0.6159201939272733, 0.6159201939272733, 0.6159201939272733, 0.6159201939272733, 0.6155301570113589, 0.6155148212467263, 0.6155148212467263, 0.6155148212467263, 0.6155148212467263, 0.6155148212467263, 0.6155148212467263, 0.6157042069622618, 0.6157042069622618, 0.6157042069622618, 0.6157042069622618, 0.6157042069622618, 0.6157042069622618, 0.6157042069622618, 0.6157042069622618, 0.6157042069622618, 0.6157042069622618, 0.6157042069622618, 0.6157042069622618, 0.6157042069622618, 0.6157042069622618, 0.6157042069622618, 0.6157042069622618, 0.6157042069622618, 0.6157042069622618, 0.615745532557313], \"Category\": [\"Default\", \"Default\", \"Default\", \"Default\", \"Default\", \"Default\", \"Default\", \"Default\", \"Default\", \"Default\", \"Default\", \"Default\", \"Default\", \"Default\", \"Default\", \"Default\", \"Default\", \"Default\", \"Default\", \"Default\", \"Default\", \"Default\", \"Default\", \"Default\", \"Default\", \"Default\", \"Default\", \"Default\", \"Default\", \"Default\", \"Topic1\", \"Topic1\", \"Topic1\", \"Topic1\", \"Topic1\", \"Topic1\", \"Topic1\", \"Topic1\", \"Topic1\", \"Topic1\", \"Topic1\", \"Topic1\", \"Topic1\", \"Topic1\", \"Topic1\", \"Topic1\", \"Topic1\", \"Topic1\", \"Topic1\", \"Topic1\", \"Topic1\", \"Topic1\", \"Topic1\", \"Topic1\", \"Topic1\", \"Topic1\", \"Topic1\", \"Topic1\", \"Topic1\", \"Topic1\", \"Topic1\", \"Topic1\", \"Topic1\", \"Topic1\", \"Topic1\", \"Topic1\", \"Topic1\", \"Topic1\", \"Topic1\", \"Topic1\", \"Topic1\", \"Topic1\", \"Topic1\", \"Topic1\", \"Topic1\", \"Topic1\", \"Topic1\", \"Topic1\", \"Topic1\", \"Topic1\", \"Topic1\", \"Topic1\", \"Topic1\", \"Topic1\", \"Topic1\", \"Topic1\", \"Topic1\", \"Topic1\", \"Topic1\", \"Topic1\", \"Topic1\", \"Topic1\", \"Topic1\", \"Topic1\", \"Topic1\", \"Topic1\", \"Topic1\", \"Topic1\", \"Topic2\", \"Topic2\", \"Topic2\", \"Topic2\", \"Topic2\", \"Topic2\", \"Topic2\", \"Topic2\", \"Topic2\", \"Topic2\", \"Topic2\", \"Topic2\", \"Topic2\", \"Topic2\", \"Topic2\", \"Topic2\", \"Topic2\", \"Topic2\", \"Topic2\", \"Topic2\", \"Topic2\", \"Topic2\", \"Topic2\", \"Topic2\", \"Topic2\", \"Topic2\", \"Topic2\", \"Topic2\", \"Topic2\", \"Topic2\", \"Topic2\", \"Topic2\", \"Topic2\", \"Topic2\", \"Topic2\", \"Topic2\", \"Topic2\", \"Topic2\", \"Topic2\", \"Topic2\", \"Topic2\", \"Topic2\", \"Topic2\", \"Topic2\", \"Topic2\", \"Topic2\", \"Topic2\", \"Topic2\", \"Topic2\", \"Topic2\", \"Topic2\", \"Topic2\", \"Topic2\", \"Topic2\", \"Topic2\", \"Topic2\", \"Topic2\", \"Topic3\", \"Topic3\", \"Topic3\", \"Topic3\", \"Topic3\", \"Topic3\", \"Topic3\", \"Topic3\", \"Topic3\", \"Topic3\", \"Topic3\", \"Topic3\", \"Topic3\", \"Topic3\", \"Topic3\", \"Topic3\", \"Topic3\", \"Topic3\", \"Topic3\", \"Topic3\", \"Topic3\", \"Topic3\", \"Topic3\", \"Topic3\", \"Topic3\", \"Topic3\", \"Topic3\", \"Topic3\", \"Topic3\", \"Topic3\", \"Topic3\", \"Topic3\", \"Topic3\", \"Topic3\", \"Topic3\", \"Topic3\", \"Topic3\", \"Topic3\", \"Topic3\", \"Topic3\", \"Topic4\", \"Topic4\", \"Topic4\", \"Topic4\", \"Topic4\", \"Topic4\", \"Topic4\", \"Topic4\", \"Topic4\", \"Topic4\", \"Topic4\", \"Topic4\", \"Topic4\", \"Topic4\", \"Topic4\", \"Topic4\", \"Topic4\", \"Topic4\", \"Topic4\", \"Topic4\", \"Topic4\", \"Topic4\", \"Topic4\", \"Topic4\", \"Topic4\", \"Topic4\", \"Topic4\", \"Topic4\", \"Topic4\", \"Topic4\", \"Topic4\", \"Topic4\", \"Topic4\", \"Topic4\", \"Topic4\", \"Topic4\", \"Topic4\", \"Topic4\", \"Topic4\", \"Topic4\", \"Topic4\", \"Topic4\", \"Topic5\", \"Topic5\", \"Topic5\", \"Topic5\", \"Topic5\", \"Topic5\", \"Topic5\", \"Topic5\", \"Topic5\", \"Topic5\", \"Topic5\", \"Topic5\", \"Topic5\", \"Topic5\", \"Topic5\", \"Topic5\", \"Topic5\", \"Topic5\", \"Topic5\", \"Topic5\", \"Topic5\", \"Topic5\", \"Topic5\", \"Topic5\", \"Topic5\", \"Topic5\", \"Topic5\", \"Topic5\", \"Topic5\", \"Topic5\", \"Topic5\", \"Topic5\", \"Topic5\", \"Topic5\", \"Topic5\", \"Topic6\", \"Topic6\", \"Topic6\", \"Topic6\", \"Topic6\", \"Topic6\", \"Topic6\", \"Topic6\", \"Topic6\", \"Topic6\", \"Topic6\", \"Topic6\", \"Topic6\", \"Topic6\", \"Topic6\", \"Topic6\", \"Topic6\", \"Topic6\", \"Topic6\", \"Topic6\", \"Topic6\", \"Topic6\", \"Topic6\", \"Topic6\", \"Topic6\", \"Topic6\", \"Topic6\", \"Topic6\", \"Topic6\", \"Topic6\", \"Topic6\", \"Topic6\", \"Topic6\", \"Topic6\", \"Topic6\", \"Topic6\", \"Topic6\", \"Topic6\", \"Topic6\", \"Topic6\", \"Topic6\", \"Topic6\", \"Topic7\", \"Topic7\", \"Topic7\", \"Topic7\", \"Topic7\", \"Topic7\", \"Topic7\", \"Topic7\", \"Topic7\", \"Topic7\", \"Topic7\", \"Topic7\", \"Topic7\", \"Topic7\", \"Topic7\", \"Topic7\", \"Topic7\", \"Topic7\", \"Topic7\", \"Topic7\", \"Topic7\", \"Topic7\", \"Topic7\", \"Topic7\", \"Topic7\", \"Topic7\", \"Topic7\", \"Topic7\", \"Topic7\", \"Topic7\", \"Topic7\", \"Topic7\", \"Topic7\", \"Topic7\", \"Topic7\", \"Topic7\", \"Topic7\", \"Topic7\", \"Topic7\", \"Topic7\", \"Topic7\", \"Topic7\", \"Topic7\", \"Topic7\", \"Topic8\", \"Topic8\", \"Topic8\", \"Topic8\", \"Topic8\", \"Topic8\", \"Topic8\", \"Topic8\", \"Topic8\", \"Topic8\", \"Topic8\", \"Topic8\", \"Topic8\", \"Topic8\", \"Topic8\", \"Topic8\", \"Topic8\", \"Topic8\", \"Topic8\", \"Topic8\", \"Topic8\", \"Topic8\", \"Topic8\", \"Topic8\", \"Topic8\", \"Topic8\", \"Topic8\", \"Topic8\", \"Topic8\", \"Topic8\", \"Topic8\", \"Topic8\", \"Topic8\", \"Topic8\", \"Topic8\", \"Topic8\", \"Topic9\", \"Topic9\", \"Topic9\", \"Topic9\", \"Topic9\", \"Topic9\", \"Topic9\", \"Topic9\", \"Topic9\", \"Topic9\", \"Topic9\", \"Topic9\", \"Topic9\", \"Topic9\", \"Topic9\", \"Topic9\", \"Topic9\", \"Topic9\", \"Topic9\", \"Topic9\", \"Topic9\", \"Topic9\", \"Topic9\", \"Topic9\", \"Topic9\", \"Topic9\", \"Topic9\", \"Topic9\", \"Topic9\", \"Topic9\", \"Topic9\", \"Topic9\", \"Topic9\", \"Topic10\", \"Topic10\", \"Topic10\", \"Topic10\", \"Topic10\", \"Topic10\", \"Topic10\", \"Topic10\", \"Topic10\", \"Topic10\", \"Topic10\", \"Topic10\", \"Topic10\", \"Topic10\", \"Topic10\", \"Topic10\", \"Topic10\", \"Topic10\", \"Topic10\", \"Topic10\", \"Topic10\", \"Topic10\", \"Topic10\", \"Topic10\", \"Topic10\", \"Topic10\", \"Topic10\", \"Topic10\", \"Topic10\", \"Topic10\", \"Topic10\", \"Topic10\", \"Topic10\", \"Topic10\", \"Topic10\", \"Topic10\", \"Topic10\", \"Topic10\", \"Topic11\", \"Topic11\", \"Topic11\", \"Topic11\", \"Topic11\", \"Topic11\", \"Topic11\", \"Topic11\", \"Topic11\", \"Topic11\", \"Topic11\", \"Topic11\", \"Topic11\", \"Topic11\", \"Topic11\", \"Topic11\", \"Topic11\", \"Topic11\", \"Topic11\", \"Topic11\", \"Topic11\", \"Topic11\", \"Topic11\", \"Topic11\", \"Topic11\", \"Topic11\", \"Topic11\", \"Topic11\", \"Topic11\", \"Topic11\", \"Topic11\", \"Topic11\", \"Topic11\", \"Topic11\", \"Topic11\", \"Topic12\", \"Topic12\", \"Topic12\", \"Topic12\", \"Topic12\", \"Topic12\", \"Topic12\", \"Topic12\", \"Topic12\", \"Topic12\", \"Topic12\", \"Topic12\", \"Topic12\", \"Topic12\", \"Topic12\", \"Topic12\", \"Topic12\", \"Topic12\", \"Topic12\", \"Topic12\", \"Topic12\", \"Topic12\", \"Topic12\", \"Topic12\", \"Topic12\", \"Topic12\", \"Topic12\", \"Topic12\", \"Topic12\", \"Topic12\", \"Topic12\", \"Topic12\", \"Topic12\", \"Topic12\", \"Topic12\", \"Topic12\", \"Topic12\", \"Topic13\", \"Topic13\", \"Topic13\", \"Topic13\", \"Topic13\", \"Topic13\", \"Topic13\", \"Topic13\", \"Topic13\", \"Topic13\", \"Topic13\", \"Topic13\", \"Topic13\", \"Topic13\", \"Topic13\", \"Topic13\", \"Topic13\", \"Topic13\", \"Topic13\", \"Topic13\", \"Topic13\", \"Topic13\", \"Topic13\", \"Topic13\", \"Topic13\", \"Topic13\", \"Topic13\", \"Topic13\", \"Topic13\", \"Topic13\", \"Topic13\", \"Topic14\", \"Topic14\", \"Topic14\", \"Topic14\", \"Topic14\", \"Topic14\", \"Topic14\", \"Topic14\", \"Topic14\", \"Topic14\", \"Topic14\", \"Topic14\", \"Topic14\", \"Topic14\", \"Topic14\", \"Topic14\", \"Topic14\", \"Topic14\", \"Topic14\", \"Topic14\", \"Topic14\", \"Topic14\", \"Topic14\", \"Topic14\", \"Topic14\", \"Topic14\", \"Topic14\", \"Topic14\", \"Topic14\", \"Topic14\", \"Topic14\", \"Topic14\", \"Topic14\", \"Topic14\", \"Topic14\", \"Topic14\", \"Topic14\", \"Topic14\"], \"logprob\": [30.0, 29.0, 28.0, 27.0, 26.0, 25.0, 24.0, 23.0, 22.0, 21.0, 20.0, 19.0, 18.0, 17.0, 16.0, 15.0, 14.0, 13.0, 12.0, 11.0, 10.0, 9.0, 8.0, 7.0, 6.0, 5.0, 4.0, 3.0, 2.0, 1.0, -5.7496, -5.8157, -5.8505, -5.9745, -6.1004, -6.1059, -6.1402, -6.2794, -6.293, -6.2959, -6.3926, -6.4047, -6.4083, -6.4162, -6.4756, -6.3706, -6.5307, -6.5359, -6.5376, -6.5669, -6.6436, -6.5823, -6.6618, -6.7319, -6.7497, -6.7544, -6.7584, -6.7828, -6.7837, -6.7851, -6.0881, -5.7532, -5.7327, -5.9307, -6.389, -6.1385, -6.3333, -5.8344, -4.7938, -6.1608, -5.2296, -5.3308, -5.7801, -5.7302, -5.4526, -5.5548, -5.8438, -5.4641, -5.4423, -5.1399, -5.6547, -4.854, -5.4792, -5.6432, -5.5111, -5.9276, -5.5081, -5.1032, -5.47, -5.1981, -5.6648, -5.0122, -5.4241, -5.4602, -5.2195, -5.3556, -5.4953, -5.8102, -2.2643, -4.3908, -4.831, -5.2027, -5.2263, -5.3236, -5.3494, -5.3857, -5.5325, -5.7744, -5.8501, -5.9442, -5.9812, -5.994, -6.1111, -6.1487, -5.8503, -6.2557, -6.3183, -6.3243, -6.3618, -6.3923, -6.4932, -6.5128, -6.5313, -6.5978, -5.5943, -6.6663, -6.686, -6.706, -5.1491, -6.3174, -5.0252, -5.592, -3.8531, -5.821, -3.8117, -5.9062, -5.8302, -6.0774, -4.6296, -5.1534, -4.4924, -4.6929, -4.52, -4.9823, -4.7281, -4.896, -5.3245, -5.3417, -5.4661, -5.5741, -5.5247, -5.4093, -5.4021, -5.4626, -5.5638, -5.3718, -5.399, -5.5863, -5.608, -5.7025, -5.7236, -5.8271, -5.9048, -5.9107, -5.9111, -5.9464, -5.9591, -5.9615, -5.9653, -6.0418, -6.0983, -6.141, -6.1755, -6.1984, -6.2169, -6.2425, -6.2688, -6.2664, -6.3067, -6.3145, -6.3199, -6.3232, -6.3271, -6.3287, -6.3624, -4.2671, -5.7884, -5.5371, -5.8461, -5.8203, -6.0821, -6.1432, -5.5764, -5.9402, -6.0708, -5.6851, -5.8133, -5.85, -5.895, -5.9341, -5.9575, -5.9998, -6.0201, -6.0358, -6.1357, -6.1832, -6.1832, -6.2075, -6.2182, -6.221, -6.2559, -6.2678, -6.2996, -6.3046, -6.3046, -6.3046, -6.3046, -6.3046, -6.3046, -6.3046, -6.3046, -6.3046, -6.3046, -6.3046, -6.3483, -4.1581, -4.8963, -4.9285, -4.437, -6.1697, -5.7616, -5.5515, -5.8901, -5.8202, -6.0279, -6.1982, -6.2155, -5.1159, -5.4468, -5.4862, -5.6579, -5.6732, -5.793, -5.7955, -5.8128, -5.1508, -5.9537, -5.9802, -6.0179, -6.0376, -6.0513, -6.0631, -6.1353, -6.1438, -6.1544, -6.1591, -6.1773, -6.1987, -6.2334, -6.2581, -6.28, -6.2869, -6.2949, -6.3019, -6.3037, -6.3084, -6.3144, -5.8187, -5.9992, -6.2305, -6.0869, -6.2943, -5.458, -5.5162, -5.9823, -6.0457, -6.1085, -6.1085, -6.1328, -6.1395, -6.1479, -6.1564, -6.233, -6.3803, -6.4213, -6.4298, -6.4344, -6.4524, -6.4526, -6.453, -6.4532, -6.4746, -6.4998, -6.5073, -6.5109, -6.5109, -6.5109, -6.5109, -6.5109, -6.5109, -6.5109, -6.5109, -5.4466, -5.8787, -6.0492, -4.7512, -5.8764, -6.3812, -5.9557, -6.0974, -6.1868, -6.2858, -6.3577, -6.4286, -5.3519, -5.3354, -5.5604, -5.6698, -5.7505, -5.831, -5.9075, -5.9204, -6.026, -6.1897, -6.3469, -6.406, -6.4379, -6.5009, -6.5064, -6.5293, -6.547, -6.5862, -6.5997, -6.6023, -6.6172, -6.6564, -6.6549, -6.6809, -6.6814, -6.6904, -6.692, -6.7343, -6.7404, -6.7494, -5.2442, -5.6999, -6.1732, -6.0916, -6.2862, -5.8423, -6.3491, -5.7094, -5.8276, -6.4783, -6.5077, -6.363, -6.3614, -6.5141, -4.6549, -4.928, -5.0836, -5.2777, -4.8447, -5.4279, -5.5188, -5.566, -5.592, -5.7114, -5.8187, -5.8879, -5.8879, -5.9157, -5.9513, -5.4788, -6.0185, -6.0699, -6.084, -6.0944, -6.1116, -6.1373, -6.1932, -6.2103, -6.2242, -6.2628, -6.2871, -6.2915, -6.2918, -6.2943, -6.0445, -6.1026, -5.9248, -5.8239, -6.0194, -6.1355, -5.5155, -5.6797, -5.8183, -5.8253, -5.8838, -5.8845, -5.925, -5.9831, -6.1072, -6.144, -6.16, -6.1963, -6.2075, -6.209, -6.3649, -6.3841, -6.3944, -6.4452, -6.463, -6.483, -6.5, -6.5065, -6.5539, -6.5541, -6.5821, -6.5827, -6.6683, -6.681, -6.6834, -6.7645, -6.164, -5.8124, -6.4657, -5.2699, -5.685, -5.7334, -5.7334, -5.8089, -5.9514, -6.0827, -6.0898, -6.0898, -6.1358, -6.1358, -6.1358, -6.1514, -6.2886, -6.3053, -6.3266, -6.3545, -6.4162, -6.4405, -6.47, -6.4877, -6.5149, -6.5305, -6.5321, -6.5417, -6.5417, -6.5552, -6.5567, -6.5572, -6.5572, -5.6383, -5.7653, -5.7334, -6.3557, -6.3041, -6.3485, -6.3512, -6.5302, -5.2941, -5.5078, -5.7363, -5.8974, -5.9601, -6.0052, -6.0071, -6.0648, -6.0693, -6.077, -6.096, -6.1618, -6.2217, -6.2578, -6.2582, -6.2609, -6.2942, -6.4458, -6.4484, -6.4607, -6.4622, -6.4885, -6.513, -6.5135, -6.1801, -5.9048, -6.5656, -6.5669, -6.5801, -6.5969, -5.4669, -6.046, -6.2411, -6.4346, -6.3938, -4.4691, -5.5894, -5.6277, -5.7091, -5.7694, -5.8352, -5.8944, -5.9726, -6.0265, -6.0432, -5.8495, -6.0871, -6.0967, -6.1566, -6.2381, -6.2405, -6.2637, -6.287, -6.3219, -6.3917, -6.4662, -6.4707, -6.4908, -6.4934, -6.5183, -6.5387, -6.5501, -6.5799, -6.6084, -6.6303, -6.0606, -5.7915, -5.3186, -6.1662, -6.2235, -6.314, -6.3717, -4.2016, -5.6771, -5.7318, -6.0182, -6.1127, -6.3031, -6.383, -6.5799, -6.5801, -6.5957, -6.6157, -6.6671, -6.6807, -6.7528, -6.7652, -6.7702, -6.8231, -6.8745, -6.9973, -7.0828, -7.1242, -7.1338, -7.1591, -7.1607, -7.1691, -7.1759, -7.2313, -7.2346, -7.2504, -7.2539, -6.9038, -6.749, -7.2301, -7.5378, -7.605, -7.605, -10.4931, -10.4928, -10.4928, -10.4928, -10.4928, -10.4928, -10.4928, -10.4937, -10.4937, -10.4937, -10.4937, -10.4937, -10.4937, -10.4937, -10.4934, -10.4934, -10.4934, -10.4934, -10.4934, -10.4934, -10.4934, -10.4934, -10.4934, -10.4934, -10.4934, -10.4934, -10.4934, -10.4934, -10.4934, -10.4934, -10.4934, -10.4934, -10.4934], \"loglift\": [30.0, 29.0, 28.0, 27.0, 26.0, 25.0, 24.0, 23.0, 22.0, 21.0, 20.0, 19.0, 18.0, 17.0, 16.0, 15.0, 14.0, 13.0, 12.0, 11.0, 10.0, 9.0, 8.0, 7.0, 6.0, 5.0, 4.0, 3.0, 2.0, 1.0, 0.3093, 0.3092, 0.3092, 0.3091, 0.3089, 0.3089, 0.3088, 0.3085, 0.3085, 0.3085, 0.3083, 0.3083, 0.3082, 0.3082, 0.3081, 0.3081, 0.3079, 0.3079, 0.3079, 0.3078, 0.3076, 0.3076, 0.3076, 0.3073, 0.3073, 0.3073, 0.3073, 0.3072, 0.3072, 0.3072, 0.3069, 0.3034, 0.3024, 0.3037, 0.3068, 0.3038, 0.3044, 0.2992, 0.2737, 0.2999, 0.2781, 0.2811, 0.2916, 0.2886, 0.2798, 0.2825, 0.2904, 0.2767, 0.2743, 0.2589, 0.2801, 0.2385, 0.2667, 0.269, 0.2484, 0.281, 0.2414, 0.1947, 0.231, 0.1969, 0.2499, 0.0936, 0.1529, 0.1441, 0.0134, 0.0491, -0.0619, -0.0105, 2.1118, 2.1105, 2.1095, 2.1081, 2.108, 2.1076, 2.1074, 2.1073, 2.1064, 2.1048, 2.1042, 2.1034, 2.103, 2.1029, 2.1017, 2.1013, 2.1012, 2.1, 2.0992, 2.0992, 2.0987, 2.0982, 2.0967, 2.0964, 2.0961, 2.095, 2.0945, 2.0938, 2.0934, 2.093, 2.0764, 2.0766, 2.0021, 2.0244, 1.8429, 2.0317, 1.7783, 2.0287, 2.005, 2.0298, 1.4183, 1.4614, 0.9411, 1.0669, 0.713, 0.8174, 0.3777, 0.5088, 0.9715, 0.9526, 1.0193, 1.3054, 1.1122, 0.1951, -0.1042, 0.1144, -0.1687, 3.3529, 3.3524, 3.3485, 3.348, 3.3457, 3.3452, 3.3424, 3.34, 3.3399, 3.3398, 3.3387, 3.3383, 3.3382, 3.3381, 3.3355, 3.3334, 3.3318, 3.3305, 3.3295, 3.3288, 3.3277, 3.3265, 3.3263, 3.3248, 3.3245, 3.3242, 3.3241, 3.3239, 3.3238, 3.3222, 3.3014, 3.2018, 3.1257, 2.9564, 2.875, 3.0953, 3.1334, 2.393, 2.6617, 1.6696, 3.8934, 3.8873, 3.8854, 3.8829, 3.8807, 3.8794, 3.8769, 3.8756, 3.8747, 3.8681, 3.8647, 3.8647, 3.863, 3.8622, 3.862, 3.8593, 3.8584, 3.8559, 3.8555, 3.8555, 3.8555, 3.8555, 3.8555, 3.8555, 3.8555, 3.8555, 3.8555, 3.8555, 3.8555, 3.8519, 3.6588, 3.4098, 3.2648, 2.4601, 3.5631, 1.8837, 0.7196, 2.0273, 0.0945, 0.8485, 0.2571, -0.9825, 3.9716, 3.9609, 3.9594, 3.9521, 3.9514, 3.9454, 3.9453, 3.9444, 3.9395, 3.9364, 3.9347, 3.9323, 3.931, 3.9301, 3.9293, 3.9243, 3.9237, 3.9229, 3.9225, 3.9212, 3.9196, 3.9169, 3.9149, 3.9131, 3.9125, 3.9119, 3.9113, 3.9111, 3.9107, 3.9102, 3.8879, 3.8602, 3.8143, 2.4272, 3.678, 4.1042, 4.1015, 4.0737, 4.0689, 4.0638, 4.0638, 4.0618, 4.0612, 4.0605, 4.0597, 4.0529, 4.0383, 4.0338, 4.0329, 4.0324, 4.0304, 4.0304, 4.0303, 4.0303, 4.0278, 4.0249, 4.024, 4.0236, 4.0236, 4.0236, 4.0236, 4.0236, 4.0236, 4.0236, 4.0236, 3.8714, 3.9086, 3.9002, 3.3969, 3.0828, 3.5897, -0.0209, -0.4855, -0.2721, -0.2669, -0.1491, -1.0239, 4.3452, 4.3359, 4.3333, 4.326, 4.3202, 4.3139, 4.3075, 4.3064, 4.2966, 4.2796, 4.2607, 4.2529, 4.2486, 4.2396, 4.2388, 4.2354, 4.2319, 4.2266, 4.2245, 4.2241, 4.2217, 4.2152, 4.2133, 4.2111, 4.211, 4.2094, 4.2092, 4.2017, 4.2006, 4.199, 3.9924, 3.8659, 3.3796, 3.0895, 3.3926, 2.3058, 2.9367, -0.3047, -0.7601, 2.8396, 2.9747, -0.7586, -0.9626, -0.2182, 4.475, 4.4658, 4.4594, 4.45, 4.4476, 4.4414, 4.4356, 4.4324, 4.4305, 4.4215, 4.4125, 4.4062, 4.4062, 4.4036, 4.4001, 4.3934, 4.3932, 4.3877, 4.3861, 4.385, 4.383, 4.38, 4.3733, 4.3712, 4.3695, 4.3645, 4.3613, 4.3607, 4.3606, 4.3603, 4.1919, 4.1827, 3.5696, 2.8167, 3.3254, 3.518, 4.6146, 4.6004, 4.5867, 4.586, 4.5796, 4.5795, 4.5749, 4.568, 4.5521, 4.547, 4.5448, 4.5395, 4.5379, 4.5377, 4.513, 4.5098, 4.508, 4.499, 4.4958, 4.4921, 4.4889, 4.4877, 4.4785, 4.4785, 4.4729, 4.4728, 4.4549, 4.4522, 4.4516, 4.4334, 4.4274, 3.9567, 1.7664, 4.752, 4.7154, 4.7102, 4.7102, 4.7015, 4.6836, 4.665, 4.6639, 4.6639, 4.6568, 4.6568, 4.6568, 4.6484, 4.6313, 4.6283, 4.6244, 4.6192, 4.6072, 4.6025, 4.5965, 4.5928, 4.5871, 4.5837, 4.5834, 4.5813, 4.5813, 4.5783, 4.578, 4.5779, 4.5779, 4.4669, 3.9105, 3.8324, 2.828, 0.1256, 0.1121, -1.1182, 2.265, 4.8719, 4.852, 4.8261, 4.8045, 4.7952, 4.7883, 4.788, 4.7786, 4.7779, 4.7766, 4.7734, 4.7619, 4.7509, 4.744, 4.7439, 4.7434, 4.7368, 4.7046, 4.704, 4.7013, 4.7009, 4.6949, 4.6891, 4.689, 4.68, 4.6766, 4.6764, 4.6761, 4.6728, 4.6686, 4.5194, 4.4258, 3.1378, 3.9085, 0.3242, 4.9624, 4.8824, 4.8779, 4.8679, 4.8601, 4.851, 4.8424, 4.8304, 4.8216, 4.8189, 4.8183, 4.8113, 4.8096, 4.7988, 4.7832, 4.7827, 4.7781, 4.7733, 4.766, 4.7509, 4.7338, 4.7327, 4.7279, 4.7273, 4.7212, 4.7161, 4.7133, 4.7057, 4.6983, 4.6924, 4.5646, 4.2993, 3.534, 3.7323, 3.7628, 3.6011, 3.6028, 5.7417, 5.533, 5.5194, 5.4383, 5.4078, 5.3403, 5.3094, 5.2268, 5.2267, 5.2198, 5.2107, 5.1872, 5.1809, 5.1464, 5.1404, 5.1379, 5.1116, 5.0853, 5.02, 4.9723, 4.9485, 4.943, 4.9282, 4.9272, 4.9223, 4.9183, 4.8851, 4.8832, 4.8736, 4.8714, 3.2713, 5.5662, 5.186, 4.9248, 4.8662, 4.8662, 2.1033, 2.1031, 2.1031, 2.1031, 2.1031, 2.1031, 2.1031, 2.1028, 2.1028, 2.1028, 2.1028, 2.1028, 2.1028, 2.1028, 2.1028, 2.1028, 2.1028, 2.1028, 2.1028, 2.1028, 2.1028, 2.1028, 2.1028, 2.1028, 2.1028, 2.1028, 2.1028, 2.1028, 2.1028, 2.1028, 2.1028, 2.1028, 2.1028]}, \"token.table\": {\"Topic\": [7, 8, 10, 12, 1, 8, 1, 10, 10, 10, 11, 2, 2, 4, 2, 4, 13, 5, 12, 6, 12, 1, 3, 8, 4, 3, 12, 1, 2, 7, 1, 2, 7, 11, 1, 1, 6, 7, 6, 6, 7, 7, 6, 7, 7, 6, 6, 10, 5, 1, 13, 12, 8, 12, 11, 11, 1, 2, 7, 10, 3, 1, 2, 1, 7, 1, 8, 7, 1, 2, 6, 9, 1, 2, 12, 5, 10, 2, 12, 13, 12, 1, 10, 10, 6, 13, 2, 3, 11, 1, 13, 11, 12, 2, 2, 3, 6, 7, 1, 2, 11, 3, 6, 1, 10, 1, 2, 1, 2, 2, 11, 2, 8, 13, 1, 2, 2, 1, 2, 7, 1, 2, 2, 1, 4, 7, 12, 2, 12, 6, 3, 9, 10, 6, 2, 1, 8, 7, 2, 9, 12, 12, 4, 5, 6, 3, 5, 9, 1, 11, 7, 5, 3, 8, 6, 1, 2, 9, 2, 3, 5, 11, 9, 12, 8, 6, 1, 2, 1, 8, 11, 12, 6, 1, 7, 3, 5, 10, 13, 8, 3, 1, 2, 6, 11, 2, 8, 3, 1, 2, 6, 11, 6, 1, 4, 6, 7, 8, 9, 6, 7, 11, 11, 13, 4, 5, 10, 1, 7, 11, 4, 5, 1, 2, 6, 7, 2, 1, 2, 6, 7, 13, 11, 3, 11, 5, 1, 2, 3, 4, 7, 10, 3, 8, 3, 1, 5, 5, 10, 1, 13, 5, 12, 1, 2, 1, 3, 11, 1, 10, 4, 4, 1, 2, 3, 9, 10, 5, 10, 11, 11, 11, 10, 7, 10, 7, 13, 2, 3, 3, 5, 12, 5, 2, 12, 1, 2, 12, 2, 7, 9, 1, 2, 7, 6, 8, 3, 6, 10, 8, 9, 12, 1, 10, 1, 4, 12, 3, 1, 2, 3, 6, 11, 10, 10, 12, 4, 1, 2, 3, 7, 11, 8, 11, 7, 2, 3, 1, 3, 6, 3, 1, 5, 1, 4, 4, 12, 4, 3, 2, 3, 5, 13, 4, 8, 10, 7, 1, 2, 7, 1, 6, 3, 2, 4, 3, 9, 1, 2, 4, 1, 2, 6, 9, 6, 1, 1, 2, 2, 2, 12, 1, 1, 7, 1, 2, 2, 2, 9, 9, 9, 13, 1, 4, 7, 10, 1, 3, 11, 6, 8, 9, 8, 1, 8, 1, 2, 6, 1, 2, 10, 10, 13, 1, 7, 2, 3, 9, 10, 1, 4, 4, 9, 11, 4, 1, 2, 7, 10, 7, 1, 2, 4, 10, 1, 5, 10, 13, 12, 11, 13, 6, 1, 2, 12, 1, 2, 12, 5, 1, 2, 12, 4, 9, 9, 1, 2, 6, 6, 7, 9, 12, 1, 2, 1, 10, 6, 10, 4, 10, 1, 10, 2, 1, 5, 4, 10, 4, 1, 2, 4, 10, 2, 10, 3, 10, 8, 11, 8, 1, 5, 6, 6, 5, 8, 5, 8, 12, 12, 9, 3, 9, 3, 12, 9, 4, 5, 8, 1, 8, 8, 8, 12, 1, 2, 3, 6, 1, 2, 12, 5, 11, 9, 7, 8, 1, 4, 8, 9, 5, 3, 5, 4, 1, 4, 9, 4, 5, 2, 13, 6, 3, 13, 1, 2, 4, 5, 6, 7, 10, 11, 9, 3, 3, 6, 7, 10, 2, 5, 7, 10, 6, 9, 9, 1, 6, 13, 4, 3, 3, 5, 3, 5, 1, 2, 6, 1, 2, 7, 11, 5, 7, 6, 1, 3, 4, 1, 2, 4, 6, 10, 4, 8, 1, 1, 2, 3, 3, 1, 2, 6, 1, 1, 2, 6, 7, 1, 2, 1, 2, 4, 5, 5, 4, 12, 5, 11, 1, 2, 4, 7, 10, 7, 1, 7, 8, 1, 1, 2, 4, 5, 12, 11, 2, 12, 9, 1, 2, 6, 5, 5, 8, 1, 2, 2, 8, 2, 8, 2, 2, 2, 5, 7, 11, 2, 4, 9, 2, 4, 1, 2, 5, 6, 7, 11, 7, 10, 11, 7, 11, 6, 7, 7, 10, 7, 7, 9, 1, 2, 3, 4, 3, 8, 6, 11, 12, 4, 1, 5, 1, 3, 6, 1, 2, 4, 5, 7, 5, 9, 1, 2, 6, 11, 3, 7, 1, 2, 4, 1, 3, 1, 12, 7, 1, 2, 3, 4, 5, 7, 9, 4], \"Freq\": [0.9587951171595638, 0.9778003974482112, 0.6738796175602262, 0.8566606400698179, 0.997678879349551, 0.9320624606888157, 0.26903032557614737, 0.6725758139403684, 0.8025239868823753, 0.9434191721095404, 0.7740226301781808, 0.9820400662894412, 0.9835512105872376, 0.9095129980129436, 0.2780642327008644, 0.6488165429686835, 0.5195543836179589, 0.8812821987094452, 0.6737250081079412, 0.8057107663712944, 0.11510153805304205, 0.9953824193047484, 0.5842812293174018, 0.3651757683233761, 0.8526689647849288, 0.9617665609350983, 0.8208362430832749, 0.9984427066251718, 0.2821788020902884, 0.6772291250166922, 0.6678437390236216, 0.31901464319431927, 0.008944335790494933, 0.002981445263498311, 0.999812297389737, 0.3990478372351134, 0.4750569490894207, 0.11401366778146096, 0.9813455497800259, 0.5880600467944085, 0.3528360280766451, 0.9798478260808502, 0.8631006873457946, 0.830010114463688, 0.9361435024243513, 0.8265656541189472, 0.8265656541189472, 0.7718717193803614, 0.95401526075635, 0.8655571692565709, 0.1442595282094285, 0.8601728996823536, 0.8331823341543919, 0.699229441471461, 0.8443296178210544, 0.8499772266483674, 0.9338747406815512, 0.06386943697822069, 0.00172620099941137, 0.9113795502852465, 0.9809069321479535, 0.6883990484741237, 0.3095907969371745, 0.7215471260455821, 0.21646413781367463, 0.8084865623936249, 0.1865738220908365, 0.9262320895103655, 0.07296759026919898, 0.9120948783649873, 0.966956261537615, 0.679948161905285, 0.6470987354398514, 0.3523286915332884, 0.6863752861441295, 0.9029733574369084, 0.09029733574369084, 0.3977576519732115, 0.5303435359642821, 0.8594930445430888, 0.8991453938835734, 0.9983003558261764, 0.744444784679068, 0.7379348069042433, 0.8265656541189472, 0.7521822214336128, 0.21276659715734986, 0.7446830900507244, 0.7731191965103018, 0.9967690547083038, 0.838123065721733, 0.59718249595944, 0.238872998383776, 0.9828384087276492, 0.9646509010900645, 0.9804228721319982, 0.7346075452789761, 0.18365188631974402, 0.9669193070396009, 0.032515870502216666, 0.8477050365247194, 0.9409530284690991, 0.8185354165288108, 0.9989850292072793, 0.8069299238949332, 0.2840527316955701, 0.7152830445805548, 0.07676657699073747, 0.9211989238888496, 0.9953310636602523, 0.6596650123526726, 0.9995578514795728, 0.8124789326723829, 0.8089144857806894, 0.5504255405248166, 0.44354679479184256, 0.9967042585341637, 0.8465587274045498, 0.14631879239090986, 0.005972195607792239, 0.23562636404654744, 0.7641493889565115, 0.9760492815556538, 0.2183214471901035, 0.7504799747159808, 0.013645090449381468, 0.9619925230357483, 0.6563744585160403, 0.32818722925802013, 0.8631006873457946, 0.9673555448774411, 0.7534964058325799, 0.7671889201595312, 0.8825400111321214, 0.9874672648678129, 0.9984641450845051, 0.9068987842996271, 0.96801961179322, 0.5901863799975244, 0.11803727599950488, 0.23607455199900976, 0.8040019587637196, 0.8526689647849288, 0.9353127122736297, 0.9504327569044304, 0.2355635362248454, 0.7066906086745363, 0.9623094381595139, 0.7807676334691782, 0.1301279389115297, 0.8282207901875931, 0.8996212779022011, 0.6917247805325629, 0.31442035478752856, 0.9017757155532884, 0.500199392508201, 0.500199392508201, 0.9338486415123941, 0.19706867363204028, 0.6240507998347943, 0.1642238946933669, 0.8031453433611432, 0.963090701886094, 0.8483109264781293, 0.9300504441504345, 0.9201054804559102, 0.8901598627122704, 0.10879731655372193, 0.9997298565447272, 0.7942642647653906, 0.8576297831455237, 0.9703443836323838, 0.8265656541189472, 0.9952076668878506, 0.8404373902935435, 0.9542975113833533, 0.9094431092866614, 0.7444179349620834, 0.812194926607293, 0.9562808439978958, 0.9603047071618166, 0.9922478110728015, 0.006890609799116677, 0.3881592030126714, 0.5822388045190071, 0.9997010065275499, 0.8668711076218197, 0.9604672938164599, 0.8925981162283436, 0.10173438502466874, 0.002422247262492113, 0.002422247262492113, 0.9655534247953599, 0.9815564316628909, 0.007147255570360856, 0.004764837046907237, 0.007147255570360856, 0.8603647839152927, 0.8404087929328706, 0.8947922635586267, 0.9377665894140294, 0.8384922848295313, 0.6790193952783532, 0.8462029908047936, 0.8526689647849288, 0.9150505421355493, 0.7523278622124804, 0.6407084050460045, 0.2669618354358352, 0.053392367087167034, 0.9055365365118243, 0.9762750811230043, 0.9785718956203531, 0.00903992513275153, 0.011299906415939412, 0.8866513908877972, 0.9837361164867633, 0.9703809686433607, 0.01654913279856894, 0.009026799708310333, 0.001504466618051722, 0.8160934892341386, 0.9607423177820331, 0.933090853150993, 0.7651733918452144, 0.9497948153668374, 0.9563877918367221, 0.020641463133166664, 0.015481097349874998, 0.003440243855527777, 0.0017201219277638885, 0.7135063436612473, 0.9282955611956104, 0.9138466816061844, 0.9453181160055946, 0.767221713977243, 0.21920620399349802, 0.8991211188181827, 0.8025239868823753, 0.9995970137317767, 0.8140516978723166, 0.9262998143280475, 0.048752621806739345, 0.6629854290644049, 0.33509589621190033, 0.8089233258849163, 0.17695197753732544, 0.8393272558925825, 0.9878236466237647, 0.010546159928367594, 0.9185534405932321, 0.8526689647849288, 0.47533919423720805, 0.392671508282911, 0.06200076446572279, 0.06200076446572279, 0.020666921488574262, 0.5253548486184519, 0.43779570718204325, 0.7749146673446076, 0.7907447793298462, 0.9772269925526781, 0.9402485204045256, 0.8932793201868581, 0.7289695875018221, 0.7803376262778466, 0.7734053133652057, 0.17622087690396804, 0.7636237999171949, 0.9694793616600175, 0.9156811559254023, 0.9600894281720065, 0.9736896622349119, 0.7687910987030225, 0.23063732961090677, 0.07071635688993652, 0.9193126395691747, 0.9443756143546596, 0.9968400509523491, 0.9621986442168784, 0.9475316643085697, 0.47573623929056175, 0.5208491585336322, 0.9096675725422662, 0.15338081025268807, 0.7669040512634403, 0.947833921251912, 0.8265656541189472, 0.9434191721095404, 0.974961052783933, 0.8739548414849916, 0.6724681286767378, 0.9940016725738464, 0.0034513946964369667, 0.9969065156528129, 0.8891866925815178, 0.758981611154751, 0.9669193851198095, 0.996183192664566, 0.13233433850673396, 0.838117477209315, 0.8265656541189472, 0.9148620470862165, 0.7388819921586598, 0.8663885741676014, 0.8493522955562703, 0.8875199995566465, 0.9242204193072978, 0.06578081276208525, 0.008222601595260656, 0.0016445203190521313, 0.8583949489866703, 0.9749215721819579, 0.8044477365324734, 0.9007377829893911, 0.5085492992557838, 0.47863463459367894, 0.021288467673911765, 0.9366925776521177, 0.04257693534782353, 0.972885045182443, 0.9982861948199553, 0.9343429144409792, 0.9720000373958368, 0.024474821085506686, 0.9616114849134972, 0.8364213185989428, 0.9723856772757734, 0.9743934517888989, 0.12717489777156424, 0.7948431110722766, 0.06358744888578212, 0.915304609543902, 0.8857273584977409, 0.9906775152375948, 0.7718717193803614, 0.9114001299975963, 0.0972744163591076, 0.9032624376202848, 0.8359340587231555, 0.6414992601778382, 0.3421329387615137, 0.9598306749560825, 0.9889598850170878, 0.8526689647849288, 0.4806083604680444, 0.4806083604680444, 0.9968597833945948, 0.990215647962955, 0.9818753455410478, 0.9703527635591583, 0.014544902237503444, 0.014544902237503444, 0.6544342199842115, 0.9818529373769064, 0.9967445949781466, 0.93983355030777, 0.059284491114033736, 0.9811618406131719, 0.9868763702031748, 0.8109002189913268, 0.9945784799897421, 0.6193839791524769, 0.387114986970298, 0.7260664036605938, 0.2740900673818742, 0.9754301649310162, 0.9982494100121958, 0.6509850395592852, 0.758217414748241, 0.9076935664750705, 0.7790216714178407, 0.9744715317186364, 0.012374241672617605, 0.0061871208363088025, 0.0061871208363088025, 0.9959755384182072, 0.9716529279964375, 0.8060159223334353, 0.9811746681039483, 0.2187344770106292, 0.6562034310318876, 0.9680427731064081, 0.9971713218432607, 0.9687894055530603, 0.9308043914937576, 0.06712531669426136, 0.001790008445180303, 0.012004271975152627, 0.9843503019625155, 0.012004271975152627, 0.9035700245949556, 0.7374564440424695, 0.9976585393335398, 0.8188371523070087, 0.992939337349054, 0.9727444209344336, 0.7445946412549286, 0.9618481997243681, 0.9981041132811912, 0.9696852580056144, 0.8526689647849288, 0.9364429277821559, 0.8676321749015962, 0.8526689647849288, 0.9713257720307606, 0.010224481810850113, 0.010224481810850113, 0.010224481810850113, 0.8892610981908626, 0.6581205044710565, 0.10334123623925681, 0.22843852221309402, 0.0054390124336450955, 0.8348241697317936, 0.07259340606363422, 0.07259340606363422, 0.6263285068821868, 0.8191823659736424, 0.8665295871668236, 0.5538847543695005, 0.8879649206669019, 0.9974734392568452, 0.0032919915487024595, 0.9089423313199876, 0.07816245662518621, 0.9156173490378957, 0.7591624364923922, 0.9197420195872767, 0.0991239171113044, 0.8983104988211962, 0.7187813457232812, 0.925778179145886, 0.9666611552961057, 0.7664610336543975, 0.9698780320756849, 0.01366025397289697, 0.01366025397289697, 0.9378781713766644, 0.8862894630581036, 0.9134219794950048, 0.8625285221445603, 0.6289174282744147, 0.3689648912543233, 0.8564157698119191, 0.16057795683973486, 0.9616449361512457, 0.7534786514917846, 0.92933623992162, 0.8082366147400101, 0.9944508029453218, 0.004195994949136379, 0.9951629290348879, 0.9989929419153387, 0.9722740107645946, 0.8526689647849288, 0.6872012386675834, 0.920929719511622, 0.7425613577507867, 0.24717715098500528, 0.0072093335703959874, 0.003089714387312566, 0.993392511738073, 0.7532058288912222, 0.959592882954761, 0.7035292844201737, 0.915498857896006, 0.8475267077935906, 0.9262911480669526, 0.9996571870262686, 0.9006519860081784, 0.9543931464343302, 0.9913981386506542, 0.9387515067173018, 0.9255195277275361, 0.8868733461984337, 0.9297841910463449, 0.9090644636091606, 0.8030095644536054, 0.8955759310893525, 0.9395430733946635, 0.9800250442635722, 0.6673336354273134, 0.2224445451424378, 0.6958448712444928, 0.9510963627625887, 0.9216015060349877, 0.9671024970738432, 0.9956370896207797, 0.9200624160378859, 0.8663805777897526, 0.8534582772230623, 0.8758557104503971, 0.8542140279811853, 0.1351052799357997, 0.010169214618823634, 0.8265656541189472, 0.030211911649047088, 0.9667811727695068, 0.9443629092448729, 0.8933588824566058, 0.6611137355323274, 0.6955074182088599, 0.1610625078364149, 0.6442500313456596, 0.8620463662378609, 0.12643346704821962, 0.8524682802285335, 0.6800935023385365, 0.8637165298897854, 0.10520298517362146, 0.8416238813889717, 0.9633542360598994, 0.9952677647226825, 0.987260662997778, 0.80235067173714, 0.12663745512494268, 0.8864621858745987, 0.9927281215128368, 0.7439217823720125, 0.9816697475762414, 0.9214299680950173, 0.7375393591154221, 0.7704229521478835, 0.2005545462734173, 0.006114467874189551, 0.003668680724513731, 0.006114467874189551, 0.008560255023865372, 0.0024457871496758204, 0.0024457871496758204, 0.9613946351830596, 0.9816857250469629, 0.3512933356821221, 0.2634700017615916, 0.3512933356821221, 0.9139563984791297, 0.2964184270586715, 0.3557021124704058, 0.2371347416469372, 0.1185673708234686, 0.8963968313735281, 0.7520356906406029, 0.8879439938839548, 0.9885715194179553, 0.010139195070953387, 0.6578183693429026, 0.8891866925815178, 0.9817978876857409, 0.9732866337527759, 0.8896455288221137, 0.9224493757447625, 0.9508531252362161, 0.9790228383824493, 0.012681642984228617, 0.005072657193691447, 0.9494270587797782, 0.04376360322160309, 0.004862622580178121, 0.0012156556450445303, 0.9613368645622853, 0.9837824497935311, 0.8265656541189472, 0.9989418280191328, 0.9290981279088043, 0.8526689647849288, 0.9408248934223867, 0.02443701021876329, 0.022400592700533017, 0.012218505109381645, 0.9239755798003063, 0.9532682317607095, 0.876939721530139, 0.9969180442592167, 0.9588074023056621, 0.040627432301087375, 0.9653200310418923, 0.9498953547290072, 0.992412949394065, 0.005606852821435395, 0.8239652120065296, 0.9991476186926498, 0.9636000273131841, 0.02793043557429519, 0.0017456522233934495, 0.006109782781877073, 0.0242994577167109, 0.971978308668436, 0.5582052760476297, 0.3017325816473674, 0.1508662908236837, 0.9045292799036108, 0.9374994461889669, 0.22626596149343964, 0.6787978844803189, 0.5119099895823233, 0.3412733263882155, 0.8812811947614702, 0.06689593227562314, 0.04071926312429235, 0.008725556383776933, 0.8025239868823753, 0.7915925543613738, 0.9978161396632415, 0.8684346378667314, 0.9567510870305069, 0.9938318746159901, 0.8683577450495588, 0.06392817754966076, 0.04794613316224557, 0.01598204438741519, 0.8067858313024281, 0.8529650079021552, 0.9994857702153641, 0.8920166951953155, 0.9629284380043442, 0.9679266247638175, 0.02846843014011228, 0.002711279060963074, 0.906779094063486, 0.9850382165464877, 0.9546608360094325, 0.0004372018653984866, 0.9994434643009404, 0.9944390066959682, 0.9636967747466253, 0.9862658915783284, 0.9221748977094404, 0.9935456056219816, 0.9823108896731445, 0.9937730530263392, 0.9321951886535773, 0.9797686232175794, 0.8056977601477974, 0.45724732611715935, 0.5168882816976583, 0.03976063705366603, 0.4005684576273087, 0.5785988832394459, 0.9048415523128289, 0.045469424739338134, 0.01364082742180144, 0.009093884947867626, 0.01364082742180144, 0.009093884947867626, 0.7617361684247823, 0.7534786514917846, 0.6594756468082615, 0.8654290411871974, 0.8584880684393903, 0.7831070230223937, 0.19577675575559841, 0.5490594732918785, 0.3921853380656275, 0.9646338942889753, 0.9309246927258016, 0.765497023240598, 0.9638823226277, 0.026728106000074872, 0.008352533125023397, 0.8526689647849288, 0.5993782041216542, 0.34250183092665953, 0.800531175599042, 0.6497066711612154, 0.2165688903870718, 0.8526689647849288, 0.9927036934685886, 0.007040451726727578, 0.1462382916302927, 0.6580723123363171, 0.1462382916302927, 0.6608477406533908, 0.31256312057930646, 0.014883958122824118, 0.005953583249129647, 0.0029767916245648234, 0.9837720976669769, 0.7984906143348934, 0.972582842058953, 0.022618205629277976, 0.003769700938212996, 0.7666403918567827, 0.9360721502965355, 0.8944981268609684, 0.969005666839972, 0.02715252306381708, 0.0016970326914885676, 0.6198095530638775, 0.38142126342392463, 0.9972272570731303, 0.8945468955508797, 0.7652807811956062, 0.8053454323834585, 0.17684950373285405, 0.01088304638356025, 0.0027207615958900625, 0.0027207615958900625, 0.0027207615958900625, 0.9653495841333668, 0.9901364289422385], \"Term\": [\"absente ballot\", \"absorpt\", \"accord sourc\", \"actual burn\", \"addit\", \"addit inform\", \"address address\", \"address address\", \"address chine\", \"address hack\", \"admit covid\", \"adver event\", \"age group\", \"agent sole\", \"altern medium\", \"altern medium\", \"annoy\", \"anybodi\", \"anyon el\", \"apolog\", \"apolog\", \"appear\", \"approv\", \"approv\", \"arena msm\", \"argu\", \"arson\", \"ask\", \"audit\", \"audit\", \"author\", \"author\", \"author\", \"author\", \"back\", \"ballot\", \"ballot\", \"ballot\", \"ballot cast\", \"ballot count\", \"ballot count\", \"ballot drop\", \"ballot mix\", \"ballot process\", \"ballot reject\", \"ballot send\", \"ballot signatur\", \"ballot verifi\", \"belt\", \"bibl\", \"bibl\", \"big govern\", \"blog\", \"blue line\", \"bone\", \"brother\", \"call\", \"call\", \"call\", \"cancer patient\", \"carbon dioxid\", \"case\", \"case\", \"case fatal\", \"case fatal\", \"case report\", \"case report\", \"cast ballot\", \"caus death\", \"caus death\", \"chain custodi\", \"chicken\", \"child\", \"child\", \"child bear\", \"child traffick\", \"child traffick\", \"civil right\", \"civil right\", \"collar\", \"colleg\", \"comment\", \"comment find\", \"comput scienc\", \"conclud dominion\", \"conscienc\", \"consent\", \"consent\", \"contin\", \"continu\", \"contributor\", \"coordin\", \"coordin\", \"corona\", \"coronaviru vaccin\", \"cotton\", \"count ballot\", \"count ballot\", \"countri\", \"countri\", \"countri continu\", \"countri high\", \"countri lead\", \"cour\", \"court order\", \"covid\", \"covid\", \"covid case\", \"covid case\", \"covid death\", \"covid pandem\", \"covid vaccin\", \"creation\", \"critic condit\", \"datum\", \"datum\", \"datum show\", \"day\", \"day\", \"day\", \"death\", \"death\", \"death covid\", \"deep state\", \"deep state\", \"deep state\", \"defund polic\", \"democraci\", \"democraci\", \"deperno explain\", \"deposit\", \"desert\", \"develop new\", \"devic\", \"die covid\", \"differ\", \"differ way\", \"discov video\", \"diver\", \"diver\", \"diver\", \"document offic\", \"dogmat view\", \"domin\", \"dominion vote\", \"donald trump\", \"donald trump\", \"driver licen\", \"drop dead\", \"drop dead\", \"drop take\", \"due process\", \"due vaccin\", \"due vaccin\", \"earthquak\", \"effect\", \"effect\", \"elector colleg\", \"elit\", \"elit\", \"elit\", \"endor\", \"enough money\", \"enrol\", \"episod\", \"error rate\", \"even\", \"even\", \"event\", \"ever see\", \"everi day\", \"exagger\", \"examin dominion\", \"exampl\", \"excess death\", \"excit\", \"excus\", \"expect go\", \"expert say\", \"extrem\", \"face mask\", \"fact\", \"fact\", \"famili member\", \"famili member\", \"fatal recov\", \"fertil\", \"fiction\", \"find\", \"find\", \"find\", \"find\", \"find someth\", \"first\", \"first\", \"first\", \"first\", \"first appear\", \"first shoot\", \"flee\", \"fli white\", \"flight attend\", \"flight control\", \"follow order\", \"follow truth\", \"foreign ministri\", \"former foreign\", \"gateway pundit\", \"gateway pundit\", \"gateway pundit\", \"gender\", \"germani\", \"give\", \"give\", \"give\", \"give free\", \"glyphos\", \"go\", \"go\", \"go\", \"go\", \"go deal\", \"go far\", \"go go\", \"go let\", \"good peopl\", \"govern\", \"govern\", \"govern\", \"govern\", \"govern\", \"govern product\", \"governor\", \"great reset\", \"guilti\", \"gun\", \"gun\", \"gun control\", \"hack address\", \"happen\", \"hard time\", \"harri\", \"harri\", \"health\", \"health\", \"health care\", \"health care\", \"hear last\", \"help\", \"help\", \"help support\", \"help thrive\", \"high level\", \"high level\", \"high level\", \"high level\", \"high level\", \"high proport\", \"high proport\", \"high tax\", \"hold hear\", \"hor\", \"host cell\", \"hour video\", \"hour wear\", \"hous senat\", \"howev never\", \"http\", \"http\", \"http www\", \"hurt\", \"ice\", \"ideolog\", \"immigr\", \"immigr\", \"immun system\", \"immun system\", \"incap\", \"incl fatal\", \"indic possibl\", \"individu test\", \"infect\", \"infect\", \"infect fatal\", \"insan\", \"insan\", \"instal\", \"investig right\", \"ip address\", \"isra\", \"junk food\", \"killer\", \"know\", \"know\", \"last\", \"last sit\", \"laughter\", \"leadership\", \"least\", \"legisl\", \"legisl\", \"limit audit\", \"long allow\", \"low rate\", \"lung cancer\", \"main sourc\", \"main stream\", \"make\", \"make\", \"make\", \"make\", \"make mistak\", \"make money\", \"make name\", \"make possibl\", \"manipul\", \"manipul\", \"mask\", \"mask\", \"mask\", \"materi\", \"mean\", \"medic worker\", \"medium\", \"medium\", \"medium matter\", \"medium never\", \"medium platform\", \"member state\", \"mental health\", \"mental health\", \"mental health\", \"migrant\", \"militari arrest\", \"moderna\", \"monitor overse\", \"morn novemb\", \"mortal\", \"mortal\", \"motion\", \"move forward\", \"move forward\", \"mp\", \"mrna\", \"msm new\", \"music\", \"music\", \"name\", \"nation file\", \"nation secur\", \"need\", \"need\", \"need\", \"need sure\", \"need wear\", \"never\", \"new\", \"new\", \"new case\", \"new covid\", \"nose\", \"note\", \"novemb th\", \"novemb th\", \"number\", \"number\", \"number case\", \"number death\", \"number larg\", \"obe\", \"oper trump\", \"oppos trump\", \"order\", \"order\", \"order\", \"order\", \"organ\", \"outdoor\", \"outrag\", \"paper ballot\", \"parent child\", \"parent child\", \"parliament\", \"part\", \"peg\", \"peopl\", \"peopl\", \"peopl\", \"peopl die\", \"peopl die\", \"peopl die\", \"percent increa\", \"period year\", \"person\", \"person vote\", \"pfizer biontech\", \"pilot\", \"piss\", \"place arrest\", \"plan\", \"plan save\", \"politifact wage\", \"potenti danger\", \"pregnant\", \"present import\", \"presid\", \"presid\", \"presid\", \"presid\", \"presid bankrupt\", \"presid trump\", \"presid trump\", \"presid trump\", \"presid trump\", \"presid unit\", \"presid unit\", \"presid unit\", \"press confer\", \"pretti\", \"print differ\", \"project number\", \"properli maintain\", \"protect\", \"protect\", \"protect law\", \"protein\", \"protein\", \"protestor\", \"proud\", \"public health\", \"public health\", \"public law\", \"public opinion\", \"public servic\", \"put mask\", \"question\", \"question\", \"question\", \"question ask\", \"question ballot\", \"radio show\", \"rape\", \"rate\", \"rate\", \"rate high\", \"rate high\", \"rate mean\", \"rate share\", \"raw news\", \"read full\", \"reason\", \"reason\", \"receiv vaccin\", \"recent\", \"refuge\", \"reject big\", \"relev inform\", \"remain presid\", \"report\", \"report\", \"report\", \"report\", \"report death\", \"report nearli\", \"represent\", \"research paper\", \"resist vaccin\", \"respiratori infect\", \"reuter\", \"right\", \"right time\", \"right vote\", \"risk limit\", \"rittenhous\", \"rush\", \"russian presid\", \"sacrific\", \"sanctuari\", \"sand\", \"say early\", \"say good\", \"say noth\", \"say special\", \"say special\", \"screenshot\", \"seal indict\", \"second amend\", \"second dose\", \"send\", \"seriou side\", \"short time\", \"shortag\", \"shoulder\", \"show\", \"show\", \"show\", \"show seal\", \"side effect\", \"side effect\", \"simul\", \"sing\", \"singer\", \"situat want\", \"smoke gun\", \"smoke gun\", \"social medium\", \"social medium\", \"socialist\", \"soft drink\", \"softwar\", \"soil\", \"soil\", \"space forc\", \"speak\", \"special unit\", \"spencer tell\", \"spend time\", \"spend time\", \"spike protein\", \"spill\", \"spoil ballot\", \"stake\", \"start want\", \"state\", \"state\", \"state\", \"state\", \"state\", \"state\", \"state\", \"state\", \"state depart\", \"state govern\", \"state offici\", \"state offici\", \"state offici\", \"state oper\", \"state senat\", \"state senat\", \"state senat\", \"state senat\", \"stay home\", \"stay touch\", \"steep\", \"still\", \"still\", \"strange\", \"stream medium\", \"sudden\", \"summer\", \"summit\", \"supermarket\", \"syrian\", \"system\", \"system\", \"system\", \"take\", \"take\", \"take\", \"take\", \"take custodi\", \"take look\", \"take tabl\", \"talk\", \"tea\", \"tech narrow\", \"tell\", \"tell\", \"tell\", \"tell\", \"tell lie\", \"tell real\", \"templat\", \"term\", \"test\", \"test\", \"thank much\", \"theorist\", \"thing\", \"thing\", \"thing much\", \"think\", \"time\", \"time\", \"time\", \"time\", \"time high\", \"time high\", \"time visit\", \"time visit\", \"time visit\", \"tour\", \"tradit\", \"transact\", \"transact\", \"transcript\", \"transcript\", \"trump\", \"trump\", \"trump\", \"trump\", \"trump ban\", \"trump remain\", \"turn\", \"turn author\", \"ukrainian\", \"understand\", \"unit\", \"unit\", \"unit\", \"unit\", \"univer publish\", \"unusu\", \"unvaccin\", \"urban\", \"urgent need\", \"use\", \"use\", \"use\", \"use inform\", \"use technolog\", \"user\", \"vaccin\", \"vaccin\", \"vaccin adver\", \"vaccin campaign\", \"vaccin effect\", \"vaccin kill\", \"vaccin peopl\", \"vaccin pfizer\", \"vaccin rate\", \"vaccin side\", \"vanish\", \"video statement\", \"visit time\", \"visit time\", \"visit time\", \"visit today\", \"visit today\", \"vote\", \"vote\", \"vote\", \"vote\", \"vote\", \"vote\", \"vote appear\", \"vote articl\", \"vote ballot\", \"vote biden\", \"vote leav\", \"vote machin\", \"vote machin\", \"voter fraud\", \"voter fraud\", \"voter roll\", \"voter state\", \"vulner peopl\", \"want\", \"want\", \"want\", \"war need\", \"warrant\", \"warrant\", \"watch even\", \"watch video\", \"watch video\", \"watchdog snope\", \"way\", \"way\", \"wear mask\", \"wear mask\", \"wear mask\", \"week\", \"week\", \"week\", \"week\", \"week\", \"weekli\", \"weigh\", \"well\", \"well\", \"well\", \"well think\", \"whatsapp\", \"win presid\", \"work\", \"work\", \"work\", \"worker\", \"worker\", \"world\", \"world today\", \"write show\", \"year\", \"year\", \"year\", \"year\", \"year\", \"year\", \"youtub\", \"youtub com\"]}, \"R\": 30, \"lambda.step\": 0.01, \"plot.opts\": {\"xlab\": \"PC1\", \"ylab\": \"PC2\"}, \"topic.order\": [14, 3, 12, 11, 6, 7, 13, 10, 2, 8, 5, 4, 1, 9]};\n",
              "\n",
              "function LDAvis_load_lib(url, callback){\n",
              "  var s = document.createElement('script');\n",
              "  s.src = url;\n",
              "  s.async = true;\n",
              "  s.onreadystatechange = s.onload = callback;\n",
              "  s.onerror = function(){console.warn(\"failed to load library \" + url);};\n",
              "  document.getElementsByTagName(\"head\")[0].appendChild(s);\n",
              "}\n",
              "\n",
              "if(typeof(LDAvis) !== \"undefined\"){\n",
              "   // already loaded: just create the visualization\n",
              "   !function(LDAvis){\n",
              "       new LDAvis(\"#\" + \"ldavis_el3001336685945503681723388229\", ldavis_el3001336685945503681723388229_data);\n",
              "   }(LDAvis);\n",
              "}else if(typeof define === \"function\" && define.amd){\n",
              "   // require.js is available: use it to load d3/LDAvis\n",
              "   require.config({paths: {d3: \"https://d3js.org/d3.v5\"}});\n",
              "   require([\"d3\"], function(d3){\n",
              "      window.d3 = d3;\n",
              "      LDAvis_load_lib(\"https://cdn.jsdelivr.net/gh/bmabey/pyLDAvis@3.4.0/pyLDAvis/js/ldavis.v3.0.0.js\", function(){\n",
              "        new LDAvis(\"#\" + \"ldavis_el3001336685945503681723388229\", ldavis_el3001336685945503681723388229_data);\n",
              "      });\n",
              "    });\n",
              "}else{\n",
              "    // require.js not available: dynamically load d3 & LDAvis\n",
              "    LDAvis_load_lib(\"https://d3js.org/d3.v5.js\", function(){\n",
              "         LDAvis_load_lib(\"https://cdn.jsdelivr.net/gh/bmabey/pyLDAvis@3.4.0/pyLDAvis/js/ldavis.v3.0.0.js\", function(){\n",
              "                 new LDAvis(\"#\" + \"ldavis_el3001336685945503681723388229\", ldavis_el3001336685945503681723388229_data);\n",
              "            })\n",
              "         });\n",
              "}\n",
              "</script>"
            ]
          },
          "metadata": {},
          "execution_count": 16
        }
      ],
      "source": [
        "#Meilleur modèle de la classe FAKE\n",
        "best = max(coherence_values_fake)\n",
        "print(\"Best coherence: \"+str(best))\n",
        "for i in range(len(coherence_values_fake)):\n",
        "  if(coherence_values_fake[i] == best):\n",
        "    model_fake = model_list_fake[i]\n",
        "visu_data_fake = gensimvis.prepare(model_fake, corpus_fake, dictionary_fake)\n",
        "pyLDAvis.display(visu_data_fake)"
      ]
    },
    {
      "cell_type": "code",
      "execution_count": null,
      "metadata": {
        "colab": {
          "base_uri": "https://localhost:8080/",
          "height": 879
        },
        "id": "9AOtpBHkFYbj",
        "outputId": "e3fb32f9-7779-43d4-85f3-6609da0c27e1"
      },
      "outputs": [
        {
          "output_type": "stream",
          "name": "stdout",
          "text": [
            "Best coherence: 0.50386950041314\n"
          ]
        },
        {
          "output_type": "execute_result",
          "data": {
            "text/plain": [
              "<IPython.core.display.HTML object>"
            ],
            "text/html": [
              "\n",
              "<link rel=\"stylesheet\" type=\"text/css\" href=\"https://cdn.jsdelivr.net/gh/bmabey/pyLDAvis@3.4.0/pyLDAvis/js/ldavis.v1.0.0.css\">\n",
              "\n",
              "\n",
              "<div id=\"ldavis_el3001336685945532803513171594\" style=\"background-color:white;\"></div>\n",
              "<script type=\"text/javascript\">\n",
              "\n",
              "var ldavis_el3001336685945532803513171594_data = {\"mdsDat\": {\"x\": [-0.35047384939718484, -0.32764210702843305, -0.113038938248544, -0.02324145803046344, -0.01933632858889644, 0.06355181148765644, 0.03238225208399753, 0.09913431018104359, 0.089290397849869, 0.10145226230568326, 0.1104501493760175, 0.11367492191767348, 0.11595354097040662, 0.10784303512117435], \"y\": [0.04589432825452869, 0.05901076011186838, -0.21623367370474483, -0.13222867873779579, 0.033498362156065824, 0.04881417365766758, 0.15431494837107412, 0.006130095896860896, 0.014990710264647883, -0.013585311645196186, 0.013816232979671753, -0.00987747018298577, -0.00363265968578278, -0.0009118177358795273], \"topics\": [1, 2, 3, 4, 5, 6, 7, 8, 9, 10, 11, 12, 13, 14], \"cluster\": [1, 1, 1, 1, 1, 1, 1, 1, 1, 1, 1, 1, 1, 1], \"Freq\": [38.57782080941977, 33.69746686508767, 6.343407110682872, 4.152098390157123, 4.039817548708625, 3.0706617905050972, 2.669039375130302, 1.81599082324758, 1.6957198570043523, 1.4641174417359484, 1.0196470308056897, 0.5437644976670409, 0.5146791733983753, 0.39576928644953985]}, \"tinfo\": {\"Term\": [\"vaccin\", \"covid\", \"year\", \"event\", \"child\", \"state\", \"covid vaccin\", \"test\", \"risk\", \"high\", \"age\", \"effect\", \"viru\", \"side effect\", \"trump\", \"climat\", \"warm\", \"support\", \"protect\", \"ice\", \"case\", \"much\", \"record\", \"govern\", \"number\", \"research\", \"water\", \"month\", \"protein\", \"time\", \"infect\", \"patient\", \"test\", \"examin\", \"inten care\", \"feder govern\", \"cov\", \"appli\", \"extent\", \"thesi\", \"popul\", \"assum\", \"relev\", \"number death\", \"old peopl\", \"coronaviru\", \"reliabl\", \"graphic\", \"health system\", \"suffici\", \"proport\", \"function\", \"phase\", \"select\", \"vaccin protect\", \"epidemiolog\", \"inhabit\", \"valid\", \"transmiss\", \"number case\", \"percent\", \"disea\", \"carri\", \"death\", \"assess\", \"medic\", \"viru\", \"effect\", \"usual\", \"compar\", \"app\", \"result\", \"case\", \"exampl\", \"covid\", \"german\", \"number\", \"mask\", \"product\", \"high\", \"addit\", \"use\", \"current\", \"howev\", \"datum\", \"cour\", \"differ\", \"vaccin\", \"protect\", \"new\", \"show\", \"due\", \"find\", \"develop\", \"research\", \"time\", \"import\", \"peopl\", \"year\", \"even\", \"report\", \"first\", \"well\", \"countri\", \"work\", \"polic\", \"neighborhood\", \"migrant\", \"minist\", \"lawyer\", \"protest\", \"phone\", \"crime\", \"murder\", \"victim\", \"file\", \"photo\", \"teacher\", \"crimin\", \"friend\", \"terrorist\", \"dog\", \"accus\", \"french\", \"listen\", \"flee\", \"domest\", \"recruit\", \"fabric\", \"owner\", \"son\", \"oil\", \"rescu\", \"attorney\", \"unit nation\", \"cooper\", \"leader\", \"refuge\", \"money\", \"interview\", \"school\", \"polit\", \"right wing\", \"pay\", \"former\", \"belief\", \"presid\", \"love\", \"hide caption\", \"hous\", \"comment\", \"legisl\", \"kill\", \"famili\", \"tell\", \"fund\", \"child\", \"want\", \"campaign\", \"attack\", \"talk\", \"member\", \"govern\", \"speak\", \"go\", \"offic\", \"woman\", \"write\", \"work\", \"right\", \"take\", \"person\", \"meet\", \"peopl\", \"ask\", \"state\", \"think\", \"time\", \"support\", \"look\", \"countri\", \"even\", \"help\", \"day\", \"call\", \"year\", \"report\", \"need\", \"give\", \"way\", \"use\", \"make\", \"ice\", \"sea ice\", \"global warm\", \"carbon dioxid\", \"greenhous\", \"climat model\", \"carbon\", \"emiss\", \"greenhous effect\", \"atmospher\", \"human activ\", \"glacier\", \"sea\", \"climat system\", \"global temperatur\", \"tortur\", \"sea level\", \"surfac temperatur\", \"glaci\", \"level rise\", \"warm climat\", \"snow\", \"tp\", \"temperatur record\", \"weather forecast\", \"rise sea\", \"water vapor\", \"pre industri\", \"temperatur\", \"model predict\", \"warm\", \"melt\", \"climat\", \"fossil fuel\", \"caus death\", \"cool\", \"earth\", \"ocean\", \"simul\", \"surfac\", \"planet\", \"heat\", \"forest\", \"water\", \"year\", \"scientist\", \"trend\", \"much\", \"record\", \"adjust\", \"global\", \"long term\", \"research\", \"rise\", \"time\", \"high\", \"increa\", \"reef\", \"great barrier\", \"hard coral\", \"coral\", \"coral cover\", \"coral bleach\", \"tip point\", \"bleach\", \"bleach event\", \"irrever\", \"monsoon\", \"former presid\", \"coral reef\", \"audit\", \"mask differ\", \"fact check\", \"kidnap\", \"pediatrician\", \"oval offic\", \"certifi\", \"amoc\", \"narrow\", \"overturn\", \"vessel\", \"mass coral\", \"reef marin\", \"park author\", \"barrier reef\", \"sst\", \"counterfeit\", \"ballot\", \"sever tropic\", \"mask mask\", \"lawsuit\", \"cyclon\", \"ice sheet\", \"widespread\", \"shift\", \"trump\", \"recoveri\", \"cover\", \"marin\", \"fraud\", \"vote\", \"ecosystem\", \"add\", \"point\", \"state\", \"count\", \"note\", \"impact\", \"year\", \"record\", \"system\", \"disturb\", \"suggest\", \"indic\", \"event\", \"much\", \"open new\", \"trade agreement\", \"export\", \"amish\", \"footnot\", \"gold\", \"new trade\", \"tab\", \"free trade\", \"support export\", \"intern trade\", \"mob\", \"delawar\", \"citizenship\", \"rd\", \"medal\", \"ceremoni\", \"tradeshow\", \"plain commun\", \"wine\", \"come back\", \"cape\", \"centimet\", \"deputi\", \"report come\", \"deleg\", \"conte\", \"week week\", \"new tab\", \"good servic\", \"trade\", \"ambit\", \"indo pacif\", \"plain\", \"honor\", \"flag\", \"custom\", \"partnership\", \"ice shelf\", \"market\", \"sector\", \"agreement\", \"busi\", \"growth\", \"support\", \"network\", \"industri\", \"govern\", \"imag\", \"system\", \"race\", \"work\", \"new\", \"economi\", \"lead\", \"world\", \"run\", \"time\", \"offer\", \"need\", \"case report\", \"day trump\", \"case occur\", \"care facil\", \"femal\", \"case covid\", \"govern second\", \"grade\", \"indoor\", \"pink\", \"heart attack\", \"care home\", \"toll\", \"public support\", \"ordin\", \"group peopl\", \"urban\", \"rehabilit\", \"invit\", \"protect respon\", \"member public\", \"lethal\", \"squar meter\", \"famili member\", \"ethic committe\", \"live unit\", \"catal\", \"inmat\", \"nur nur\", \"first meet\", \"die covid\", \"alongsid\", \"session\", \"male\", \"far right\", \"prison\", \"death occur\", \"verifyerror messag\", \"messag verifyerror\", \"email address\", \"plea enter\", \"report show\", \"facil\", \"fauci\", \"trump administr\", \"exam\", \"month\", \"dead\", \"year\", \"platform\", \"number\", \"state\", \"least\", \"record\", \"year old\", \"pfizer biontech\", \"malon\", \"mrna\", \"astrazeneca\", \"mrna vaccin\", \"ministri health\", \"biontech pfizer\", \"child year\", \"prevent covid\", \"vaccin prevent\", \"biontech covid\", \"europ seek\", \"relief scorch\", \"benefit vaccin\", \"pfizer moderna\", \"vaccin offer\", \"know potenti\", \"second dose\", \"safe effect\", \"vaccin expert\", \"jab\", \"vaccin program\", \"develop covid\", \"viral load\", \"seek relief\", \"covid vaccin\", \"vaccin safe\", \"enrol\", \"phase clinic\", \"biontech vaccin\", \"death covid\", \"effect prevent\", \"effect vaccin\", \"side effect\", \"dose\", \"pfizer\", \"vaccin\", \"vaccin child\", \"measl\", \"child age\", \"vaccin effect\", \"vaccin candid\", \"vaccin develop\", \"vaccin covid\", \"covid\", \"age\", \"child\", \"variant\", \"risk\", \"effect\", \"reaction\", \"month\", \"protect\", \"cave\", \"footbal\", \"school leader\", \"viru vaccin\", \"seriou adver\", \"dinosaur\", \"chemic\", \"cinema\", \"loosen\", \"camel\", \"sever month\", \"paralysi\", \"fossil\", \"cour pandem\", \"health visitor\", \"good interest\", \"anthropogen\", \"report period\", \"quiet\", \"meaning\", \"asteroid\", \"inspect\", \"train station\", \"test meet\", \"amaz\", \"show proof\", \"lot money\", \"review process\", \"area requir\", \"last sever\", \"inspector\", \"school district\", \"offici say\", \"laugh\", \"coronavirus\", \"republ\", \"prosecut\", \"advoc\", \"candid\", \"stori continu\", \"bone\", \"year\", \"public health\", \"object\", \"year old\", \"islamist\", \"regardless vaccin\", \"tran\", \"infect peopl\", \"tran woman\", \"mous\", \"uniform\", \"perpetr\", \"high educ\", \"sentiment\", \"fundament right\", \"former director\", \"cast iron\", \"tran peopl\", \"dose pfizer\", \"inhibitor\", \"alreadi show\", \"enzym\", \"due specif\", \"imag sourc\", \"viru mutat\", \"billionair\", \"backlash\", \"meet member\", \"receipt\", \"transgend\", \"smear\", \"dealer\", \"teenag\", \"morad say\", \"inhibit\", \"spotlight\", \"farmer\", \"time cell\", \"cure\", \"punch\", \"poll worker\", \"face cover\", \"high\", \"univer\", \"year old\", \"young peopl\", \"time\", \"number\", \"junior doctor\", \"mosqu\", \"life threaten\", \"free school\", \"social secur\", \"admiss\", \"due high\", \"muslim woman\", \"overload\", \"almost half\", \"nobodi\", \"frost\", \"peopl face\", \"parent teacher\", \"babi bear\", \"basement\", \"hour hour\", \"face face\", \"storm name\", \"see hour\", \"sunny\", \"fisheri\", \"sever day\", \"area see\", \"oil industri\", \"covid booster\", \"stream river\", \"versu long\", \"boulder\", \"penalti\", \"storm\", \"muslim\", \"tropic cyclon\", \"water\", \"discrimin\", \"area show\", \"research show\", \"snowpack\", \"spokesman say\", \"decemb\", \"hour\", \"unusu\", \"year\", \"weather\", \"flow\", \"see\", \"averag\", \"day\", \"cyclon\", \"spike protein\", \"cov infect\", \"storm overflow\", \"overflow\", \"ace\", \"molecular clamp\", \"spike\", \"miner\", \"deduct\", \"season influenza\", \"trial particip\", \"assay\", \"protect well\", \"halt\", \"pseudovirus\", \"antigen\", \"peopl infect\", \"trimer\", \"covid past\", \"clamp\", \"real viru\", \"vaccin variant\", \"water compani\", \"protect ill\", \"potenti danger\", \"chimer\", \"new water\", \"commenc\", \"rollout\", \"pseudoviru\", \"overview\", \"receptor\", \"protein\", \"lung\", \"new coronaviru\", \"antibodi\", \"mutat\", \"human cell\", \"sar cov\", \"variant\", \"pathogen\", \"viru\", \"bill\", \"find climat\", \"make sever\", \"inconclus\", \"murder rate\", \"live disabl\", \"heat wave\", \"reliabl inform\", \"nation research\", \"home run\", \"type weather\", \"make event\", \"find human\", \"drop low\", \"short space\", \"benefit cap\", \"result reflect\", \"note event\", \"event sever\", \"offer protect\", \"year singl\", \"class action\", \"covid lawsuit\", \"type event\", \"drought event\", \"event attribut\", \"otto\", \"bam report\", \"find role\", \"test protocol\", \"climat yet\", \"exampl find\", \"heat event\", \"weather event\", \"attribut\", \"map\", \"carbon brief\", \"event\", \"drought\", \"heatwav\", \"event occur\", \"weather\", \"peer review\", \"link\", \"role climat\", \"likelihood\", \"storm\", \"tell carbon\", \"analysi\", \"law excus\", \"survivor\", \"activ volcano\", \"meet statutori\", \"scottish govern\", \"verdict\", \"protect right\", \"toilet\", \"number volcano\", \"school roll\", \"look close\", \"give legal\", \"pupil school\", \"report activ\", \"intend damag\", \"legal direct\", \"ash\", \"somervil say\", \"caus distress\", \"fact case\", \"say anyth\", \"escap document\", \"even remot\", \"know histor\", \"volcanolog record\", \"verdict time\", \"exist amount\", \"genuin situat\", \"sage willoughbi\", \"consent know\", \"brave\", \"child want\", \"use forc\", \"genuin\", \"play part\", \"erupt\", \"defend\", \"volcano\", \"prosecut\", \"roll\", \"wit\", \"consid\", \"western\", \"exclus\", \"press relea\", \"compar previou\", \"execut director\", \"school fall\", \"sovereign grant\", \"foot student\", \"outstand job\", \"lead delay\", \"provid high\", \"child molest\", \"heart lung\", \"state crimin\", \"fun child\", \"full month\", \"peopl visit\", \"interrupt\", \"crimin justic\", \"account show\", \"crown estat\", \"trebek\", \"sensit topic\", \"anxieti\", \"face headwind\", \"cut univer\", \"year join\", \"success prevent\", \"mask place\", \"transmiss even\", \"immunosuppress\", \"pay fee\", \"violent crime\", \"royal famili\", \"child adult\", \"shortag\", \"royal\", \"suppli chain\", \"state\", \"ad\", \"inflat\", \"effect prevent\"], \"Freq\": [963.0, 333.0, 833.0, 204.0, 288.0, 484.0, 107.0, 445.0, 186.0, 363.0, 141.0, 383.0, 123.0, 88.0, 158.0, 127.0, 122.0, 262.0, 370.0, 105.0, 641.0, 244.0, 251.0, 388.0, 425.0, 255.0, 107.0, 228.0, 56.0, 777.0, 281.3168110197913, 149.923162969695, 443.03324454007554, 120.53688160205874, 113.44596827956072, 87.36704392936362, 79.51349121693225, 75.62849229728856, 53.00075037879031, 47.075024453414066, 46.09003593405969, 43.20283782236742, 42.509040029188576, 48.32020467859306, 41.18449079524735, 48.42640529951661, 38.938228251151, 38.91002349829302, 38.43755236148956, 37.3740807305966, 37.34220688673734, 36.87324611768259, 37.10424381874949, 38.038551634434185, 34.47037540063697, 34.3222201636967, 34.17356660956813, 33.88837783708283, 33.70700145425566, 32.92047236919119, 303.54547838646556, 90.51197169084645, 60.09902403072148, 228.37674460082107, 77.74061154553205, 151.36742644845887, 116.30162106761418, 339.04379355685023, 107.03566026408603, 81.67749451257421, 50.321195502606436, 286.17294524095456, 542.9848350377163, 348.55708948274474, 290.30778194262143, 98.3328790905863, 357.0514559519038, 141.50573667441, 136.03815618948312, 283.03500868506165, 216.7240659396252, 446.46825196496593, 229.46883440327636, 238.07339172210382, 184.36774768740844, 148.08439469228577, 202.74961306973205, 573.2923830756574, 265.7465767159826, 310.93070153161403, 274.0159252903344, 154.01835577060353, 317.5256157635438, 214.3213502545937, 191.6576335263384, 397.694589718732, 187.85359084798264, 345.9022031530011, 394.4717842088134, 304.62379248709306, 268.55602258134576, 231.7627323793361, 246.81276783341718, 263.7361215566299, 241.40065927964454, 108.9254625312275, 69.61454589686021, 65.46296691148362, 76.84921239279122, 43.8934034418043, 62.975254109857666, 41.96783922687006, 67.3218048188303, 39.146968855279944, 47.12385307663911, 38.71929820223705, 41.7292560011513, 35.60129182668269, 35.75756906284901, 35.994462770076545, 33.90799771302863, 33.200418340942505, 32.68840395848752, 32.63386862306659, 34.23559986245771, 30.130292403545937, 30.744203451798935, 29.490603301214048, 29.08081768456585, 30.900416202526653, 28.56685584186526, 28.407396249304217, 28.169351476997736, 28.53065049236534, 27.798498943902082, 66.60646139993717, 88.67137943901011, 76.79877833126501, 60.41373127521433, 107.29131768612592, 170.02466757017712, 88.1029274006956, 57.51004870337879, 117.91944010857559, 76.5185246151253, 55.23323552868218, 156.08528880978758, 47.5557410773662, 50.754960414288796, 148.9075049192424, 96.72919611007963, 55.894366039347354, 106.20197162046172, 112.37095820669339, 219.9384476806959, 86.08876986594578, 232.09751245231752, 247.00873836070488, 86.35581051571711, 94.54350730866351, 101.11791384735041, 167.5700809383581, 278.7823905785278, 140.7413914025942, 222.1838822409715, 171.20704677810429, 126.85242735809926, 119.73634313520306, 334.65125907545416, 158.16998696581794, 257.833238289312, 172.8162937953638, 133.33487766134778, 294.4733486162467, 133.51357970878595, 236.92538247497328, 176.2202221571105, 301.97803498921223, 158.7584939755359, 164.4516683045406, 218.88911482968072, 227.11005386622355, 154.87483264189558, 189.99557575588636, 177.9294602954575, 221.6009080818851, 174.3594690322375, 152.18844665249813, 149.76073755148607, 149.4406318342938, 155.63852079410438, 151.2918024229914, 104.43400141644797, 50.86487821867139, 73.27867900917558, 44.49652909873001, 37.15912665216028, 31.942488106285843, 31.410095702799204, 30.40430213392339, 24.48224268230004, 38.73556782818978, 16.393137744177952, 17.713142566071006, 30.69615313906518, 14.838468068997866, 14.383597261036424, 12.44705048392089, 53.8681387079651, 11.848223137669443, 14.138691851230538, 20.288845253765796, 10.555848153012718, 10.769059550235534, 10.373943530638321, 10.086140313039458, 9.846008002834346, 9.72694514549884, 9.539865618852291, 9.154459676494803, 37.20228848568143, 8.740888561976282, 109.95171426623496, 28.466632488768507, 112.24580286357264, 14.630631871427195, 27.89556001262696, 36.79203256317962, 42.406295069591046, 26.161526431619887, 22.389704649335474, 43.814675068782066, 28.01703612581352, 52.879024281641335, 36.76263891268797, 54.51083195634615, 155.45681436311, 43.8724232616122, 29.757505865030993, 55.32366702569481, 54.56841020158114, 30.154755940858664, 34.442223005039615, 38.1821820410572, 42.36372562483012, 38.01280741209054, 47.29004026609628, 34.897330525722865, 33.03585567093966, 41.577376203224766, 33.09138056851406, 31.12414340830473, 29.19734031467479, 25.1568449603813, 18.812106800879278, 38.21367631141226, 13.52999606137323, 12.763405474340209, 12.19135893952839, 11.881945524446586, 10.899483837930577, 9.863136813157709, 9.595343757325539, 9.315548725080818, 8.988039778001703, 8.954381007871813, 8.215530440733852, 8.02804455180114, 7.734327068003909, 7.727952234719706, 7.666025850365862, 7.640457389658851, 7.500277006697505, 7.3971092728754755, 7.349988107091312, 7.349988107091312, 8.504417734884484, 6.932158824840579, 6.643173798607939, 24.294471370991207, 8.83849697941182, 13.867022365186509, 11.728274935888932, 13.353547541149338, 25.43819734937998, 21.22095471662816, 28.010329353363144, 44.32418483683931, 13.847002385200373, 33.72569833096096, 17.926393518993837, 13.05922618432506, 24.345504998334814, 13.204705553098739, 18.91141689845616, 28.712547870282783, 35.979797426971004, 18.68391885949321, 20.52643716994291, 18.772076375744273, 25.58539775628074, 20.11294306037055, 17.933247477850816, 13.479273905380417, 15.468916344032719, 15.18918010995116, 13.817989464529878, 13.698746789641827, 25.468333765172172, 20.077747766066462, 54.07090085408442, 14.4006448172515, 11.215646221586827, 10.727918171931062, 10.665906860797628, 11.784499287841012, 9.083947004261368, 8.826176374889037, 8.551107239066111, 8.189373946551875, 7.907521006916651, 7.90022542212159, 7.63286624361149, 7.57227353988496, 7.331644481102953, 7.233190034731716, 7.2322375964073, 6.765862100745344, 6.678806764027934, 6.619889331282743, 6.472795204848092, 6.027172350728852, 5.922956889427787, 5.7015551793199295, 5.686129853112889, 5.678922013244631, 5.640545783826467, 5.640194417577728, 62.68630541087917, 13.769352924934173, 9.344547117616948, 14.725242292110174, 11.812299354517961, 30.038788420151732, 14.807686961484388, 15.332809811619317, 15.440341026145562, 26.702165044805458, 25.380683154502, 30.647189323194738, 18.755483515710807, 14.805489859440565, 29.946423549008923, 17.515792266516584, 17.492924469733932, 24.98712048642538, 14.63407260737122, 18.26606473341259, 10.956555166355647, 19.125737729663122, 17.765961943286918, 11.96125931690714, 14.630248938578557, 14.078691286442746, 13.465160204243224, 15.179117807847224, 13.006977069720747, 13.034280817076045, 12.06418849905757, 10.062442998726864, 9.995790465120395, 9.821142822402145, 17.961268883124944, 8.508416742369787, 7.7762413520012075, 7.588136041646611, 7.12577096289138, 7.113055459006005, 7.096546281980281, 10.026544132634838, 6.772834197831158, 6.417502882268006, 6.322004094872865, 5.8638228687755145, 5.68118829834295, 5.5769451413688875, 5.349513966509236, 5.273213304140164, 5.1529980545967415, 5.054864380218744, 5.052610858457091, 11.118463862929026, 5.103939444084317, 4.908483304400542, 4.796536746244108, 4.726746029334351, 4.633399693102948, 4.614010885466278, 12.100484596104193, 10.205354473699778, 17.978113591030958, 8.18967885944945, 8.635850312987564, 19.321754346390716, 5.621824012561718, 7.003979129544433, 7.003892161820645, 7.723849174616851, 7.08621475144224, 6.5208563829325135, 12.053479716636613, 9.227794949707002, 8.525390139002214, 7.172856346265439, 10.241141692038294, 8.086049765119697, 10.266719604747875, 7.72486634441331, 7.893507337992678, 7.468644152021987, 7.270968866332245, 7.254312784367691, 7.128089122826118, 54.6510142132261, 21.480105079291096, 18.983289447405117, 18.76186553778703, 18.510259624120305, 16.63879558454714, 15.71454551580323, 13.926637186686941, 11.731012335337018, 10.48954885241788, 10.482914041739754, 10.139925486220337, 10.139925486220337, 9.894298563608125, 9.671624306296426, 9.317840265134754, 8.117804764825538, 7.915646322795465, 12.719493909210918, 7.212210312711233, 7.1417459673422, 6.795269922422457, 6.483350566190169, 22.012546848540474, 6.10584567225609, 96.19758372106965, 6.154840607921936, 6.955120337285378, 5.5148290975118455, 5.297662907817769, 7.109242034937686, 8.662307690299189, 27.257773810720224, 65.84748145749907, 18.155896377777033, 31.474495814519685, 389.11585143878506, 10.703975309665653, 10.711096366669075, 11.778126131070028, 17.749173800237752, 13.390225767815513, 14.490813679343049, 20.493989359386486, 42.70811799859017, 28.086031091254192, 29.550235230668104, 18.728925413826005, 23.205989420733196, 14.143127126239536, 12.049550668596085, 13.467126237076391, 12.674189235835254, 11.104140855100411, 10.399926386082242, 7.278483748866805, 6.659452343780873, 5.931414084731738, 5.67710379674021, 7.85609093696042, 5.600737974699996, 5.152256187298771, 5.127957686861667, 4.956119470212132, 4.474364514556466, 4.426895559054382, 4.346268116435504, 4.178438526824612, 4.092249396548477, 4.036943549121949, 3.9402548394163768, 3.859092565673747, 3.8320431080075226, 3.8018426992048107, 8.858710591395202, 3.590908292657183, 3.5086231863214143, 3.4056242338964924, 3.3997522121303922, 3.39314101830437, 3.3748181001758475, 3.3387199532307146, 3.3267583630555846, 8.12717421012925, 7.298822622387713, 7.54189867663167, 5.337931204483256, 6.455280996687, 6.429185825093434, 5.099515722169535, 4.092957986971693, 6.29058498228265, 4.642615991746458, 4.068765479707262, 6.321601017237048, 4.904491412118068, 4.675504804430483, 4.697578490797245, 10.130235713583085, 6.819842005137164, 6.542229821124616, 6.186784980700875, 6.186590927999484, 6.07377232184296, 6.008543355936788, 5.557085911706037, 5.4708609627139735, 7.156663627278638, 5.106287857256599, 5.319430412020589, 4.608519962991016, 4.532499979472742, 4.229156991360947, 3.9714322887153113, 3.575276294849533, 3.4959272366430243, 3.4901770462272412, 3.467983647642804, 3.448084159670622, 3.3348690110373442, 3.2318653179347576, 3.196462382033431, 3.142190254693225, 4.32560150845483, 2.9503292455188443, 2.9213131746154546, 2.918051921021853, 2.878651434571315, 6.22936624403942, 4.272696511601175, 10.765921211064963, 3.6364528692256655, 4.4817318338542975, 4.143255896208328, 4.133452665256815, 4.198480763901848, 9.765823561536896, 7.615298425438073, 5.939929176350174, 4.278828966368526, 5.798453723939824, 4.630967122800349, 11.16827079993995, 7.421415221226442, 7.266880248032038, 6.222340250485655, 6.031055478135286, 5.628375025839347, 4.711619899899916, 4.597433664367152, 4.000939236303893, 3.7482772224642122, 3.7230403841596833, 3.4972136472523925, 3.492970570200626, 3.4099456225405107, 3.2928827578417077, 3.172389624234771, 3.186845897581506, 2.9893455665071276, 2.9129177855309067, 2.9015620068127275, 2.9015620068127275, 2.891750871767712, 2.8904298133750097, 2.885250648075095, 2.878641153380749, 2.8627918148529927, 2.7713031276538014, 2.7141712046727027, 2.696908067491802, 2.6861224592570054, 14.097952998592582, 3.72418716931373, 4.313773428611249, 14.00343414246082, 3.5194993279640623, 3.60263270607974, 3.965871650210448, 3.4801009678354116, 4.205742512660516, 5.7494825986944695, 5.7884262233466925, 3.311037434323897, 7.922850882336574, 4.3339664295487745, 4.289427008879787, 4.974683392376007, 4.024707640454413, 4.842239093182494, 3.663378697397522, 18.28976138114568, 9.59642319395676, 9.069143857855389, 7.65614803531329, 6.0962230226701575, 4.549702358568695, 4.444783320912119, 4.246266433184675, 4.044787148526411, 3.820213577796207, 3.8135648679410643, 3.7889255773309727, 3.7426753454960036, 3.552635884791114, 3.431674400417088, 3.437615975080735, 3.2940495796514013, 2.9997652402542347, 2.9278624305438763, 2.7545399657719454, 2.3307492015189664, 2.301979882359425, 2.296903104375886, 2.267949196394282, 2.176092452094307, 2.1578885990534014, 2.15030348142122, 2.1204974599238144, 2.0806442259139026, 1.914848731343947, 8.48336976797182, 6.125758404953819, 25.06650797508932, 6.640822878199877, 3.5027122183217343, 11.23217752885398, 7.49098435745141, 2.657915522446304, 7.863832704452779, 6.256471876800414, 4.687125419459104, 6.300180402508333, 4.22008994306062, 2.625051716475366, 1.7579420491393565, 1.7579420491393565, 1.4138601922854281, 1.3113595767705555, 14.06597884124087, 1.1886300964082852, 1.1829166907842563, 1.1798618616416379, 1.1798596764247562, 1.1798596764247562, 1.1798598845406496, 1.1539511207280757, 1.147414928919127, 1.1117737294053585, 1.09841903657794, 0.9788974545979516, 0.9746702045693474, 0.945840013901883, 0.8940681677153562, 0.8908818093280509, 0.8908818093280509, 0.8908106336924767, 0.8908092809391691, 0.8908092809391691, 0.8908092809391691, 0.8908091768812223, 0.8908091768812223, 0.8127382455238777, 0.8029190254950971, 1.467389056902759, 1.5849561184690197, 3.3741692455326584, 3.97347933532547, 3.6143632903836447, 2.0301824036178817, 7.251992272732519, 1.9606402696917224, 1.4347229781444015, 1.1510528987953097, 2.6885222773247976, 2.0000524251376146, 2.2396443907087296, 1.1409594860768535, 1.3222256197435995, 1.3729302476283005, 1.1537717248278858, 1.1557019997400217, 3.0548257998042803, 2.7643734550298316, 2.6213967416453396, 1.991093581764887, 1.9876225263695415, 1.8733534759494699, 1.6734617760438992, 1.5330501885522732, 1.4009151800867252, 1.400873714950767, 1.1713158278452758, 1.1639015463615117, 1.159121827637242, 1.1252573200445515, 1.1252561381404387, 1.1252561381404387, 1.0718423455695822, 1.049206911968814, 1.0010764277663, 1.1587226395231356, 0.9704569364073773, 0.8495930580217665, 0.8495930580217665, 0.8495930580217665, 0.8495930580217665, 0.8495918761176537, 0.8495918761176537, 0.8495918761176537, 0.8495918761176537, 0.8495918761176537, 1.3788627206896076, 1.0525963174883652, 1.1761597633596756, 1.1353512736281157, 1.7288071939031477, 2.68637861770448, 2.8568255404472653, 1.9717148849470052, 2.0375227149969906, 1.881833047006926, 1.8299068777460774, 2.0988991925599616, 1.36946766640476, 1.2621850481796102, 5.635931030136214, 2.187524880866573, 1.1736646039614367, 0.7920496158144256, 0.7249292355201853, 0.7219982244684786, 0.7219980729950393, 0.6909813869733711, 0.6571892531222238, 0.6571064728876109, 0.6561889225286593, 0.6380748955455141, 0.634892703662981, 0.6181644314398635, 0.6158640043162321, 1.2902031938484047, 0.5655937566270781, 0.548451507494177, 0.548451507494177, 0.5484181833375168, 0.5218398205626731, 0.4900319887672031, 0.48781199403987435, 0.48781199403987435, 0.48778143427348253, 0.48766604938104646, 0.4876659736443268, 0.48618047362447736, 1.1507603051951032, 0.4610545139229819, 1.3799954369162735, 0.6717780387510347, 0.9933978057180809, 1.0361861743432557, 0.7249290083100262, 0.7221265224716206, 1.4433899492857412, 0.797707981878613, 0.610183409524818, 0.5884852558877854], \"Total\": [963.0, 333.0, 833.0, 204.0, 288.0, 484.0, 107.0, 445.0, 186.0, 363.0, 141.0, 383.0, 123.0, 88.0, 158.0, 127.0, 122.0, 262.0, 370.0, 105.0, 641.0, 244.0, 251.0, 388.0, 425.0, 255.0, 107.0, 228.0, 56.0, 777.0, 282.1839603497334, 150.6111739821889, 445.30391457036353, 121.20203021861468, 114.1109535367283, 88.03196216609128, 80.18696170332854, 76.54762592633851, 53.69595163980618, 47.739818351014726, 46.75494860910162, 43.87865997954454, 43.17466623207615, 49.09353078555296, 41.849378723853796, 49.213263655695684, 39.603018661458236, 39.57481466174311, 39.106305889992534, 38.03927603422527, 38.01188957084595, 37.539725409216224, 37.77741222291746, 38.748527291552186, 35.135181398987406, 34.987010773789855, 34.83836102302331, 34.55413276552824, 34.37302526728639, 33.58539595370498, 309.7445709523092, 92.84903165692671, 61.57585255019452, 238.07644347656841, 81.05492158071728, 161.19494156448195, 123.24823959151381, 383.1284091870337, 114.66538301555403, 86.28515419934863, 51.93467359677233, 324.28979543098444, 641.1441272876356, 400.7451937538383, 333.9597128283134, 106.21019134534248, 425.8190434313362, 158.09167958903979, 152.24128128810224, 363.8878603803503, 268.9982253575584, 621.0329899557078, 290.61297001358764, 306.6741887502718, 228.51927471972326, 176.11963922169232, 261.19662053032243, 963.0175311011207, 370.0519159838627, 468.14500069465885, 396.8127827626296, 186.17112160251034, 491.1164554659193, 296.39973551844304, 255.27595062963576, 777.103059339578, 250.02619658260357, 657.1552260128556, 833.8483043746857, 554.1911819124172, 457.8673080514324, 360.26419788924863, 412.6450174650131, 500.59795424644017, 607.0740276866584, 109.585956229919, 70.27180907055005, 66.12020878259656, 77.82623094944412, 44.553080281653386, 63.93533319374729, 42.63136239442399, 68.45168761761609, 39.80424205571809, 47.93472685172196, 39.40552485406036, 42.478506266147626, 36.258529803023656, 36.427195902771736, 36.68462069857805, 34.5710852706749, 33.85762107945177, 33.34647978798588, 33.29106377966796, 34.9259023425112, 30.78749760488903, 31.415360311258155, 30.147934489758303, 29.738020656042615, 31.605472236366207, 29.225481911007755, 29.0645986181472, 28.826545406952015, 29.204018030501487, 28.455903574934144, 68.26584065616107, 91.85416976683209, 79.47540774911866, 62.54611814074389, 112.55209784166343, 182.81913689172907, 92.8503635633711, 59.819533997676345, 125.9123792284086, 80.50934985059357, 57.76051716710565, 172.48303763855463, 49.38879507386068, 53.008849708375664, 166.78513334694279, 106.01469980951104, 58.85943357464241, 117.75725054332094, 125.48986563458519, 268.91435933743554, 94.88013415171793, 288.9029427836318, 309.8976187905312, 95.80533359111038, 106.1434218997663, 114.85246149058334, 205.15080144353408, 388.7967752068365, 174.38900172965967, 309.17332443056085, 227.0409271410561, 155.61759306221037, 146.35150645878983, 607.0740276866584, 224.15471963387876, 467.6618170326745, 271.8624935822036, 184.13864287757167, 657.1552260128556, 189.52276183253488, 484.44502493128186, 299.71529624408146, 777.103059339578, 262.7736829302568, 281.03108281755283, 500.59795424644017, 554.1911819124172, 260.7723262626441, 415.945309816012, 362.3779334335732, 833.8483043746857, 457.8673080514324, 321.73032641803746, 303.3433745928989, 318.2936936621593, 621.0329899557078, 408.42640864737996, 105.10252906266997, 51.53288670618602, 74.25438808722521, 45.16432377125228, 37.82680728697738, 32.6106607271936, 32.079107825116154, 31.07216295645785, 25.149925281496124, 39.867146366865775, 17.06086347763548, 18.464289935409283, 31.99961162220373, 15.511895878912176, 15.051279501322542, 13.114731346406895, 56.86352499007771, 12.51591125034502, 14.958458285772032, 21.524783842841074, 11.223667404056844, 11.4600881106207, 11.041619155457814, 10.753817710672326, 10.513696827910799, 10.394842106770756, 10.207534985162416, 9.82241300351489, 39.9501578312604, 9.40856303795167, 122.80079926286994, 31.083929259387226, 127.81261261254436, 15.9234337925265, 31.721315976855507, 42.69966472788838, 50.690477882158035, 30.99920370616982, 26.61320156539317, 60.48801626342587, 35.31833866547392, 80.82430230816063, 56.30105361159141, 107.30782214614314, 833.8483043746857, 101.14017201919724, 58.367159397754726, 244.22958624313432, 251.868886361289, 60.54150492907049, 99.42006412302734, 147.94736281346903, 255.27595062963576, 157.95062745899344, 777.103059339578, 363.8878603803503, 185.0707478127077, 42.255397687307074, 33.769310719873886, 31.802065782468762, 29.875264321239868, 25.83476516229895, 19.490040598760878, 39.98463751102212, 14.207916152573246, 13.441325555368405, 12.869328160672216, 12.564237907902756, 11.577416907263864, 10.541057074930887, 10.273264271324068, 9.99347015057157, 9.665966306637154, 9.632307502090569, 8.893463232080723, 8.705965803517103, 8.412249750513697, 8.405873389996131, 8.343952043506352, 8.31838385250114, 8.178431898030482, 8.075029363076643, 8.02790870295226, 8.0279087756981, 9.304540986753782, 7.610079953960974, 7.321096132945184, 28.81417738537242, 10.020486045562448, 16.916125026403193, 14.131698897995696, 17.683129439359977, 46.455028128885296, 40.32246025907124, 66.71741541965349, 158.92465681119472, 22.434199934197753, 114.13932401068796, 37.110438312111505, 20.889241834109452, 81.66257844254824, 23.027001713196924, 56.47790739339251, 225.1803988573485, 484.44502493128186, 72.27493300120268, 139.70263670342155, 122.41758309238058, 833.8483043746857, 251.868886361289, 263.0324841399373, 27.897409273627186, 132.34331811155954, 161.6585452782047, 204.7711393109541, 244.22958624313432, 26.143914379343585, 20.75371687429523, 56.15040049874559, 15.076117761767636, 11.891079313763065, 11.40336373172365, 11.34148595289857, 12.590112349634106, 9.759427776521667, 9.50160626510388, 9.226537211029639, 8.864806245735387, 8.582951452450326, 8.575654054566854, 8.308340166007923, 8.248578834365023, 8.00707348385901, 7.908618986173554, 7.907669407724911, 7.4412890137214, 7.3542439581856405, 7.295325062644174, 7.148232668004272, 6.7025991628905475, 6.598384791635204, 6.376985540992232, 6.361565839565413, 6.354355650119613, 6.315971466464687, 6.315620910400048, 74.19852975101793, 16.041874908137768, 10.911958419423595, 18.959640534096867, 14.734678419004538, 44.931183854626056, 20.041207869481802, 26.373000021637868, 27.524356634497856, 69.14023820648204, 66.4462295629352, 97.87274323181562, 43.42029740153866, 34.540973799441964, 262.7736829302568, 73.24298151955922, 79.72138146357938, 388.7967752068365, 92.2061582267413, 263.0324841399373, 28.75003540035638, 607.0740276866584, 468.14500069465885, 46.24668009723874, 254.18734221612328, 209.43022364675892, 136.48761135191162, 777.103059339578, 142.6062732474327, 321.73032641803746, 12.740285883156933, 10.738517671288413, 10.671893926607838, 10.497215618154724, 19.292775537360118, 9.184506678936781, 8.452365667855213, 8.26421677148743, 7.801847193020822, 7.789136805312888, 7.772629196258505, 10.995268633498334, 7.448908097096585, 7.09357584237674, 6.9980817802710895, 6.540252712122613, 6.357264699615678, 6.253024730012851, 6.025598708806678, 5.949310477516347, 5.829075022525261, 5.730944427491178, 5.728715494880998, 12.627211525565897, 5.799403475464462, 5.584557229582585, 5.472607796042852, 5.40281846617223, 5.309476512028348, 5.29009082741854, 13.901273844982308, 12.153927836804018, 22.07021656256236, 9.757045044939742, 10.982963969128242, 29.657659930822632, 6.8614221008186265, 10.05635602969002, 10.056334009082006, 12.85657628079449, 10.937268013615663, 9.281545587308434, 43.71456653501404, 22.395559517843076, 18.450655892787214, 16.608368983818732, 228.99036615341458, 46.029171160158896, 833.8483043746857, 44.325230514224344, 425.8190434313362, 484.44502493128186, 173.7361678158508, 251.868886361289, 222.29451674722344, 55.42392853251376, 22.16611753235026, 19.669385196465623, 19.448459632523303, 19.19739082501427, 17.32489408747961, 16.410477611563852, 14.613214493128494, 12.417025775325714, 11.175561259195693, 11.168951953592506, 10.825937885072243, 10.82593791332032, 10.580310980392767, 10.357638863895511, 10.003856151207428, 8.8042062691691, 8.60166069076034, 13.866327056550343, 7.898223806731991, 7.828414617798034, 7.4819510187527705, 7.1693641996317234, 24.418689057323046, 6.791857985914758, 107.44994617515808, 6.889852054938808, 7.788019453567347, 6.201551724279495, 5.983676000439329, 8.055750684315969, 9.920756713443453, 33.57363045616592, 88.22957530857347, 22.521960467924654, 42.44909295176241, 963.0175311011207, 13.358934790552107, 13.776915136284876, 15.973149909058206, 29.065943950271745, 19.289789528320885, 22.514851918594754, 41.37071787868817, 333.9597128283134, 141.2204504197013, 288.9029427836318, 81.47038607729402, 186.12128150547395, 383.1284091870337, 55.096021748908896, 228.99036615341458, 370.0519159838627, 11.793862218524168, 11.089648446633573, 7.968205682811982, 7.349197092734798, 6.621147491121203, 6.366823625927946, 8.818198133622381, 6.290464063357563, 5.841995194623129, 5.817679666807563, 5.645849574429055, 5.164091045668881, 5.116615379122433, 5.036074962442595, 4.868158218034607, 4.781974329217024, 4.726669491558305, 4.6299841182439065, 4.548820729837603, 4.5217738616844425, 4.491562452468249, 10.516734164571023, 4.280635934525492, 4.19835580975499, 4.095348557184226, 4.0894802427445445, 4.082876427547907, 4.064562320125571, 4.028442005184208, 4.016509746785351, 11.29194994230173, 11.051136653675165, 11.656149833117542, 7.8296517262370875, 13.281814196928242, 14.797240413226532, 10.341755086403795, 6.37996902519405, 35.63759804993143, 11.167574588793697, 7.464990946906987, 833.8483043746857, 67.11753826083039, 55.301717872690055, 222.29451674722344, 10.82014406475256, 7.50976424653198, 7.232113877229111, 6.876676930836348, 6.876474907295373, 6.76368693483371, 6.698435670933505, 6.246978983364469, 6.160744210744326, 8.08043357289228, 5.7961795817032895, 6.048566686359353, 5.298411983742067, 5.222383823067728, 4.919046025232153, 4.661317177783355, 4.265184769808722, 4.185814384363612, 4.180069768797942, 4.157872282880562, 4.137976328044177, 4.024754983881905, 3.9217490124763885, 3.886826458355461, 3.8321307117813816, 5.326731561932157, 3.6402301234883345, 3.6111998192659294, 3.607942806219594, 3.5685334155534383, 7.890123129600664, 5.7086256641941695, 23.18224848448412, 4.9871274498525375, 7.552739972816403, 6.64251800462001, 7.853148825609914, 8.309081001343234, 363.8878603803503, 123.62252892821569, 222.29451674722344, 26.722786725432368, 777.103059339578, 425.8190434313362, 11.86232406010815, 8.120252089819035, 7.9609532185711505, 6.916422049734882, 6.7251216006743935, 6.322461617199765, 5.405739878859444, 5.291487394015273, 4.695007043040215, 4.442335982997958, 4.417103588925922, 4.1912746144635324, 4.187046249739911, 4.103999939575964, 3.9869358690089527, 3.8664501942380367, 3.8974585803094133, 3.6834143505404064, 3.6069708979212955, 3.595615707329289, 3.595615707329289, 3.5858080911909216, 3.5845141612680655, 3.5793088051740356, 3.57269906025974, 3.5568565028713204, 3.4653562871635497, 3.4082247639399905, 3.3909738691005096, 3.3801828995550935, 33.566747198641124, 5.336470023433581, 7.305623383220947, 107.30782214614314, 5.805019672791551, 6.294167073279527, 9.107064477671276, 7.424606037663192, 17.14048116435362, 67.76380748892691, 102.46238864301971, 6.779398061739359, 833.8483043746857, 37.277009164435086, 39.40663623241147, 241.3662679783432, 40.03589215979376, 415.945309816012, 17.683129439359977, 18.996232671842858, 10.302877944248067, 9.775586532428942, 8.362590698802686, 6.802665903945996, 5.256147726511266, 5.151228422415583, 4.952723156678384, 4.751245355840408, 4.526659111952195, 4.520018344643948, 4.495369978819894, 4.449125523062724, 4.259121502284037, 4.13811687208587, 4.152739680024642, 4.000499815902438, 3.7062078541545205, 3.6380960908556754, 3.468505766466067, 3.037193678340605, 3.00843660834882, 3.003345659926098, 2.97439559936195, 2.882540106681752, 2.8643310661314048, 2.8567461523067026, 2.826960654335991, 2.7888487578885095, 2.621291217582692, 11.850305353984679, 8.887110669072975, 56.4773478684088, 12.821690462189608, 5.694978195321782, 31.243442535967475, 31.64529145937809, 4.189917304411775, 54.33153395948375, 81.47038607729402, 32.98871876406199, 123.24823959151381, 49.435505667836836, 3.3428001997721286, 2.4756903214745862, 2.4756903814244193, 2.131612445241002, 2.0291155758285355, 22.00309367657852, 1.9063889642174063, 1.9006762823898031, 1.8976101156733027, 1.8976079149869682, 1.8976079438247686, 1.89760831262942, 1.871702911791984, 1.8651882464045544, 1.8295222171643675, 1.816172197097771, 1.6966482995442707, 1.6924744439252244, 1.6636939965479112, 1.6118165232288368, 1.6086299592355409, 1.6086299592355409, 1.6085588488468667, 1.6085575028082484, 1.6085575195013813, 1.6085575267108312, 1.6085574010245343, 1.6085575163757353, 1.53048908746224, 1.520675672114024, 2.9528688057250307, 3.4141627681819284, 8.620824096132386, 24.382830086739915, 23.762543551386063, 8.156764594373138, 204.7711393109541, 13.233335628679978, 5.976814340545403, 3.2571005208475725, 37.277009164435086, 17.14965568389914, 42.64528845833807, 3.5342322050575428, 14.184434180393918, 33.566747198641124, 9.604762575279153, 43.28553087653817, 3.7736904694409223, 3.4832412883851274, 3.3402611965208946, 2.70997327443871, 2.7064977908288936, 2.5922525449458087, 2.3923289502492207, 2.251941866333541, 2.1197795936784276, 2.119738620158281, 1.890217554807776, 1.882822938980453, 1.8779913489605313, 1.8441217336362539, 1.8441206201141473, 1.8441208940732494, 1.7907129667428356, 1.7680772222933148, 1.7199457051976543, 1.9963804253293342, 1.689350970964452, 1.568457472525513, 1.568457472525513, 1.568457472525513, 1.568457478822919, 1.5684563571793184, 1.5684563788076686, 1.5684563788076686, 1.5684563932265685, 1.5684564220643689, 3.15895206297153, 2.342616657164713, 2.993727721629877, 2.8521153263192622, 7.1015801740128355, 18.189555759323635, 20.902115481992144, 9.466229160521575, 10.341755086403795, 23.814540352617154, 24.937094682049516, 65.64383413940332, 24.466953268356644, 15.644143417761631, 6.35825696368819, 2.91002379909878, 1.8959855105861712, 1.5242595147031142, 1.4472433349252922, 1.4443121532094336, 1.4443120442305342, 1.4177131572882116, 1.379508606015434, 1.3794224362250023, 1.3786281511657448, 1.3603894730498023, 1.3572182376915847, 1.3404803348856373, 1.338181172656089, 2.91162317622745, 1.2879511809579829, 1.270765384085292, 1.270765483663961, 1.2707320165576546, 1.2441569611069032, 1.2124161566291876, 1.2101257146044955, 1.2101257218139454, 1.2101071256938098, 1.2099799421431257, 1.2099798893603027, 1.2084955993373099, 2.946017920342246, 1.1833694311469647, 4.380194954404811, 1.984074839741655, 5.248167374238604, 17.26768523215965, 5.412509740198176, 6.664465163392984, 484.44502493128186, 159.54096844723844, 11.041327862242323, 9.920756713443453], \"Category\": [\"Default\", \"Default\", \"Default\", \"Default\", \"Default\", \"Default\", \"Default\", \"Default\", \"Default\", \"Default\", \"Default\", \"Default\", \"Default\", \"Default\", \"Default\", \"Default\", \"Default\", \"Default\", \"Default\", \"Default\", \"Default\", \"Default\", \"Default\", \"Default\", \"Default\", \"Default\", \"Default\", \"Default\", \"Default\", \"Default\", \"Topic1\", \"Topic1\", \"Topic1\", \"Topic1\", \"Topic1\", \"Topic1\", \"Topic1\", \"Topic1\", \"Topic1\", \"Topic1\", \"Topic1\", \"Topic1\", \"Topic1\", \"Topic1\", \"Topic1\", \"Topic1\", \"Topic1\", \"Topic1\", \"Topic1\", \"Topic1\", \"Topic1\", \"Topic1\", \"Topic1\", \"Topic1\", \"Topic1\", \"Topic1\", \"Topic1\", \"Topic1\", \"Topic1\", \"Topic1\", \"Topic1\", \"Topic1\", \"Topic1\", \"Topic1\", \"Topic1\", \"Topic1\", \"Topic1\", \"Topic1\", \"Topic1\", \"Topic1\", \"Topic1\", \"Topic1\", \"Topic1\", \"Topic1\", \"Topic1\", \"Topic1\", \"Topic1\", \"Topic1\", \"Topic1\", \"Topic1\", \"Topic1\", \"Topic1\", \"Topic1\", \"Topic1\", \"Topic1\", \"Topic1\", \"Topic1\", \"Topic1\", \"Topic1\", \"Topic1\", \"Topic1\", \"Topic1\", \"Topic1\", \"Topic1\", \"Topic1\", \"Topic1\", \"Topic1\", \"Topic1\", \"Topic1\", \"Topic1\", \"Topic1\", \"Topic1\", \"Topic1\", \"Topic1\", \"Topic1\", \"Topic2\", \"Topic2\", \"Topic2\", \"Topic2\", \"Topic2\", \"Topic2\", \"Topic2\", \"Topic2\", \"Topic2\", \"Topic2\", \"Topic2\", \"Topic2\", \"Topic2\", \"Topic2\", \"Topic2\", \"Topic2\", \"Topic2\", \"Topic2\", \"Topic2\", \"Topic2\", \"Topic2\", \"Topic2\", \"Topic2\", \"Topic2\", \"Topic2\", \"Topic2\", \"Topic2\", \"Topic2\", \"Topic2\", \"Topic2\", \"Topic2\", \"Topic2\", \"Topic2\", \"Topic2\", \"Topic2\", \"Topic2\", \"Topic2\", \"Topic2\", \"Topic2\", \"Topic2\", \"Topic2\", \"Topic2\", \"Topic2\", \"Topic2\", \"Topic2\", \"Topic2\", \"Topic2\", \"Topic2\", \"Topic2\", \"Topic2\", \"Topic2\", \"Topic2\", \"Topic2\", \"Topic2\", \"Topic2\", \"Topic2\", \"Topic2\", \"Topic2\", \"Topic2\", \"Topic2\", \"Topic2\", \"Topic2\", \"Topic2\", \"Topic2\", \"Topic2\", \"Topic2\", \"Topic2\", \"Topic2\", \"Topic2\", \"Topic2\", \"Topic2\", \"Topic2\", \"Topic2\", \"Topic2\", \"Topic2\", \"Topic2\", \"Topic2\", \"Topic2\", \"Topic2\", \"Topic2\", \"Topic2\", \"Topic2\", \"Topic2\", \"Topic2\", \"Topic2\", \"Topic2\", \"Topic2\", \"Topic3\", \"Topic3\", \"Topic3\", \"Topic3\", \"Topic3\", \"Topic3\", \"Topic3\", \"Topic3\", \"Topic3\", \"Topic3\", \"Topic3\", \"Topic3\", \"Topic3\", \"Topic3\", \"Topic3\", \"Topic3\", \"Topic3\", \"Topic3\", \"Topic3\", \"Topic3\", \"Topic3\", \"Topic3\", \"Topic3\", \"Topic3\", \"Topic3\", \"Topic3\", \"Topic3\", \"Topic3\", \"Topic3\", \"Topic3\", \"Topic3\", \"Topic3\", \"Topic3\", \"Topic3\", \"Topic3\", \"Topic3\", \"Topic3\", \"Topic3\", \"Topic3\", \"Topic3\", \"Topic3\", \"Topic3\", \"Topic3\", \"Topic3\", \"Topic3\", \"Topic3\", \"Topic3\", \"Topic3\", \"Topic3\", \"Topic3\", \"Topic3\", \"Topic3\", \"Topic3\", \"Topic3\", \"Topic3\", \"Topic3\", \"Topic3\", \"Topic4\", \"Topic4\", \"Topic4\", \"Topic4\", \"Topic4\", \"Topic4\", \"Topic4\", \"Topic4\", \"Topic4\", \"Topic4\", \"Topic4\", \"Topic4\", \"Topic4\", \"Topic4\", \"Topic4\", \"Topic4\", \"Topic4\", \"Topic4\", \"Topic4\", \"Topic4\", \"Topic4\", \"Topic4\", \"Topic4\", \"Topic4\", \"Topic4\", \"Topic4\", \"Topic4\", \"Topic4\", \"Topic4\", \"Topic4\", \"Topic4\", \"Topic4\", \"Topic4\", \"Topic4\", \"Topic4\", \"Topic4\", \"Topic4\", \"Topic4\", \"Topic4\", \"Topic4\", \"Topic4\", \"Topic4\", \"Topic4\", \"Topic4\", \"Topic4\", \"Topic4\", \"Topic4\", \"Topic4\", \"Topic4\", \"Topic4\", \"Topic4\", \"Topic4\", \"Topic4\", \"Topic4\", \"Topic4\", \"Topic4\", \"Topic4\", \"Topic4\", \"Topic4\", \"Topic5\", \"Topic5\", \"Topic5\", \"Topic5\", \"Topic5\", \"Topic5\", \"Topic5\", \"Topic5\", \"Topic5\", \"Topic5\", \"Topic5\", \"Topic5\", \"Topic5\", \"Topic5\", \"Topic5\", \"Topic5\", \"Topic5\", \"Topic5\", \"Topic5\", \"Topic5\", \"Topic5\", \"Topic5\", \"Topic5\", \"Topic5\", \"Topic5\", \"Topic5\", \"Topic5\", \"Topic5\", \"Topic5\", \"Topic5\", \"Topic5\", \"Topic5\", \"Topic5\", \"Topic5\", \"Topic5\", \"Topic5\", \"Topic5\", \"Topic5\", \"Topic5\", \"Topic5\", \"Topic5\", \"Topic5\", \"Topic5\", \"Topic5\", \"Topic5\", \"Topic5\", \"Topic5\", \"Topic5\", \"Topic5\", \"Topic5\", \"Topic5\", \"Topic5\", \"Topic5\", \"Topic5\", \"Topic5\", \"Topic5\", \"Topic5\", \"Topic5\", \"Topic5\", \"Topic5\", \"Topic6\", \"Topic6\", \"Topic6\", \"Topic6\", \"Topic6\", \"Topic6\", \"Topic6\", \"Topic6\", \"Topic6\", \"Topic6\", \"Topic6\", \"Topic6\", \"Topic6\", \"Topic6\", \"Topic6\", \"Topic6\", \"Topic6\", \"Topic6\", \"Topic6\", \"Topic6\", \"Topic6\", \"Topic6\", \"Topic6\", \"Topic6\", \"Topic6\", \"Topic6\", \"Topic6\", \"Topic6\", \"Topic6\", \"Topic6\", \"Topic6\", \"Topic6\", \"Topic6\", \"Topic6\", \"Topic6\", \"Topic6\", \"Topic6\", \"Topic6\", \"Topic6\", \"Topic6\", \"Topic6\", \"Topic6\", \"Topic6\", \"Topic6\", \"Topic6\", \"Topic6\", \"Topic6\", \"Topic6\", \"Topic6\", \"Topic6\", \"Topic6\", \"Topic6\", \"Topic6\", \"Topic6\", \"Topic6\", \"Topic7\", \"Topic7\", \"Topic7\", \"Topic7\", \"Topic7\", \"Topic7\", \"Topic7\", \"Topic7\", \"Topic7\", \"Topic7\", \"Topic7\", \"Topic7\", \"Topic7\", \"Topic7\", \"Topic7\", \"Topic7\", \"Topic7\", \"Topic7\", \"Topic7\", \"Topic7\", \"Topic7\", \"Topic7\", \"Topic7\", \"Topic7\", \"Topic7\", \"Topic7\", \"Topic7\", \"Topic7\", \"Topic7\", \"Topic7\", \"Topic7\", \"Topic7\", \"Topic7\", \"Topic7\", \"Topic7\", \"Topic7\", \"Topic7\", \"Topic7\", \"Topic7\", \"Topic7\", \"Topic7\", \"Topic7\", \"Topic7\", \"Topic7\", \"Topic7\", \"Topic7\", \"Topic7\", \"Topic7\", \"Topic7\", \"Topic7\", \"Topic7\", \"Topic7\", \"Topic7\", \"Topic8\", \"Topic8\", \"Topic8\", \"Topic8\", \"Topic8\", \"Topic8\", \"Topic8\", \"Topic8\", \"Topic8\", \"Topic8\", \"Topic8\", \"Topic8\", \"Topic8\", \"Topic8\", \"Topic8\", \"Topic8\", \"Topic8\", \"Topic8\", \"Topic8\", \"Topic8\", \"Topic8\", \"Topic8\", \"Topic8\", \"Topic8\", \"Topic8\", \"Topic8\", \"Topic8\", \"Topic8\", \"Topic8\", \"Topic8\", \"Topic8\", \"Topic8\", \"Topic8\", \"Topic8\", \"Topic8\", \"Topic8\", \"Topic8\", \"Topic8\", \"Topic8\", \"Topic8\", \"Topic8\", \"Topic8\", \"Topic8\", \"Topic8\", \"Topic8\", \"Topic9\", \"Topic9\", \"Topic9\", \"Topic9\", \"Topic9\", \"Topic9\", \"Topic9\", \"Topic9\", \"Topic9\", \"Topic9\", \"Topic9\", \"Topic9\", \"Topic9\", \"Topic9\", \"Topic9\", \"Topic9\", \"Topic9\", \"Topic9\", \"Topic9\", \"Topic9\", \"Topic9\", \"Topic9\", \"Topic9\", \"Topic9\", \"Topic9\", \"Topic9\", \"Topic9\", \"Topic9\", \"Topic9\", \"Topic9\", \"Topic9\", \"Topic9\", \"Topic9\", \"Topic9\", \"Topic9\", \"Topic9\", \"Topic9\", \"Topic9\", \"Topic9\", \"Topic9\", \"Topic9\", \"Topic9\", \"Topic9\", \"Topic9\", \"Topic10\", \"Topic10\", \"Topic10\", \"Topic10\", \"Topic10\", \"Topic10\", \"Topic10\", \"Topic10\", \"Topic10\", \"Topic10\", \"Topic10\", \"Topic10\", \"Topic10\", \"Topic10\", \"Topic10\", \"Topic10\", \"Topic10\", \"Topic10\", \"Topic10\", \"Topic10\", \"Topic10\", \"Topic10\", \"Topic10\", \"Topic10\", \"Topic10\", \"Topic10\", \"Topic10\", \"Topic10\", \"Topic10\", \"Topic10\", \"Topic10\", \"Topic10\", \"Topic10\", \"Topic10\", \"Topic10\", \"Topic10\", \"Topic10\", \"Topic10\", \"Topic10\", \"Topic10\", \"Topic10\", \"Topic10\", \"Topic10\", \"Topic10\", \"Topic10\", \"Topic10\", \"Topic10\", \"Topic10\", \"Topic10\", \"Topic11\", \"Topic11\", \"Topic11\", \"Topic11\", \"Topic11\", \"Topic11\", \"Topic11\", \"Topic11\", \"Topic11\", \"Topic11\", \"Topic11\", \"Topic11\", \"Topic11\", \"Topic11\", \"Topic11\", \"Topic11\", \"Topic11\", \"Topic11\", \"Topic11\", \"Topic11\", \"Topic11\", \"Topic11\", \"Topic11\", \"Topic11\", \"Topic11\", \"Topic11\", \"Topic11\", \"Topic11\", \"Topic11\", \"Topic11\", \"Topic11\", \"Topic11\", \"Topic11\", \"Topic11\", \"Topic11\", \"Topic11\", \"Topic11\", \"Topic11\", \"Topic11\", \"Topic11\", \"Topic11\", \"Topic11\", \"Topic11\", \"Topic12\", \"Topic12\", \"Topic12\", \"Topic12\", \"Topic12\", \"Topic12\", \"Topic12\", \"Topic12\", \"Topic12\", \"Topic12\", \"Topic12\", \"Topic12\", \"Topic12\", \"Topic12\", \"Topic12\", \"Topic12\", \"Topic12\", \"Topic12\", \"Topic12\", \"Topic12\", \"Topic12\", \"Topic12\", \"Topic12\", \"Topic12\", \"Topic12\", \"Topic12\", \"Topic12\", \"Topic12\", \"Topic12\", \"Topic12\", \"Topic12\", \"Topic12\", \"Topic12\", \"Topic12\", \"Topic12\", \"Topic12\", \"Topic12\", \"Topic12\", \"Topic12\", \"Topic12\", \"Topic12\", \"Topic12\", \"Topic12\", \"Topic12\", \"Topic12\", \"Topic12\", \"Topic12\", \"Topic12\", \"Topic13\", \"Topic13\", \"Topic13\", \"Topic13\", \"Topic13\", \"Topic13\", \"Topic13\", \"Topic13\", \"Topic13\", \"Topic13\", \"Topic13\", \"Topic13\", \"Topic13\", \"Topic13\", \"Topic13\", \"Topic13\", \"Topic13\", \"Topic13\", \"Topic13\", \"Topic13\", \"Topic13\", \"Topic13\", \"Topic13\", \"Topic13\", \"Topic13\", \"Topic13\", \"Topic13\", \"Topic13\", \"Topic13\", \"Topic13\", \"Topic13\", \"Topic13\", \"Topic13\", \"Topic13\", \"Topic13\", \"Topic13\", \"Topic13\", \"Topic13\", \"Topic13\", \"Topic13\", \"Topic13\", \"Topic13\", \"Topic13\", \"Topic13\", \"Topic14\", \"Topic14\", \"Topic14\", \"Topic14\", \"Topic14\", \"Topic14\", \"Topic14\", \"Topic14\", \"Topic14\", \"Topic14\", \"Topic14\", \"Topic14\", \"Topic14\", \"Topic14\", \"Topic14\", \"Topic14\", \"Topic14\", \"Topic14\", \"Topic14\", \"Topic14\", \"Topic14\", \"Topic14\", \"Topic14\", \"Topic14\", \"Topic14\", \"Topic14\", \"Topic14\", \"Topic14\", \"Topic14\", \"Topic14\", \"Topic14\", \"Topic14\", \"Topic14\", \"Topic14\", \"Topic14\", \"Topic14\", \"Topic14\", \"Topic14\", \"Topic14\", \"Topic14\"], \"logprob\": [30.0, 29.0, 28.0, 27.0, 26.0, 25.0, 24.0, 23.0, 22.0, 21.0, 20.0, 19.0, 18.0, 17.0, 16.0, 15.0, 14.0, 13.0, 12.0, 11.0, 10.0, 9.0, 8.0, 7.0, 6.0, 5.0, 4.0, 3.0, 2.0, 1.0, -5.418, -6.0473, -4.9638, -6.2655, -6.3261, -6.5873, -6.6815, -6.7316, -7.0871, -7.2057, -7.2269, -7.2915, -7.3077, -7.1796, -7.3394, -7.1774, -7.3955, -7.3962, -7.4084, -7.4365, -7.4373, -7.45, -7.4437, -7.4189, -7.5174, -7.5217, -7.526, -7.5344, -7.5398, -7.5634, -5.3419, -6.552, -6.9615, -5.6265, -6.7041, -6.0377, -6.3013, -5.2313, -6.3843, -6.6547, -7.139, -5.4009, -4.7604, -5.2037, -5.3865, -6.4691, -5.1796, -6.1051, -6.1445, -5.4119, -5.6788, -4.9561, -5.6217, -5.5849, -5.8405, -6.0597, -5.7455, -4.7061, -5.4749, -5.3179, -5.4443, -6.0204, -5.2969, -5.69, -5.8017, -5.0718, -5.8218, -5.2113, -5.0799, -5.3384, -5.4644, -5.6117, -5.5488, -5.4825, -5.571, -6.2315, -6.6792, -6.7407, -6.5804, -7.1404, -6.7795, -7.1853, -6.7127, -7.2549, -7.0694, -7.2659, -7.191, -7.3498, -7.3454, -7.3388, -7.3985, -7.4196, -7.4352, -7.4369, -7.3889, -7.5167, -7.4965, -7.5381, -7.5521, -7.4914, -7.57, -7.5756, -7.584, -7.5712, -7.5972, -6.7234, -6.4373, -6.581, -6.821, -6.2467, -5.7863, -6.4437, -6.8702, -6.1522, -6.5847, -6.9106, -5.8718, -7.0603, -6.9952, -5.9189, -6.3503, -6.8987, -6.2569, -6.2004, -5.5289, -6.4668, -5.475, -5.4128, -6.4637, -6.3731, -6.3059, -5.8008, -5.2918, -5.9753, -5.5187, -5.7793, -6.0792, -6.1369, -5.1091, -5.8585, -5.3699, -5.77, -6.0293, -5.237, -6.028, -5.4545, -5.7505, -5.2118, -5.8548, -5.8196, -5.5336, -5.4968, -5.8796, -5.6752, -5.7408, -5.5213, -5.7611, -5.8971, -5.9132, -5.9153, -5.8747, -5.903, -4.6036, -5.323, -4.9579, -5.4568, -5.637, -5.7883, -5.8051, -5.8376, -6.0542, -5.5954, -6.4553, -6.3779, -5.8281, -6.555, -6.5861, -6.7307, -5.2657, -6.78, -6.6033, -6.2421, -6.8955, -6.8755, -6.9129, -6.941, -6.9651, -6.9773, -6.9967, -7.038, -5.6358, -7.0842, -4.5522, -5.9035, -4.5315, -6.5691, -5.9237, -5.6469, -5.5049, -5.9879, -6.1436, -5.4722, -5.9194, -5.2842, -5.6477, -5.2538, -4.2058, -5.4709, -5.8591, -5.239, -5.2527, -5.8459, -5.7129, -5.6098, -5.5059, -5.6143, -5.3959, -5.6998, -5.7546, -5.1008, -5.3291, -5.3904, -5.4543, -5.6033, -5.8939, -5.1852, -6.2235, -6.2818, -6.3277, -6.3534, -6.4397, -6.5396, -6.5671, -6.5967, -6.6325, -6.6362, -6.7224, -6.7455, -6.7827, -6.7835, -6.7916, -6.7949, -6.8135, -6.8273, -6.8337, -6.8337, -6.6878, -6.8922, -6.9348, -5.6381, -6.6493, -6.1989, -6.3664, -6.2366, -5.5921, -5.7734, -5.4958, -5.0369, -6.2003, -5.3101, -5.9421, -6.2589, -5.636, -6.2478, -5.8886, -5.4711, -5.2454, -5.9007, -5.8067, -5.896, -5.5864, -5.827, -5.9417, -6.2272, -6.0896, -6.1078, -6.2024, -6.2111, -5.5635, -5.8014, -4.8107, -6.1337, -6.3837, -6.4281, -6.4339, -6.3342, -6.5945, -6.6233, -6.6549, -6.6981, -6.7332, -6.7341, -6.7685, -6.7765, -6.8088, -6.8223, -6.8224, -6.8891, -6.902, -6.9109, -6.9334, -7.0047, -7.0221, -7.0602, -7.0629, -7.0642, -7.071, -7.0711, -4.6628, -6.1785, -6.5662, -6.1114, -6.3318, -5.3985, -6.1058, -6.071, -6.064, -5.5162, -5.567, -5.3784, -5.8695, -6.106, -5.4016, -5.9379, -5.9392, -5.5826, -6.1176, -5.8959, -6.407, -5.8499, -5.9237, -6.3193, -6.1179, -6.1563, -6.2009, -6.0811, -6.2355, -6.2334, -6.0364, -6.2179, -6.2245, -6.2421, -5.6385, -6.3856, -6.4756, -6.5001, -6.563, -6.5647, -6.5671, -6.2214, -6.6138, -6.6676, -6.6826, -6.7579, -6.7895, -6.808, -6.8497, -6.864, -6.8871, -6.9063, -6.9068, -6.1181, -6.8967, -6.9357, -6.9588, -6.9734, -6.9934, -6.9976, -6.0334, -6.2038, -5.6375, -6.4238, -6.3707, -5.5654, -6.8, -6.5802, -6.5802, -6.4824, -6.5685, -6.6517, -6.0373, -6.3045, -6.3836, -6.5564, -6.2003, -6.4365, -6.1978, -6.4822, -6.4606, -6.516, -6.5428, -6.5451, -6.5626, -4.3855, -5.3194, -5.4429, -5.4547, -5.4682, -5.5748, -5.6319, -5.7527, -5.9243, -6.0361, -6.0368, -6.07, -6.07, -6.0945, -6.1173, -6.1546, -6.2924, -6.3177, -5.8434, -6.4107, -6.4205, -6.4703, -6.5173, -5.2949, -6.5773, -3.8201, -6.5693, -6.447, -6.6791, -6.7192, -6.4251, -6.2275, -5.0812, -4.1992, -5.4875, -4.9373, -2.4226, -6.0159, -6.0152, -5.9203, -5.5102, -5.792, -5.713, -5.3664, -4.6321, -5.0512, -5.0004, -5.4564, -5.2421, -5.7373, -5.8975, -5.7862, -5.8469, -5.5941, -5.6596, -6.0165, -6.1054, -6.2211, -6.265, -5.9401, -6.2785, -6.362, -6.3667, -6.4008, -6.503, -6.5137, -6.5321, -6.5715, -6.5923, -6.6059, -6.6302, -6.651, -6.658, -6.6659, -5.82, -6.723, -6.7462, -6.776, -6.7777, -6.7797, -6.7851, -6.7958, -6.7994, -5.9062, -6.0137, -5.9809, -6.3266, -6.1365, -6.1406, -6.3723, -6.5921, -6.1624, -6.4661, -6.5981, -6.1574, -6.4113, -6.4591, -6.4544, -5.6174, -6.013, -6.0546, -6.1105, -6.1105, -6.1289, -6.1397, -6.2178, -6.2334, -5.9648, -6.3024, -6.2615, -6.405, -6.4216, -6.4909, -6.5538, -6.6588, -6.6813, -6.6829, -6.6893, -6.6951, -6.7285, -6.7598, -6.7708, -6.788, -6.4683, -6.851, -6.8609, -6.862, -6.8756, -6.1036, -6.4806, -5.5565, -6.6419, -6.4329, -6.5114, -6.5138, -6.4982, -5.654, -5.9027, -6.1512, -6.4792, -6.1753, -6.4001, -5.373, -5.7817, -5.8027, -5.9579, -5.9891, -6.0582, -6.236, -6.2605, -6.3995, -6.4647, -6.4715, -6.5341, -6.5353, -6.5593, -6.5943, -6.6315, -6.627, -6.691, -6.7169, -6.7208, -6.7208, -6.7242, -6.7246, -6.7264, -6.7287, -6.7342, -6.7667, -6.7875, -6.7939, -6.7979, -5.14, -6.4712, -6.3242, -5.1467, -6.5277, -6.5044, -6.4083, -6.539, -6.3496, -6.0369, -6.0302, -6.5888, -5.7163, -6.3195, -6.3299, -6.1817, -6.3936, -6.2087, -6.4876, -4.5179, -5.1628, -5.2194, -5.3887, -5.6166, -5.9092, -5.9325, -5.9782, -6.0268, -6.0839, -6.0857, -6.0922, -6.1044, -6.1565, -6.1912, -6.1895, -6.2321, -6.3257, -6.35, -6.411, -6.578, -6.5905, -6.5927, -6.6054, -6.6467, -6.6551, -6.6586, -6.6726, -6.6916, -6.7746, -5.2861, -5.6117, -4.2027, -5.531, -6.1707, -5.0055, -5.4105, -6.4467, -5.362, -5.5906, -5.8794, -5.5837, -5.9844, -5.8304, -6.2314, -6.2314, -6.4492, -6.5245, -4.1518, -6.6227, -6.6276, -6.6301, -6.6301, -6.6301, -6.6301, -6.6523, -6.658, -6.6896, -6.7017, -6.8169, -6.8212, -6.8512, -6.9075, -6.9111, -6.9111, -6.9112, -6.9112, -6.9112, -6.9112, -6.9112, -6.9112, -7.0029, -7.015, -6.4121, -6.335, -5.5794, -5.4159, -5.5106, -6.0874, -4.8143, -6.1223, -6.4346, -6.6549, -5.8065, -6.1024, -5.9892, -6.6637, -6.5162, -6.4786, -6.6525, -6.6508, -5.6238, -5.7238, -5.7769, -6.0519, -6.0536, -6.1128, -6.2257, -6.3133, -6.4034, -6.4035, -6.5824, -6.5888, -6.5929, -6.6226, -6.6226, -6.6226, -6.6712, -6.6925, -6.7395, -6.5932, -6.7706, -6.9036, -6.9036, -6.9036, -6.9036, -6.9036, -6.9036, -6.9036, -6.9036, -6.9036, -6.4193, -6.6893, -6.5783, -6.6136, -6.1931, -5.7524, -5.6909, -6.0617, -6.0288, -6.1083, -6.1363, -5.9992, -6.4261, -6.5077, -4.7487, -5.6951, -6.3177, -6.711, -6.7995, -6.8036, -6.8036, -6.8475, -6.8976, -6.8978, -6.8992, -6.9272, -6.9322, -6.9589, -6.9626, -6.2231, -7.0477, -7.0785, -7.0785, -7.0786, -7.1282, -7.1911, -7.1957, -7.1957, -7.1957, -7.196, -7.196, -7.199, -6.3374, -7.2521, -6.1558, -6.8757, -6.4845, -6.4423, -6.7995, -6.8034, -6.1109, -6.7039, -6.9718, -7.0081], \"loglift\": [30.0, 29.0, 28.0, 27.0, 26.0, 25.0, 24.0, 23.0, 22.0, 21.0, 20.0, 19.0, 18.0, 17.0, 16.0, 15.0, 14.0, 13.0, 12.0, 11.0, 10.0, 9.0, 8.0, 7.0, 6.0, 5.0, 4.0, 3.0, 2.0, 1.0, 0.9494, 0.9479, 0.9474, 0.947, 0.9466, 0.9449, 0.9441, 0.9404, 0.9395, 0.9385, 0.9382, 0.937, 0.937, 0.9366, 0.9365, 0.9364, 0.9356, 0.9356, 0.9352, 0.9349, 0.9347, 0.9346, 0.9345, 0.934, 0.9334, 0.9333, 0.9332, 0.933, 0.9329, 0.9325, 0.9323, 0.927, 0.9282, 0.9109, 0.9107, 0.8896, 0.8945, 0.8303, 0.8836, 0.8976, 0.9209, 0.8275, 0.7863, 0.813, 0.8124, 0.8754, 0.7764, 0.8417, 0.84, 0.7012, 0.7364, 0.6225, 0.7163, 0.6993, 0.7378, 0.7791, 0.6992, 0.4338, 0.6214, 0.5433, 0.5822, 0.7629, 0.5164, 0.6283, 0.6659, 0.2826, 0.6666, 0.3107, 0.204, 0.3541, 0.419, 0.5114, 0.4385, 0.3116, 0.0303, 1.0817, 1.0784, 1.0778, 1.0751, 1.0728, 1.0726, 1.0721, 1.0711, 1.0711, 1.0707, 1.0702, 1.07, 1.0695, 1.0692, 1.0688, 1.0684, 1.0681, 1.0678, 1.0678, 1.0678, 1.0662, 1.0662, 1.0657, 1.0654, 1.0652, 1.065, 1.0649, 1.0647, 1.0644, 1.0644, 1.0631, 1.0525, 1.0535, 1.0531, 1.0399, 1.0152, 1.0353, 1.0484, 1.0222, 1.0369, 1.043, 0.9879, 1.0499, 1.0443, 0.9744, 0.9961, 1.0361, 0.9845, 0.9773, 0.8867, 0.9905, 0.8688, 0.8609, 0.9839, 0.972, 0.9604, 0.8854, 0.7551, 0.8734, 0.7574, 0.8055, 0.8834, 0.887, 0.4922, 0.7391, 0.4923, 0.6347, 0.7649, 0.285, 0.7374, 0.3725, 0.5566, 0.1425, 0.5838, 0.5519, 0.2605, 0.1957, 0.5667, 0.3042, 0.3764, -0.2374, 0.1223, 0.3392, 0.3819, 0.3317, -0.2961, 0.0946, 2.7514, 2.7447, 2.7445, 2.7429, 2.7399, 2.7371, 2.7367, 2.736, 2.7308, 2.729, 2.7178, 2.7162, 2.7162, 2.7134, 2.7124, 2.7055, 2.7036, 2.7029, 2.7014, 2.6986, 2.6964, 2.6956, 2.6954, 2.6937, 2.6921, 2.6913, 2.6901, 2.6873, 2.6865, 2.6841, 2.6472, 2.6698, 2.6279, 2.6731, 2.6292, 2.6088, 2.5793, 2.5881, 2.5849, 2.4353, 2.5262, 2.3335, 2.3315, 2.0805, 1.0781, 1.9225, 2.0841, 1.2728, 1.2283, 2.0608, 1.6977, 1.4033, 0.9617, 1.3334, -0.0415, 0.4133, 1.0346, 3.1654, 3.1613, 3.16, 3.1586, 3.155, 3.1462, 3.1363, 3.1327, 3.1298, 3.1274, 3.1257, 3.1212, 3.1151, 3.1133, 3.1113, 3.1088, 3.1086, 3.1023, 3.1005, 3.0975, 3.0975, 3.0968, 3.0965, 3.095, 3.0939, 3.0933, 3.0933, 3.0916, 3.0883, 3.0844, 3.0109, 3.056, 2.9828, 2.9951, 2.9007, 2.5793, 2.5396, 2.3137, 1.9047, 2.699, 1.9624, 2.4539, 2.7118, 1.9713, 2.6255, 2.0875, 1.122, 0.5815, 1.8287, 1.2638, 1.3065, -0.3025, 0.654, 0.4959, 2.4542, 1.035, 0.8167, 0.4856, 0.3008, 3.1828, 3.1759, 3.1712, 3.1631, 3.1505, 3.1479, 3.1476, 3.1428, 3.1372, 3.1352, 3.1329, 3.1297, 3.127, 3.1269, 3.1242, 3.1234, 3.1208, 3.1197, 3.1197, 3.1138, 3.1126, 3.1118, 3.1097, 3.1028, 3.101, 3.097, 3.0967, 3.0966, 3.0959, 3.0959, 3.0404, 3.0562, 3.0539, 2.9562, 2.9879, 2.8063, 2.9063, 2.6666, 2.6309, 2.2576, 2.2466, 2.0478, 2.3695, 2.3618, 1.0371, 1.7783, 1.6922, 0.4643, 1.3683, 0.5417, 2.2443, -0.2486, -0.0625, 1.8567, 0.354, 0.5092, 0.8928, -0.7267, 0.8144, 0.0028, 3.4287, 3.4182, 3.4178, 3.4167, 3.4118, 3.4068, 3.3999, 3.3979, 3.3926, 3.3925, 3.3923, 3.391, 3.3881, 3.3831, 3.3817, 3.3741, 3.3708, 3.3689, 3.3643, 3.3626, 3.36, 3.3577, 3.3577, 3.356, 3.3555, 3.3542, 3.3514, 3.3496, 3.3471, 3.3465, 3.3445, 3.3085, 3.2782, 3.3082, 3.2429, 3.0548, 3.284, 3.1216, 3.1215, 2.9737, 3.0493, 3.1303, 2.1949, 2.5966, 2.7112, 2.6437, 0.376, 1.7441, -0.9139, 1.7362, -0.5047, -0.689, 0.3096, -0.064, 0.0433, 3.6094, 3.592, 3.5879, 3.5875, 3.587, 3.583, 3.5801, 3.5753, 3.5666, 3.5601, 3.5601, 3.558, 3.558, 3.5564, 3.5549, 3.5524, 3.5423, 3.5403, 3.5371, 3.5326, 3.5316, 3.5272, 3.5229, 3.5197, 3.517, 3.5128, 3.5106, 3.5103, 3.5061, 3.5017, 3.4985, 3.4878, 3.415, 3.3309, 3.408, 3.3243, 2.7173, 3.4019, 3.3717, 3.3188, 3.1302, 3.2584, 3.1828, 2.921, 1.5668, 2.0084, 1.3435, 2.1533, 1.5415, 0.3243, 2.1034, 0.79, 0.2494, 3.9483, 3.9443, 3.918, 3.91, 3.8985, 3.8939, 3.893, 3.8924, 3.8829, 3.8823, 3.8782, 3.8652, 3.8637, 3.8612, 3.8558, 3.8528, 3.8508, 3.8472, 3.8441, 3.843, 3.8418, 3.837, 3.8328, 3.8291, 3.8241, 3.8238, 3.8235, 3.8226, 3.8207, 3.8201, 3.6797, 3.5937, 3.5732, 3.6255, 3.287, 3.1749, 3.3015, 3.5646, 2.2742, 3.1308, 3.4017, -0.8735, 1.3922, 1.5381, 0.1516, 4.0112, 3.9807, 3.9768, 3.9713, 3.9713, 3.9695, 3.9684, 3.96, 3.9583, 3.9557, 3.9503, 3.9486, 3.9376, 3.9354, 3.926, 3.9169, 3.9006, 3.897, 3.8967, 3.8956, 3.8947, 3.889, 3.8836, 3.8815, 3.8786, 3.8689, 3.8669, 3.8651, 3.8648, 3.8622, 3.8407, 3.7873, 3.3101, 3.7612, 3.5552, 3.6051, 3.4353, 3.3944, 0.4591, 1.29, 0.4548, 2.2452, -0.8209, -0.4442, 4.1636, 4.1339, 4.1327, 4.1182, 4.115, 4.1076, 4.0865, 4.0833, 4.0639, 4.054, 4.053, 4.0429, 4.0427, 4.0387, 4.0327, 4.0261, 4.0226, 4.0151, 4.0102, 4.0095, 4.0095, 4.0088, 4.0087, 4.0084, 4.0079, 4.0068, 4.0004, 3.9962, 3.9949, 3.9941, 3.3564, 3.8642, 3.6971, 2.1875, 3.7235, 3.666, 3.3926, 3.4662, 2.8189, 1.757, 1.3503, 3.5073, -0.4324, 2.072, 2.0061, 0.342, 1.9266, -0.2293, 2.6497, 4.5478, 4.5147, 4.5107, 4.4975, 4.4761, 4.4414, 4.4382, 4.4318, 4.4247, 4.416, 4.4158, 4.4147, 4.4128, 4.4043, 4.3985, 4.3967, 4.3914, 4.3742, 4.3685, 4.3552, 4.321, 4.3181, 4.3175, 4.3145, 4.3046, 4.3025, 4.3016, 4.2982, 4.2928, 4.2717, 4.2515, 4.2136, 3.7734, 3.9278, 4.0997, 3.5627, 3.1448, 4.1306, 2.6529, 2.0191, 2.6344, 1.6121, 2.1249, 4.9727, 4.872, 4.872, 4.8039, 4.7779, 4.767, 4.742, 4.7402, 4.7392, 4.7392, 4.7392, 4.7392, 4.7308, 4.7286, 4.7163, 4.7115, 4.6644, 4.6626, 4.6497, 4.6251, 4.6235, 4.6235, 4.6234, 4.6234, 4.6234, 4.6234, 4.6234, 4.6234, 4.5815, 4.5758, 4.5151, 4.447, 4.2764, 3.4002, 3.3312, 3.8237, 1.8738, 3.3049, 3.7875, 4.1742, 2.585, 3.0656, 2.2678, 4.0838, 2.8416, 2.0178, 3.0952, 1.5913, 5.0581, 5.0382, 5.027, 4.9611, 4.9607, 4.9446, 4.912, 4.8848, 4.8552, 4.8552, 4.7908, 4.7884, 4.7868, 4.7754, 4.7754, 4.7754, 4.7561, 4.7475, 4.7282, 4.7254, 4.715, 4.6563, 4.6563, 4.6563, 4.6563, 4.6563, 4.6563, 4.6563, 4.6563, 4.6563, 4.4404, 4.4694, 4.3351, 4.3483, 3.8565, 3.3567, 3.2792, 3.7006, 3.6449, 2.7313, 2.6573, 1.8266, 2.3865, 2.7521, 5.4115, 5.2467, 5.0525, 4.8775, 4.8408, 4.8387, 4.8387, 4.8134, 4.7906, 4.7905, 4.7897, 4.775, 4.7724, 4.7581, 4.7561, 4.7182, 4.7092, 4.6918, 4.6918, 4.6918, 4.6632, 4.6262, 4.6235, 4.6235, 4.6235, 4.6234, 4.6234, 4.6215, 4.5921, 4.5895, 4.3771, 4.4491, 3.8676, 2.7188, 3.5217, 3.3097, -0.2839, 0.2338, 2.6365, 2.7073]}, \"token.table\": {\"Topic\": [14, 2, 11, 13, 1, 2, 4, 5, 14, 1, 2, 4, 5, 1, 2, 3, 1, 2, 3, 10, 6, 8, 1, 2, 7, 1, 2, 5, 10, 5, 6, 9, 8, 2, 5, 5, 4, 1, 3, 7, 12, 8, 1, 11, 11, 1, 2, 1, 8, 10, 2, 10, 13, 1, 2, 11, 1, 2, 11, 1, 8, 7, 3, 10, 1, 2, 6, 2, 1, 3, 4, 12, 4, 1, 2, 3, 10, 10, 9, 4, 5, 9, 10, 12, 4, 10, 1, 2, 4, 13, 12, 7, 1, 2, 11, 9, 7, 7, 7, 4, 4, 5, 8, 10, 1, 13, 2, 5, 6, 1, 2, 3, 4, 5, 7, 8, 1, 2, 4, 5, 1, 5, 6, 8, 10, 5, 3, 4, 12, 3, 6, 6, 1, 6, 1, 2, 6, 6, 6, 6, 9, 6, 2, 3, 13, 8, 5, 5, 4, 8, 1, 2, 7, 8, 2, 14, 1, 7, 10, 14, 10, 13, 7, 11, 8, 5, 11, 12, 1, 2, 3, 4, 3, 3, 12, 5, 11, 1, 2, 1, 3, 14, 13, 1, 2, 13, 5, 1, 3, 2, 5, 4, 4, 4, 4, 1, 7, 8, 1, 2, 4, 4, 1, 2, 3, 5, 8, 9, 1, 2, 8, 1, 11, 1, 2, 4, 5, 8, 10, 1, 7, 10, 12, 11, 1, 7, 2, 6, 2, 14, 14, 4, 8, 9, 1, 2, 3, 5, 6, 8, 4, 10, 1, 2, 3, 9, 1, 2, 4, 5, 6, 8, 10, 6, 1, 6, 9, 1, 2, 6, 7, 6, 9, 1, 2, 10, 11, 2, 13, 5, 5, 5, 1, 2, 3, 5, 7, 9, 7, 3, 6, 1, 2, 3, 4, 8, 7, 10, 1, 7, 1, 4, 2, 2, 1, 7, 9, 12, 3, 4, 10, 12, 12, 1, 2, 3, 5, 10, 9, 2, 3, 8, 1, 2, 5, 6, 3, 4, 10, 1, 2, 3, 7, 8, 9, 7, 14, 1, 7, 1, 5, 6, 7, 3, 7, 9, 1, 2, 3, 13, 13, 6, 7, 1, 2, 3, 4, 8, 9, 13, 1, 2, 4, 5, 7, 10, 12, 12, 1, 12, 12, 1, 6, 1, 1, 2, 3, 4, 4, 12, 1, 2, 3, 13, 14, 13, 1, 5, 1, 2, 2, 9, 10, 2, 6, 13, 4, 1, 2, 6, 2, 6, 6, 9, 1, 3, 9, 10, 1, 6, 7, 1, 6, 10, 2, 1, 2, 3, 4, 7, 8, 12, 12, 12, 1, 2, 4, 5, 6, 7, 9, 6, 10, 2, 5, 2, 1, 2, 3, 4, 5, 10, 14, 8, 5, 2, 3, 4, 1, 2, 5, 6, 9, 4, 8, 3, 10, 2, 4, 10, 5, 2, 2, 10, 14, 14, 1, 1, 2, 9, 6, 13, 13, 1, 2, 1, 2, 3, 4, 5, 7, 10, 13, 3, 3, 1, 2, 3, 5, 3, 3, 1, 2, 3, 4, 5, 6, 5, 8, 5, 1, 2, 3, 4, 5, 6, 6, 6, 1, 4, 3, 3, 6, 1, 2, 5, 10, 11, 4, 1, 8, 6, 14, 1, 3, 4, 5, 3, 12, 1, 12, 3, 7, 12, 1, 2, 4, 5, 9, 2, 3, 1, 2, 3, 4, 5, 8, 9, 10, 9, 12, 4, 5, 11, 1, 2, 6, 10, 10, 1, 2, 6, 1, 2, 3, 4, 3, 7, 11, 3, 3, 4, 1, 5, 1, 2, 3, 4, 5, 6, 9, 8, 14, 1, 2, 3, 4, 6, 8, 1, 2, 3, 5, 7, 12, 1, 2, 3, 4, 5, 1, 2, 3, 4, 5, 6, 6, 1, 2, 3, 5, 1, 9, 1, 2, 14, 1, 3, 9, 9, 6, 4, 8, 5, 6, 8, 1, 13, 5, 10, 14, 1, 2, 6, 4, 9, 7, 10, 4, 1, 2, 3, 4, 6, 13, 7, 8, 4, 8, 13, 4, 6, 2, 1, 2, 3, 4, 5, 7, 8, 14, 1, 2, 5, 1, 2, 4, 6, 13, 2, 6, 6, 3, 10, 1, 2, 8, 12, 1, 2, 7, 12, 2, 12, 6, 1, 2, 3, 6, 10, 1, 2, 3, 4, 13, 8, 8, 1, 2, 2, 5, 11, 1, 2, 3, 4, 5, 6, 7, 8, 12, 12, 1, 6, 7, 1, 3, 12, 1, 2, 3, 4, 1, 2, 5, 9, 1, 2, 4, 4, 4, 6, 4, 8, 1, 7, 5, 1, 2, 7, 1, 2, 4, 5, 7, 9, 13, 1, 3, 1, 2, 5, 6, 6, 5, 6, 7, 2, 11, 2, 7, 5, 3, 11, 2, 5, 4, 1, 2, 4, 6, 7, 10, 9, 10, 9, 7, 7, 1, 2, 3, 4, 2, 12, 9, 10, 10, 1, 11, 4, 12, 1, 2, 5, 8, 9, 2, 1, 2, 3, 5, 1, 2, 3, 5, 6, 9, 7, 11, 5, 5, 11, 10, 1, 2, 3, 4, 5, 7, 12, 1, 2, 4, 5, 6, 8, 9, 1, 1, 13, 6, 1, 2, 8, 3, 4, 1, 2, 5, 12, 1, 2, 4, 5, 4, 6, 8, 2, 10, 1, 5, 6, 12, 14, 4, 11, 10, 4, 8, 11, 2, 8, 10, 4, 1, 2, 5, 1, 11, 1, 1, 2, 5, 6, 4, 1, 3, 12, 10, 1, 2, 3, 5, 6, 7, 9, 10, 11, 14, 1, 3, 4, 6, 9, 1, 2, 4, 7, 1, 7, 7, 7, 1, 7, 2, 2, 6, 3, 5, 5, 1, 3, 4, 1, 2, 5, 6, 9, 11, 1, 5, 13, 5, 6, 7, 1, 2, 3, 4, 5, 9, 2, 1, 2, 2, 4, 9, 1, 11, 3, 1, 2, 4, 6, 14, 7, 2, 6, 1, 2, 3, 5, 1, 2, 8, 13, 1, 2, 7, 11, 6, 13, 11, 1, 11, 2, 14, 11, 11, 1, 7, 8, 6, 3, 4, 9, 13, 8, 1, 2, 4, 5, 5, 1, 2, 7, 11, 9, 9, 11, 1, 2, 3, 4, 5, 6, 10, 1, 4, 2, 4, 4, 1, 2, 9, 6, 1, 1, 12, 7, 1, 2, 3, 6, 9, 13, 5, 8, 6, 9, 2, 8, 2, 1, 2, 3, 9, 11, 3, 5, 7, 10, 1, 2, 3, 4, 5, 12, 8, 1, 2, 5, 9, 2, 9, 1, 2, 3, 5, 3, 1, 2, 7, 3, 12, 2, 7, 10, 13, 11, 5, 6, 14, 6, 14, 1, 2, 5, 8, 9, 7, 10, 13, 1, 11, 13, 1, 2, 8, 4, 8, 14, 8, 13, 1, 3, 7, 13, 1, 3, 3, 3, 5, 11, 7, 1, 2, 4, 5, 1, 2, 3, 4, 6, 7, 8, 9, 10, 10, 7, 1, 14, 9, 8, 4, 6, 10, 8, 4, 10, 1, 2, 3, 4, 12, 2, 14, 1, 2, 3, 4, 5, 6, 7, 9, 8, 1, 7, 1, 3, 9, 3, 3, 4, 10, 10, 13, 2, 14, 1, 2, 3, 6, 11, 11, 2, 10, 9, 11, 6, 4, 1, 2, 3, 4, 5, 6, 8, 14, 14, 1, 7, 8, 11, 2, 3, 10, 12, 10, 11, 10, 1, 1, 2, 3, 4, 11, 10, 5, 14, 1, 2, 5, 8, 9, 5, 1, 3, 3, 13, 1, 2, 3, 4, 5, 9, 5, 1, 2, 3, 5, 6, 9, 1, 2, 2, 9, 1, 2, 3, 4, 6, 7, 8, 4, 12, 1, 3, 4, 3, 2, 1, 3, 8, 12, 1, 1, 2, 3, 5, 6, 7, 8, 1, 2, 3, 4, 5, 6, 8, 9, 8, 9, 3, 4, 13, 6, 3, 3, 1, 2, 5, 5, 5, 8, 9, 9, 9, 9, 1, 14, 1, 2, 3, 4, 11, 11, 3, 10, 2, 4, 5, 6, 3, 5, 6, 12, 12, 9, 2, 1, 2, 3, 4, 7, 8, 9, 7, 10, 6, 1, 2, 3, 4, 5, 8, 10, 4, 13, 1, 2, 3, 1, 7, 6, 7, 1, 7, 1, 7, 1, 7, 1, 7, 7, 7, 7, 7, 1, 7, 11, 1, 1, 7, 11, 13, 13, 5, 6, 7, 10, 4, 2, 4, 6, 14, 3, 7, 1, 11, 9, 8, 3, 13, 13, 1, 2, 4, 5, 1, 2, 8, 9, 3, 4, 3, 1, 2, 3, 4, 10, 11, 11, 3, 1, 2, 3, 5, 1, 3, 10, 12, 3, 12, 3, 5, 1, 2, 3, 4, 5, 1, 2, 4, 13, 1, 2, 4, 5, 1, 2, 3, 13, 1, 2, 5, 7, 10, 1, 2, 3, 5, 7, 8, 9, 1, 2, 3, 4, 5, 8, 9, 1, 2, 3, 4, 1, 2, 3, 4, 5, 6, 8, 9, 10, 1, 2, 6, 8, 9, 10, 12, 1, 6, 9], \"Freq\": [0.7869273215368616, 0.9896097042269899, 0.8820071549478277, 0.898133356494606, 0.36981096814334435, 0.5578504434704686, 0.03760789506542485, 0.018803947532712424, 0.006267982510904141, 0.2832966152331607, 0.3364147305893783, 0.3364147305893783, 0.035412076904145086, 0.8066967717409986, 0.18959232884235452, 0.0037174966439677357, 0.37990466254425703, 0.0991055641419801, 0.4955278207099005, 0.9489974575215241, 0.31348114577079295, 0.6269622915415859, 0.736437248931839, 0.06373014654217837, 0.1982715670201105, 0.3473898746198377, 0.3371725253663131, 0.3167378268592638, 0.9004271660921418, 0.08227792804329821, 0.8227792804329821, 0.9378257252333256, 0.7325383805823508, 0.12467370625022356, 0.8727159437515649, 0.9286210297125284, 0.9517155004405417, 0.7854818760794925, 0.11551204059992537, 0.04620481623997015, 0.023102408119985075, 0.8462618355575493, 0.6081276087975, 0.3520738787775, 0.7224146542174293, 0.9627479396175013, 0.019254958792350025, 0.9928459449955314, 0.744704775727017, 0.8381506495509353, 0.3177545140945735, 0.635509028189147, 0.5584367894643218, 0.2902026092707472, 0.7070390844050931, 0.8898044029403924, 0.9623104739213759, 0.012337313768222767, 0.012337313768222767, 0.9799752321526193, 0.8905586958502335, 0.9769411233076088, 0.9782490986717205, 0.025083310222351808, 0.07536972010902933, 0.8950154262947233, 0.028263645040886, 0.9930140424414063, 0.6972119290305472, 0.0410124664135616, 0.0410124664135616, 0.1640498656542464, 0.9734004437044577, 0.6494172752845664, 0.12488793755472431, 0.12488793755472431, 0.09991035004377945, 0.752457551002876, 0.7649648130097061, 0.8329233099045074, 0.06941027582537561, 0.034705137912687804, 0.034705137912687804, 0.6216750483153866, 0.967269638858345, 0.775905507452479, 0.017312864375970224, 0.9522075406783624, 0.017312864375970224, 0.017312864375970224, 0.5465907932782202, 0.9451518030549207, 0.18205538465555693, 0.707993162549388, 0.08091350429135864, 0.7453869892736871, 0.8953391546091742, 0.9749868577088455, 0.8356067406779535, 0.9853661754235796, 0.9671665154191477, 0.4018759059906171, 0.5358345413208228, 0.8847015977730848, 0.31656067583986397, 0.31656067583986397, 0.5527368865776014, 0.4375833685406012, 0.023030703607400064, 0.45256618813977123, 0.4911998871273127, 0.024835949349133787, 0.008278649783044595, 0.01655729956608919, 0.005519099855363064, 0.8594491767099541, 0.04175132897163831, 0.8976535728902237, 0.010437832242909577, 0.04175132897163831, 0.5612050501265049, 0.14030126253162623, 0.05612050501265049, 0.16836151503795146, 0.028060252506325246, 0.9595185875737887, 0.9663610399952809, 0.6129881452566621, 0.24519525810266485, 0.9742202766690512, 0.9526335710114594, 0.9094820993762595, 0.9744079458922645, 0.016240132431537744, 0.8469234558806068, 0.14505318857623653, 0.006238846820483292, 0.9799110953493105, 0.9370407978913068, 0.9418940917067163, 0.9436789768976571, 0.9136412084226854, 0.09457362999028346, 0.8826872132426457, 0.5814137021756051, 0.932688528675765, 0.8393683136331307, 0.8742270211595897, 0.9509941142096355, 0.9072148163123346, 0.07961151166682785, 0.80303785681322, 0.10384110217412329, 0.010384110217412328, 0.7621708140701807, 0.19054270351754518, 0.18781517841379122, 0.7512607136551649, 0.06260505947126374, 0.7249410867468931, 0.4268730852491708, 0.4268730852491708, 0.9580369881372204, 0.6982433084110004, 0.9538247003031878, 0.9328734518785424, 0.8649257640002685, 0.6216470072926056, 0.015647907973392817, 0.03911976993348204, 0.8762828465099977, 0.06259163189357127, 0.9812741994925489, 0.9669997862989734, 0.657602418673413, 0.9518313561258259, 0.7074735889699777, 0.08489388750966939, 0.9149674542708812, 0.9503372945310101, 0.04635791680639074, 0.6872796025308763, 0.6375695147996662, 0.6398163749973451, 0.31990818749867256, 0.030467446428445004, 0.9431640183118637, 0.11709693815779204, 0.8665173423676611, 0.9814571878996288, 0.01464861474477058, 0.9707027087081671, 0.9748568713195993, 0.9676883007430184, 0.9486714595049819, 0.9753468157652806, 0.4517455154121681, 0.4517455154121681, 0.5119340615560903, 0.22137689148371476, 0.26288505863691125, 0.9561409757344614, 0.5273693145578358, 0.4374768177582047, 0.027966554559885233, 0.0019976110399918022, 0.0039952220799836045, 0.0019976110399918022, 0.8403378558691206, 0.15330487911125848, 0.7942693525872223, 0.9976684276426354, 0.9706025883362853, 0.3679713399745309, 0.3066427833121091, 0.29788156093176316, 0.01752244476069195, 0.008761222380345974, 0.008761222380345974, 0.8683682158664665, 0.12875804580088984, 0.843441392020794, 0.6216470072926056, 0.8246071365570786, 0.10237324811748624, 0.8934392562980618, 0.9787925226076896, 0.014608843621010292, 0.9882726108286795, 0.7764269444251732, 0.7869272598723166, 0.26480456194683527, 0.13240228097341764, 0.5296091238936705, 0.7879896068963924, 0.17549113516033193, 0.03441002650202587, 0.7484578822637524, 0.09979438430183366, 0.09979438430183366, 0.7351639903208513, 0.2262043047141081, 0.8051837212667259, 0.11377596061377648, 0.07001597576232399, 0.008751996970290499, 0.4976615798157786, 0.4567908220531301, 0.009616648885329053, 0.004808324442664527, 0.014424973327993581, 0.004808324442664527, 0.012020811106661318, 0.931227223915365, 0.8038380676301596, 0.17380282543354802, 0.8307488231459395, 0.9576755964201047, 0.021001657816230365, 0.01680132625298429, 0.8689444689032584, 0.8744542912298237, 0.1457423818716373, 0.7526141444802045, 0.14757140087847145, 0.08854284052708288, 0.8418845377208422, 0.8133148060848701, 0.1435261422502712, 0.9320803041145129, 0.9408834254729117, 0.8951751185151364, 0.7219979451927823, 0.24966284086105556, 0.003373822173798048, 0.003373822173798048, 0.01686911086899024, 0.003373822173798048, 0.8368942953558153, 0.0719358535880474, 0.8632302430565688, 0.7771922913391356, 0.15696987164977616, 0.04211386800359848, 0.019142667274362944, 0.9423851440718239, 0.3445294094995252, 0.6890588189990504, 0.980085611837517, 0.021540343117308066, 0.5018387142219295, 0.465993091777506, 0.9746697773762889, 0.9867784323610224, 0.17760443215841373, 0.7992199447128617, 0.8131658007430864, 0.5342728238011831, 0.45340042513517803, 0.15113347504505933, 0.22670021256758902, 0.15113347504505933, 0.6216750089780329, 0.8271959618355946, 0.1342850587395446, 0.0322284140974907, 0.005371402349581784, 0.9249427667716318, 0.7176913702238771, 0.09863785485754699, 0.8285579808033947, 0.039455141943018794, 0.475709822926588, 0.237854911463294, 0.25947808523268434, 0.021623173769390363, 0.3474182222957472, 0.5645546112305891, 0.0434272777869684, 0.8848208377951652, 0.03393118257031607, 0.03393118257031607, 0.036541273537263455, 0.005220181933894779, 0.0026100909669473896, 0.9071888627007907, 0.10079876252231008, 0.1787116829034519, 0.8042025730655337, 0.0777812053659906, 0.1555624107319812, 0.6222496429279248, 0.0777812053659906, 0.9654944215515252, 0.8988164502842388, 0.7167064099179122, 0.9717892225725879, 0.05497660378469761, 0.7696724529857666, 0.16492981135409282, 0.6375690877928689, 0.8621576376179897, 0.923707498247231, 0.5503515933752287, 0.4096059399874653, 0.02887090325902839, 0.0036088629073785486, 0.005413294361067823, 0.0036088629073785486, 0.6375690877928689, 0.6739230951410631, 0.18557302619826374, 0.0683690096519919, 0.01953400275771197, 0.009767001378855986, 0.009767001378855986, 0.03418450482599595, 0.621675002526474, 0.3070215345210706, 0.3070215345210706, 0.5908508713908718, 0.5418954750324102, 0.4214742583585413, 0.9983331119268359, 0.8708775686886384, 0.07985123838978919, 0.019962809597447298, 0.027448863196490033, 0.3386537180592639, 0.3386537180592639, 0.5113734760905588, 0.3196084225565992, 0.06392168451131985, 0.06392168451131985, 0.5274301910096537, 0.6375695323832941, 0.017809311974940234, 0.9617028466467727, 0.9870390295999474, 0.9751825898374762, 0.4814010116586137, 0.4814010116586137, 0.8144617234169866, 0.7091457712424059, 0.2745080404809313, 0.5009065343019652, 0.9311019420603746, 0.07968770983562186, 0.8925023501589648, 0.02390631295068656, 0.07919404834355813, 0.8711345317791394, 0.8194509264801279, 0.18210020588447284, 0.38822808779845924, 0.043136454199828804, 0.47450099619811686, 0.043136454199828804, 0.49116879581579725, 0.4018653783947432, 0.044651708710527024, 0.9882774149218183, 0.9329917286988241, 0.05183287381660134, 0.9897089340755584, 0.6475042659654222, 0.2850647711797456, 0.034615007928969106, 0.020361769369981828, 0.0061085308109945485, 0.0061085308109945485, 0.8974511848493079, 0.5269791417673284, 0.621675003734473, 0.6439718444387881, 0.30810721867545465, 0.01110296283515152, 0.00555148141757576, 0.00555148141757576, 0.02220592567030304, 0.00277574070878788, 0.9451633560023205, 0.8366314994296411, 0.31158760573272937, 0.6676877265701344, 0.9744215130766596, 0.07612930934542789, 0.22838792803628366, 0.4060229831756154, 0.10150574579390385, 0.07612930934542789, 0.10150574579390385, 0.6923711039735287, 0.9017418404309875, 0.9250632099702081, 0.12433159862853474, 0.6571813070365408, 0.21313988336320241, 0.02484183518698797, 0.9564106546990369, 0.012420917593493985, 0.012420917593493985, 0.8266421218891301, 0.9501255839805179, 0.7817667937913387, 0.9420078731410366, 0.06280052487606912, 0.3351007210118032, 0.6223299104504917, 0.8675005598060619, 0.9221852147573008, 0.991256999728386, 0.9813376645160573, 0.7157727125890053, 0.7460012459528657, 0.7368011807009337, 0.9856225530865572, 0.08431691282400183, 0.9064068128580197, 0.8626371784241162, 0.35061695814752664, 0.35061695814752664, 0.6375695323832941, 0.922698648393853, 0.06590704631384664, 0.44174361869559314, 0.4944891254055147, 0.013186376677480391, 0.0032965941693700977, 0.02966934752433088, 0.013186376677480391, 0.0032965941693700977, 0.5311173872469915, 0.9359253295051346, 0.9748547094400362, 0.43250827063227054, 0.10058331875169083, 0.34198328375574877, 0.1106416506268599, 0.930153479560979, 0.9831068827103968, 0.2393479454810472, 0.7180438364431416, 0.01940659017413896, 0.016172158478449137, 0.003234431695689827, 0.003234431695689827, 0.9646276536280686, 0.8364745865657834, 0.9500253554040412, 0.19547487234061717, 0.7175985445135815, 0.010288151175821957, 0.007716113381866467, 0.06430094484888722, 0.005144075587910978, 0.9464805847698257, 0.9680288188471762, 0.9854752405878281, 0.9772186430971145, 0.978142292562396, 0.9542771889528366, 0.917395743574062, 0.3763646061481343, 0.11580449419942593, 0.43426685324784725, 0.057902247099712964, 0.9391608100062235, 0.9747794439532632, 0.9717102941631814, 0.8216659814345346, 0.900596159066687, 0.7253587554805238, 0.1484701959349718, 0.6557433653794587, 0.09898013062331452, 0.0866076142954002, 0.2928975763309928, 0.5857951526619856, 0.31813708121650375, 0.6362741624330075, 0.33462642237896484, 0.33462642237896484, 0.16731321118948242, 0.36046769742478457, 0.5943882244770383, 0.0038347627385615377, 0.038347627385615375, 0.0038347627385615377, 0.9621035031051003, 0.03772954914137648, 0.7777121218174109, 0.05496198740759088, 0.09618347796328404, 0.002748099370379544, 0.030229093074174984, 0.005496198740759088, 0.02748099370379544, 0.002748099370379544, 0.8115902606831183, 0.526978641049868, 0.13573421442441758, 0.8144052865465053, 0.06786710721220879, 0.2049532543415933, 0.7319759083628332, 0.00975967877817111, 0.05855807266902666, 0.769732362303087, 0.06595312051655132, 0.8933649960878315, 0.03597442937266436, 0.7760679207137515, 0.1923865853870224, 0.006521579165661777, 0.02282552707981622, 0.9378188871257231, 0.23866819494195018, 0.7160045848258505, 0.9895099663870832, 0.4305239024828873, 0.5381548781036092, 0.399646035185181, 0.5449718661616104, 0.26028630258059715, 0.4446557669085201, 0.04338105043009952, 0.08676210086019905, 0.1626789391128732, 0.01084526260752488, 0.7215228837961345, 0.33944124816587257, 0.33944124816587257, 0.7188509834701778, 0.0326750447031899, 0.0326750447031899, 0.15520646234015203, 0.04901256705478486, 0.008168761175797476, 0.751921208935755, 0.15198407414658877, 0.043995389884538855, 0.03999580898594441, 0.011998742695783323, 0.8078554632705222, 0.6754173821489092, 0.07564674680067783, 0.178310188887312, 0.027016695285956367, 0.04322671245753019, 0.7608629645177392, 0.14227518848705692, 0.006185877760306822, 0.09278816640460233, 0.8247832015176804, 0.09164257794640893, 0.8972234173288964, 0.08780580405769739, 0.48920376546431404, 0.18815529440935155, 0.2132426669972651, 0.9958042960759852, 0.8725144514343608, 0.45284408382603514, 0.45284408382603514, 0.09056881676520703, 0.9759356927706998, 0.12674073440608172, 0.7604444064364903, 0.8581265439444227, 0.9254429019419531, 0.09508655294994707, 0.8557789765495237, 0.1771173278503149, 0.08855866392515745, 0.7084693114012596, 0.9902642690969126, 0.5422638785624023, 0.9754472121177997, 0.3434510372649548, 0.3434510372649548, 0.03553909768636333, 0.9506708631102191, 0.8297930615081087, 0.932449608105509, 0.9242021122968, 0.89417849484944, 0.927305639625201, 0.9343555527111925, 0.025476138294315474, 0.9001568863991467, 0.04246023049052579, 0.008492046098105157, 0.008492046098105157, 0.6375690877928689, 0.9086565847525291, 0.7469171467593416, 0.25543920341922993, 0.6385980085480748, 0.7949777609726572, 0.8491548034399434, 0.1415258005733239, 0.9875860371907632, 0.5153679127287817, 0.3383331335471392, 0.055077486856511024, 0.01967053102018251, 0.059011593060547526, 0.003934106204036502, 0.011802318612109505, 0.7053613030669692, 0.010886822041268868, 0.9689271616729292, 0.021773644082537735, 0.5986088061423879, 0.33383952650248555, 0.028779269526076342, 0.04029097733650688, 0.542263798004709, 0.9514192814815958, 0.033979260052914136, 0.8724565493978866, 0.9291614794381221, 0.8792916887980878, 0.7049981601537728, 0.07049981601537728, 0.07049981601537728, 0.07049981601537728, 0.3751879886011571, 0.5393327336141633, 0.02344924928757232, 0.04689849857514464, 0.973489522663407, 0.49282555016200913, 0.8953261278287092, 0.7232301946125584, 0.006759160697313631, 0.25684810649791795, 0.006759160697313631, 0.006759160697313631, 0.3842991277591678, 0.5835653421528103, 0.021349951542175987, 0.0035583252570293316, 0.5290396322140253, 0.8558719809632698, 0.7347760955385415, 0.020247507526849062, 0.971880361288755, 0.2339785076583169, 0.2339785076583169, 0.5459498512027394, 0.5190653579480774, 0.36971164646301735, 0.0538652729946118, 0.014690528998530492, 0.02448421499755082, 0.002448421499755082, 0.007345264499265246, 0.007345264499265246, 0.5269792441869875, 0.8078554828330659, 0.10249004646326051, 0.8199203717060841, 0.9473918907698484, 0.5891625183021867, 0.2104151851079238, 0.16833214808633906, 0.1077863852309862, 0.29641255938521205, 0.1077863852309862, 0.4850387335394379, 0.3037305127194544, 0.28926715497090894, 0.3905106592107271, 0.014463357748545447, 0.8982129886223602, 0.06957987940032367, 0.03162721790923803, 0.9005880704497077, 0.8276127055190465, 0.11823038650272094, 0.8668699128213387, 0.8846085899815272, 0.1451703795962647, 0.7984370877794558, 0.9698640409024885, 0.9367539609770961, 0.037222011694454146, 0.018611005847227073, 0.2172276246577684, 0.72228185198708, 0.01629207184933263, 0.01086138123288842, 0.02715345308222105, 0.7718379073886714, 0.7380146582494398, 0.06434192998287074, 0.9007870197601904, 0.13648496522060505, 0.8189097913236303, 0.019497852174372148, 0.029246778261558224, 0.8577690252190148, 0.09943981565219363, 0.6960787095653554, 0.09943981565219363, 0.9830579968935094, 0.8076365008624182, 0.989383644314205, 0.9812469798753688, 0.9024449918291872, 0.9565754051597855, 0.9512670229530854, 0.9592921476755039, 0.03197640492251679, 0.9550917523180728, 0.6681503792936686, 0.2096158052686019, 0.01310098782928762, 0.04366995943095873, 0.05677094726024635, 0.008733991886191747, 0.8406814931098899, 0.8620422029479137, 0.8870901414876787, 0.9659681688177064, 0.9897178305732532, 0.4463013743612898, 0.2702375294297718, 0.2251979411914765, 0.05732311230328493, 0.9797950667018779, 0.4691284300917746, 0.18738979055607663, 0.7495591622243065, 0.9449139018369489, 0.758406666306358, 0.22120194433935442, 0.9587782813572099, 0.5261285202878716, 0.4755535535099069, 0.47244536034971146, 0.04040651108254111, 0.00621638632039094, 0.00621638632039094, 0.9961320325441293, 0.1228786678706763, 0.5870869687154534, 0.0409595559568921, 0.2457573357413526, 0.6643240866366646, 0.2712834694625608, 0.021360903107288255, 0.038449625593118854, 0.0021360903107288253, 0.0021360903107288253, 0.35118659482189546, 0.7023731896437909, 0.9499726260413983, 0.9698905457083166, 0.7000972061816146, 0.9055707930482684, 0.5654868216103266, 0.22189989202430535, 0.03579030516521054, 0.15031928169388428, 0.007158061033042108, 0.021474183099126326, 0.5893973431433054, 0.8383842984644877, 0.10802710848562026, 0.01409049241116786, 0.0023484154018613103, 0.018787323214890482, 0.0046968308037226205, 0.01174207700930655, 0.9825699254964299, 0.9777255624507912, 0.4717471585169438, 0.9417124246943659, 0.30740455548118156, 0.5967264900517054, 0.0904131045532887, 0.8387312218224876, 0.12903557258807502, 0.4558004253236466, 0.44878811108789823, 0.09116008506472932, 0.60107207339508, 0.20260664268438747, 0.7531681717180491, 0.026426953393615754, 0.01761796892907717, 0.17158324392138344, 0.08579162196069172, 0.6863329756855338, 0.9633712946759054, 0.8397012872900345, 0.9797039107925954, 0.9562454817306395, 0.8573778055745405, 0.6216749997401673, 0.6923711562155919, 0.9189101106700992, 0.9566413433513373, 0.8519689029922799, 0.961725275228143, 0.2531580335177816, 0.6750880893807509, 0.9808428036816507, 0.7745796820051801, 0.730994162809361, 0.8719580896572017, 0.03791756717777821, 0.3791756717777821, 0.5687635076666732, 0.8487750070034027, 0.1515669655363219, 0.9959420409121759, 0.03971015424090954, 0.9371596400854652, 0.007942030848181908, 0.015884061696363815, 0.8995370859736845, 0.7580327115374671, 0.05831020857980516, 0.11662041715961032, 0.8875259384321676, 0.5265118290229216, 0.4473828836206328, 0.007608552442527769, 0.0030434209770111072, 0.004565131465516661, 0.0060868419540222145, 0.0015217104885055536, 0.7164955486666412, 0.7499062962269519, 0.7472829691775964, 0.981453844583466, 0.009685399782073677, 0.006456933188049119, 0.0032284665940245593, 0.9604642525575694, 0.3236930509996638, 0.636351111624339, 0.011034990374988536, 0.029426640999969434, 0.2355762939708425, 0.7302865113096118, 0.9923511641318412, 0.9654710046763493, 0.9794212420286996, 0.9674997914650285, 0.985190189593693, 0.9887353320959649, 0.8986875150562734, 0.21097446403619477, 0.7911542401357304, 0.8852165712898646, 0.16988341543554564, 0.7927892720325463, 0.028313902572590942, 0.38352874430161293, 0.3158472011895636, 0.06768154311204934, 0.1804841149654649, 0.022560514370683113, 0.022560514370683113, 0.5632549238319379, 0.14081373095798447, 0.28162746191596894, 0.18286102137299973, 0.640013574805499, 0.09143051068649986, 0.47517457355506487, 0.32862540601004486, 0.048849722515006674, 0.1287856320850176, 0.01332265159500182, 0.004440883865000606, 0.9946529988871053, 0.043080068257029154, 0.9477615016546415, 0.12733745688594347, 0.25467491377188695, 0.5093498275437739, 0.9838530758441545, 0.6938324970271822, 0.9162717956147237, 0.046381372391900544, 0.9044367616420605, 0.03478602929392541, 0.011595343097975136, 0.9436548466452073, 0.9664150028459795, 0.33718101911362175, 0.6406439363158813, 0.8933188084684656, 0.03941112390302054, 0.006568520650503423, 0.05911668585453081, 0.9733796561478479, 0.2900861580007895, 0.48347693000131586, 0.19339077200052635, 0.7188180590628256, 0.24591144125833506, 0.03513020589404787, 0.6724055133853171, 0.8404335290444188, 0.8360054330286185, 0.8990530789175056, 0.5488926298775474, 0.44265534667544143, 0.9853706370636579, 0.7248958039402126, 0.762982756965235, 0.7249674411655299, 0.7449617684976962, 0.1638915890694932, 0.07449617684976963, 0.8458357439637479, 0.15054532020906516, 0.15054532020906516, 0.6021812808362607, 0.5324838160481944, 0.8793487889646519, 0.10434769760188929, 0.4521733562748536, 0.06956513173459286, 0.3826082245402608, 0.9628878741304501, 0.6715548387254064, 0.10890078465817402, 0.21780156931634803, 0.6585026217665236, 0.7828542984655755, 0.22504502019536823, 0.6751350605861047, 0.42482420733188814, 0.22630822259736097, 0.2183675832079799, 0.07940639389381086, 0.01191095908407163, 0.027792237862833802, 0.01191095908407163, 0.35659840883405586, 0.6240472154595977, 0.9619232790177293, 0.9939558564991617, 0.8719580975585526, 0.025165017162459023, 0.9688531607546724, 0.9321198069876308, 0.9595356262068819, 0.9959544277392379, 0.984773416728329, 0.5245519244864655, 0.9237074958370046, 0.5875064571541393, 0.3800227641071385, 0.02620846649014748, 0.0021840388741789568, 0.0021840388741789568, 0.5422635511312976, 0.9093134440425817, 0.8639338489820022, 0.7541847350910806, 0.2154813528831659, 0.5406413477508407, 0.40548101081313054, 0.9713269351119445, 0.7521272549428718, 0.07442925960372168, 0.1645278370187532, 0.003917329452827457, 0.003917329452827457, 0.329414599770915, 0.10980486659030499, 0.10980486659030499, 0.43921946636121995, 0.8819272269110506, 0.043171262855785694, 0.037003939590673454, 0.033920277958117334, 0.003083661632556121, 0.5506085830396437, 0.7380868501254318, 0.2319826238097229, 0.704870280037235, 0.05353445164839759, 0.008922408608066265, 0.9695829459696723, 0.03343389468860939, 0.48749410647317915, 0.2469125993825193, 0.24058150709065984, 0.01899327687557841, 0.9620155743863033, 0.7360791785434313, 0.13432101798237797, 0.12357533654378774, 0.5658937737984414, 0.2829468868992207, 0.7978319009592789, 0.08398230536413462, 0.04199115268206731, 0.08398230536413462, 0.7171417934883777, 0.3695143465786671, 0.3695143465786671, 0.18475717328933355, 0.504013245856295, 0.504013245856295, 0.2930668915940389, 0.5934604554779288, 0.09524673976806265, 0.007326672289850973, 0.007326672289850973, 0.937522960981863, 0.0721171508447587, 0.6375695265220848, 0.8466538057678114, 0.1472441401335324, 0.5919433067417004, 0.060168755782467824, 0.9298807711835936, 0.010939773778630512, 0.2714652885051711, 0.633419006512066, 0.6560562623056835, 0.8784913791946316, 0.47175627716087465, 0.5042506748981975, 0.4350397979513861, 0.04943634067629388, 0.7389623619044148, 0.03125037927979492, 0.9687617576736424, 0.9896592886553345, 0.9496421477462508, 0.03517193139800929, 0.8836539048055102, 0.9300529615860543, 0.0902985773529413, 0.42139336098039276, 0.10534834024509819, 0.37624407230392215, 0.3397326423730325, 0.4723112345186062, 0.08700470109553272, 0.037287729040942595, 0.008286162009098354, 0.020715405022745888, 0.004143081004549177, 0.004143081004549177, 0.020715405022745888, 0.8343494533870268, 0.8834106974031338, 0.980682432498141, 0.8037571072305207, 0.8662901485241028, 0.9061873350572319, 0.13592979441302314, 0.8155787664781389, 0.8369335048013071, 0.8856063085077205, 0.8981600252799745, 0.09979555836444161, 0.3747147554015641, 0.08993154129637539, 0.10492013151243795, 0.4196805260497518, 0.5361389135534487, 0.8686746253669095, 0.0579116416911273, 0.6905019492880217, 0.2293272897270437, 0.04284136181714003, 0.020160640855124718, 0.0025200801068905898, 0.0025200801068905898, 0.010080320427562359, 0.0025200801068905898, 0.7335895570891989, 0.24934949446438295, 0.7480484833931489, 0.15030134537444956, 0.8266573995594725, 0.8241237224654305, 0.9598530040799327, 0.13468728103918876, 0.2693745620783775, 0.40406184311756627, 0.8921771763053803, 0.5655861561877558, 0.9922847495998748, 0.6909688066047447, 0.17776350396257584, 0.8085372277007481, 0.00573430657943793, 0.00573430657943793, 0.7765138083556905, 0.9475563029231832, 0.7000970325708198, 0.2333656775236066, 0.7006940435924766, 0.17517351089811914, 0.872796005399089, 0.9198326485855863, 0.3777518409358387, 0.4892195972775616, 0.024770612520382866, 0.07431183756114859, 0.014449523970223338, 0.014449523970223338, 0.0020642177100319054, 0.0020642177100319054, 0.7350836064308409, 0.2686348746674505, 0.2686348746674505, 0.44772479111241753, 0.08954495822248351, 0.11916555322828336, 0.3872880479919209, 0.41707943629899175, 0.02979138830707084, 0.8317228180934052, 0.9206608698254516, 0.8657118493450925, 0.9726788692484527, 0.5591517656948973, 0.21912704331286517, 0.09067325930187524, 0.11334157412734405, 0.007556104941822937, 0.8343494533870268, 0.7502477509319624, 0.1500495501863925, 0.26638892913252205, 0.6050834247438714, 0.11416668391393801, 0.007611112260929201, 0.007611112260929201, 0.9472082665700317, 0.2645152046368962, 0.7274168127514645, 0.958779569459571, 0.8612667775854357, 0.6196953221689588, 0.21290146037706562, 0.019009058962238, 0.06843261226405681, 0.06843261226405681, 0.0076036235848952, 0.9531289051879465, 0.38061691914344065, 0.5516807030281331, 0.047042540568290415, 0.012829783791351931, 0.002138297298558655, 0.0064148918956759655, 0.11318869296559099, 0.8793890761172838, 0.9928698211309689, 0.8314987684473311, 0.09668505640256654, 0.8181043234063322, 0.014874624061933314, 0.014874624061933314, 0.014874624061933314, 0.026030592108383297, 0.011155968046449985, 0.832920120335977, 0.10411501504199712, 0.025031190220167667, 0.9261540381462037, 0.025031190220167667, 0.9299023164653218, 0.9834808405289108, 0.9948261973565034, 0.004491314660751708, 0.9527539306473013, 0.6533859066307598, 0.9845031175951469, 0.3436594704733358, 0.5872239495466709, 0.05338399541333371, 0.003336499713333357, 0.003336499713333357, 0.003336499713333357, 0.003336499713333357, 0.5121585807913829, 0.3886228427110493, 0.0604810384351633, 0.002573661210006949, 0.01930245907505212, 0.005147322420013898, 0.0038604918150104235, 0.007720983630020847, 0.2005162310479089, 0.8020649241916356, 0.02500960524462279, 0.950364999295666, 0.8881223933441339, 0.9397350469028394, 0.9150015873781278, 0.905664274343048, 0.013477355998233657, 0.1347735599823366, 0.8490734278887204, 0.9636828005864938, 0.8851102843919942, 0.9344405974210465, 0.9679051130596906, 0.9574171813865079, 0.8725400849837313, 0.7509295246988354, 0.9891477324330423, 0.7869479850747342, 0.35979136584138494, 0.05139876654876928, 0.5139876654876928, 0.06853168873169237, 0.8849521605901997, 0.8094527123288868, 0.2737617168431461, 0.5475234336862922, 0.6984441698802594, 0.2768607520246073, 0.006292289818741075, 0.01258457963748215, 0.21679446103396746, 0.27099307629245933, 0.4877875373264268, 0.6216744887617096, 0.5269792521954503, 0.8957315252030822, 0.9839785943281122, 0.7118443601093071, 0.08898054501366338, 0.09706968546945097, 0.016178280911575162, 0.016178280911575162, 0.008089140455787581, 0.06471312364630065, 0.4425171634235479, 0.4425171634235479, 0.9438021355887106, 0.7181583059408951, 0.2511943850376225, 0.016102204169078364, 0.0016102204169078365, 0.008051102084539182, 0.0016102204169078365, 0.0016102204169078365, 0.3340317132967488, 0.3340317132967488, 0.9331499811541707, 0.03488411144501573, 0.026163083583761793, 0.59500474445655, 0.40393864850540656, 0.259204487050473, 0.6739316663312297, 0.1497125355694129, 0.8234189456317711, 0.4834337189566357, 0.4834337189566357, 0.3109058867146615, 0.621811773429323, 0.37844977678411706, 0.6192814529194643, 0.8862752146923975, 0.899653080168864, 0.8948096447300672, 0.9355848471147689, 0.9676910334944188, 0.8708459851034188, 0.664797122349106, 0.983963343276812, 0.6873663265431281, 0.23321357507713275, 0.07364639212962086, 0.7715297662256939, 0.6375695411751084, 0.09943959790680007, 0.6960771853476004, 0.09943959790680007, 0.8802236377544324, 0.9781826271521009, 0.9805000067151027, 0.22830034060342, 0.45660068120684, 0.22830034060342, 0.08190447879101886, 0.9009492667012076, 0.9411899138232164, 0.0486822369218905, 0.7249920642774572, 0.9524850009696972, 0.7394707946848722, 0.21127736990996349, 0.6375690852330089, 0.036736532904243016, 0.5877845264678883, 0.29389226323394413, 0.07347306580848603, 0.19038545772073134, 0.7970374246952651, 0.006453744329516316, 0.003226872164758158, 0.8957596421219679, 0.09771923368603286, 0.9800718075469701, 0.1956986879428042, 0.139784777102003, 0.5125441827073444, 0.018637970280267067, 0.13046579196186947, 0.009318985140133533, 0.6659240149031707, 0.9796684522302311, 0.5058221485559413, 0.46812111884990837, 0.018850514853016444, 0.0031417524755027407, 0.2950880514978326, 0.4828713569964534, 0.10730474599921187, 0.08047855949940891, 0.5799909549532719, 0.3479945729719632, 0.9511402281881399, 0.944234211990803, 0.5985774444033906, 0.3247343220649973, 0.058161371116118916, 0.004846780926343244, 0.014540342779029729, 0.28610019086655836, 0.3678431025427179, 0.28610019086655836, 0.040871455838079766, 0.3472010365947464, 0.09920029616992752, 0.5208015548921195, 0.940697234994141, 0.08020180480124901, 0.721816243211241, 0.12030270720187351, 0.08020180480124901, 0.09639012983579262, 0.8161030992763776, 0.019278025967158524, 0.05140806924575607, 0.012852017311439017, 0.39698618127078283, 0.5518272644220426, 0.009883473392633598, 0.031297665743339725, 0.001647245565438933, 0.001647245565438933, 0.006588982261755732, 0.6064072214056742, 0.22919328053127844, 0.06684804015495621, 0.009549720022136601, 0.06684804015495621, 0.009549720022136601, 0.009549720022136601, 0.15032301704523168, 0.8199437293376274, 0.006832864411146895, 0.020498593233440686, 0.4725080064718319, 0.26623547572778344, 0.18588512944957852, 0.031180731391542205, 0.009594071197397601, 0.011992588996747001, 0.007195553398048201, 0.0047970355986988004, 0.009594071197397601, 0.3688799939822367, 0.544322917949398, 0.03148975558384948, 0.022492682559892483, 0.026991219071870978, 0.004498536511978496, 0.6204180101074851, 0.5987399504548163, 0.1871062345171301, 0.14968498761370408], \"Term\": [\"account show\", \"accus\", \"ace\", \"activ volcano\", \"ad\", \"ad\", \"ad\", \"ad\", \"ad\", \"add\", \"add\", \"add\", \"add\", \"addit\", \"addit\", \"addit\", \"adjust\", \"adjust\", \"adjust\", \"admiss\", \"advoc\", \"advoc\", \"age\", \"age\", \"age\", \"agreement\", \"agreement\", \"agreement\", \"almost half\", \"alongsid\", \"alongsid\", \"alreadi show\", \"amaz\", \"ambit\", \"ambit\", \"amish\", \"amoc\", \"analysi\", \"analysi\", \"analysi\", \"analysi\", \"anthropogen\", \"antibodi\", \"antibodi\", \"antigen\", \"app\", \"app\", \"appli\", \"area requir\", \"area see\", \"area show\", \"area show\", \"ash\", \"ask\", \"ask\", \"assay\", \"assess\", \"assess\", \"assess\", \"assum\", \"asteroid\", \"astrazeneca\", \"atmospher\", \"atmospher\", \"attack\", \"attack\", \"attack\", \"attorney\", \"attribut\", \"attribut\", \"attribut\", \"attribut\", \"audit\", \"averag\", \"averag\", \"averag\", \"averag\", \"babi bear\", \"backlash\", \"ballot\", \"ballot\", \"ballot\", \"ballot\", \"bam report\", \"barrier reef\", \"basement\", \"belief\", \"belief\", \"belief\", \"belief\", \"benefit cap\", \"benefit vaccin\", \"bill\", \"bill\", \"bill\", \"billionair\", \"biontech covid\", \"biontech pfizer\", \"biontech vaccin\", \"bleach\", \"bleach event\", \"bone\", \"bone\", \"boulder\", \"brave\", \"brave\", \"busi\", \"busi\", \"busi\", \"call\", \"call\", \"call\", \"call\", \"call\", \"call\", \"camel\", \"campaign\", \"campaign\", \"campaign\", \"campaign\", \"candid\", \"candid\", \"candid\", \"candid\", \"candid\", \"cape\", \"carbon\", \"carbon brief\", \"carbon brief\", \"carbon dioxid\", \"care facil\", \"care home\", \"carri\", \"carri\", \"case\", \"case\", \"case\", \"case covid\", \"case occur\", \"case report\", \"cast iron\", \"catal\", \"caus death\", \"caus death\", \"caus distress\", \"cave\", \"centimet\", \"ceremoni\", \"certifi\", \"chemic\", \"child\", \"child\", \"child\", \"child\", \"child adult\", \"child adult\", \"child age\", \"child age\", \"child age\", \"child molest\", \"child want\", \"child want\", \"child year\", \"chimer\", \"cinema\", \"citizenship\", \"clamp\", \"class action\", \"climat\", \"climat\", \"climat\", \"climat\", \"climat model\", \"climat system\", \"climat yet\", \"come back\", \"commenc\", \"comment\", \"comment\", \"compar\", \"compar\", \"compar previou\", \"consent know\", \"consid\", \"consid\", \"consid\", \"conte\", \"cool\", \"cool\", \"cooper\", \"cooper\", \"coral\", \"coral bleach\", \"coral cover\", \"coral reef\", \"coronaviru\", \"coronavirus\", \"coronavirus\", \"count\", \"count\", \"count\", \"counterfeit\", \"countri\", \"countri\", \"countri\", \"countri\", \"countri\", \"countri\", \"cour\", \"cour\", \"cour pandem\", \"cov\", \"cov infect\", \"cover\", \"cover\", \"cover\", \"cover\", \"cover\", \"cover\", \"covid\", \"covid\", \"covid booster\", \"covid lawsuit\", \"covid past\", \"covid vaccin\", \"covid vaccin\", \"crime\", \"crime\", \"crimin\", \"crimin justic\", \"crown estat\", \"cure\", \"cure\", \"cure\", \"current\", \"current\", \"current\", \"custom\", \"custom\", \"custom\", \"cyclon\", \"cyclon\", \"datum\", \"datum\", \"datum\", \"datum\", \"day\", \"day\", \"day\", \"day\", \"day\", \"day\", \"day\", \"day trump\", \"dead\", \"dead\", \"dealer\", \"death\", \"death\", \"death\", \"death covid\", \"death occur\", \"death occur\", \"decemb\", \"decemb\", \"decemb\", \"deduct\", \"defend\", \"defend\", \"delawar\", \"deleg\", \"deputi\", \"develop\", \"develop\", \"develop\", \"develop\", \"develop\", \"develop\", \"develop covid\", \"die covid\", \"die covid\", \"differ\", \"differ\", \"differ\", \"differ\", \"dinosaur\", \"discrimin\", \"discrimin\", \"disea\", \"disea\", \"disturb\", \"disturb\", \"dog\", \"domest\", \"dose\", \"dose\", \"dose pfizer\", \"drop low\", \"drought\", \"drought\", \"drought\", \"drought\", \"drought event\", \"due\", \"due\", \"due\", \"due\", \"due high\", \"due specif\", \"earth\", \"earth\", \"earth\", \"economi\", \"economi\", \"economi\", \"economi\", \"ecosystem\", \"ecosystem\", \"ecosystem\", \"effect\", \"effect\", \"effect\", \"effect\", \"effect\", \"effect\", \"effect prevent\", \"effect prevent\", \"effect vaccin\", \"effect vaccin\", \"email address\", \"email address\", \"email address\", \"email address\", \"emiss\", \"enrol\", \"enzym\", \"epidemiolog\", \"erupt\", \"erupt\", \"erupt\", \"escap document\", \"ethic committe\", \"europ seek\", \"even\", \"even\", \"even\", \"even\", \"even\", \"even\", \"even remot\", \"event\", \"event\", \"event\", \"event\", \"event\", \"event\", \"event\", \"event attribut\", \"event occur\", \"event occur\", \"event sever\", \"exam\", \"exam\", \"examin\", \"exampl\", \"exampl\", \"exampl\", \"exampl\", \"exampl find\", \"exampl find\", \"exclus\", \"exclus\", \"exclus\", \"exclus\", \"execut director\", \"exist amount\", \"export\", \"export\", \"extent\", \"fabric\", \"face cover\", \"face cover\", \"face face\", \"facil\", \"facil\", \"fact case\", \"fact check\", \"famili\", \"famili\", \"famili\", \"famili member\", \"famili member\", \"far right\", \"far right\", \"farmer\", \"farmer\", \"farmer\", \"farmer\", \"fauci\", \"fauci\", \"fauci\", \"feder govern\", \"femal\", \"femal\", \"file\", \"find\", \"find\", \"find\", \"find\", \"find\", \"find\", \"find climat\", \"find human\", \"find role\", \"first\", \"first\", \"first\", \"first\", \"first\", \"first\", \"first\", \"first meet\", \"fisheri\", \"flag\", \"flag\", \"flee\", \"flow\", \"flow\", \"flow\", \"flow\", \"flow\", \"flow\", \"foot student\", \"footbal\", \"footnot\", \"forest\", \"forest\", \"forest\", \"former\", \"former\", \"former\", \"former\", \"former director\", \"former presid\", \"fossil\", \"fossil fuel\", \"fossil fuel\", \"fraud\", \"fraud\", \"free school\", \"free trade\", \"french\", \"friend\", \"frost\", \"full month\", \"fun child\", \"function\", \"fund\", \"fund\", \"fundament right\", \"genuin\", \"genuin\", \"genuin situat\", \"german\", \"german\", \"give\", \"give\", \"give\", \"give\", \"give\", \"give\", \"give\", \"give legal\", \"glaci\", \"glacier\", \"global\", \"global\", \"global\", \"global\", \"global temperatur\", \"global warm\", \"go\", \"go\", \"go\", \"go\", \"go\", \"go\", \"gold\", \"good interest\", \"good servic\", \"govern\", \"govern\", \"govern\", \"govern\", \"govern\", \"govern\", \"govern second\", \"grade\", \"graphic\", \"great barrier\", \"greenhous\", \"greenhous effect\", \"group peopl\", \"growth\", \"growth\", \"growth\", \"growth\", \"halt\", \"hard coral\", \"health system\", \"health visitor\", \"heart attack\", \"heart lung\", \"heat\", \"heat\", \"heat\", \"heat\", \"heat event\", \"heat event\", \"heat wave\", \"heat wave\", \"heatwav\", \"heatwav\", \"heatwav\", \"help\", \"help\", \"help\", \"help\", \"help\", \"hide caption\", \"hide caption\", \"high\", \"high\", \"high\", \"high\", \"high\", \"high\", \"high\", \"high\", \"high educ\", \"home run\", \"honor\", \"honor\", \"honor\", \"hour\", \"hour\", \"hour\", \"hour\", \"hour hour\", \"hous\", \"hous\", \"hous\", \"howev\", \"howev\", \"howev\", \"howev\", \"human activ\", \"human cell\", \"human cell\", \"ice\", \"ice sheet\", \"ice sheet\", \"ice shelf\", \"ice shelf\", \"imag\", \"imag\", \"imag\", \"imag\", \"imag\", \"imag\", \"imag sourc\", \"immunosuppress\", \"immunosuppress\", \"impact\", \"impact\", \"impact\", \"impact\", \"impact\", \"impact\", \"import\", \"import\", \"import\", \"import\", \"import\", \"inconclus\", \"increa\", \"increa\", \"increa\", \"increa\", \"increa\", \"indic\", \"indic\", \"indic\", \"indic\", \"indo pacif\", \"indo pacif\", \"indoor\", \"industri\", \"industri\", \"industri\", \"industri\", \"infect\", \"infect peopl\", \"inflat\", \"inflat\", \"inflat\", \"inhabit\", \"inhibit\", \"inhibit\", \"inhibitor\", \"inmat\", \"inspect\", \"inspect\", \"inspector\", \"inspector\", \"inspector\", \"inten care\", \"intend damag\", \"intern trade\", \"interrupt\", \"interrupt\", \"interview\", \"interview\", \"invit\", \"irrever\", \"islamist\", \"jab\", \"junior doctor\", \"kidnap\", \"kill\", \"kill\", \"kill\", \"kill\", \"kill\", \"know histor\", \"know potenti\", \"last sever\", \"laugh\", \"laugh\", \"law excus\", \"lawsuit\", \"lawsuit\", \"lawyer\", \"lead\", \"lead\", \"lead\", \"lead\", \"lead\", \"lead\", \"lead\", \"lead delay\", \"leader\", \"leader\", \"leader\", \"least\", \"least\", \"least\", \"least\", \"legal direct\", \"legisl\", \"legisl\", \"lethal\", \"level rise\", \"life threaten\", \"likelihood\", \"likelihood\", \"likelihood\", \"likelihood\", \"link\", \"link\", \"link\", \"link\", \"listen\", \"live disabl\", \"live unit\", \"long term\", \"long term\", \"long term\", \"long term\", \"long term\", \"look\", \"look\", \"look\", \"look\", \"look close\", \"loosen\", \"lot money\", \"love\", \"love\", \"lung\", \"lung\", \"lung\", \"make\", \"make\", \"make\", \"make\", \"make\", \"make\", \"make\", \"make\", \"make event\", \"make sever\", \"male\", \"male\", \"malon\", \"map\", \"map\", \"map\", \"marin\", \"marin\", \"marin\", \"marin\", \"market\", \"market\", \"market\", \"market\", \"mask\", \"mask\", \"mask\", \"mask differ\", \"mask mask\", \"mask mask\", \"mass coral\", \"meaning\", \"measl\", \"measl\", \"medal\", \"medic\", \"medic\", \"medic\", \"meet\", \"meet\", \"meet\", \"meet\", \"meet\", \"meet member\", \"meet statutori\", \"melt\", \"melt\", \"member\", \"member\", \"member\", \"member\", \"member public\", \"messag verifyerror\", \"messag verifyerror\", \"messag verifyerror\", \"migrant\", \"miner\", \"minist\", \"ministri health\", \"mob\", \"model predict\", \"molecular clamp\", \"money\", \"money\", \"monsoon\", \"month\", \"month\", \"month\", \"month\", \"month\", \"month\", \"morad say\", \"mosqu\", \"mous\", \"mrna\", \"mrna vaccin\", \"much\", \"much\", \"much\", \"much\", \"murder\", \"murder rate\", \"muslim\", \"muslim\", \"muslim woman\", \"mutat\", \"mutat\", \"narrow\", \"nation research\", \"need\", \"need\", \"need\", \"need\", \"need\", \"neighborhood\", \"network\", \"network\", \"network\", \"network\", \"new\", \"new\", \"new\", \"new\", \"new\", \"new\", \"new coronaviru\", \"new coronaviru\", \"new tab\", \"new trade\", \"new water\", \"nobodi\", \"note\", \"note\", \"note\", \"note\", \"note\", \"note\", \"note event\", \"number\", \"number\", \"number\", \"number\", \"number\", \"number\", \"number\", \"number case\", \"number death\", \"number volcano\", \"nur nur\", \"object\", \"object\", \"object\", \"ocean\", \"ocean\", \"offer\", \"offer\", \"offer\", \"offer protect\", \"offic\", \"offic\", \"offic\", \"offic\", \"offici say\", \"offici say\", \"offici say\", \"oil\", \"oil industri\", \"old peopl\", \"open new\", \"ordin\", \"otto\", \"outstand job\", \"oval offic\", \"overflow\", \"overload\", \"overturn\", \"overview\", \"overview\", \"owner\", \"paralysi\", \"parent teacher\", \"park author\", \"partnership\", \"partnership\", \"partnership\", \"pathogen\", \"pathogen\", \"patient\", \"pay\", \"pay\", \"pay\", \"pay\", \"pediatrician\", \"peer review\", \"peer review\", \"peer review\", \"penalti\", \"peopl\", \"peopl\", \"peopl\", \"peopl\", \"peopl\", \"peopl\", \"peopl\", \"peopl face\", \"peopl infect\", \"peopl visit\", \"percent\", \"percent\", \"percent\", \"percent\", \"perpetr\", \"person\", \"person\", \"person\", \"person\", \"pfizer\", \"pfizer\", \"pfizer biontech\", \"pfizer moderna\", \"phase\", \"phase clinic\", \"phone\", \"photo\", \"pink\", \"plain\", \"plain\", \"plain commun\", \"planet\", \"planet\", \"planet\", \"platform\", \"platform\", \"platform\", \"platform\", \"platform\", \"platform\", \"play part\", \"play part\", \"play part\", \"plea enter\", \"plea enter\", \"plea enter\", \"point\", \"point\", \"point\", \"point\", \"point\", \"point\", \"polic\", \"polit\", \"polit\", \"poll worker\", \"poll worker\", \"poll worker\", \"popul\", \"potenti danger\", \"pre industri\", \"presid\", \"presid\", \"presid\", \"presid\", \"press relea\", \"prevent covid\", \"prison\", \"prison\", \"product\", \"product\", \"product\", \"product\", \"proport\", \"prosecut\", \"prosecut\", \"prosecut\", \"protect\", \"protect\", \"protect\", \"protect ill\", \"protect respon\", \"protect right\", \"protect well\", \"protein\", \"protein\", \"protest\", \"provid high\", \"pseudoviru\", \"pseudovirus\", \"public health\", \"public health\", \"public health\", \"public support\", \"punch\", \"punch\", \"punch\", \"pupil school\", \"quiet\", \"race\", \"race\", \"race\", \"race\", \"rd\", \"reaction\", \"reaction\", \"reaction\", \"real viru\", \"receipt\", \"receptor\", \"receptor\", \"record\", \"record\", \"record\", \"record\", \"record\", \"record\", \"record\", \"recoveri\", \"recoveri\", \"recruit\", \"reef\", \"reef marin\", \"refuge\", \"refuge\", \"regardless vaccin\", \"rehabilit\", \"relev\", \"reliabl\", \"reliabl inform\", \"relief scorch\", \"report\", \"report\", \"report\", \"report\", \"report\", \"report activ\", \"report come\", \"report period\", \"report show\", \"report show\", \"republ\", \"republ\", \"rescu\", \"research\", \"research\", \"research\", \"research\", \"research\", \"research show\", \"research show\", \"research show\", \"research show\", \"result\", \"result\", \"result\", \"result\", \"result\", \"result reflect\", \"review process\", \"right\", \"right\", \"right\", \"right\", \"right wing\", \"right wing\", \"rise\", \"rise\", \"rise\", \"rise\", \"rise sea\", \"risk\", \"risk\", \"risk\", \"role climat\", \"role climat\", \"roll\", \"roll\", \"roll\", \"roll\", \"rollout\", \"royal\", \"royal\", \"royal\", \"royal famili\", \"royal famili\", \"run\", \"run\", \"run\", \"run\", \"run\", \"safe effect\", \"safe effect\", \"sage willoughbi\", \"sar cov\", \"sar cov\", \"say anyth\", \"school\", \"school\", \"school\", \"school district\", \"school district\", \"school fall\", \"school leader\", \"school roll\", \"scientist\", \"scientist\", \"scientist\", \"scottish govern\", \"sea\", \"sea\", \"sea ice\", \"sea level\", \"sea level\", \"season influenza\", \"second dose\", \"sector\", \"sector\", \"sector\", \"sector\", \"see\", \"see\", \"see\", \"see\", \"see\", \"see\", \"see\", \"see\", \"see\", \"see hour\", \"seek relief\", \"select\", \"sensit topic\", \"sentiment\", \"seriou adver\", \"session\", \"session\", \"sever day\", \"sever month\", \"sever tropic\", \"sever tropic\", \"shift\", \"shift\", \"shift\", \"shift\", \"short space\", \"shortag\", \"shortag\", \"show\", \"show\", \"show\", \"show\", \"show\", \"show\", \"show\", \"show\", \"show proof\", \"side effect\", \"side effect\", \"simul\", \"simul\", \"smear\", \"snow\", \"snowpack\", \"snowpack\", \"snowpack\", \"social secur\", \"somervil say\", \"son\", \"sovereign grant\", \"speak\", \"speak\", \"speak\", \"speak\", \"spike\", \"spike protein\", \"spokesman say\", \"spokesman say\", \"spotlight\", \"spotlight\", \"squar meter\", \"sst\", \"state\", \"state\", \"state\", \"state\", \"state\", \"state\", \"state\", \"state\", \"state crimin\", \"stori continu\", \"stori continu\", \"stori continu\", \"stori continu\", \"storm\", \"storm\", \"storm\", \"storm\", \"storm name\", \"storm overflow\", \"stream river\", \"suffici\", \"suggest\", \"suggest\", \"suggest\", \"suggest\", \"suggest\", \"sunny\", \"suppli chain\", \"suppli chain\", \"support\", \"support\", \"support\", \"support\", \"support\", \"support export\", \"surfac\", \"surfac\", \"surfac temperatur\", \"survivor\", \"system\", \"system\", \"system\", \"system\", \"system\", \"system\", \"tab\", \"take\", \"take\", \"take\", \"take\", \"take\", \"take\", \"talk\", \"talk\", \"teacher\", \"teenag\", \"tell\", \"tell\", \"tell\", \"tell\", \"tell\", \"tell\", \"tell\", \"tell carbon\", \"tell carbon\", \"temperatur\", \"temperatur\", \"temperatur\", \"temperatur record\", \"terrorist\", \"test\", \"test\", \"test meet\", \"test protocol\", \"thesi\", \"think\", \"think\", \"think\", \"think\", \"think\", \"think\", \"think\", \"time\", \"time\", \"time\", \"time\", \"time\", \"time\", \"time\", \"time\", \"time cell\", \"time cell\", \"tip point\", \"tip point\", \"toilet\", \"toll\", \"tortur\", \"tp\", \"trade\", \"trade\", \"trade\", \"trade agreement\", \"tradeshow\", \"train station\", \"tran\", \"tran peopl\", \"tran woman\", \"transgend\", \"transmiss\", \"trebek\", \"trend\", \"trend\", \"trend\", \"trend\", \"trial particip\", \"trimer\", \"tropic cyclon\", \"tropic cyclon\", \"trump\", \"trump\", \"trump\", \"trump\", \"trump administr\", \"trump administr\", \"trump administr\", \"type event\", \"type weather\", \"uniform\", \"unit nation\", \"univer\", \"univer\", \"univer\", \"univer\", \"univer\", \"univer\", \"univer\", \"unusu\", \"unusu\", \"urban\", \"use\", \"use\", \"use\", \"use\", \"use\", \"use\", \"use\", \"use forc\", \"use forc\", \"usual\", \"usual\", \"usual\", \"vaccin\", \"vaccin\", \"vaccin candid\", \"vaccin candid\", \"vaccin child\", \"vaccin child\", \"vaccin covid\", \"vaccin covid\", \"vaccin develop\", \"vaccin develop\", \"vaccin effect\", \"vaccin effect\", \"vaccin expert\", \"vaccin offer\", \"vaccin prevent\", \"vaccin program\", \"vaccin protect\", \"vaccin safe\", \"vaccin variant\", \"valid\", \"variant\", \"variant\", \"variant\", \"verdict\", \"verdict time\", \"verifyerror messag\", \"verifyerror messag\", \"verifyerror messag\", \"versu long\", \"vessel\", \"victim\", \"violent crime\", \"violent crime\", \"violent crime\", \"viral load\", \"viral load\", \"viru\", \"viru\", \"viru mutat\", \"viru vaccin\", \"volcano\", \"volcano\", \"volcanolog record\", \"vote\", \"vote\", \"vote\", \"vote\", \"want\", \"want\", \"want\", \"want\", \"warm\", \"warm\", \"warm climat\", \"water\", \"water\", \"water\", \"water\", \"water\", \"water\", \"water compani\", \"water vapor\", \"way\", \"way\", \"way\", \"way\", \"weather\", \"weather\", \"weather\", \"weather\", \"weather event\", \"weather event\", \"weather forecast\", \"week week\", \"well\", \"well\", \"well\", \"well\", \"well\", \"western\", \"western\", \"western\", \"western\", \"widespread\", \"widespread\", \"widespread\", \"wine\", \"wit\", \"wit\", \"wit\", \"wit\", \"woman\", \"woman\", \"woman\", \"woman\", \"woman\", \"work\", \"work\", \"work\", \"work\", \"work\", \"work\", \"work\", \"world\", \"world\", \"world\", \"world\", \"world\", \"world\", \"world\", \"write\", \"write\", \"write\", \"write\", \"year\", \"year\", \"year\", \"year\", \"year\", \"year\", \"year\", \"year\", \"year\", \"year old\", \"year old\", \"year old\", \"year old\", \"year old\", \"year old\", \"year singl\", \"young peopl\", \"young peopl\", \"young peopl\"]}, \"R\": 30, \"lambda.step\": 0.01, \"plot.opts\": {\"xlab\": \"PC1\", \"ylab\": \"PC2\"}, \"topic.order\": [13, 14, 1, 6, 4, 2, 12, 3, 9, 5, 10, 11, 8, 7]};\n",
              "\n",
              "function LDAvis_load_lib(url, callback){\n",
              "  var s = document.createElement('script');\n",
              "  s.src = url;\n",
              "  s.async = true;\n",
              "  s.onreadystatechange = s.onload = callback;\n",
              "  s.onerror = function(){console.warn(\"failed to load library \" + url);};\n",
              "  document.getElementsByTagName(\"head\")[0].appendChild(s);\n",
              "}\n",
              "\n",
              "if(typeof(LDAvis) !== \"undefined\"){\n",
              "   // already loaded: just create the visualization\n",
              "   !function(LDAvis){\n",
              "       new LDAvis(\"#\" + \"ldavis_el3001336685945532803513171594\", ldavis_el3001336685945532803513171594_data);\n",
              "   }(LDAvis);\n",
              "}else if(typeof define === \"function\" && define.amd){\n",
              "   // require.js is available: use it to load d3/LDAvis\n",
              "   require.config({paths: {d3: \"https://d3js.org/d3.v5\"}});\n",
              "   require([\"d3\"], function(d3){\n",
              "      window.d3 = d3;\n",
              "      LDAvis_load_lib(\"https://cdn.jsdelivr.net/gh/bmabey/pyLDAvis@3.4.0/pyLDAvis/js/ldavis.v3.0.0.js\", function(){\n",
              "        new LDAvis(\"#\" + \"ldavis_el3001336685945532803513171594\", ldavis_el3001336685945532803513171594_data);\n",
              "      });\n",
              "    });\n",
              "}else{\n",
              "    // require.js not available: dynamically load d3 & LDAvis\n",
              "    LDAvis_load_lib(\"https://d3js.org/d3.v5.js\", function(){\n",
              "         LDAvis_load_lib(\"https://cdn.jsdelivr.net/gh/bmabey/pyLDAvis@3.4.0/pyLDAvis/js/ldavis.v3.0.0.js\", function(){\n",
              "                 new LDAvis(\"#\" + \"ldavis_el3001336685945532803513171594\", ldavis_el3001336685945532803513171594_data);\n",
              "            })\n",
              "         });\n",
              "}\n",
              "</script>"
            ]
          },
          "metadata": {},
          "execution_count": 17
        }
      ],
      "source": [
        "#Meilleur modèle de la classe TRUE\n",
        "best = max(coherence_values_true)\n",
        "print(\"Best coherence: \"+str(best))\n",
        "for i in range(len(coherence_values_true)):\n",
        "  if(coherence_values_true[i] == best):\n",
        "    model_true = model_list_true[i]\n",
        "visu_data_true = gensimvis.prepare(model_true, corpus_true, dictionary_true)\n",
        "pyLDAvis.display(visu_data_true)"
      ]
    },
    {
      "cell_type": "code",
      "execution_count": null,
      "metadata": {
        "colab": {
          "base_uri": "https://localhost:8080/",
          "height": 879
        },
        "id": "Gs2c6ubPjQd0",
        "outputId": "b6dd129d-e6ab-42d7-cf9a-a76f893939c2"
      },
      "outputs": [
        {
          "output_type": "stream",
          "name": "stdout",
          "text": [
            "Best coherence: 0.4628398951477889\n"
          ]
        },
        {
          "output_type": "execute_result",
          "data": {
            "text/plain": [
              "<IPython.core.display.HTML object>"
            ],
            "text/html": [
              "\n",
              "<link rel=\"stylesheet\" type=\"text/css\" href=\"https://cdn.jsdelivr.net/gh/bmabey/pyLDAvis@3.4.0/pyLDAvis/js/ldavis.v1.0.0.css\">\n",
              "\n",
              "\n",
              "<div id=\"ldavis_el3001336685945542886165974764\" style=\"background-color:white;\"></div>\n",
              "<script type=\"text/javascript\">\n",
              "\n",
              "var ldavis_el3001336685945542886165974764_data = {\"mdsDat\": {\"x\": [0.24583062829251723, 0.2788599454411896, 0.04715749398208328, -0.07447941684253426, -0.03057356823845449, -0.08626011200404746, -0.10164370269765004, -0.08556906173281346, -0.0959282408457832, -0.097393965354507], \"y\": [-0.04292038770592269, 0.12277022900498515, -0.2396533926483584, 0.012157365047357085, 0.027353089947315827, 0.06535840198160661, 0.010527655327413581, 0.03272982694710601, 0.0030691125747191535, 0.008608099523777609], \"topics\": [1, 2, 3, 4, 5, 6, 7, 8, 9, 10], \"cluster\": [1, 1, 1, 1, 1, 1, 1, 1, 1, 1], \"Freq\": [39.78334769914943, 24.21107949917496, 12.026107288690588, 6.165022326239148, 5.5404155115298535, 3.8665598329321247, 2.651103139761013, 2.37171174842867, 1.731919934037382, 1.6527330200568207]}, \"tinfo\": {\"Term\": [\"vaccin\", \"test\", \"state\", \"number\", \"climat\", \"govern\", \"warm\", \"mean\", \"time\", \"death\", \"countri\", \"report\", \"side effect\", \"peopl\", \"think\", \"effect\", \"scientist\", \"high\", \"even\", \"back\", \"economi\", \"rule\", \"import\", \"school\", \"child\", \"group\", \"german\", \"rise\", \"case\", \"global warm\", \"fund\", \"cut\", \"famili\", \"run\", \"employ\", \"agreement\", \"servic\", \"leav\", \"pay\", \"budget\", \"bank\", \"death inhabit\", \"maintain\", \"interest rate\", \"learn\", \"politician\", \"expen\", \"extend\", \"ship\", \"public transport\", \"choic\", \"pre\", \"renew\", \"guess\", \"neg interest\", \"board\", \"council\", \"teach\", \"credit\", \"consum\", \"leave\", \"demand\", \"job\", \"save\", \"parent\", \"money\", \"visit\", \"put\", \"nation\", \"cost\", \"hous\", \"drive\", \"vote\", \"support\", \"govern\", \"need\", \"offer\", \"start\", \"major\", \"mean\", \"plan\", \"work\", \"new\", \"want\", \"public\", \"year\", \"help\", \"today\", \"well\", \"go\", \"state\", \"countri\", \"make\", \"use\", \"right\", \"take\", \"even\", \"time\", \"tell\", \"think\", \"way\", \"day\", \"peopl\", \"number\", \"find\", \"side effect\", \"infect\", \"mask\", \"dead\", \"graphic oxid\", \"cell\", \"covid vaccin\", \"biontech pfizer\", \"lockdown\", \"wave\", \"rubi\", \"viru\", \"unvaccin\", \"spread\", \"ill\", \"scientif\", \"death rate\", \"disea\", \"nur home\", \"death day\", \"old peopl\", \"elderli\", \"nose cover\", \"whistleblow\", \"s\\u00fcdkuri\", \"bfarm\", \"number death\", \"medic expert\", \"pfizer\", \"cancer\", \"vaccin\", \"doctor\", \"death\", \"pfizer vaccin\", \"conclus\", \"covid\", \"resid\", \"case\", \"take place\", \"patient\", \"report\", \"health\", \"due\", \"test\", \"warn\", \"effect\", \"medic\", \"show\", \"even\", \"use\", \"time\", \"number\", \"author\", \"inform\", \"still\", \"peopl\", \"first\", \"risk\", \"percent\", \"year\", \"long\", \"take\", \"alreadi\", \"find\", \"countri\", \"planet\", \"climat\", \"temperatur\", \"carbon\", \"warm\", \"scientist\", \"sea level\", \"level rise\", \"great barrier\", \"wind\", \"carbon dioxid\", \"heat\", \"atmospher\", \"flood\", \"coral\", \"tower fire\", \"cool\", \"reef\", \"drought\", \"weather\", \"grenfel tower\", \"peopl live\", \"past week\", \"trump campaign\", \"upper\", \"dioxid\", \"hot\", \"press offic\", \"ice sheet\", \"jet stream\", \"global warm\", \"ocean\", \"melt\", \"emiss\", \"water\", \"greenhous\", \"ice\", \"storm\", \"earth\", \"fire\", \"global\", \"rise\", \"world\", \"year\", \"level\", \"degre\", \"much\", \"find\", \"grow\", \"time\", \"effect\", \"show\", \"today\", \"polar bear\", \"minimum wage\", \"learner\", \"vaccin popul\", \"open carri\", \"partli vaccin\", \"gift\", \"madam deputi\", \"tax relief\", \"today budget\", \"tax increa\", \"madam speaker\", \"posit case\", \"kingdom\", \"recent report\", \"case fatal\", \"case popul\", \"unvaccin popul\", \"prosper\", \"strong economi\", \"give impress\", \"rate week\", \"high wage\", \"novemb decemb\", \"take look\", \"unvaccin death\", \"week th\", \"autumn statement\", \"clearli show\", \"antibodi\", \"nation debt\", \"death occur\", \"innov\", \"seal\", \"speaker\", \"public health\", \"skill\", \"year\", \"today\", \"appeal\", \"work\", \"rail\", \"state\", \"time\", \"economi\", \"prison\", \"report\", \"growth\", \"week\", \"case\", \"death\", \"rate\", \"make\", \"level\", \"senior citizen\", \"addit inform\", \"afd\", \"palmer\", \"feder ministri\", \"mom\", \"basic law\", \"incomplet\", \"driver licen\", \"crist\", \"paragraph\", \"follow question\", \"effect protect\", \"ratio\", \"discour\", \"rhode island\", \"licen\", \"censorship\", \"compul\", \"quota\", \"donnel\", \"classic\", \"democraci\", \"use covid\", \"credit score\", \"public interest\", \"freedom express\", \"take care\", \"professor\", \"merck\", \"rule law\", \"mental health\", \"new law\", \"opinion\", \"draft\", \"raid\", \"tweet\", \"journalist\", \"ban\", \"think\", \"search\", \"law\", \"gun\", \"report\", \"presid\", \"question\", \"problem\", \"make\", \"want\", \"first\", \"process\", \"inform\", \"time\", \"year\", \"state\", \"woman\", \"cost benefit\", \"almost never\", \"sensit light\", \"tast mouth\", \"vomit metal\", \"call pandem\", \"annoy countless\", \"appar dot\", \"brain fluid\", \"complain stiff\", \"contain liquid\", \"cost victim\", \"damag liter\", \"even noth\", \"fact brain\", \"find brain\", \"germani often\", \"happen yet\", \"harmless sell\", \"insert far\", \"insid nose\", \"kind bag\", \"know import\", \"long depend\", \"mad question\", \"never caus\", \"nose reason\", \"pandem almost\", \"peopl corona\", \"peopl prof\", \"test\", \"time\", \"life threaten\", \"test case\", \"show\", \"report\", \"pcr test\", \"child\", \"countri\", \"even\", \"protect\", \"everyon\", \"conduct\", \"smear\", \"test often\", \"experienc\", \"ministri health\", \"fact check\", \"case rate\", \"fabric\", \"vaccin protect\", \"climb\", \"school safe\", \"case number\", \"garlic\", \"leav campaign\", \"empti shelf\", \"unborn child\", \"say teacher\", \"vaccin septemb\", \"stimul\", \"heartfelt letter\", \"jail celiac\", \"prison beat\", \"safe food\", \"son first\", \"school pupil\", \"school close\", \"close school\", \"teacher concern\", \"day elect\", \"show vast\", \"school open\", \"overwhelm\", \"voter roll\", \"inject\", \"report relea\", \"teacher school\", \"govern\", \"school\", \"behavior\", \"vaccin vaccin\", \"peopl\", \"need\", \"white hous\", \"nation\", \"state\", \"point\", \"state perform\", \"german\", \"tax tax\", \"fluctuat\", \"today pay\", \"tax burden\", \"inhabit effect\", \"net taxpay\", \"target countri\", \"german citizen\", \"case young\", \"share percent\", \"refuge year\", \"indirectli\", \"age interview\", \"bump\", \"countri quarter\", \"dissatisfi countri\", \"even illiter\", \"group taxpay\", \"jump abroad\", \"major taxpay\", \"merkel vast\", \"money wage\", \"move abroad\", \"normal work\", \"pay taxpay\", \"read write\", \"renew turn\", \"rest much\", \"rich paradi\", \"net\", \"neighbor\", \"migrant\", \"state\", \"number\", \"go far\", \"countri\", \"peopl\", \"economi\", \"group\", \"time\", \"high\", \"mean\", \"know\", \"larg\", \"rule\", \"former\", \"refut\", \"earn last\", \"make sick\", \"report stori\", \"cotton\", \"adapt\", \"cube\", \"woman day\", \"groundbreak\", \"mutat\", \"bacteria\", \"lend\", \"homeless\", \"food stamp\", \"research demonstr\", \"olymp game\", \"innat\", \"global economi\", \"shelter\", \"olymp winter\", \"winter game\", \"increa snap\", \"rapist\", \"day groundbreak\", \"homeless new\", \"defeat obamacar\", \"groundbreak histori\", \"hobhous\", \"intern woman\", \"upskirt\", \"factori\", \"flee\", \"excit\", \"fraud\", \"rape\", \"next year\", \"email offer\", \"verifyerror verifyerror\", \"messag verifyerror\", \"verifyerror messag\", \"report seriou\", \"hospit bed\", \"fdp\", \"flow rate\", \"assist shoot\", \"say thank\", \"number overnight\", \"email brief\", \"free daili\", \"straight inbox\", \"early week\", \"agent cut\", \"need wall\", \"build mosqu\", \"exceed foot\", \"sign email\", \"cancer support\", \"kill cancer\", \"post email\", \"cancer hit\", \"late lung\", \"ground think\", \"effici effect\", \"foot storm\", \"governor legislatur\", \"number child\", \"african american\", \"top stori\", \"respon local\", \"cancer cancer\", \"term limit\", \"weight\", \"break point\", \"invalid email\", \"border patrol\", \"wrong plea\", \"later sign\", \"public school\", \"board term\", \"cent\", \"violent crime\", \"year old\", \"find\", \"state feder\", \"let\", \"work\", \"border\", \"even\", \"time\"], \"Freq\": [346.0, 161.0, 285.0, 207.0, 120.0, 330.0, 95.0, 175.0, 388.0, 149.0, 257.0, 256.0, 112.0, 232.0, 147.0, 163.0, 70.0, 128.0, 317.0, 82.0, 72.0, 84.0, 89.0, 87.0, 122.0, 69.0, 31.0, 124.0, 220.0, 63.0, 104.34978352356966, 73.44718295122006, 65.65959165684836, 56.16423060762941, 48.281472368890526, 42.92415601809263, 42.22948903032339, 42.2908577210905, 112.04514865865042, 46.32069814852688, 37.97493938341828, 37.388091179108024, 36.34071003025421, 36.11383561737768, 42.738484912603184, 36.48458690137109, 34.63703983136883, 29.58635687832957, 29.30796332721371, 28.84010611968196, 28.541196322288435, 27.871068962577013, 27.61924404272307, 25.92948601939074, 25.86911451791166, 25.278085966840734, 25.040390203542326, 24.070032693954165, 23.899229403752116, 23.75591345160975, 56.82997910604597, 61.10664696535349, 95.73557309221445, 34.10963288019721, 46.21734132547009, 53.21372293581726, 30.400709663746976, 98.23960772678247, 137.09994501577273, 78.01284180613722, 73.44507315721715, 57.67843022517329, 78.91154018549993, 160.34984722804114, 268.4806216688976, 197.03706899434079, 67.67944010929324, 63.50366841614197, 79.44809265509551, 138.4548020950012, 99.00418414690604, 161.31944761242914, 156.4864035298095, 120.22009720863136, 92.63494226638404, 336.1748164863599, 93.64699706138622, 142.8309488190232, 123.19526684885379, 127.91859241008842, 182.05655285092277, 165.10069706027207, 133.72347131975997, 138.6459208086382, 86.27787902170375, 126.61461045101743, 153.70886203329866, 170.48243531539237, 98.26541461622713, 99.35436378521689, 96.87670850061075, 95.68436557562762, 111.78302637441251, 106.44931017009785, 103.9634465403338, 111.95915239952427, 83.15265074834474, 74.47454809437389, 56.71481843585223, 51.97609184104549, 35.21851442675623, 33.88277594662355, 33.86828710006415, 32.624173646884216, 32.09762193504969, 31.46721803701741, 31.128619564882513, 30.338037633101013, 32.86698614931778, 29.94721806517406, 29.385001932508608, 28.812412943241004, 28.011660442418385, 27.991389543072625, 27.412981976875695, 27.072950634516772, 26.92989399516992, 26.808819270789282, 25.461022204379127, 24.411248096818834, 24.411175048532904, 24.153317408747075, 23.60637960603897, 23.136374291388435, 22.997252426058733, 331.90583313071977, 40.16616192887417, 140.22588340866528, 44.20280739985388, 35.53777196041625, 81.91004883277367, 54.009593167486905, 153.9665469471714, 51.53117720783741, 41.55308197149912, 139.32150067605218, 58.916623013077924, 70.90403778366512, 96.6101678923857, 60.01316769048006, 92.09526686476947, 40.74504430892965, 91.54402764183983, 116.52771582180496, 92.991833430788, 118.55474956539204, 85.4359266407788, 58.62995344359136, 55.63776079349683, 71.36578723723075, 85.18631502865476, 67.73469742108978, 51.749625297363636, 57.57252893285456, 94.68161447643101, 58.84962087758274, 65.33794944511078, 55.65069034010656, 55.53347031758349, 55.60464182447564, 50.18629216539678, 118.87205538903065, 32.508952151847296, 32.50627826449659, 93.51678740365347, 68.65473161657219, 48.59461466650924, 24.967411972704305, 27.9989917655145, 35.57098579109119, 42.45048206843462, 38.116953589421705, 17.895923326683846, 31.94588953096409, 17.13218099434798, 16.843268582550508, 16.81969064581247, 30.906894499455312, 16.77791743596461, 28.26461372533085, 16.115418582559453, 16.308421334556897, 14.90549711638137, 14.794551724683409, 15.063721190577775, 14.581279901766568, 15.114913015107199, 14.067158071855024, 13.868850807425424, 13.602863211656109, 58.39203377757324, 14.36071908426063, 16.144598285386063, 24.78668454071561, 47.18011709353238, 19.187977513243318, 17.073210334697052, 29.24052120382515, 23.206117071681366, 33.51159013050616, 37.106017628410406, 50.70668423323457, 44.812911782832636, 71.4002557029121, 35.05008015825076, 20.27774988883102, 30.380490371749662, 33.108271345471195, 24.198722390546816, 35.53638434903834, 28.09383940638244, 26.862972024104852, 25.081869981553474, 24.32773905879641, 19.37178729416695, 17.034390896388746, 13.747287259230916, 10.904902590806174, 9.68416592327975, 9.392863820422336, 12.87140497834154, 9.165594810340238, 11.054801052679068, 7.293395379704162, 10.150080450245946, 7.216484842429035, 7.132999654323171, 6.814935360140815, 6.588429696352123, 6.588429696352123, 6.588429696352123, 6.32291181445125, 6.375353060935985, 6.28253458722209, 6.278957519305475, 6.227690266510974, 6.069317015330037, 5.83329635088315, 5.656069447834113, 5.636801929208061, 5.617463226930469, 5.613527021395026, 5.425075279223653, 9.636547995173778, 11.168433769186159, 8.367937281478554, 6.5840148791294375, 14.864643086899266, 13.281027902917558, 11.458556155044672, 34.52934502614044, 19.004445312365313, 10.119621716935974, 18.486228329149547, 7.231308927289068, 18.209413351354424, 18.86702151714482, 11.41974139108149, 8.642080189539968, 11.50317650023652, 8.623308452527159, 9.383413922400225, 9.340060574664442, 9.073041755065757, 8.984518624506133, 9.00982638001618, 8.798403065391101, 16.9247613625177, 13.003019210465554, 8.695906989783179, 15.77089691718512, 7.948093798271943, 7.850425395139307, 7.47248440273264, 7.203373108416728, 6.960603370306405, 6.577832674689752, 6.036408286006578, 5.508612764288967, 5.493118752353732, 5.397049320451559, 9.310018668949356, 5.179016702396596, 5.144350466057499, 5.0423445239597156, 4.941128423501106, 4.702979114320305, 4.68925155733308, 4.654654114689865, 8.602618880576214, 4.52263386883763, 4.421126198836192, 4.282929950716235, 4.282245228416097, 6.45618677534928, 21.028903248418803, 4.160571683010924, 7.717166219829451, 16.99058857136458, 6.173190084304654, 17.061816406804095, 7.0925734674831356, 7.435397528402914, 7.211358963524722, 13.999463105803601, 10.177451881897088, 24.188941025845367, 8.666846475260892, 17.118024070998707, 7.6471393808750605, 21.00806197322512, 10.881937260705417, 10.75749975176194, 9.834841274314067, 10.745221041444537, 9.627137676083391, 9.266735218536315, 8.5067577585569, 8.556356084492903, 9.314536550266793, 8.40198624559147, 8.107279838816881, 7.82826032349869, 10.99565781910923, 10.920612471072937, 10.289730629045675, 10.289730629045675, 10.289730629045675, 9.68156241783318, 9.428646125250014, 9.428646125250014, 9.428646125250014, 9.428646125250014, 9.428646125250014, 9.428646125250014, 9.428646125250014, 9.428646125250014, 9.428646125250014, 9.428646125250014, 9.428646125250014, 9.428646125250014, 9.428646125250014, 9.428646125250014, 9.428646125250014, 9.428646125250014, 9.428646125250014, 9.428646125250014, 9.428646125250014, 9.428646125250014, 9.428646125250014, 9.428646125250014, 9.428646125250014, 9.428646125250014, 64.11965279468677, 23.780513682200215, 10.01674528982107, 9.98144498183796, 12.763211911385348, 12.520943951276129, 10.677425591997485, 11.231692565215077, 11.82827737211494, 11.37516955739983, 10.540089383490399, 9.751482818392756, 9.541670465951256, 10.644595606119815, 9.833273690871396, 9.770020751562623, 9.044785150243595, 8.818969781895749, 8.784077358253588, 6.3282177841837495, 4.696710100418668, 4.561135784941891, 4.329165373128204, 4.294503682859332, 3.8558540057448423, 3.495944091954241, 3.3734117496692155, 3.3035601435288915, 3.2750645719277784, 3.139378889142828, 3.123540735111319, 2.9249460595660426, 2.9249460595660426, 2.9249460595660426, 2.9249460595660426, 2.9249460595660426, 2.8837564607000967, 2.652127841923374, 2.6255824287932943, 2.6255824287932943, 2.5340523454767867, 2.5297917768278926, 3.951908616689286, 3.944886938673374, 3.015025291431313, 4.729109988340318, 3.1186808749808708, 3.233737763615851, 13.725684784635549, 7.450755334479494, 3.440069390634233, 3.2518401811505626, 4.631362409724933, 4.1300600077167156, 3.0924151106992164, 3.309467225529571, 3.3059468495421864, 3.1935880031521915, 3.139678227239107, 30.31874788917489, 13.25078078339053, 9.804732427327572, 8.017651790389372, 7.849672847790594, 7.700176768571064, 7.700176768571064, 7.700176768571064, 7.691149460231684, 7.688289895181497, 7.636485805562962, 7.4179638442850075, 7.383106324291135, 7.054546978812454, 7.054546978812454, 7.054546978812454, 7.054546978812454, 7.054546978812454, 7.054546978812454, 7.054546978812454, 7.054546978812454, 7.054546978812454, 7.054546978812454, 7.054546978812454, 7.054546978812454, 7.054546978812454, 7.054546978812454, 7.054546978812454, 7.054546978812454, 7.054546978812454, 10.926924833234612, 7.449460343259354, 9.362633212101613, 25.51483052785397, 13.012377276386355, 7.448414496561498, 8.79058314110214, 8.713624236617672, 8.067706013348708, 7.974506210537815, 8.633718246227776, 8.148600604090893, 8.167169336988492, 7.640124251180235, 7.318194472874694, 7.204802122556376, 7.0980998884305455, 8.803869316575126, 7.585509049124379, 7.581699294201558, 7.509017305897626, 7.425962397617082, 6.942806850480396, 6.8852465102242135, 4.941355438024667, 4.059544289903497, 3.414387335687276, 2.919251238819406, 2.8697087484730703, 2.838885226461653, 3.9793758397471115, 6.939399053240928, 2.5071881383278325, 2.2615578273959227, 2.2438505865500047, 4.0090495618052975, 2.0166719420935832, 2.0166719420935832, 2.016671339157058, 1.959771214395783, 1.9336499943430734, 1.723203642371597, 1.5578185555135933, 1.5576816889224114, 1.5576816889224114, 1.5576816889224114, 1.5576816889224114, 2.2940076701941874, 2.1884139897138186, 2.687507158995459, 7.852693536910739, 2.797246832000775, 3.063364926053199, 2.071241717185618, 2.0538180574853055, 2.0472530836219387, 2.04515426157831, 6.478940735156341, 2.29831104132902, 2.248018225629507, 2.006685053338713, 1.5501070916146347, 1.5501068998249556, 1.5501068998249556, 1.5475151499995918, 1.5475148623150734, 1.5475151499995918, 2.2529483711144525, 1.3556882639352785, 1.3556882639352785, 1.3556877844610815, 1.3556869214075264, 1.300274472020348, 1.2922563209159716, 1.2682383076418269, 1.235444286347264, 1.202990787627529, 1.2029900204688135, 1.2020858280277968, 1.1876145295985956, 1.1765296615291418, 1.1743337656009585, 1.3823001367212548, 1.060804728249422, 1.426110557169916, 1.00261938368519, 0.9863576327089293, 2.6576637186174947, 1.6754076999808067, 1.5501070916146347, 1.7997202079214583, 2.006686587656144, 1.468366330481684, 1.4683333426569192, 1.8938208549089675, 1.355668893177713, 2.1145404725151784, 1.4410248897572993, 1.8473342971762412, 1.904369862615668, 1.3727883275978652, 1.6282700162883283, 1.5827852719431619, 1.3994937937471286, 1.3867939606867785, 1.375460149614156], \"Total\": [346.0, 161.0, 285.0, 207.0, 120.0, 330.0, 95.0, 175.0, 388.0, 149.0, 257.0, 256.0, 112.0, 232.0, 147.0, 163.0, 70.0, 128.0, 317.0, 82.0, 72.0, 84.0, 89.0, 87.0, 122.0, 69.0, 31.0, 124.0, 220.0, 63.0, 105.06330164492485, 74.15623930610356, 66.35630165348186, 56.89680308253868, 48.97657988559716, 43.59493749617466, 42.89840322606517, 42.96413179563707, 113.84112945267485, 47.09689001761864, 38.642950296679864, 38.05608315540989, 37.00889669308543, 36.781832243590586, 43.54007878609518, 37.17393158932053, 35.34975607083991, 30.254526393633665, 29.977083261947705, 29.508165067938403, 29.2109943983535, 28.53984479445044, 28.28727508583753, 26.5975164958734, 26.537098051633706, 25.9462265485926, 25.708469798856935, 24.740000433574895, 24.56728444937772, 24.4253080355584, 58.5033561124214, 63.08438775035837, 99.701226253339, 35.16242465110286, 48.153499029661205, 55.69971079079634, 31.32419025060987, 105.11724422577241, 149.913780845502, 83.96653433337116, 79.32198511632176, 61.4175000356736, 85.96214233962955, 183.44978862902047, 330.32154654381134, 237.30658327798636, 73.87871617517345, 69.06454906791075, 88.93791533374339, 175.9807340320881, 119.4026234190778, 217.02283772586892, 212.10853447415698, 154.81629544510943, 112.22395397832994, 557.25341566949, 114.26607890951558, 196.55208857746845, 164.58756341758826, 173.5783123866976, 285.7226895892454, 257.7374794422558, 207.27611007449912, 236.21801272194918, 111.10622381194395, 221.0791390684946, 317.46403731700326, 388.04764614375654, 142.36791455936955, 147.02716716168743, 146.0383400421123, 145.17400352615223, 232.97838339380414, 207.2695196045258, 201.13694304612144, 112.70144660028792, 83.89496044969177, 75.21690557709167, 57.457147829844324, 52.71838602770301, 35.96085121153271, 34.625111842096615, 34.61058515763474, 33.366491637942, 32.84000081528959, 32.20951220400824, 31.870927716099086, 31.080380200931444, 33.67404095607173, 30.689617414757837, 30.127610274486038, 29.554736812499048, 28.753986779729708, 28.73368828395197, 28.15528063774461, 27.815261599258584, 27.67225414001045, 27.551121737906534, 26.203320953489552, 25.153543793855302, 25.153480989980206, 24.89619034464057, 24.34867422911622, 23.878681124680117, 23.739621963346007, 346.30244442024394, 41.55944425033374, 149.9463884919375, 46.169227991713576, 37.10599781431009, 90.96575966030721, 60.630595334148275, 220.09661656709633, 60.604419963251374, 47.73379304763778, 256.7095358842772, 80.3780304551321, 104.02348647722613, 161.43781148604543, 83.83654689854949, 163.00215598250705, 48.62126187879481, 175.04278483774425, 317.46403731700326, 236.21801272194918, 388.04764614375654, 207.2695196045258, 105.79476302570609, 95.1854863600961, 159.66311159234985, 232.97838339380414, 149.02104224681588, 82.18677717518065, 109.92017019093525, 557.25341566949, 125.56625625201539, 221.0791390684946, 153.20930131110276, 201.13694304612144, 257.7374794422558, 50.906618865244795, 120.96170211967208, 33.210679750027765, 33.208904050586895, 95.56114128657067, 70.27707857778859, 49.95583087282399, 25.669176221702124, 28.79647729976117, 36.608824190180755, 43.705511868748765, 39.39024165986382, 18.59765758432083, 33.21800913204255, 17.83548863178098, 17.544982705491204, 17.521404949975096, 32.19642604587537, 17.481907314372755, 29.476493186015965, 16.81712900649163, 17.034373539552558, 15.612522493785379, 15.496319522145146, 15.78440769158973, 15.28312159706218, 15.844660101278336, 14.778510165493385, 14.571129642305188, 14.310005017980485, 63.1451562497215, 15.122326961350998, 17.25498694156447, 28.594469863507644, 62.31121647162365, 21.488818484774306, 19.038477692043905, 42.34007528564356, 30.08386506551993, 57.91142272392415, 72.28192260825588, 124.54366056296233, 122.1814517217797, 557.25341566949, 150.77197861850004, 30.23029326168607, 144.1013582712776, 201.13694304612144, 66.35016211745511, 388.04764614375654, 163.00215598250705, 175.04278483774425, 196.55208857746845, 25.036846683200565, 20.07903113624182, 17.767381764613916, 14.454420336152026, 11.612029505803285, 10.391295558980902, 10.1001744235428, 13.964138059506524, 10.0114444885015, 12.080675090231558, 8.000542120938993, 11.137532396087199, 7.9242099514650715, 7.840201649342585, 7.522412832965907, 7.295558810548787, 7.295558810548787, 7.295558810548787, 7.030220525552249, 7.089030341462126, 6.989758795468675, 6.986167267934995, 6.9348308916190495, 6.776451164703862, 6.540651350213904, 6.3631986938159155, 6.344092170548749, 6.324606705907208, 6.320974118799236, 6.13311971468298, 11.206264874974247, 13.902862288284561, 10.010037863184264, 7.674066521139621, 29.10409176897158, 26.811577383371752, 24.341997128158056, 557.25341566949, 196.55208857746845, 30.390025279223558, 217.02283772586892, 10.72005676945389, 285.7226895892454, 388.04764614375654, 72.88402833617145, 23.528212516814406, 256.7095358842772, 36.58661824438738, 80.2334187285231, 220.09661656709633, 149.9463884919375, 134.9144494646151, 207.27611007449912, 150.77197861850004, 17.633620995503822, 13.714640616036531, 9.407046446775686, 17.07605475171854, 8.655616002553284, 8.557726107574876, 8.179785707792885, 7.910898847968671, 7.667817512187938, 7.285060845719532, 6.743645710795823, 6.2159807167774535, 6.200597564538625, 6.104910653426444, 10.564990689775593, 5.886423715362315, 5.8516409846134065, 5.749655075292597, 5.648779375095954, 5.410336481623074, 5.396754537697385, 5.362247722148859, 9.9341792579858, 5.2316130606335065, 5.1283385270276876, 4.990238022993178, 4.989598398430434, 7.534720009570207, 24.555751664750815, 4.867825890508176, 9.041842667247709, 24.141634412540487, 7.621432381832961, 26.86818008826976, 9.31007226929283, 10.019362168930039, 10.253255526784715, 28.744617551656557, 23.650306149878805, 147.02716716168743, 17.470902285194818, 90.61455939488533, 14.57004327095367, 256.7095358842772, 62.95096152532017, 91.28958927273024, 81.16632355501854, 207.27611007449912, 154.81629544510943, 149.02104224681588, 69.79282726793087, 95.1854863600961, 388.04764614375654, 557.25341566949, 285.7226895892454, 64.4292022452681, 11.736364834391095, 11.658385376076648, 11.026768111869567, 11.026768111869567, 11.026768111869567, 10.41880689321636, 10.165658869055942, 10.165658869055942, 10.165658869055942, 10.165658869055942, 10.165658869055942, 10.165658869055942, 10.165658869055942, 10.165658869055942, 10.165658869055942, 10.165658869055942, 10.165658869055942, 10.165658869055942, 10.165658869055942, 10.165658869055942, 10.165658869055942, 10.165658869055942, 10.165658869055942, 10.165658869055942, 10.165658869055942, 10.165658869055942, 10.165658869055942, 10.165658869055942, 10.165658869055942, 10.165658869055942, 161.43781148604543, 388.04764614375654, 13.579547307823546, 13.425537056270898, 175.04278483774425, 256.7095358842772, 52.240797160394514, 122.01651275508357, 257.7374794422558, 317.46403731700326, 98.62907200941947, 37.32884787144922, 40.340952157861956, 11.385555296455353, 10.572907554261025, 10.506964675862339, 9.781193531861174, 9.555656032403732, 9.520396320242124, 7.065189130011358, 5.433463843706824, 5.298023228456868, 5.065178735795284, 5.030745179020832, 4.591895214073446, 4.231967400391441, 4.109479955606879, 4.039876519498677, 4.011457802440422, 3.87539407918655, 3.8604909537862544, 3.660991959061588, 3.660991959061588, 3.660991959061588, 3.660991959061588, 3.660991959061588, 3.620204432425191, 3.388322868001077, 3.361595791460375, 3.361595791460375, 3.2700720093112183, 3.265921956263063, 5.118773823850025, 5.169809414658108, 4.039370523043109, 8.250798368827315, 4.7670462662517625, 5.310621204025367, 330.32154654381134, 87.61615967256635, 6.887095108160887, 7.065296133755224, 232.97838339380414, 237.30658327798636, 8.633314514704807, 149.913780845502, 285.7226895892454, 136.11697671832815, 20.599726111970146, 31.074269963695986, 14.005596822495633, 10.560456508368803, 8.772651763285694, 8.604463279685671, 8.454700291570614, 8.454700291570614, 8.454700291570614, 8.445821875995327, 8.44298526518026, 8.391952719260862, 8.172486941438894, 8.140588570754181, 7.809070621033972, 7.809070621033972, 7.809070621033972, 7.809070621033972, 7.809070621033972, 7.809070621033972, 7.809070621033972, 7.809070621033972, 7.809070621033972, 7.809070621033972, 7.809070621033972, 7.809070621033972, 7.809070621033972, 7.809070621033972, 7.809070621033972, 7.809070621033972, 7.809070621033972, 19.36353733786195, 8.735563100883821, 16.091346081275933, 285.7226895892454, 207.2695196045258, 11.709612695766769, 257.7374794422558, 232.97838339380414, 72.88402833617145, 69.49668808598709, 388.04764614375654, 128.1065799386641, 175.9807340320881, 80.840303897743, 53.786507558151534, 84.62234298828291, 40.015250382967956, 9.558919090465546, 8.338473392998626, 8.334872935402847, 8.26206306848015, 8.17960433894488, 7.696042959207326, 7.638945404403187, 5.693727193585572, 4.81225518758536, 4.167349286589888, 3.672024990651122, 3.6224174336456536, 3.5917018244811554, 5.090655610744244, 8.898399589452852, 3.260031832539588, 3.0140760887461178, 2.997438511461766, 5.488322044863981, 2.769041421316742, 2.769041421316742, 2.769040828426025, 2.7132253027399824, 2.6860218206611206, 2.4755784027092065, 2.3101880456395416, 2.3100535647830327, 2.3100535647830327, 2.3100535647830327, 2.3100535647830327, 3.500160231835304, 3.5856956317707693, 4.948419540068748, 28.51956722163417, 9.550710708806156, 41.10969082948775, 7.3373542337275115, 7.34837695376827, 7.352569383901583, 7.354613180796141, 7.236977081643593, 3.0509489160006056, 3.000880235201473, 2.759322841619963, 2.302744870788583, 2.3027446880157343, 2.3027447240830554, 2.3034151735762785, 2.3034148276058932, 2.303415282604175, 3.3666510103879945, 2.108326043109227, 2.108326043109227, 2.10832556363503, 2.108324700581475, 2.0530475839811726, 2.0460463229527766, 2.0209629666935887, 1.98900689004594, 1.9557445051731563, 1.9557444357929772, 1.9549850983354844, 1.9409711747470744, 1.930139689040494, 1.9272127700255193, 2.2960683763047856, 1.8138006851135104, 2.4561538784274237, 1.7553680922589767, 1.739146284913068, 4.789428656902244, 3.121904966625541, 3.3854002507193792, 4.53861488026212, 5.681731268100652, 3.384941080011857, 3.385003022263822, 7.591769809022864, 3.4874354261498945, 47.79875723167811, 5.71955022469322, 70.37450881717793, 201.13694304612144, 4.0255356267912035, 61.27815874198277, 217.02283772586892, 17.327323444774716, 317.46403731700326, 388.04764614375654], \"Category\": [\"Default\", \"Default\", \"Default\", \"Default\", \"Default\", \"Default\", \"Default\", \"Default\", \"Default\", \"Default\", \"Default\", \"Default\", \"Default\", \"Default\", \"Default\", \"Default\", \"Default\", \"Default\", \"Default\", \"Default\", \"Default\", \"Default\", \"Default\", \"Default\", \"Default\", \"Default\", \"Default\", \"Default\", \"Default\", \"Default\", \"Topic1\", \"Topic1\", \"Topic1\", \"Topic1\", \"Topic1\", \"Topic1\", \"Topic1\", \"Topic1\", \"Topic1\", \"Topic1\", \"Topic1\", \"Topic1\", \"Topic1\", \"Topic1\", \"Topic1\", \"Topic1\", \"Topic1\", \"Topic1\", \"Topic1\", \"Topic1\", \"Topic1\", \"Topic1\", \"Topic1\", \"Topic1\", \"Topic1\", \"Topic1\", \"Topic1\", \"Topic1\", \"Topic1\", \"Topic1\", \"Topic1\", \"Topic1\", \"Topic1\", \"Topic1\", \"Topic1\", \"Topic1\", \"Topic1\", \"Topic1\", \"Topic1\", \"Topic1\", \"Topic1\", \"Topic1\", \"Topic1\", \"Topic1\", \"Topic1\", \"Topic1\", \"Topic1\", \"Topic1\", \"Topic1\", \"Topic1\", \"Topic1\", \"Topic1\", \"Topic1\", \"Topic1\", \"Topic1\", \"Topic1\", \"Topic1\", \"Topic1\", \"Topic1\", \"Topic1\", \"Topic1\", \"Topic1\", \"Topic1\", \"Topic1\", \"Topic1\", \"Topic1\", \"Topic1\", \"Topic1\", \"Topic1\", \"Topic1\", \"Topic1\", \"Topic1\", \"Topic1\", \"Topic1\", \"Topic1\", \"Topic2\", \"Topic2\", \"Topic2\", \"Topic2\", \"Topic2\", \"Topic2\", \"Topic2\", \"Topic2\", \"Topic2\", \"Topic2\", \"Topic2\", \"Topic2\", \"Topic2\", \"Topic2\", \"Topic2\", \"Topic2\", \"Topic2\", \"Topic2\", \"Topic2\", \"Topic2\", \"Topic2\", \"Topic2\", \"Topic2\", \"Topic2\", \"Topic2\", \"Topic2\", \"Topic2\", \"Topic2\", \"Topic2\", \"Topic2\", \"Topic2\", \"Topic2\", \"Topic2\", \"Topic2\", \"Topic2\", \"Topic2\", \"Topic2\", \"Topic2\", \"Topic2\", \"Topic2\", \"Topic2\", \"Topic2\", \"Topic2\", \"Topic2\", \"Topic2\", \"Topic2\", \"Topic2\", \"Topic2\", \"Topic2\", \"Topic2\", \"Topic2\", \"Topic2\", \"Topic2\", \"Topic2\", \"Topic2\", \"Topic2\", \"Topic2\", \"Topic2\", \"Topic2\", \"Topic2\", \"Topic2\", \"Topic2\", \"Topic2\", \"Topic2\", \"Topic2\", \"Topic3\", \"Topic3\", \"Topic3\", \"Topic3\", \"Topic3\", \"Topic3\", \"Topic3\", \"Topic3\", \"Topic3\", \"Topic3\", \"Topic3\", \"Topic3\", \"Topic3\", \"Topic3\", \"Topic3\", \"Topic3\", \"Topic3\", \"Topic3\", \"Topic3\", \"Topic3\", \"Topic3\", \"Topic3\", \"Topic3\", \"Topic3\", \"Topic3\", \"Topic3\", \"Topic3\", \"Topic3\", \"Topic3\", \"Topic3\", \"Topic3\", \"Topic3\", \"Topic3\", \"Topic3\", \"Topic3\", \"Topic3\", \"Topic3\", \"Topic3\", \"Topic3\", \"Topic3\", \"Topic3\", \"Topic3\", \"Topic3\", \"Topic3\", \"Topic3\", \"Topic3\", \"Topic3\", \"Topic3\", \"Topic3\", \"Topic3\", \"Topic3\", \"Topic3\", \"Topic3\", \"Topic4\", \"Topic4\", \"Topic4\", \"Topic4\", \"Topic4\", \"Topic4\", \"Topic4\", \"Topic4\", \"Topic4\", \"Topic4\", \"Topic4\", \"Topic4\", \"Topic4\", \"Topic4\", \"Topic4\", \"Topic4\", \"Topic4\", \"Topic4\", \"Topic4\", \"Topic4\", \"Topic4\", \"Topic4\", \"Topic4\", \"Topic4\", \"Topic4\", \"Topic4\", \"Topic4\", \"Topic4\", \"Topic4\", \"Topic4\", \"Topic4\", \"Topic4\", \"Topic4\", \"Topic4\", \"Topic4\", \"Topic4\", \"Topic4\", \"Topic4\", \"Topic4\", \"Topic4\", \"Topic4\", \"Topic4\", \"Topic4\", \"Topic4\", \"Topic4\", \"Topic4\", \"Topic4\", \"Topic4\", \"Topic4\", \"Topic4\", \"Topic4\", \"Topic4\", \"Topic4\", \"Topic4\", \"Topic5\", \"Topic5\", \"Topic5\", \"Topic5\", \"Topic5\", \"Topic5\", \"Topic5\", \"Topic5\", \"Topic5\", \"Topic5\", \"Topic5\", \"Topic5\", \"Topic5\", \"Topic5\", \"Topic5\", \"Topic5\", \"Topic5\", \"Topic5\", \"Topic5\", \"Topic5\", \"Topic5\", \"Topic5\", \"Topic5\", \"Topic5\", \"Topic5\", \"Topic5\", \"Topic5\", \"Topic5\", \"Topic5\", \"Topic5\", \"Topic5\", \"Topic5\", \"Topic5\", \"Topic5\", \"Topic5\", \"Topic5\", \"Topic5\", \"Topic5\", \"Topic5\", \"Topic5\", \"Topic5\", \"Topic5\", \"Topic5\", \"Topic5\", \"Topic5\", \"Topic5\", \"Topic5\", \"Topic5\", \"Topic5\", \"Topic5\", \"Topic5\", \"Topic5\", \"Topic5\", \"Topic5\", \"Topic5\", \"Topic5\", \"Topic6\", \"Topic6\", \"Topic6\", \"Topic6\", \"Topic6\", \"Topic6\", \"Topic6\", \"Topic6\", \"Topic6\", \"Topic6\", \"Topic6\", \"Topic6\", \"Topic6\", \"Topic6\", \"Topic6\", \"Topic6\", \"Topic6\", \"Topic6\", \"Topic6\", \"Topic6\", \"Topic6\", \"Topic6\", \"Topic6\", \"Topic6\", \"Topic6\", \"Topic6\", \"Topic6\", \"Topic6\", \"Topic6\", \"Topic6\", \"Topic6\", \"Topic6\", \"Topic6\", \"Topic6\", \"Topic6\", \"Topic6\", \"Topic6\", \"Topic6\", \"Topic6\", \"Topic6\", \"Topic6\", \"Topic6\", \"Topic6\", \"Topic7\", \"Topic7\", \"Topic7\", \"Topic7\", \"Topic7\", \"Topic7\", \"Topic7\", \"Topic7\", \"Topic7\", \"Topic7\", \"Topic7\", \"Topic7\", \"Topic7\", \"Topic7\", \"Topic7\", \"Topic7\", \"Topic7\", \"Topic7\", \"Topic7\", \"Topic7\", \"Topic7\", \"Topic7\", \"Topic7\", \"Topic7\", \"Topic7\", \"Topic7\", \"Topic7\", \"Topic7\", \"Topic7\", \"Topic7\", \"Topic7\", \"Topic7\", \"Topic7\", \"Topic7\", \"Topic7\", \"Topic7\", \"Topic7\", \"Topic7\", \"Topic7\", \"Topic7\", \"Topic7\", \"Topic7\", \"Topic7\", \"Topic7\", \"Topic7\", \"Topic7\", \"Topic8\", \"Topic8\", \"Topic8\", \"Topic8\", \"Topic8\", \"Topic8\", \"Topic8\", \"Topic8\", \"Topic8\", \"Topic8\", \"Topic8\", \"Topic8\", \"Topic8\", \"Topic8\", \"Topic8\", \"Topic8\", \"Topic8\", \"Topic8\", \"Topic8\", \"Topic8\", \"Topic8\", \"Topic8\", \"Topic8\", \"Topic8\", \"Topic8\", \"Topic8\", \"Topic8\", \"Topic8\", \"Topic8\", \"Topic8\", \"Topic8\", \"Topic8\", \"Topic8\", \"Topic8\", \"Topic8\", \"Topic8\", \"Topic8\", \"Topic8\", \"Topic8\", \"Topic8\", \"Topic8\", \"Topic8\", \"Topic8\", \"Topic8\", \"Topic8\", \"Topic8\", \"Topic8\", \"Topic9\", \"Topic9\", \"Topic9\", \"Topic9\", \"Topic9\", \"Topic9\", \"Topic9\", \"Topic9\", \"Topic9\", \"Topic9\", \"Topic9\", \"Topic9\", \"Topic9\", \"Topic9\", \"Topic9\", \"Topic9\", \"Topic9\", \"Topic9\", \"Topic9\", \"Topic9\", \"Topic9\", \"Topic9\", \"Topic9\", \"Topic9\", \"Topic9\", \"Topic9\", \"Topic9\", \"Topic9\", \"Topic9\", \"Topic9\", \"Topic9\", \"Topic9\", \"Topic9\", \"Topic9\", \"Topic9\", \"Topic9\", \"Topic9\", \"Topic9\", \"Topic9\", \"Topic9\", \"Topic10\", \"Topic10\", \"Topic10\", \"Topic10\", \"Topic10\", \"Topic10\", \"Topic10\", \"Topic10\", \"Topic10\", \"Topic10\", \"Topic10\", \"Topic10\", \"Topic10\", \"Topic10\", \"Topic10\", \"Topic10\", \"Topic10\", \"Topic10\", \"Topic10\", \"Topic10\", \"Topic10\", \"Topic10\", \"Topic10\", \"Topic10\", \"Topic10\", \"Topic10\", \"Topic10\", \"Topic10\", \"Topic10\", \"Topic10\", \"Topic10\", \"Topic10\", \"Topic10\", \"Topic10\", \"Topic10\", \"Topic10\", \"Topic10\", \"Topic10\", \"Topic10\", \"Topic10\", \"Topic10\", \"Topic10\", \"Topic10\", \"Topic10\", \"Topic10\", \"Topic10\", \"Topic10\", \"Topic10\", \"Topic10\"], \"logprob\": [30.0, 29.0, 28.0, 27.0, 26.0, 25.0, 24.0, 23.0, 22.0, 21.0, 20.0, 19.0, 18.0, 17.0, 16.0, 15.0, 14.0, 13.0, 12.0, 11.0, 10.0, 9.0, 8.0, 7.0, 6.0, 5.0, 4.0, 3.0, 2.0, 1.0, -5.9403, -6.2914, -6.4035, -6.5597, -6.711, -6.8286, -6.8449, -6.8434, -5.8691, -6.7524, -6.9511, -6.9667, -6.9951, -7.0013, -6.8329, -6.9911, -7.0431, -7.2007, -7.2101, -7.2262, -7.2367, -7.2604, -7.2695, -7.3326, -7.335, -7.3581, -7.3675, -7.407, -7.4142, -7.4202, -6.5479, -6.4754, -6.0264, -7.0584, -6.7547, -6.6137, -7.1735, -6.0006, -5.6673, -6.2311, -6.2915, -6.5331, -6.2197, -5.5107, -4.9952, -5.3046, -6.3732, -6.4369, -6.2129, -5.6575, -5.9928, -5.5046, -5.535, -5.7987, -6.0593, -4.7704, -6.0485, -5.6263, -5.7742, -5.7366, -5.3837, -5.4815, -5.6922, -5.6561, -6.1304, -5.7469, -5.5529, -5.4494, -6.0003, -5.9893, -6.0146, -6.027, -5.8714, -5.9203, -5.944, -5.3732, -5.6707, -5.7809, -6.0533, -6.1406, -6.5298, -6.5685, -6.5689, -6.6063, -6.6226, -6.6424, -6.6532, -6.679, -6.5989, -6.6919, -6.7109, -6.7306, -6.7587, -6.7595, -6.7804, -6.7928, -6.7981, -6.8026, -6.8542, -6.8963, -6.8963, -6.9069, -6.9299, -6.95, -6.956, -4.2865, -6.3983, -5.1481, -6.3026, -6.5208, -5.6857, -6.1022, -5.0546, -6.1492, -6.3644, -5.1546, -6.0152, -5.83, -5.5207, -5.9968, -5.5685, -6.384, -5.5746, -5.3332, -5.5589, -5.316, -5.6436, -6.0201, -6.0725, -5.8236, -5.6465, -5.8758, -6.145, -6.0383, -5.5409, -6.0164, -5.9118, -6.0723, -6.0744, -6.0731, -5.4759, -4.6136, -5.9101, -5.9102, -4.8535, -5.1626, -5.5081, -6.1741, -6.0595, -5.8201, -5.6433, -5.751, -6.5071, -5.9276, -6.5507, -6.5677, -6.5691, -5.9607, -6.5716, -6.05, -6.6119, -6.6, -6.6899, -6.6974, -6.6794, -6.7119, -6.676, -6.7478, -6.762, -6.7814, -5.3245, -6.7271, -6.6101, -6.1813, -5.5377, -6.4374, -6.5541, -6.0161, -6.2472, -5.8797, -5.7779, -5.4656, -5.5891, -5.1233, -5.8349, -6.3821, -5.9778, -5.8919, -6.2053, -5.8211, -6.0561, -6.1009, -6.1695, -5.5318, -5.7596, -5.8882, -6.1026, -6.3342, -6.453, -6.4835, -6.1684, -6.508, -6.3206, -6.7365, -6.406, -6.7471, -6.7587, -6.8043, -6.8381, -6.8381, -6.8381, -6.8793, -6.871, -6.8857, -6.8862, -6.8944, -6.9202, -6.9599, -6.9907, -6.9941, -6.9976, -6.9983, -7.0324, -6.4579, -6.3104, -6.599, -6.8388, -6.0245, -6.1371, -6.2847, -5.1816, -5.7788, -6.409, -5.8064, -6.745, -5.8215, -5.786, -6.2881, -6.5668, -6.2808, -6.569, -6.4845, -6.4891, -6.5181, -6.5279, -6.5251, -6.5489, -5.7879, -6.0514, -6.4538, -5.8585, -6.5437, -6.5561, -6.6054, -6.6421, -6.6764, -6.7329, -6.8188, -6.9103, -6.9131, -6.9308, -6.3855, -6.972, -6.9787, -6.9988, -7.019, -7.0684, -7.0714, -7.0788, -6.4646, -7.1075, -7.1302, -7.162, -7.1622, -6.7516, -5.5707, -7.191, -6.5732, -5.784, -6.7964, -5.7798, -6.6576, -6.6104, -6.641, -5.9776, -6.2965, -5.4307, -6.4571, -5.7765, -6.5823, -5.5717, -6.2295, -6.241, -6.3307, -6.2422, -6.352, -6.3902, -6.4758, -6.47, -6.3851, -6.4882, -6.5239, -6.5589, -5.8594, -5.8663, -5.9258, -5.9258, -5.9258, -5.9867, -6.0132, -6.0132, -6.0132, -6.0132, -6.0132, -6.0132, -6.0132, -6.0132, -6.0132, -6.0132, -6.0132, -6.0132, -6.0132, -6.0132, -6.0132, -6.0132, -6.0132, -6.0132, -6.0132, -6.0132, -6.0132, -6.0132, -6.0132, -6.0132, -4.0962, -5.0881, -5.9527, -5.9562, -5.7104, -5.7295, -5.8888, -5.8382, -5.7864, -5.8255, -5.9017, -5.9795, -6.0013, -5.5145, -5.5938, -5.6002, -5.6773, -5.7026, -5.7066, -6.0345, -6.3327, -6.362, -6.4142, -6.4222, -6.5299, -6.6279, -6.6636, -6.6845, -6.6932, -6.7355, -6.7406, -6.8063, -6.8063, -6.8063, -6.8063, -6.8063, -6.8204, -6.9042, -6.9142, -6.9142, -6.9497, -6.9514, -6.5053, -6.5071, -6.7759, -6.3258, -6.7421, -6.7059, -5.2603, -5.8712, -6.644, -6.7003, -6.3467, -6.4612, -6.7506, -6.6827, -6.6838, -6.7184, -6.7354, -4.3564, -5.1841, -5.4853, -5.6865, -5.7077, -5.7269, -5.7269, -5.7269, -5.7281, -5.7285, -5.7352, -5.7643, -5.769, -5.8145, -5.8145, -5.8145, -5.8145, -5.8145, -5.8145, -5.8145, -5.8145, -5.8145, -5.8145, -5.8145, -5.8145, -5.8145, -5.8145, -5.8145, -5.8145, -5.8145, -5.3769, -5.76, -5.5314, -4.5289, -5.2023, -5.7602, -5.5945, -5.6033, -5.6803, -5.6919, -5.6125, -5.6703, -5.668, -5.7348, -5.7778, -5.7934, -5.8083, -5.2786, -5.4276, -5.4281, -5.4377, -5.4488, -5.5161, -5.5244, -5.8562, -6.0527, -6.2258, -6.3825, -6.3996, -6.4104, -6.0727, -5.5166, -6.5346, -6.6377, -6.6456, -6.0652, -6.7523, -6.7523, -6.7523, -6.781, -6.7944, -6.9096, -7.0105, -7.0106, -7.0106, -7.0106, -7.0106, -6.6235, -6.6706, -6.4652, -5.3929, -6.4252, -6.3343, -6.7256, -6.7341, -6.7373, -6.7383, -5.5384, -6.5748, -6.5969, -6.7105, -6.9687, -6.9687, -6.9687, -6.9703, -6.9703, -6.9703, -6.5948, -7.1027, -7.1027, -7.1027, -7.1027, -7.1444, -7.1506, -7.1694, -7.1956, -7.2222, -7.2222, -7.2229, -7.235, -7.2444, -7.2463, -7.0832, -7.348, -7.052, -7.4044, -7.4207, -6.4295, -6.8909, -6.9687, -6.8194, -6.7105, -7.0228, -7.0229, -6.7684, -7.1027, -6.6582, -7.0416, -6.7932, -6.7628, -7.0901, -6.9195, -6.9478, -7.0709, -7.08, -7.0882], \"loglift\": [30.0, 29.0, 28.0, 27.0, 26.0, 25.0, 24.0, 23.0, 22.0, 21.0, 20.0, 19.0, 18.0, 17.0, 16.0, 15.0, 14.0, 13.0, 12.0, 11.0, 10.0, 9.0, 8.0, 7.0, 6.0, 5.0, 4.0, 3.0, 2.0, 1.0, 0.9149, 0.9121, 0.9112, 0.9088, 0.9074, 0.9062, 0.906, 0.9059, 0.9058, 0.9051, 0.9043, 0.904, 0.9035, 0.9034, 0.9031, 0.903, 0.9014, 0.8994, 0.8991, 0.8988, 0.8985, 0.898, 0.8978, 0.8963, 0.8962, 0.8956, 0.8954, 0.8943, 0.8942, 0.8939, 0.8927, 0.8899, 0.8811, 0.8913, 0.8807, 0.8761, 0.8918, 0.8541, 0.8324, 0.8482, 0.8447, 0.8589, 0.8361, 0.7871, 0.7144, 0.7358, 0.8341, 0.8378, 0.8089, 0.6819, 0.7344, 0.6251, 0.6176, 0.6688, 0.7299, 0.4163, 0.7227, 0.6025, 0.632, 0.6165, 0.471, 0.4763, 0.4834, 0.3889, 0.6688, 0.3643, 0.1964, 0.0992, 0.551, 0.5298, 0.5113, 0.5048, 0.1873, 0.2554, 0.2618, 1.4118, 1.4095, 1.4084, 1.4054, 1.4042, 1.3975, 1.3967, 1.3967, 1.3959, 1.3955, 1.395, 1.3948, 1.3942, 1.3941, 1.3939, 1.3934, 1.3929, 1.3922, 1.3922, 1.3916, 1.3913, 1.3912, 1.391, 1.3896, 1.3884, 1.3884, 1.3881, 1.3874, 1.3868, 1.3866, 1.3759, 1.3843, 1.3513, 1.3748, 1.3752, 1.3135, 1.3027, 1.061, 1.2562, 1.2797, 0.8072, 1.1077, 1.0351, 0.9049, 1.0841, 0.8474, 1.2416, 0.7701, 0.4161, 0.4861, 0.2326, 0.5321, 0.8281, 0.8814, 0.6131, 0.4123, 0.6299, 0.9558, 0.7717, -0.3541, 0.6605, 0.1994, 0.4056, 0.1314, -0.1153, 2.1038, 2.1007, 2.0967, 2.0967, 2.0965, 2.0947, 2.0905, 2.0904, 2.09, 2.0893, 2.089, 2.0852, 2.0796, 2.079, 2.0779, 2.0773, 2.0772, 2.0772, 2.077, 2.0761, 2.0755, 2.0745, 2.0717, 2.0717, 2.0714, 2.0711, 2.0709, 2.0688, 2.0687, 2.0674, 2.0398, 2.0664, 2.0516, 1.9752, 1.8399, 2.0048, 2.0091, 1.7479, 1.8585, 1.5711, 1.4513, 1.2195, 1.1151, 0.0634, 0.6591, 1.7188, 0.5614, 0.3139, 1.1094, -0.2725, 0.3599, 0.2438, 0.0593, 2.7575, 2.7504, 2.7441, 2.7361, 2.7234, 2.7158, 2.7137, 2.7048, 2.698, 2.6975, 2.6937, 2.6934, 2.6927, 2.6917, 2.6875, 2.6843, 2.6843, 2.6843, 2.6802, 2.6802, 2.6796, 2.6796, 2.6787, 2.6761, 2.6718, 2.6685, 2.6681, 2.6677, 2.6676, 2.6636, 2.6354, 2.5673, 2.6071, 2.6331, 2.1144, 2.0838, 2.0328, 0.0051, 0.45, 1.6866, 0.3233, 2.3926, 0.0332, -0.2374, 0.9328, 1.7847, -0.319, 1.3411, 0.6403, -0.3735, -0.0187, 0.0771, -0.3495, -0.0549, 2.8521, 2.8398, 2.8145, 2.8136, 2.8078, 2.8068, 2.8027, 2.7994, 2.7963, 2.791, 2.7823, 2.7723, 2.772, 2.7699, 2.7666, 2.7651, 2.7643, 2.7618, 2.7593, 2.753, 2.7526, 2.7516, 2.7492, 2.7475, 2.7447, 2.7403, 2.7402, 2.7386, 2.7381, 2.7361, 2.7347, 2.5418, 2.6824, 2.439, 2.6211, 2.5948, 2.5412, 2.1737, 2.0499, 1.0884, 2.1921, 1.2266, 2.2485, 0.3901, 1.1378, 0.7547, 0.7825, -0.0665, 0.1154, 0.1154, 0.7884, 0.4839, -0.8365, -1.3015, -0.6692, 0.7853, 3.1876, 3.1874, 3.1836, 3.1836, 3.1836, 3.1794, 3.1775, 3.1775, 3.1775, 3.1775, 3.1775, 3.1775, 3.1775, 3.1775, 3.1775, 3.1775, 3.1775, 3.1775, 3.1775, 3.1775, 3.1775, 3.1775, 3.1775, 3.1775, 3.1775, 3.1775, 3.1775, 3.1775, 3.1775, 3.1775, 2.3294, 0.4605, 2.9485, 2.9564, 0.6343, 0.2323, 1.6651, 0.8674, 0.1714, -0.0761, 1.0166, 1.9105, 1.8111, 3.5629, 3.5577, 3.5575, 3.5519, 3.55, 3.5497, 3.52, 3.4845, 3.4804, 3.4732, 3.472, 3.4555, 3.4391, 3.4328, 3.429, 3.4274, 3.4196, 3.4184, 3.4057, 3.4057, 3.4057, 3.4057, 3.4057, 3.4028, 3.3852, 3.3831, 3.3831, 3.3752, 3.3748, 3.3715, 3.3598, 3.3377, 3.0736, 3.2059, 3.1341, 0.4494, 1.1655, 2.936, 2.8542, -0.2879, -0.4209, 2.6035, -0.1831, -0.8291, -0.1222, 1.749, 3.7169, 3.6862, 3.6673, 3.6516, 3.6497, 3.6481, 3.6481, 3.6481, 3.648, 3.6479, 3.6472, 3.6447, 3.6439, 3.6399, 3.6399, 3.6399, 3.6399, 3.6399, 3.6399, 3.6399, 3.6399, 3.6399, 3.6399, 3.6399, 3.6399, 3.6399, 3.6399, 3.6399, 3.6399, 3.6399, 3.1694, 3.5823, 3.2, 1.3258, 0.9734, 3.2891, 0.3633, 0.4555, 1.5406, 1.5765, -0.0639, 0.9865, 0.6713, 1.3825, 1.7469, 1.2781, 2.0121, 3.9737, 3.9613, 3.9612, 3.9604, 3.9593, 3.9529, 3.9521, 3.9142, 3.8858, 3.8567, 3.8265, 3.823, 3.8207, 3.8097, 3.8073, 3.7934, 3.7687, 3.7664, 3.7419, 3.7389, 3.7389, 3.7389, 3.7306, 3.7273, 3.6937, 3.6619, 3.6619, 3.6619, 3.6619, 3.6619, 3.6334, 3.5622, 3.4455, 2.7662, 2.828, 1.4592, 2.7911, 2.7812, 2.7774, 2.7761, 3.9921, 3.8195, 3.8139, 3.7842, 3.707, 3.707, 3.707, 3.705, 3.705, 3.705, 3.7011, 3.6612, 3.6612, 3.6612, 3.6612, 3.646, 3.6432, 3.6368, 3.6265, 3.6168, 3.6168, 3.6164, 3.6115, 3.6077, 3.6074, 3.5953, 3.5663, 3.5591, 3.5427, 3.5356, 3.5138, 3.4804, 3.3216, 3.1777, 3.062, 3.2676, 3.2675, 2.7143, 3.1579, 0.9846, 2.7242, 0.4627, -0.5571, 3.0269, 0.4748, -0.8181, 1.5866, -1.3306, -1.5396]}, \"token.table\": {\"Topic\": [9, 5, 5, 10, 8, 10, 1, 6, 1, 2, 3, 4, 5, 9, 6, 4, 6, 1, 2, 4, 6, 10, 3, 1, 2, 3, 5, 7, 4, 1, 2, 3, 8, 9, 9, 1, 5, 1, 5, 3, 5, 6, 7, 2, 2, 1, 4, 10, 2, 3, 5, 8, 10, 8, 10, 6, 8, 10, 1, 10, 8, 6, 2, 10, 10, 10, 3, 2, 3, 1, 2, 3, 4, 5, 6, 4, 7, 4, 7, 8, 2, 5, 1, 5, 6, 10, 1, 2, 6, 7, 1, 5, 4, 3, 4, 7, 7, 6, 5, 2, 5, 1, 2, 3, 6, 1, 6, 3, 3, 1, 2, 3, 4, 6, 6, 9, 1, 1, 2, 3, 4, 5, 6, 8, 10, 8, 2, 4, 2, 1, 5, 5, 9, 1, 6, 1, 2, 5, 7, 10, 7, 9, 2, 2, 4, 2, 1, 2, 4, 2, 9, 1, 2, 3, 1, 2, 5, 7, 3, 5, 9, 2, 8, 2, 10, 5, 2, 5, 1, 2, 3, 5, 3, 1, 2, 9, 10, 9, 1, 3, 4, 1, 4, 7, 8, 1, 2, 3, 5, 8, 5, 10, 2, 10, 1, 3, 9, 1, 3, 1, 7, 1, 2, 3, 4, 5, 6, 7, 8, 10, 8, 6, 1, 2, 3, 6, 10, 4, 9, 1, 7, 1, 7, 6, 7, 7, 9, 1, 10, 5, 1, 2, 3, 4, 6, 7, 10, 6, 1, 2, 3, 1, 2, 3, 4, 5, 6, 10, 4, 9, 3, 9, 10, 8, 5, 9, 10, 1, 2, 8, 1, 9, 10, 5, 1, 7, 8, 8, 6, 4, 4, 1, 2, 3, 4, 9, 9, 3, 4, 5, 10, 1, 2, 3, 5, 7, 9, 10, 5, 8, 1, 2, 3, 4, 6, 7, 8, 10, 2, 3, 1, 3, 3, 10, 9, 9, 1, 2, 6, 8, 8, 1, 2, 3, 4, 1, 4, 1, 3, 5, 6, 6, 1, 2, 5, 7, 3, 5, 1, 2, 3, 4, 5, 6, 8, 1, 2, 3, 4, 8, 10, 4, 9, 9, 9, 10, 3, 1, 3, 4, 5, 3, 4, 3, 2, 1, 2, 5, 8, 5, 9, 8, 2, 1, 2, 5, 7, 8, 6, 7, 9, 1, 4, 6, 6, 1, 9, 1, 10, 7, 3, 1, 4, 1, 2, 5, 8, 10, 6, 4, 1, 2, 3, 4, 5, 8, 6, 1, 2, 8, 10, 1, 10, 1, 4, 5, 6, 9, 1, 4, 1, 7, 1, 2, 9, 1, 2, 10, 1, 2, 3, 4, 6, 7, 9, 3, 5, 2, 6, 2, 1, 2, 5, 6, 6, 1, 4, 4, 1, 1, 2, 3, 6, 8, 1, 2, 3, 4, 5, 7, 9, 2, 1, 2, 3, 8, 1, 2, 4, 5, 2, 3, 1, 5, 7, 5, 8, 1, 3, 9, 1, 2, 8, 4, 7, 5, 1, 5, 8, 8, 1, 2, 3, 9, 1, 2, 3, 4, 7, 9, 1, 4, 1, 2, 3, 4, 5, 6, 7, 8, 9, 10, 10, 1, 5, 8, 3, 5, 8, 8, 6, 1, 2, 3, 4, 6, 5, 9, 1, 3, 4, 6, 9, 8, 2, 6, 4, 1, 2, 7, 8, 9, 10, 2, 10, 2, 3, 1, 2, 6, 2, 9, 9, 4, 2, 5, 7, 8, 4, 5, 6, 5, 1, 7, 4, 3, 1, 2, 5, 6, 1, 10, 8, 2, 6, 1, 2, 3, 4, 5, 7, 8, 6, 3, 6, 1, 2, 3, 2, 2, 4, 1, 2, 3, 4, 3, 1, 2, 5, 7, 10, 4, 1, 4, 10, 1, 1, 2, 3, 4, 5, 7, 9, 10, 3, 1, 3, 4, 7, 1, 2, 3, 4, 5, 1, 2, 3, 5, 3, 5, 4, 1, 2, 3, 5, 6, 1, 2, 5, 2, 4, 6, 5, 4, 10, 1, 1, 2, 3, 7, 1, 2, 4, 5, 7, 5, 1, 5, 3, 4, 5, 1, 2, 9, 9, 1, 2, 3, 4, 6, 4, 5, 8, 4, 2, 3, 8, 9, 1, 8, 1, 2, 3, 4, 5, 6, 7, 10, 10, 9, 4, 9, 2, 3, 10, 8, 5, 8, 1, 2, 3, 4, 5, 10, 1, 2, 3, 4, 1, 2, 3, 5, 2, 1, 2, 6, 8, 1, 5, 1, 7, 1, 7, 10, 1, 4, 6, 7, 7, 6, 7, 7, 7, 2, 3, 9, 3, 9, 4, 1, 2, 5, 5, 6, 1, 8, 2, 9, 1, 1, 2, 3, 4, 5, 6, 8, 10, 7, 2, 10, 1, 4, 7, 7, 1, 4, 2, 1, 2, 4, 5, 6, 1, 2, 3, 4, 5, 7, 8, 9, 5, 6, 10, 1, 7, 1, 2, 3, 10, 7, 2, 3, 10, 4, 1, 2, 3, 4, 5, 6, 7, 8, 2, 1, 2, 3, 4, 5, 6, 5, 4, 2, 3, 4, 5, 8, 6, 8, 4, 4, 8, 1, 7, 1, 7, 1, 2, 3, 4, 10, 3, 4, 10, 2, 6, 6, 7, 7, 1, 2, 3, 5, 6, 1, 2, 3, 4, 5, 6, 7, 8, 10, 1, 2, 3, 4, 5, 8, 9, 4, 8, 10, 3, 3, 1, 2, 5, 7, 2, 4, 4, 3, 9, 1, 2, 3, 5, 6, 9, 5, 1, 2, 4, 4, 7, 7, 2, 7, 1, 3, 9, 1, 3, 9, 4, 7, 10, 2, 1, 6, 1, 3, 5, 6, 7, 1, 2, 3, 4, 5, 6, 7, 1, 3, 1, 2, 3, 6, 1, 2, 3, 2, 1, 2, 3, 5, 3, 5, 1, 2, 3, 4, 5, 6, 4, 2, 10, 1, 2, 3, 4, 5, 9, 2, 2, 5, 7, 3, 9, 1, 2, 4, 5, 9, 9, 1, 2, 3, 4, 5, 6, 7, 10, 1, 2, 3, 4, 6, 9, 1, 10, 1, 2, 3, 4, 5, 6, 7, 8, 9, 10, 1, 2, 4, 10], \"Freq\": [0.9095583323928045, 0.9478921368744506, 0.9567296229397056, 0.5513284939229243, 0.8963934813376235, 0.47430994047071706, 0.9863530600031973, 0.9435268817389006, 0.4112021885151337, 0.3655130564578966, 0.16317547163298957, 0.02610807546127833, 0.02610807546127833, 0.013054037730639165, 0.8853336626704852, 0.8152457856039826, 0.8853336626704852, 0.23033873567672283, 0.23033873567672283, 0.3290553366810326, 0.19743320200861958, 0.8685286960665742, 0.9678638246988319, 0.359186021247259, 0.5576835593049548, 0.04726131858516566, 0.018904527434066263, 0.009452263717033131, 0.9486755902775702, 0.8108074897085644, 0.024203208648016845, 0.07260962594405054, 0.08471123026805896, 0.012101604324008423, 0.8169879038508507, 0.5496757596969466, 0.4228275074591897, 0.9833617699543219, 0.8557681399075159, 0.29039819671287725, 0.14519909835643863, 0.14519909835643863, 0.4355972950693159, 0.9541422918585427, 0.9823584272021461, 0.9635312461786886, 0.2867436605425533, 0.2867436605425533, 0.05771231795765683, 0.2308492718306273, 0.2885615897882841, 0.2885615897882841, 0.05771231795765683, 0.5280080768414925, 0.35200538456099506, 0.8853336626704852, 0.29538604771695914, 0.5907720954339183, 0.9767099267656888, 0.4743100483380132, 0.8963934813376235, 0.9598027972388045, 0.9688444085382664, 0.574994759598377, 0.5113142321785343, 0.4887474876701901, 0.9937093964236617, 0.022880409294898135, 0.9609771903857217, 0.20899912373699267, 0.6996927185977581, 0.013630377635021262, 0.040891132905063785, 0.027260755270042524, 0.009086918423347507, 0.9594878448349381, 0.7951108350072597, 0.9594878448349381, 0.9453387965440404, 0.9475321522818265, 0.9732806321552098, 0.8696173830472, 0.690394518837607, 0.0627631380761461, 0.18828941422843828, 0.041842092050764064, 0.6556489625349251, 0.2294771368872238, 0.0901517323485522, 0.01639122406337313, 0.9927768840911013, 0.9324447990993425, 0.9492207826251613, 0.9837824527491247, 0.008267079434866594, 0.9437482216279991, 0.8924332924324352, 0.8853336626704852, 0.8851469791940789, 0.9701935568517831, 0.02694982102366064, 0.5949289423334222, 0.09915482372223704, 0.07436611779167777, 0.2478870593055926, 0.9825874034039106, 0.8853336626704852, 0.9702418298382038, 0.9531558316662978, 0.928941519609678, 0.011909506661662538, 0.03572851998498761, 0.023819013323325075, 0.9372578439080793, 0.8853336626704852, 0.8557871151140494, 0.9724421638316086, 0.6401862870586776, 0.21727534591082392, 0.02327950134758828, 0.0077598337825294265, 0.02715941823885299, 0.04655900269517656, 0.03491925202138242, 0.0038799168912647133, 0.8963934813376235, 0.9014380829249601, 0.08794517882194733, 0.9819462867023403, 0.9769089477289751, 0.7799797105668731, 0.9608704921267713, 0.9163568567940162, 0.9844080644201655, 0.8853336626704852, 0.661275418933433, 0.31686113823893663, 0.006888285613889927, 0.006888285613889927, 0.006888285613889927, 0.9174109901732396, 0.7445955891407213, 0.9920436734660387, 0.9336670353186111, 0.06002145227048214, 0.958967532499184, 0.9722492945189037, 0.14385526940630977, 0.7912039817347037, 0.981230189393382, 0.8657303909848297, 0.23155580858594624, 0.0661588024531275, 0.661588024531275, 0.966958738529621, 0.015851782598846245, 0.9059631164562648, 0.10066256849514053, 0.9814748842202103, 0.8518701307242861, 0.0946522367471429, 0.9737780090981597, 0.8963934813376235, 0.9624767780593886, 0.024061919451484715, 0.926482752749643, 0.21482110365529045, 0.7518738627935165, 0.9443562497058886, 0.03256400861054788, 0.01628200430527394, 0.9129064416143907, 0.972433939517769, 0.3076228367620207, 0.6825381690657334, 0.009613213648813146, 0.5940621685553048, 0.9594082301344483, 0.16620204847716386, 0.7645294229949537, 0.03324040969543277, 0.7134622109545643, 0.15092469847115783, 0.01372042713374162, 0.10976341706993296, 0.21472108628892064, 0.5644097125308771, 0.17177686903113654, 0.006134888179683448, 0.042944217257784134, 0.8063738934768363, 0.5152060025467966, 0.9757065638162647, 0.8682759508329553, 0.4088667255848086, 0.27257781705653905, 0.27257781705653905, 0.10491539148374315, 0.8742949290311929, 0.9800602678284535, 0.7300193777333965, 0.4850943158837973, 0.36854568154807976, 0.0661492248932451, 0.006299926180309056, 0.006299926180309056, 0.03464959399169981, 0.006299926180309056, 0.022049741631081695, 0.003149963090154528, 0.8963934813376235, 0.8853336626704852, 0.48220079178407244, 0.24110039589203622, 0.02678893287689291, 0.2678893287689291, 0.47431024249926984, 0.4041694492161459, 0.6062541738242189, 0.9901058420279052, 0.9517496544908932, 0.9915871631794169, 0.8492341662183294, 0.8853336626704852, 0.9418505615397338, 0.2857012061632537, 0.5714024123265073, 0.994630477519038, 0.6664711162209125, 0.9242554195611397, 0.5170606574056981, 0.2784172770646066, 0.16406732398450033, 0.014915211271318212, 0.00994347418087881, 0.004971737090439405, 0.00994347418087881, 0.8853336626704852, 0.22448075679255397, 0.18994525574754567, 0.5871035177651411, 0.4093381651362285, 0.4563113972010416, 0.0469732320648131, 0.013420923447089459, 0.06039415551190256, 0.013420923447089459, 0.006710461723544729, 0.27888591299818644, 0.5577718259963729, 0.963332867806709, 0.030104152118959657, 0.7248155126443362, 0.9469287612780128, 0.9652539596536226, 0.7857534089632136, 0.5180972163196734, 0.5247999150078645, 0.2998856657187797, 0.1749333050026215, 0.7012729135955662, 0.28050916543822646, 0.8682760812470525, 0.801667725654688, 0.9898794190904221, 0.8711000172087161, 0.9654289556938569, 0.9472139144607774, 0.8853336626704852, 0.8910737203727521, 0.8583987195509069, 0.31819850897785873, 0.11067774225316826, 0.5118845579209031, 0.041504153344938094, 0.013834717781646032, 0.6672363727737175, 0.9185185918398263, 0.03167305489102849, 0.015836527445514247, 0.015836527445514247, 0.7374193137380073, 0.1613104748801891, 0.07489414905151637, 0.005761088388578182, 0.011522176777156364, 0.005761088388578182, 0.005761088388578182, 0.34159968428725834, 0.5977994475027021, 0.8113306649357629, 0.06660177100218949, 0.05449235809270049, 0.012109412909488998, 0.009082059682116748, 0.04238294518321149, 0.006054706454744499, 0.5188840669558029, 0.9863731407231339, 0.9723411550840013, 0.09307165963624667, 0.8841807665443433, 0.95141090930704, 0.5115128503288445, 0.8312111149714559, 0.8657807898873748, 0.5611778211897803, 0.30217267294834327, 0.02877834980460412, 0.11511339921841648, 0.8963934813376235, 0.51243280973168, 0.10550087259181648, 0.36171727745765647, 0.015071553227402354, 0.7379747376389992, 0.24599157921299974, 0.9775348763871956, 0.4118038559268654, 0.5490718079024872, 0.8853336626704852, 0.8853336626704852, 0.24882421087891943, 0.7340314220928124, 0.012441210543945973, 0.8194500380079998, 0.9647059372758205, 0.0253869983493637, 0.8226413376312337, 0.07876353232639471, 0.035006014367286536, 0.026254510775464906, 0.017503007183643268, 0.017503007183643268, 0.008751503591821634, 0.6478980239714416, 0.156120005776251, 0.10147800375456315, 0.02341800086643765, 0.06244800231050039, 0.007806000288812549, 0.8651977378786813, 0.8657807898873748, 0.8352586452338285, 0.8078920052829891, 0.6555337552559674, 0.9466911820209896, 0.9202997112710823, 0.02521369071975568, 0.01260684535987784, 0.03782053607963352, 0.8929285353053319, 0.05252520795913717, 0.9608040243738554, 0.9775292925474458, 0.6929779683381966, 0.20118715209818608, 0.022354128010909566, 0.07823944803818347, 0.8848552022375349, 0.7222717626510541, 0.859888684848679, 0.9893323693712397, 0.3046682967011392, 0.5883249867332343, 0.09455223001069837, 0.010505803334522041, 0.9462192300271185, 0.3636011772308514, 0.606001962051419, 0.6635532551641778, 0.09989972202581589, 0.7991977762065271, 0.8853336626704852, 0.8853336626704852, 0.9787440647759785, 0.8657807898873748, 0.44066307734056814, 0.44066307734056814, 0.8194500380079998, 0.9783364843275062, 0.9628768231602863, 0.030089900723758948, 0.417469461141202, 0.06957824352353367, 0.4870477046647357, 0.8963934813376235, 0.4948136192896485, 0.8853336626704852, 0.8928341786447499, 0.3711020190862689, 0.4082122209948958, 0.04948026921150252, 0.02474013460575126, 0.04948026921150252, 0.09896053842300503, 0.8853336626704852, 0.42761653515304826, 0.42761653515304826, 0.13014416287266686, 0.5113142503174447, 0.2954207111257526, 0.2954207111257526, 0.6731810032223485, 0.08828603320948834, 0.18760782057016273, 0.022071508302372086, 0.011035754151186043, 0.9875958243266281, 0.9568095189949564, 0.9775596118124054, 0.7088901487574104, 0.974303079133913, 0.017093036476033562, 0.8281762262227068, 0.7343562685928043, 0.2284663946733169, 0.03263805638190241, 0.6234580249016245, 0.05969278961824065, 0.23213862629315807, 0.05969278961824065, 0.01989759653941355, 0.006632532179804516, 0.006632532179804516, 0.9739307480722204, 0.8544611696355341, 0.2209204719417722, 0.7364015731392407, 0.989016177010194, 0.517654996972618, 0.46987145879053016, 0.007963923030347968, 0.8853336626704852, 0.8853336626704852, 0.07161201040398041, 0.9309561352517453, 0.8978649528788951, 0.9727390767292469, 0.8882600823681224, 0.06746279106593335, 0.022487597021977782, 0.011243798510988891, 0.8963934813376235, 0.6464806771597449, 0.17850585861873552, 0.07719172264593968, 0.04342034398834107, 0.05306930931908353, 0.00482448266537123, 0.9598226706035966, 0.9838213820715553, 0.7841767495687185, 0.15910832599945013, 0.005682440214266076, 0.045459521714128606, 0.10283566914540837, 0.8432524869923487, 0.020567133829081676, 0.020567133829081676, 0.9856799501346454, 0.9272681604561861, 0.24853329718568148, 0.7041776753594309, 0.04142221619761358, 0.8217220767488091, 0.8963934813376235, 0.40802063106925396, 0.27201375404616934, 0.27201375404616934, 0.3107260247057923, 0.12429040988231693, 0.5593068444704262, 0.9462607967027745, 0.9201331075480185, 0.9348277684324106, 0.9515309729176828, 0.03590682916670501, 0.8963934813376235, 0.8963934813376235, 0.5898625871380302, 0.19430767576311583, 0.20818679546048127, 0.7198820625988082, 0.9138586141135973, 0.01334100166589193, 0.020011502498837895, 0.02668200333178386, 0.020011502498837895, 0.006670500832945965, 0.08923579900678531, 0.8923579900678531, 0.8301497467064776, 0.046353539156199254, 0.04213958105109023, 0.03371166484087219, 0.004213958105109023, 0.01264187431532707, 0.016855832420436093, 0.004213958105109023, 0.004213958105109023, 0.004213958105109023, 0.47430994047071706, 0.979760482830916, 0.11447458949713556, 0.8013221264799489, 0.3098607395596087, 0.10328691318653622, 0.5680780225259493, 0.9462192300271185, 0.8853336626704852, 0.7354725277167328, 0.14615159204627384, 0.05657480982436406, 0.03771653988290938, 0.01885826994145469, 0.7872535895354876, 0.13120893158924793, 0.5594787879918142, 0.17027615286707387, 0.1459509881717776, 0.024325164695296265, 0.0729754940858888, 0.8963934813376235, 0.9799963956767587, 0.8853336626704852, 0.8854192045612131, 0.5114114231665612, 0.41009406574677076, 0.004824636067609068, 0.06272026887891788, 0.004824636067609068, 0.4355270994191236, 0.9640029124040862, 0.8685287513996554, 0.974465920396243, 0.9257834482603509, 0.9204274724910696, 0.06767849062434335, 0.01353569812486867, 0.9706901336753808, 0.9202364130484513, 0.7222716080025103, 0.9472934937430693, 0.33496872398623173, 0.6327187008628821, 0.773722913006945, 0.19343072825173624, 0.058561536288079634, 0.9369845806092741, 0.8853336626704852, 0.889726456180026, 0.9552784517624626, 0.02076692286440136, 0.9623439101736726, 0.9607672306618488, 0.06284855672387137, 0.8798797941341991, 0.020949518907957123, 0.041899037815914246, 0.9838272032126998, 0.008784171457256249, 0.8963934813376235, 0.7848272275424515, 0.21056340251138944, 0.48073129518924523, 0.36484071509898075, 0.04292243707046832, 0.02575346224228099, 0.02575346224228099, 0.02146121853523416, 0.03863019336342149, 0.8853336626704852, 0.9392772773738454, 0.8853336626704852, 0.3548029441025756, 0.5276556604602407, 0.11826764803419187, 0.9632022756997268, 0.9530157187791204, 0.021659448154070917, 0.8291275113154848, 0.11725035513552311, 0.016750050733646157, 0.025125076100469237, 0.9821905503556481, 0.6391561295108126, 0.3232513758445489, 0.007346622178285201, 0.022039866534855606, 0.007346622178285201, 0.958587169689533, 0.9684205694923649, 0.8833688207246202, 0.5027634670370111, 0.9810845224163444, 0.5083321878590996, 0.015885380870596863, 0.1588538087059686, 0.09531228522358116, 0.17473918957656548, 0.015885380870596863, 0.015885380870596863, 0.015885380870596863, 0.9473214717332508, 0.5950303275267902, 0.04250216625191358, 0.38251949626722226, 0.8194500380079998, 0.7145820761572962, 0.12320380623401658, 0.024640761246803318, 0.024640761246803318, 0.12320380623401658, 0.5587966776339511, 0.18626555921131702, 0.1289530794539887, 0.1289530794539887, 0.12217097000155883, 0.8551967900109118, 0.8534582916982791, 0.33458694609687056, 0.3954209362963016, 0.12166798039886202, 0.04055599346628734, 0.1115289820322902, 0.8287000832100246, 0.12475055016064887, 0.044553767914517456, 0.4475678483371243, 0.48486516903188465, 0.037297320694760355, 0.8015649717647684, 0.6586079564816981, 0.26344318259267924, 0.9827788320023144, 0.9322923248398152, 0.009513186988161379, 0.038052747952645516, 0.009513186988161379, 0.2738537898917673, 0.569615882974876, 0.021908303191341384, 0.1204956675523776, 0.010954151595670692, 0.9241569386641966, 0.19961350495962546, 0.6986472673586891, 0.18656617618843874, 0.6529816166595356, 0.09328308809421937, 0.31411274945579437, 0.31411274945579437, 0.31411274945579437, 0.7371300857250139, 0.4743746889526885, 0.3631931212294021, 0.03706052257442879, 0.06670894063397181, 0.051884731604200304, 0.8588400148302645, 0.8190128052396145, 0.8963934813376235, 0.9305524909937797, 0.03105934797157737, 0.9628397871188985, 0.8565324178746917, 0.9415290489253085, 0.9898443704822825, 0.8963934813376235, 0.22204083616782816, 0.5414680039882125, 0.062327252257635975, 0.04674543919322698, 0.08180451858814722, 0.05064089245932923, 0.6293205126282198, 0.20977350420940657, 0.8290754457712526, 0.9682811585547049, 0.11237975884846596, 0.7866583119392617, 0.8906394486545013, 0.09895993873938903, 0.5696810853574897, 0.8963934813376235, 0.8494121799202227, 0.8963934813376235, 0.774034046423554, 0.11700514655239769, 0.01800079177729195, 0.01800079177729195, 0.06300277122052184, 0.009000395888645976, 0.5459932660773448, 0.024087938209294623, 0.4094949495580086, 0.016058625472863082, 0.34068740693309046, 0.6327051843043108, 0.012167407390467516, 0.012167407390467516, 0.9624486022530411, 0.685398181518454, 0.2008925704450641, 0.01181721002618024, 0.08272047018326169, 0.11059692551633338, 0.884775404130667, 0.9842380760613613, 0.8194500380079998, 0.9669412828427802, 0.7478577982734634, 0.8685287650032066, 0.8103527963943725, 0.06848051800515824, 0.03424025900257912, 0.07989393767268461, 0.8853937823728806, 0.1953592861127554, 0.7814371444510216, 0.8286824835442475, 0.7897055975008866, 0.9625721965926727, 0.9818279501135636, 0.014229390581355994, 0.9808664803262443, 0.02001768327196417, 0.9121630599262097, 0.28619014166412554, 0.22895211333130044, 0.515142254995426, 0.9640674484460463, 0.906884038781561, 0.9790574203582642, 0.9532942174041009, 0.18220505134821827, 0.7288202053928731, 0.9674056594028948, 0.19995111499421822, 0.5255857879848022, 0.15424800299553978, 0.01713866699950442, 0.022851555999339225, 0.07426755699785248, 0.005712888999834806, 0.005712888999834806, 0.9185767572451925, 0.9937760639153488, 0.4870807709487412, 0.4929751629178683, 0.4518938993413793, 0.9661364521609774, 0.8194500380079998, 0.48103201814824076, 0.5153914480159723, 0.9799833659123054, 0.9266693385208262, 0.02895841682877582, 0.01447920841438791, 0.01447920841438791, 0.01447920841438791, 0.6369812641118665, 0.1609952645557465, 0.0034998970555597062, 0.06299814700007471, 0.02799917644447765, 0.010499691166679119, 0.09099732344455236, 0.0034998970555597062, 0.24841414726146901, 0.24841414726146901, 0.24841414726146901, 0.8252536906362844, 0.14563300422993253, 0.4446863103938275, 0.4446863103938275, 0.10021099952536958, 0.0062631874703355985, 0.7771032327009313, 0.28341942991463914, 0.684930288960378, 0.8682759097347212, 0.8463780955919126, 0.8721732589376727, 0.027255414341802273, 0.016353248605081364, 0.04360866294688363, 0.005451082868360454, 0.005451082868360454, 0.016353248605081364, 0.005451082868360454, 0.9541399095368384, 0.5744549238571666, 0.2940123626040616, 0.08141880810574013, 0.009046534233971126, 0.0361861369358845, 0.009046534233971126, 0.7963135979013306, 0.9173398303524889, 0.8580232272090249, 0.08250223338548317, 0.03300089335419327, 0.0495013400312899, 0.9462192300271185, 0.906884038781561, 0.9297500308807463, 0.8749407095401226, 0.8989711734741995, 0.9282003590964111, 0.9700889078170495, 0.8924332924324352, 0.1883018881561381, 0.5649056644684143, 0.6883573472527936, 0.15452920040368837, 0.14048109127608033, 0.014048109127608033, 0.0070240545638040166, 0.9936562650444519, 0.2087931717197329, 0.6263795151591988, 0.6008505634901066, 0.3964374851893487, 0.7448491600810209, 0.22345474802430626, 0.9458136230435368, 0.6733449464555662, 0.02720585642244712, 0.11562488979540025, 0.16323513853468272, 0.00680146410561178, 0.4380905326688198, 0.30666337286817386, 0.09277211280045596, 0.04896305953357398, 0.02319302820011399, 0.06184807520030397, 0.0025770031333459988, 0.02319302820011399, 0.0025770031333459988, 0.7275425106644868, 0.010175419729573242, 0.12719274661966554, 0.0966664874309458, 0.025438549323933107, 0.005087709864786621, 0.005087709864786621, 0.9105451407177242, 0.9119249476515974, 0.4071406147567023, 0.9689379741981372, 0.9679717805614503, 0.1950599977514823, 0.09752999887574115, 0.6827099921301881, 0.7425969545158971, 0.9652391575023569, 0.9429219939071067, 0.9594878448349381, 0.950304901715908, 0.8657807898873748, 0.5884394606418778, 0.39370409956614844, 0.004233377414689769, 0.004233377414689769, 0.004233377414689769, 0.004233377414689769, 0.9557281744752238, 0.014438246338025885, 0.9586995568449188, 0.025988843408446594, 0.9685618429806229, 0.9202232947203886, 0.7741148225704323, 0.42461065229342226, 0.42461065229342226, 0.4079072449158024, 0.2719381632772016, 0.2719381632772016, 0.4082534168938613, 0.2721689445959075, 0.2721689445959075, 0.524516768302513, 0.17483892276750432, 0.17483892276750432, 0.9726732863298752, 0.9577262735280415, 0.906884038781561, 0.9190092039339517, 0.04653211159159249, 0.023266055795796246, 0.011633027897898123, 0.7426899767887382, 0.7751122041448559, 0.09688902551810699, 0.0193778051036214, 0.0129185367357476, 0.064592683678738, 0.0129185367357476, 0.0129185367357476, 0.010464504573058414, 0.9836634298674909, 0.25048741601216085, 0.7156783314633167, 0.01192797219105528, 0.02385594438211056, 0.20863017504914486, 0.01604847500378037, 0.7542783251776775, 0.9744214130805227, 0.6642091383127788, 0.26020564181325356, 0.054780135118579695, 0.020542550669467387, 0.9499094693287181, 0.03392533819031136, 0.4611544738632263, 0.3863726672908112, 0.012463634428735847, 0.11217270985862261, 0.012463634428735847, 0.012463634428735847, 0.9457617951791224, 0.3203172456209957, 0.6406344912419915, 0.7473225646334339, 0.20657696908566464, 0.006075793208401902, 0.024303172833607608, 0.006075793208401902, 0.006075793208401902, 0.9540775401856343, 0.2316607366259475, 0.3474911049389212, 0.3474911049389212, 0.9833694688740084, 0.7222716080025103, 0.4501064577767585, 0.37250189609111045, 0.015520912337129603, 0.12416729869703683, 0.031041824674259207, 0.8781593901500743, 0.7418574085892572, 0.07372495985980196, 0.0414702899211386, 0.0829405798422772, 0.032254669938663355, 0.004607809991237622, 0.009215619982475245, 0.009215619982475245, 0.548364739948959, 0.04092274178723574, 0.36830467608512163, 0.016369096714894296, 0.016369096714894296, 0.008184548357447148, 0.29542611713539696, 0.29542611713539696, 0.6029572732117329, 0.17047899093784114, 0.12741061427986022, 0.06280804929288884, 0.014356125552660306, 0.01076709416449523, 0.0035890313881650764, 0.0035890313881650764, 0.0017945156940825382, 0.0017945156940825382, 0.440500410177401, 0.4547101008282849, 0.07104845325441951, 0.028419381301767806], \"Term\": [\"adapt\", \"addit inform\", \"afd\", \"african american\", \"age interview\", \"agent cut\", \"agreement\", \"almost never\", \"alreadi\", \"alreadi\", \"alreadi\", \"alreadi\", \"alreadi\", \"alreadi\", \"annoy countless\", \"antibodi\", \"appar dot\", \"appeal\", \"appeal\", \"appeal\", \"appeal\", \"assist shoot\", \"atmospher\", \"author\", \"author\", \"author\", \"author\", \"author\", \"autumn statement\", \"back\", \"back\", \"back\", \"back\", \"back\", \"bacteria\", \"ban\", \"ban\", \"bank\", \"basic law\", \"behavior\", \"behavior\", \"behavior\", \"behavior\", \"bfarm\", \"biontech pfizer\", \"board\", \"board term\", \"board term\", \"border\", \"border\", \"border\", \"border\", \"border\", \"border patrol\", \"border patrol\", \"brain fluid\", \"break point\", \"break point\", \"budget\", \"build mosqu\", \"bump\", \"call pandem\", \"cancer\", \"cancer cancer\", \"cancer hit\", \"cancer support\", \"carbon\", \"carbon dioxid\", \"carbon dioxid\", \"case\", \"case\", \"case\", \"case\", \"case\", \"case\", \"case fatal\", \"case number\", \"case popul\", \"case rate\", \"case young\", \"cell\", \"censorship\", \"cent\", \"cent\", \"cent\", \"cent\", \"child\", \"child\", \"child\", \"child\", \"choic\", \"classic\", \"clearli show\", \"climat\", \"climat\", \"climb\", \"close school\", \"complain stiff\", \"compul\", \"conclus\", \"conclus\", \"conduct\", \"conduct\", \"conduct\", \"conduct\", \"consum\", \"contain liquid\", \"cool\", \"coral\", \"cost\", \"cost\", \"cost\", \"cost\", \"cost benefit\", \"cost victim\", \"cotton\", \"council\", \"countri\", \"countri\", \"countri\", \"countri\", \"countri\", \"countri\", \"countri\", \"countri\", \"countri quarter\", \"covid\", \"covid\", \"covid vaccin\", \"credit\", \"credit score\", \"crist\", \"cube\", \"cut\", \"damag liter\", \"day\", \"day\", \"day\", \"day\", \"day\", \"day elect\", \"day groundbreak\", \"dead\", \"death\", \"death\", \"death day\", \"death inhabit\", \"death occur\", \"death occur\", \"death rate\", \"defeat obamacar\", \"degre\", \"degre\", \"degre\", \"demand\", \"demand\", \"democraci\", \"democraci\", \"dioxid\", \"discour\", \"discour\", \"disea\", \"dissatisfi countri\", \"doctor\", \"doctor\", \"donnel\", \"draft\", \"draft\", \"drive\", \"drive\", \"drive\", \"driver licen\", \"drought\", \"due\", \"due\", \"due\", \"early week\", \"earn last\", \"earth\", \"earth\", \"earth\", \"economi\", \"economi\", \"economi\", \"economi\", \"effect\", \"effect\", \"effect\", \"effect\", \"effect\", \"effect protect\", \"effici effect\", \"elderli\", \"email brief\", \"email offer\", \"email offer\", \"email offer\", \"emiss\", \"emiss\", \"employ\", \"empti shelf\", \"even\", \"even\", \"even\", \"even\", \"even\", \"even\", \"even\", \"even\", \"even\", \"even illiter\", \"even noth\", \"everyon\", \"everyon\", \"everyon\", \"everyon\", \"exceed foot\", \"excit\", \"excit\", \"expen\", \"experienc\", \"extend\", \"fabric\", \"fact brain\", \"fact check\", \"factori\", \"factori\", \"famili\", \"fdp\", \"feder ministri\", \"find\", \"find\", \"find\", \"find\", \"find\", \"find\", \"find\", \"find brain\", \"fire\", \"fire\", \"fire\", \"first\", \"first\", \"first\", \"first\", \"first\", \"first\", \"first\", \"flee\", \"flee\", \"flood\", \"flood\", \"flow rate\", \"fluctuat\", \"follow question\", \"food stamp\", \"foot storm\", \"former\", \"former\", \"former\", \"fraud\", \"fraud\", \"free daili\", \"freedom express\", \"fund\", \"garlic\", \"german\", \"german citizen\", \"germani often\", \"gift\", \"give impress\", \"global\", \"global\", \"global\", \"global\", \"global\", \"global economi\", \"global warm\", \"global warm\", \"global warm\", \"global warm\", \"go\", \"go\", \"go\", \"go\", \"go\", \"go\", \"go\", \"go far\", \"go far\", \"govern\", \"govern\", \"govern\", \"govern\", \"govern\", \"govern\", \"govern\", \"governor legislatur\", \"graphic oxid\", \"great barrier\", \"greenhous\", \"greenhous\", \"grenfel tower\", \"ground think\", \"groundbreak\", \"groundbreak histori\", \"group\", \"group\", \"group\", \"group\", \"group taxpay\", \"grow\", \"grow\", \"grow\", \"grow\", \"growth\", \"growth\", \"guess\", \"gun\", \"gun\", \"happen yet\", \"harmless sell\", \"health\", \"health\", \"health\", \"heartfelt letter\", \"heat\", \"heat\", \"help\", \"help\", \"help\", \"help\", \"help\", \"help\", \"help\", \"high\", \"high\", \"high\", \"high\", \"high\", \"high\", \"high wage\", \"hobhous\", \"homeless\", \"homeless new\", \"hospit bed\", \"hot\", \"hous\", \"hous\", \"hous\", \"hous\", \"ice\", \"ice\", \"ice sheet\", \"ill\", \"import\", \"import\", \"import\", \"import\", \"incomplet\", \"increa snap\", \"indirectli\", \"infect\", \"inform\", \"inform\", \"inform\", \"inform\", \"inhabit effect\", \"inject\", \"inject\", \"innat\", \"innov\", \"innov\", \"insert far\", \"insid nose\", \"interest rate\", \"intern woman\", \"invalid email\", \"invalid email\", \"jail celiac\", \"jet stream\", \"job\", \"job\", \"journalist\", \"journalist\", \"journalist\", \"jump abroad\", \"kill cancer\", \"kind bag\", \"kingdom\", \"know\", \"know\", \"know\", \"know\", \"know\", \"know\", \"know import\", \"larg\", \"larg\", \"larg\", \"late lung\", \"later sign\", \"later sign\", \"law\", \"law\", \"law\", \"law\", \"law\", \"learn\", \"learner\", \"leav\", \"leav campaign\", \"leave\", \"leave\", \"lend\", \"let\", \"let\", \"let\", \"level\", \"level\", \"level\", \"level\", \"level\", \"level\", \"level\", \"level rise\", \"licen\", \"life threaten\", \"life threaten\", \"lockdown\", \"long\", \"long\", \"long\", \"long depend\", \"mad question\", \"madam deputi\", \"madam deputi\", \"madam speaker\", \"maintain\", \"major\", \"major\", \"major\", \"major\", \"major taxpay\", \"make\", \"make\", \"make\", \"make\", \"make\", \"make\", \"make sick\", \"mask\", \"mean\", \"mean\", \"mean\", \"mean\", \"medic\", \"medic\", \"medic\", \"medic\", \"medic expert\", \"melt\", \"mental health\", \"mental health\", \"mental health\", \"merck\", \"merkel vast\", \"messag verifyerror\", \"messag verifyerror\", \"messag verifyerror\", \"migrant\", \"migrant\", \"migrant\", \"minimum wage\", \"ministri health\", \"mom\", \"money\", \"money\", \"money wage\", \"move abroad\", \"much\", \"much\", \"much\", \"mutat\", \"nation\", \"nation\", \"nation\", \"nation\", \"nation\", \"nation\", \"nation debt\", \"nation debt\", \"need\", \"need\", \"need\", \"need\", \"need\", \"need\", \"need\", \"need\", \"need\", \"need\", \"need wall\", \"neg interest\", \"neighbor\", \"neighbor\", \"net\", \"net\", \"net\", \"net taxpay\", \"never caus\", \"new\", \"new\", \"new\", \"new\", \"new\", \"new law\", \"new law\", \"next year\", \"next year\", \"next year\", \"next year\", \"next year\", \"normal work\", \"nose cover\", \"nose reason\", \"novemb decemb\", \"number\", \"number\", \"number\", \"number\", \"number\", \"number child\", \"number death\", \"number overnight\", \"nur home\", \"ocean\", \"offer\", \"offer\", \"offer\", \"old peopl\", \"olymp game\", \"olymp winter\", \"open carri\", \"opinion\", \"opinion\", \"overwhelm\", \"overwhelm\", \"palmer\", \"palmer\", \"pandem almost\", \"paragraph\", \"parent\", \"parent\", \"partli vaccin\", \"past week\", \"patient\", \"patient\", \"patient\", \"patient\", \"pay\", \"pay\", \"pay taxpay\", \"pcr test\", \"pcr test\", \"peopl\", \"peopl\", \"peopl\", \"peopl\", \"peopl\", \"peopl\", \"peopl\", \"peopl corona\", \"peopl live\", \"peopl prof\", \"percent\", \"percent\", \"percent\", \"pfizer\", \"pfizer vaccin\", \"pfizer vaccin\", \"plan\", \"plan\", \"plan\", \"plan\", \"planet\", \"point\", \"point\", \"point\", \"point\", \"point\", \"polar bear\", \"politician\", \"posit case\", \"post email\", \"pre\", \"presid\", \"presid\", \"presid\", \"presid\", \"presid\", \"presid\", \"presid\", \"presid\", \"press offic\", \"prison\", \"prison\", \"prison\", \"prison beat\", \"problem\", \"problem\", \"problem\", \"problem\", \"problem\", \"process\", \"process\", \"process\", \"process\", \"professor\", \"professor\", \"prosper\", \"protect\", \"protect\", \"protect\", \"protect\", \"protect\", \"public\", \"public\", \"public\", \"public health\", \"public health\", \"public health\", \"public interest\", \"public school\", \"public school\", \"public transport\", \"put\", \"put\", \"put\", \"put\", \"question\", \"question\", \"question\", \"question\", \"question\", \"quota\", \"raid\", \"raid\", \"rail\", \"rail\", \"rail\", \"rape\", \"rape\", \"rape\", \"rapist\", \"rate\", \"rate\", \"rate\", \"rate\", \"rate\", \"rate week\", \"ratio\", \"read write\", \"recent report\", \"reef\", \"reef\", \"refuge year\", \"refut\", \"renew\", \"renew turn\", \"report\", \"report\", \"report\", \"report\", \"report\", \"report\", \"report relea\", \"report relea\", \"report seriou\", \"report stori\", \"research demonstr\", \"research demonstr\", \"resid\", \"resid\", \"respon local\", \"rest much\", \"rhode island\", \"rich paradi\", \"right\", \"right\", \"right\", \"right\", \"right\", \"right\", \"rise\", \"rise\", \"rise\", \"rise\", \"risk\", \"risk\", \"risk\", \"risk\", \"rubi\", \"rule\", \"rule\", \"rule\", \"rule\", \"rule law\", \"rule law\", \"run\", \"safe food\", \"save\", \"say teacher\", \"say thank\", \"school\", \"school\", \"school\", \"school\", \"school close\", \"school open\", \"school open\", \"school pupil\", \"school safe\", \"scientif\", \"scientist\", \"scientist\", \"sea level\", \"sea level\", \"seal\", \"search\", \"search\", \"search\", \"senior citizen\", \"sensit light\", \"servic\", \"share percent\", \"shelter\", \"shelter\", \"ship\", \"show\", \"show\", \"show\", \"show\", \"show\", \"show\", \"show\", \"show\", \"show vast\", \"side effect\", \"sign email\", \"skill\", \"skill\", \"smear\", \"son first\", \"speaker\", \"speaker\", \"spread\", \"start\", \"start\", \"start\", \"start\", \"start\", \"state\", \"state\", \"state\", \"state\", \"state\", \"state\", \"state\", \"state\", \"state feder\", \"state feder\", \"state feder\", \"state perform\", \"state perform\", \"still\", \"still\", \"still\", \"still\", \"stimul\", \"storm\", \"storm\", \"straight inbox\", \"strong economi\", \"support\", \"support\", \"support\", \"support\", \"support\", \"support\", \"support\", \"support\", \"s\\u00fcdkuri\", \"take\", \"take\", \"take\", \"take\", \"take\", \"take\", \"take care\", \"take look\", \"take place\", \"take place\", \"take place\", \"take place\", \"target countri\", \"tast mouth\", \"tax burden\", \"tax increa\", \"tax relief\", \"tax tax\", \"teach\", \"teacher concern\", \"teacher school\", \"teacher school\", \"tell\", \"tell\", \"tell\", \"tell\", \"tell\", \"temperatur\", \"term limit\", \"term limit\", \"test\", \"test\", \"test case\", \"test case\", \"test often\", \"think\", \"think\", \"think\", \"think\", \"think\", \"time\", \"time\", \"time\", \"time\", \"time\", \"time\", \"time\", \"time\", \"time\", \"today\", \"today\", \"today\", \"today\", \"today\", \"today\", \"today\", \"today budget\", \"today pay\", \"top stori\", \"tower fire\", \"trump campaign\", \"tweet\", \"tweet\", \"tweet\", \"unborn child\", \"unvaccin\", \"unvaccin death\", \"unvaccin popul\", \"upper\", \"upskirt\", \"use\", \"use\", \"use\", \"use\", \"use\", \"use\", \"use covid\", \"vaccin\", \"vaccin\", \"vaccin\", \"vaccin popul\", \"vaccin protect\", \"vaccin septemb\", \"vaccin vaccin\", \"vaccin vaccin\", \"verifyerror messag\", \"verifyerror messag\", \"verifyerror messag\", \"verifyerror verifyerror\", \"verifyerror verifyerror\", \"verifyerror verifyerror\", \"violent crime\", \"violent crime\", \"violent crime\", \"viru\", \"visit\", \"vomit metal\", \"vote\", \"vote\", \"vote\", \"vote\", \"voter roll\", \"want\", \"want\", \"want\", \"want\", \"want\", \"want\", \"want\", \"warm\", \"warm\", \"warn\", \"warn\", \"warn\", \"warn\", \"water\", \"water\", \"water\", \"wave\", \"way\", \"way\", \"way\", \"way\", \"weather\", \"weather\", \"week\", \"week\", \"week\", \"week\", \"week\", \"week\", \"week th\", \"weight\", \"weight\", \"well\", \"well\", \"well\", \"well\", \"well\", \"well\", \"whistleblow\", \"white hous\", \"white hous\", \"white hous\", \"wind\", \"winter game\", \"woman\", \"woman\", \"woman\", \"woman\", \"woman\", \"woman day\", \"work\", \"work\", \"work\", \"work\", \"work\", \"work\", \"work\", \"work\", \"world\", \"world\", \"world\", \"world\", \"world\", \"world\", \"wrong plea\", \"wrong plea\", \"year\", \"year\", \"year\", \"year\", \"year\", \"year\", \"year\", \"year\", \"year\", \"year\", \"year old\", \"year old\", \"year old\", \"year old\"]}, \"R\": 30, \"lambda.step\": 0.01, \"plot.opts\": {\"xlab\": \"PC1\", \"ylab\": \"PC2\"}, \"topic.order\": [8, 3, 2, 1, 6, 9, 5, 7, 10, 4]};\n",
              "\n",
              "function LDAvis_load_lib(url, callback){\n",
              "  var s = document.createElement('script');\n",
              "  s.src = url;\n",
              "  s.async = true;\n",
              "  s.onreadystatechange = s.onload = callback;\n",
              "  s.onerror = function(){console.warn(\"failed to load library \" + url);};\n",
              "  document.getElementsByTagName(\"head\")[0].appendChild(s);\n",
              "}\n",
              "\n",
              "if(typeof(LDAvis) !== \"undefined\"){\n",
              "   // already loaded: just create the visualization\n",
              "   !function(LDAvis){\n",
              "       new LDAvis(\"#\" + \"ldavis_el3001336685945542886165974764\", ldavis_el3001336685945542886165974764_data);\n",
              "   }(LDAvis);\n",
              "}else if(typeof define === \"function\" && define.amd){\n",
              "   // require.js is available: use it to load d3/LDAvis\n",
              "   require.config({paths: {d3: \"https://d3js.org/d3.v5\"}});\n",
              "   require([\"d3\"], function(d3){\n",
              "      window.d3 = d3;\n",
              "      LDAvis_load_lib(\"https://cdn.jsdelivr.net/gh/bmabey/pyLDAvis@3.4.0/pyLDAvis/js/ldavis.v3.0.0.js\", function(){\n",
              "        new LDAvis(\"#\" + \"ldavis_el3001336685945542886165974764\", ldavis_el3001336685945542886165974764_data);\n",
              "      });\n",
              "    });\n",
              "}else{\n",
              "    // require.js not available: dynamically load d3 & LDAvis\n",
              "    LDAvis_load_lib(\"https://d3js.org/d3.v5.js\", function(){\n",
              "         LDAvis_load_lib(\"https://cdn.jsdelivr.net/gh/bmabey/pyLDAvis@3.4.0/pyLDAvis/js/ldavis.v3.0.0.js\", function(){\n",
              "                 new LDAvis(\"#\" + \"ldavis_el3001336685945542886165974764\", ldavis_el3001336685945542886165974764_data);\n",
              "            })\n",
              "         });\n",
              "}\n",
              "</script>"
            ]
          },
          "metadata": {},
          "execution_count": 18
        }
      ],
      "source": [
        "#Meilleur modèle de la classe MIXTURE\n",
        "best = max(coherence_values_mixture)\n",
        "print(\"Best coherence: \"+str(best))\n",
        "for i in range(len(coherence_values_mixture)):\n",
        "  if(coherence_values_mixture[i] == best):\n",
        "    model_mixture = model_list_mixture[i]\n",
        "visu_data_mixture = gensimvis.prepare(model_mixture, corpus_mixture, dictionary_mixture)\n",
        "pyLDAvis.display(visu_data_mixture)"
      ]
    },
    {
      "cell_type": "code",
      "execution_count": null,
      "metadata": {
        "colab": {
          "base_uri": "https://localhost:8080/",
          "height": 879
        },
        "id": "mGmW5nWEjZgV",
        "outputId": "ef00cf4a-0ee8-4e4e-dd18-117dcfc261c1"
      },
      "outputs": [
        {
          "output_type": "stream",
          "name": "stdout",
          "text": [
            "Best coherence: 0.5050079616386773\n"
          ]
        },
        {
          "output_type": "execute_result",
          "data": {
            "text/plain": [
              "<IPython.core.display.HTML object>"
            ],
            "text/html": [
              "\n",
              "<link rel=\"stylesheet\" type=\"text/css\" href=\"https://cdn.jsdelivr.net/gh/bmabey/pyLDAvis@3.4.0/pyLDAvis/js/ldavis.v1.0.0.css\">\n",
              "\n",
              "\n",
              "<div id=\"ldavis_el3001336685945552963189463499\" style=\"background-color:white;\"></div>\n",
              "<script type=\"text/javascript\">\n",
              "\n",
              "var ldavis_el3001336685945552963189463499_data = {\"mdsDat\": {\"x\": [0.18601717700815176, 0.10248540889681768, -0.1350342590698108, -0.067372293890447, -0.060151445552761064, 0.09441951558621746, -0.12036410297816774], \"y\": [-0.10223637564346359, -0.056257037527367236, 0.017893151531493196, -0.07469688548720257, -0.014255426516971599, 0.2278541578024755, 0.001698415841036025], \"topics\": [1, 2, 3, 4, 5, 6, 7], \"cluster\": [1, 1, 1, 1, 1, 1, 1], \"Freq\": [60.12387435060528, 11.799776819306683, 9.290226840139205, 6.100248632874626, 5.176153913893108, 3.8681743992558437, 3.6415450439252552]}, \"tinfo\": {\"Term\": [\"vaccin\", \"bed\", \"time\", \"covid\", \"peopl\", \"risk\", \"effect\", \"inten care\", \"author\", \"infect\", \"month\", \"report\", \"patient\", \"even\", \"day\", \"confirm\", \"new\", \"test\", \"differ\", \"high\", \"prime minist\", \"fact\", \"understand\", \"world\", \"come\", \"viru\", \"current\", \"research\", \"alreadi\", \"order\", \"help\", \"health\", \"thing\", \"public\", \"presid\", \"staff\", \"keep\", \"member\", \"today\", \"investig\", \"vote\", \"shoot\", \"lose\", \"kill\", \"treatment\", \"merck\", \"money\", \"trial\", \"benefit\", \"famili\", \"major\", \"fund\", \"ad\", \"bill\", \"treat\", \"contract\", \"watch\", \"social\", \"talk\", \"admit\", \"doctor\", \"go\", \"countri\", \"still\", \"recent\", \"percent\", \"child\", \"life\", \"cancer\", \"work\", \"claim\", \"former\", \"use\", \"medic\", \"right\", \"need\", \"year\", \"take\", \"death\", \"govern\", \"want\", \"find\", \"accord\", \"show\", \"give\", \"call\", \"time\", \"state\", \"case\", \"peopl\", \"vaccin\", \"point\", \"number\", \"mean\", \"new\", \"even\", \"follow\", \"report\", \"day\", \"make\", \"neutral\", \"antibodi\", \"teacher\", \"dengu\", \"report case\", \"reinfect\", \"detent rate\", \"suscept\", \"neutral antibodi\", \"serotyp\", \"overview\", \"thrombol event\", \"rabbit\", \"biontech pfizer\", \"total case\", \"italian\", \"teacher leave\", \"vaccin astrazeneca\", \"connect vaccin\", \"impair\", \"compar year\", \"vaccin campaign\", \"exclud\", \"vaer\", \"hear say\", \"astrazeneca\", \"antigen\", \"report sexual\", \"crime class\", \"teacher shortag\", \"protein\", \"cov\", \"pregnanc\", \"lack\", \"reaction\", \"anim\", \"notic\", \"self employ\", \"viral\", \"case report\", \"covid vaccin\", \"school\", \"occur\", \"vaccin\", \"administ\", \"immun system\", \"report\", \"pfizer vaccin\", \"age\", \"lung\", \"datum\", \"cent\", \"ill\", \"rate\", \"cell\", \"depend\", \"affect\", \"case\", \"concern\", \"result\", \"differ\", \"high\", \"effect\", \"problem\", \"year\", \"develop\", \"side effect\", \"number\", \"peopl\", \"show\", \"gamestop stock\", \"fiber\", \"cocain\", \"short seller\", \"mushroom\", \"hedg fund\", \"amount money\", \"cathol\", \"heathrow\", \"wait time\", \"phone line\", \"clog line\", \"price go\", \"beatrix\", \"ninth circl\", \"peopl care\", \"need need\", \"appear forget\", \"morrison\", \"bavarian radio\", \"current work\", \"ratze\", \"usccb\", \"address morrison\", \"rocket\", \"veteran today\", \"indian side\", \"new runway\", \"third runway\", \"hate preacher\", \"australian\", \"say new\", \"fabric\", \"editor\", \"mask\", \"murder\", \"health care\", \"wear\", \"name\", \"peopl\", \"pcr test\", \"wit\", \"call\", \"prime minist\", \"court\", \"seem\", \"find\", \"bed\", \"bed oper\", \"inten care\", \"lot money\", \"care bed\", \"inten bed\", \"effect inten\", \"oper inten\", \"member member\", \"spahn\", \"warehous\", \"anesthesiolog\", \"payer\", \"never exist\", \"existedha\", \"tunnel\", \"high number\", \"reserv\", \"jet stream\", \"clinic\", \"melt\", \"motion\", \"sea\", \"everywher\", \"planet\", \"pay peopl\", \"toxin\", \"ice\", \"glacier\", \"sand\", \"understand\", \"weather\", \"grant\", \"oper\", \"view\", \"top\", \"univer\", \"care\", \"creat\", \"build\", \"howev\", \"research\", \"fact\", \"day\", \"hear\", \"develop\", \"current\", \"order\", \"even\", \"report\", \"new\", \"remain\", \"never\", \"continu\", \"enough\", \"ask\", \"write\", \"special fund\", \"type diabet\", \"vaccin free\", \"peopl nur\", \"harri\", \"lose countri\", \"self destruct\", \"cash cour\", \"effect death\", \"verifyerror email\", \"offer event\", \"say later\", \"say reflect\", \"say twitter\", \"present grey\", \"undig\", \"boba\", \"mueller\", \"white blood\", \"justic depart\", \"mueller investig\", \"bed year\", \"doctor falsifi\", \"strong tobak\", \"note twice\", \"doctor ask\", \"messag close\", \"statement say\", \"broadcast interview\", \"birth die\", \"death certif\", \"op mask\", \"exempt\", \"anyway\", \"mask\", \"microfib\", \"new\", \"hospit\", \"plea enter\", \"messag verifyerror\", \"verifyerror messag\", \"former presid\", \"email address\", \"vaccin\", \"year old\", \"trump\", \"contain\", \"still\", \"case\", \"long\", \"covid cour\", \"lead difficult\", \"outbreak\", \"heavy\", \"vaccin lead\", \"main effect\", \"theoret\", \"least show\", \"cour vaccin\", \"expect mean\", \"pa\", \"exact\", \"medic staff\", \"order protect\", \"falter\", \"patient point\", \"openli\", \"sincealmost\", \"peopl fall\", \"deadli\", \"cour covid\", \"opposit\", \"pfizer biontech\", \"vaccin covid\", \"purpos\", \"even well\", \"symptom\", \"vaccin actual\", \"particip previous\", \"phenomenon\", \"plagu\", \"mrna\", \"difficult\", \"corona\", \"vaccin\", \"viru\", \"author\", \"infect\", \"confirm\", \"month\", \"risk\", \"covid\", \"effect\", \"time\", \"refer\", \"peopl\", \"test\", \"sever\", \"cour\", \"larg\", \"case vaccin\", \"howev\", \"alreadi\", \"question\", \"differ\", \"patient\", \"come\", \"high\", \"survey show\", \"new survey\", \"deport tight\", \"treat feder\", \"tell way\", \"ask survey\", \"month result\", \"govern embarrass\", \"name dbt\", \"complet vaccin\", \"point coalit\", \"decis survey\", \"want deport\", \"tenni player\", \"quick test\", \"import wake\", \"show rid\", \"remain taciturn\", \"drop ball\", \"call fan\", \"comment survey\", \"australian addit\", \"major citizen\", \"photo state\", \"web http\", \"orthomolecular org\", \"fact sheet\", \"capit\", \"threat reduct\", \"pdf\", \"prime minist\", \"vitamin\", \"world\", \"inhabit\", \"wear\"], \"Freq\": [262.0, 72.0, 102.0, 62.0, 132.0, 52.0, 62.0, 40.0, 44.0, 48.0, 46.0, 111.0, 46.0, 92.0, 64.0, 34.0, 76.0, 52.0, 56.0, 54.0, 26.0, 49.0, 32.0, 34.0, 37.0, 25.0, 49.0, 43.0, 43.0, 39.0, 38.4862783553133, 36.8371398842352, 33.445213555460256, 32.020032701484254, 29.309337015805202, 24.650509999429023, 30.965142827079294, 24.04010024965287, 25.766567878702606, 22.484761018966932, 45.11236726564606, 23.683420603593973, 20.328047068320913, 20.774701225385687, 29.587919791484005, 19.60318592273223, 19.833568808550176, 19.41162899688687, 19.243503437598203, 19.39910583231404, 18.456076036162724, 20.59989795140902, 28.83373572060043, 17.97585002296585, 17.37448337205511, 16.910563754849335, 17.62340432236682, 16.438312267841237, 15.970518354231809, 15.991187800472185, 40.237112207921626, 52.572470810128856, 64.87837046592378, 52.1920866025571, 36.228996384601736, 47.91023404404664, 90.69222297374803, 37.55961489666245, 32.842107448056474, 69.80727317453366, 40.19767069475668, 30.294662463144505, 72.15097696909964, 38.21738304972563, 46.27446252955787, 39.97471133432985, 100.64211699290027, 66.02630570096845, 72.15572157011049, 60.64777711969467, 55.14568142229892, 86.42963469417177, 45.57106736065138, 71.10884310897698, 61.464968938695975, 57.700499212863306, 82.23370137301409, 53.54891799775351, 69.23238799082945, 95.89920356609241, 145.53707179317882, 46.87236064197454, 50.623620181319296, 45.242855320657526, 56.96700879536812, 63.07559729544702, 44.477895610743495, 62.601874936016706, 46.95495543099999, 45.38156458422324, 6.349348260600468, 6.346100043005036, 11.356801229655654, 5.57109812876996, 4.791975199649915, 4.014626370152615, 4.0146299898407, 3.989330632430397, 3.236369451406947, 3.2363689989459368, 3.2363746547085697, 3.2363904908439425, 3.236361533339261, 3.23638189408474, 3.236380536701708, 3.2361644865691246, 3.2356615761557905, 3.234376360655049, 3.234258042100765, 3.231947776180404, 3.2145830012833043, 3.206593218526802, 3.0112090163738405, 3.010978939949927, 2.914600672533111, 8.673026030239448, 2.7720546409729514, 2.458183569039951, 2.45818266411793, 2.4581763296637806, 8.455975958822181, 10.101387525841313, 6.117563343910485, 4.900816958066001, 10.93892362389684, 5.450993710876859, 8.627739207683833, 7.127714222449701, 6.3654024821802295, 6.277412389439791, 16.396052253617057, 12.602505120181517, 13.012348828235288, 54.35348604542924, 4.611675368900395, 6.860542782578061, 27.75367967707815, 8.266672606421805, 13.374386410826164, 4.793093230807223, 11.286725878170754, 8.86189863975769, 8.046965683950022, 9.60642685246471, 9.170182949361731, 6.389043117525502, 8.202601412548187, 13.125135594203202, 8.644955349138936, 10.172146093452287, 10.231797648173911, 9.991352627740152, 9.537795756525794, 8.118441854723882, 9.504127227801561, 8.220254631339573, 7.93811985338484, 8.175817530561952, 8.201779743352853, 8.093630702744067, 9.32538844711138, 6.534908606063388, 6.534720515239425, 13.924554638641057, 5.728635558957532, 4.726308463876017, 4.72630632648029, 4.254142786045102, 4.128455723956125, 4.028749063159613, 3.5765277810885423, 3.5765277810885423, 3.5765238625297098, 3.575541729193223, 3.575531754679831, 3.331186100116998, 3.331186100116998, 3.330417706353196, 3.3304162814227114, 3.3293511458854987, 3.2276812871138763, 3.0006161207699926, 2.5295759599055736, 2.5293661388917212, 2.5293237472098054, 2.529323390977184, 2.5286718415131166, 2.528261817766183, 2.5281606477017786, 2.426725189994867, 4.1316301128431165, 3.219250685901944, 3.9054238233488046, 3.848352507580981, 11.597537000024253, 4.804295977994158, 4.1182667585262385, 4.932719262846121, 5.543356479073537, 13.41479288244012, 3.94663495035817, 3.7931321765126085, 5.071189020079515, 4.404713052953427, 3.8974406503090253, 4.512791180346762, 3.97263280704907, 71.9035542548205, 17.595188128512447, 37.91620342421737, 9.40168169500499, 9.067903330890603, 9.067898652624727, 9.067893038705677, 9.066202313418264, 8.934328547959575, 8.601507357043321, 8.60150361443062, 8.60150361443062, 8.60150361443062, 8.601502678777445, 8.601498936164743, 6.604853422272914, 9.991097348314952, 9.067511292210234, 3.805818879353941, 9.014821854960601, 3.2075203687128355, 8.601846063492708, 2.406154008606082, 8.602079041133308, 2.210621441986135, 1.9392957051336508, 1.937569074155643, 4.4218505907095, 1.7470470472450248, 3.137513394671789, 19.519276545634483, 3.29926513905778, 8.60208839766506, 11.183047448103009, 8.633275589297627, 9.352549611127102, 11.747558820851227, 11.556324411004415, 9.10982714270749, 10.997319357191683, 12.224382649335045, 12.505587597193513, 12.827285743164131, 13.319628315210224, 10.75806348378583, 11.422856292535348, 11.70355973029196, 11.167606363754267, 13.04546696445394, 12.833503158512697, 11.73661729262156, 10.268019811590968, 9.547485464934628, 9.486356436045556, 9.507995287026187, 9.449677895928302, 9.114988205621364, 3.1039613808009388, 2.687215037344386, 2.502799471051775, 1.9007592917546778, 1.9006215473329229, 1.9006215473329229, 1.900455023457055, 1.9002922706820706, 1.900289888934144, 1.8233467282494076, 1.8233465297704137, 1.8233463312914198, 1.8233459343334322, 1.8233453388964505, 1.8233449419384626, 1.3904681114095254, 1.3904681114095254, 1.3904036057365132, 1.3903749255218971, 1.390361726668804, 1.3903609327528283, 1.3902914651049694, 1.29923863122407, 1.2992381350265854, 1.2992381350265854, 1.2992381350265854, 1.2992380357870885, 1.2992380357870885, 1.2992380357870885, 1.2992380357870885, 3.1048559256263704, 2.5028764809014015, 3.014950101851122, 1.9002309406729607, 8.770731165580274, 1.901049468043735, 5.631819618746443, 4.194777319787758, 1.8233657822328204, 1.8233655837538265, 1.8233655837538265, 1.7135298887657846, 1.823381462073337, 4.177777197003675, 2.637014142379496, 2.527809213634015, 2.1706512261160458, 1.8554173610390428, 1.843819042552484, 1.830505468600787, 10.468393866103572, 10.468384373324175, 7.086576373595358, 6.108547178337426, 5.825438085405363, 5.541978352934337, 5.541673397396221, 5.541437857807443, 5.541318604766273, 5.540903295667672, 5.541088998164618, 5.461497382612499, 5.461114704943073, 5.46025560840768, 5.256872216536713, 5.256873403134138, 5.256872216536713, 5.25687399643285, 5.77324678428283, 6.00554102910487, 5.257003928850841, 6.026869524512903, 8.091979778139535, 6.943673259156296, 5.546306467040477, 5.883278183567588, 6.136362801865615, 5.522625542238222, 1.4704333084301975, 6.105934884107223, 5.25699324947402, 7.151530716616625, 11.497319784693824, 7.575710817564206, 57.67922402979018, 12.170559565475273, 13.974740605230009, 14.008686784352266, 11.571047829072404, 12.69096441137396, 12.928090480908871, 13.689266623630765, 12.375233382045465, 11.754944324738277, 7.2583446569846455, 11.94845107294579, 8.040646980253683, 6.98362718103918, 7.042548269455193, 6.828394132761353, 6.373268757578266, 6.863740496844611, 6.879866949143306, 6.729714317738799, 6.986123188721775, 6.882530267062766, 6.654178492183879, 6.691180752973132, 8.685669981926873, 8.504474535773868, 8.504473418697044, 8.504470067466574, 8.504470067466574, 8.50446280646722, 8.502564892944124, 8.088363419026575, 8.088359509257693, 8.08835895071928, 8.088356158027223, 8.088354482411987, 8.088354482411987, 8.088354482411987, 8.088353365335164, 8.088351689719929, 8.088350014104693, 8.088350014104693, 8.088350014104693, 8.08834889702787, 8.08834889702787, 8.08834889702787, 8.088344428720577, 5.475501738594625, 5.475495594672096, 1.8572716152012911, 1.7303849533409394, 1.7300850182138343, 1.3142443736924276, 1.3142440944232219, 16.936064277122785, 4.728129867919725, 8.05166130145264, 2.1461039761231895, 2.978738969504051], \"Total\": [262.0, 72.0, 102.0, 62.0, 132.0, 52.0, 62.0, 40.0, 44.0, 48.0, 46.0, 111.0, 46.0, 92.0, 64.0, 34.0, 76.0, 52.0, 56.0, 54.0, 26.0, 49.0, 32.0, 34.0, 37.0, 25.0, 49.0, 43.0, 43.0, 39.0, 39.02138883238423, 37.388980967879014, 33.992990353487826, 32.6092686626503, 29.866706999697392, 25.190982372633105, 31.65594518938561, 24.580626616890264, 26.354136499478752, 23.03895788045778, 46.25264983941289, 24.2928185033886, 20.862761537010016, 21.326646224948394, 30.378766000018395, 20.137864412826794, 20.377919883955425, 19.945877036461404, 19.778634372135578, 19.938689132767895, 18.995439421196323, 21.220361519617697, 29.709544041999656, 18.524502523840994, 17.915880579759946, 17.44673283455653, 18.18374963406285, 16.974084195707043, 16.50473488891239, 16.528256177940282, 41.70139186235184, 54.642571998539125, 67.65122272592434, 55.03060033910698, 37.9165592758523, 50.480850404065215, 97.70819626443559, 39.389135953616794, 34.31619852429214, 75.28891239708821, 42.38930365476588, 31.694215350662937, 78.51724986512718, 40.43496052601289, 49.692948729263165, 42.78163636942275, 114.29565843574969, 73.45837554146631, 81.31751131408143, 67.57986119674521, 61.14527414546988, 100.7463763790004, 49.695654840651564, 83.0921334098899, 70.35077894680792, 66.05714785695513, 102.07584226900654, 61.4952924284928, 85.99104155898019, 132.97358178295298, 262.02367630506706, 53.77755366759866, 60.2339741321299, 51.20010963847556, 76.63683943694556, 92.36765419823254, 51.94486582181933, 111.99951570652551, 64.89754901760888, 55.568270723593066, 6.932032247180284, 6.930327400069536, 12.541241288914238, 6.153786413234258, 5.375774297477599, 4.597300199537091, 4.597321868754904, 4.586608422585673, 3.8190425723734487, 3.81904348909879, 3.8190513494846554, 3.819071943580239, 3.81904087827831, 3.8190686273410077, 3.8190683130816057, 3.8189784529256188, 3.818675457283645, 3.8179839065831955, 3.8180226993303323, 3.819535098571954, 3.8094729258826843, 3.8120751408432985, 3.5964784625535677, 3.5963663674991033, 3.4979766873335523, 10.464918874706155, 3.3796598110629827, 3.0408344587083267, 3.0408338173318494, 3.0408309815812116, 10.57410033637334, 12.705597677045182, 7.79583556224533, 6.325566836791203, 15.944648700337426, 7.240860405917799, 13.171685008627637, 10.66043703527293, 9.208990544135663, 9.287632424196497, 35.120823632425314, 28.185764001244543, 29.955198189561806, 262.02367630506706, 6.5264890086289995, 12.115901120325345, 111.99951570652551, 16.70342167461911, 38.964919497102166, 7.373758107637444, 32.70882402015168, 22.38328172192199, 19.120152612810415, 27.794380620797472, 27.352598990580105, 13.26624030566739, 24.061983435206958, 85.99104155898019, 30.185244218038477, 51.079615054765206, 56.832300766831295, 54.022296014676606, 62.490969507083825, 35.816118982934974, 114.29565843574969, 42.62490182995103, 38.502468533272385, 60.2339741321299, 132.97358178295298, 83.0921334098899, 9.904434521688811, 7.114042437038323, 7.113930843630579, 15.275440038670329, 6.314083505375431, 5.305339359934254, 5.3053392782751745, 4.833473124686131, 4.709405556793476, 4.607772725686713, 4.155551490060063, 4.155551579518426, 4.155553436611458, 4.15499107361123, 4.1549870722069455, 3.9102082102175224, 3.9102084850217316, 3.9097668430114005, 3.9097672856295116, 3.909151826112159, 3.8067334070654337, 3.5800772708748436, 3.108855192796325, 3.108730312016841, 3.108709704742717, 3.1087093593503483, 3.108563845151362, 3.108138087301621, 3.108095559654376, 3.005745646360427, 5.126500402315774, 4.089946182848723, 5.501610846012542, 5.583722234139183, 29.63594380462867, 9.130105994556605, 7.174512381931223, 10.057635029566937, 15.379448213130933, 132.97358178295298, 8.021544729308228, 7.925647879807923, 66.05714785695513, 26.083714163566114, 11.340737134868009, 33.064682547708614, 100.7463763790004, 72.53693707053903, 18.22777714740464, 40.27524488779731, 10.035350523683986, 9.700406933709345, 9.700413822777223, 9.700420662274317, 9.700607490019028, 9.569600072566237, 9.23391414173714, 9.23391936873732, 9.233919764985277, 9.23392001714307, 9.233921567045272, 9.233926830067992, 7.237593550875888, 11.41857009584156, 10.472573722596755, 4.43843903107414, 10.535097636428892, 3.8401959892379343, 10.784467299510164, 3.0388294011658767, 10.913635639886872, 2.846110943044473, 2.572209016138251, 2.571733527049544, 5.951800607255087, 2.3801691062799226, 4.321981735433234, 32.86800115477805, 4.7975249281968395, 15.07553660413257, 21.518648417102746, 17.296128367500092, 20.373395676239134, 29.685092116711086, 30.759635328274932, 21.40504835154209, 30.082340470515387, 39.226289547507335, 43.8071812241253, 49.03900126847216, 64.89754901760888, 33.89598905506343, 42.62490182995103, 49.045198728308975, 39.30289710666856, 92.36765419823254, 111.99951570652551, 76.63683943694556, 42.95643167611111, 30.54913225039114, 32.584146026998184, 37.48581477341137, 37.20860455422426, 40.6050312394812, 3.7151344346958592, 3.298000973679306, 3.1136065388392167, 2.5117119505520407, 2.5116565856335877, 2.5116567257714646, 2.511586216579289, 2.5114859363548656, 2.511485649112913, 2.4341317569339167, 2.434131707234783, 2.434131530522283, 2.4341314273031465, 2.4341308058394433, 2.434130559050531, 2.0017770744272005, 2.0017771113166942, 2.00172858778663, 2.001747692363756, 2.001732661324154, 2.001732213783774, 2.0016866611099466, 1.9100253328223957, 1.9100247389265126, 1.9100247517383764, 1.9100247652971665, 1.910024631607591, 1.9100246610741334, 1.9100246761217556, 1.9100246996705215, 4.7943307353052385, 3.913705902278284, 4.849795172456474, 2.9769685964795043, 29.63594380462867, 3.311887672186197, 76.63683943694556, 40.1727761672945, 5.54089973414836, 5.54089895966938, 5.540900215442792, 4.518842174133207, 6.317564262877795, 262.02367630506706, 35.482084488387144, 31.300639056732514, 16.021859911409454, 55.03060033910698, 85.99104155898019, 37.940442381790106, 11.129803692815598, 11.129812001100204, 7.764226095622106, 6.779971808394478, 6.489991791283726, 6.203350150878414, 6.203618879392757, 6.203389011726652, 6.20340184347519, 6.204484134070466, 6.204808131459624, 6.12286788000225, 6.1231317809525585, 6.123711779296722, 5.918225718522979, 5.918227830745261, 5.918227305974677, 5.9182294397749144, 6.634165666610114, 7.540145076875419, 6.996876210265201, 8.091290694113287, 10.880117734777604, 9.418176039504633, 7.693696990641884, 8.187809725615177, 8.577786400341706, 7.8084656457951835, 2.1320967317582835, 9.192561477904713, 8.070353586424279, 11.22607221278686, 20.771822983118273, 12.178452120805126, 262.02367630506706, 25.81392660096645, 44.91676643974065, 48.01124115062032, 34.60365663025867, 46.64382513271836, 52.24749938906644, 62.38438030138057, 62.490969507083825, 102.07584226900654, 17.62320682123703, 132.97358178295298, 52.75474783380881, 26.291680117387962, 28.60323955825083, 26.64798580737798, 16.163235897558025, 39.226289547507335, 43.80403720026082, 33.07837247641007, 56.832300766831295, 46.93062892026705, 37.87101774039092, 54.022296014676606, 9.326137949912052, 9.14493489825385, 9.144935022418553, 9.14493645233896, 9.144937223180706, 9.144949457541081, 9.144584637670134, 8.728817652405324, 8.728821352855451, 8.728821587688769, 8.728823939377845, 8.728824578001978, 8.728825257070413, 8.728826221324583, 8.728826679423685, 8.728827997116252, 8.728829316081487, 8.728830061943539, 8.728830084208077, 8.7288299591759, 8.728830080358197, 8.728830192953557, 8.728834446819546, 6.116060226482643, 6.116061234904936, 2.498408929705926, 2.370947176745135, 2.3708958527951918, 1.9548122496746219, 1.9548123745985113, 26.083714163566114, 12.167362062597887, 34.89701428901363, 4.02931370101699, 10.057635029566937], \"Category\": [\"Default\", \"Default\", \"Default\", \"Default\", \"Default\", \"Default\", \"Default\", \"Default\", \"Default\", \"Default\", \"Default\", \"Default\", \"Default\", \"Default\", \"Default\", \"Default\", \"Default\", \"Default\", \"Default\", \"Default\", \"Default\", \"Default\", \"Default\", \"Default\", \"Default\", \"Default\", \"Default\", \"Default\", \"Default\", \"Default\", \"Topic1\", \"Topic1\", \"Topic1\", \"Topic1\", \"Topic1\", \"Topic1\", \"Topic1\", \"Topic1\", \"Topic1\", \"Topic1\", \"Topic1\", \"Topic1\", \"Topic1\", \"Topic1\", \"Topic1\", \"Topic1\", \"Topic1\", \"Topic1\", \"Topic1\", \"Topic1\", \"Topic1\", \"Topic1\", \"Topic1\", \"Topic1\", \"Topic1\", \"Topic1\", \"Topic1\", \"Topic1\", \"Topic1\", \"Topic1\", \"Topic1\", \"Topic1\", \"Topic1\", \"Topic1\", \"Topic1\", \"Topic1\", \"Topic1\", \"Topic1\", \"Topic1\", \"Topic1\", \"Topic1\", \"Topic1\", \"Topic1\", \"Topic1\", \"Topic1\", \"Topic1\", \"Topic1\", \"Topic1\", \"Topic1\", \"Topic1\", \"Topic1\", \"Topic1\", \"Topic1\", \"Topic1\", \"Topic1\", \"Topic1\", \"Topic1\", \"Topic1\", \"Topic1\", \"Topic1\", \"Topic1\", \"Topic1\", \"Topic1\", \"Topic1\", \"Topic1\", \"Topic1\", \"Topic1\", \"Topic1\", \"Topic1\", \"Topic1\", \"Topic2\", \"Topic2\", \"Topic2\", \"Topic2\", \"Topic2\", \"Topic2\", \"Topic2\", \"Topic2\", \"Topic2\", \"Topic2\", \"Topic2\", \"Topic2\", \"Topic2\", \"Topic2\", \"Topic2\", \"Topic2\", \"Topic2\", \"Topic2\", \"Topic2\", \"Topic2\", \"Topic2\", \"Topic2\", \"Topic2\", \"Topic2\", \"Topic2\", \"Topic2\", \"Topic2\", \"Topic2\", \"Topic2\", \"Topic2\", \"Topic2\", \"Topic2\", \"Topic2\", \"Topic2\", \"Topic2\", \"Topic2\", \"Topic2\", \"Topic2\", \"Topic2\", \"Topic2\", \"Topic2\", \"Topic2\", \"Topic2\", \"Topic2\", \"Topic2\", \"Topic2\", \"Topic2\", \"Topic2\", \"Topic2\", \"Topic2\", \"Topic2\", \"Topic2\", \"Topic2\", \"Topic2\", \"Topic2\", \"Topic2\", \"Topic2\", \"Topic2\", \"Topic2\", \"Topic2\", \"Topic2\", \"Topic2\", \"Topic2\", \"Topic2\", \"Topic2\", \"Topic2\", \"Topic2\", \"Topic2\", \"Topic2\", \"Topic2\", \"Topic3\", \"Topic3\", \"Topic3\", \"Topic3\", \"Topic3\", \"Topic3\", \"Topic3\", \"Topic3\", \"Topic3\", \"Topic3\", \"Topic3\", \"Topic3\", \"Topic3\", \"Topic3\", \"Topic3\", \"Topic3\", \"Topic3\", \"Topic3\", \"Topic3\", \"Topic3\", \"Topic3\", \"Topic3\", \"Topic3\", \"Topic3\", \"Topic3\", \"Topic3\", \"Topic3\", \"Topic3\", \"Topic3\", \"Topic3\", \"Topic3\", \"Topic3\", \"Topic3\", \"Topic3\", \"Topic3\", \"Topic3\", \"Topic3\", \"Topic3\", \"Topic3\", \"Topic3\", \"Topic3\", \"Topic3\", \"Topic3\", \"Topic3\", \"Topic3\", \"Topic3\", \"Topic3\", \"Topic4\", \"Topic4\", \"Topic4\", \"Topic4\", \"Topic4\", \"Topic4\", \"Topic4\", \"Topic4\", \"Topic4\", \"Topic4\", \"Topic4\", \"Topic4\", \"Topic4\", \"Topic4\", \"Topic4\", \"Topic4\", \"Topic4\", \"Topic4\", \"Topic4\", \"Topic4\", \"Topic4\", \"Topic4\", \"Topic4\", \"Topic4\", \"Topic4\", \"Topic4\", \"Topic4\", \"Topic4\", \"Topic4\", \"Topic4\", \"Topic4\", \"Topic4\", \"Topic4\", \"Topic4\", \"Topic4\", \"Topic4\", \"Topic4\", \"Topic4\", \"Topic4\", \"Topic4\", \"Topic4\", \"Topic4\", \"Topic4\", \"Topic4\", \"Topic4\", \"Topic4\", \"Topic4\", \"Topic4\", \"Topic4\", \"Topic4\", \"Topic4\", \"Topic4\", \"Topic4\", \"Topic4\", \"Topic4\", \"Topic4\", \"Topic4\", \"Topic5\", \"Topic5\", \"Topic5\", \"Topic5\", \"Topic5\", \"Topic5\", \"Topic5\", \"Topic5\", \"Topic5\", \"Topic5\", \"Topic5\", \"Topic5\", \"Topic5\", \"Topic5\", \"Topic5\", \"Topic5\", \"Topic5\", \"Topic5\", \"Topic5\", \"Topic5\", \"Topic5\", \"Topic5\", \"Topic5\", \"Topic5\", \"Topic5\", \"Topic5\", \"Topic5\", \"Topic5\", \"Topic5\", \"Topic5\", \"Topic5\", \"Topic5\", \"Topic5\", \"Topic5\", \"Topic5\", \"Topic5\", \"Topic5\", \"Topic5\", \"Topic5\", \"Topic5\", \"Topic5\", \"Topic5\", \"Topic5\", \"Topic5\", \"Topic5\", \"Topic5\", \"Topic5\", \"Topic5\", \"Topic5\", \"Topic5\", \"Topic6\", \"Topic6\", \"Topic6\", \"Topic6\", \"Topic6\", \"Topic6\", \"Topic6\", \"Topic6\", \"Topic6\", \"Topic6\", \"Topic6\", \"Topic6\", \"Topic6\", \"Topic6\", \"Topic6\", \"Topic6\", \"Topic6\", \"Topic6\", \"Topic6\", \"Topic6\", \"Topic6\", \"Topic6\", \"Topic6\", \"Topic6\", \"Topic6\", \"Topic6\", \"Topic6\", \"Topic6\", \"Topic6\", \"Topic6\", \"Topic6\", \"Topic6\", \"Topic6\", \"Topic6\", \"Topic6\", \"Topic6\", \"Topic6\", \"Topic6\", \"Topic6\", \"Topic6\", \"Topic6\", \"Topic6\", \"Topic6\", \"Topic6\", \"Topic6\", \"Topic6\", \"Topic6\", \"Topic6\", \"Topic6\", \"Topic6\", \"Topic6\", \"Topic6\", \"Topic6\", \"Topic6\", \"Topic6\", \"Topic6\", \"Topic6\", \"Topic6\", \"Topic7\", \"Topic7\", \"Topic7\", \"Topic7\", \"Topic7\", \"Topic7\", \"Topic7\", \"Topic7\", \"Topic7\", \"Topic7\", \"Topic7\", \"Topic7\", \"Topic7\", \"Topic7\", \"Topic7\", \"Topic7\", \"Topic7\", \"Topic7\", \"Topic7\", \"Topic7\", \"Topic7\", \"Topic7\", \"Topic7\", \"Topic7\", \"Topic7\", \"Topic7\", \"Topic7\", \"Topic7\", \"Topic7\", \"Topic7\", \"Topic7\", \"Topic7\", \"Topic7\", \"Topic7\", \"Topic7\"], \"logprob\": [30.0, 29.0, 28.0, 27.0, 26.0, 25.0, 24.0, 23.0, 22.0, 21.0, 20.0, 19.0, 18.0, 17.0, 16.0, 15.0, 14.0, 13.0, 12.0, 11.0, 10.0, 9.0, 8.0, 7.0, 6.0, 5.0, 4.0, 3.0, 2.0, 1.0, -6.2433, -6.2871, -6.3837, -6.4273, -6.5157, -6.6888, -6.4608, -6.7139, -6.6445, -6.7808, -6.0845, -6.7288, -6.8816, -6.8599, -6.5063, -6.9179, -6.9062, -6.9277, -6.9364, -6.9284, -6.9782, -6.8683, -6.5321, -7.0046, -7.0386, -7.0657, -7.0244, -7.094, -7.1229, -7.1216, -6.1988, -5.9314, -5.7211, -5.9387, -6.3038, -6.0243, -5.3861, -6.2677, -6.4019, -5.6479, -6.1998, -6.4826, -5.6149, -6.2503, -6.059, -6.2054, -5.282, -5.7036, -5.6148, -5.7885, -5.8836, -5.4343, -6.0743, -5.6294, -5.7752, -5.8384, -5.4841, -5.913, -5.6562, -5.3303, -4.9132, -6.0462, -5.9692, -6.0816, -5.8511, -5.7493, -6.0986, -5.7568, -6.0444, -6.0785, -6.4169, -6.4175, -5.8355, -6.5477, -6.6984, -6.8753, -6.8753, -6.8817, -7.0908, -7.0908, -7.0908, -7.0908, -7.0908, -7.0908, -7.0908, -7.0909, -7.0911, -7.0915, -7.0915, -7.0922, -7.0976, -7.1001, -7.163, -7.163, -7.1956, -6.1051, -7.2457, -7.3659, -7.3659, -7.3659, -6.1304, -5.9526, -6.4541, -6.6759, -5.873, -6.5695, -6.1103, -6.3013, -6.4144, -6.4283, -5.4683, -5.7314, -5.6994, -4.2698, -6.7367, -6.3395, -4.9419, -6.1531, -5.672, -6.6981, -5.8417, -6.0835, -6.18, -6.0029, -6.0493, -6.4107, -6.1608, -5.6908, -6.1083, -5.9456, -5.9398, -5.9636, -6.01, -6.1712, -6.0136, -6.1587, -6.1936, -6.1641, -6.1609, -6.1742, -5.7934, -6.149, -6.149, -5.3925, -6.2807, -6.473, -6.473, -6.5783, -6.6083, -6.6327, -6.7518, -6.7518, -6.7518, -6.7521, -6.7521, -6.8228, -6.8228, -6.8231, -6.8231, -6.8234, -6.8544, -6.9274, -7.0981, -7.0982, -7.0982, -7.0982, -7.0985, -7.0986, -7.0987, -7.1396, -6.6075, -6.857, -6.6638, -6.6785, -5.5754, -6.4567, -6.6107, -6.4303, -6.3136, -5.4298, -6.6533, -6.693, -6.4026, -6.5435, -6.6659, -6.5193, -6.6467, -3.3302, -4.7379, -3.9702, -5.3647, -5.4008, -5.4008, -5.4008, -5.401, -5.4156, -5.4536, -5.4536, -5.4536, -5.4536, -5.4536, -5.4536, -5.7177, -5.3038, -5.4008, -6.269, -5.4067, -6.44, -5.4536, -6.7275, -5.4535, -6.8123, -6.9432, -6.9441, -6.119, -7.0476, -6.4621, -4.6341, -6.4118, -5.4535, -5.1911, -5.4499, -5.3699, -5.1419, -5.1583, -5.3962, -5.2079, -5.1021, -5.0794, -5.054, -5.0163, -5.2299, -5.1699, -5.1456, -5.1925, -5.0371, -5.0535, -5.1428, -5.2765, -5.3493, -5.3557, -5.3534, -5.3596, -5.3956, -6.3086, -6.4528, -6.5239, -6.799, -6.7991, -6.7991, -6.7992, -6.7993, -6.7993, -6.8406, -6.8406, -6.8406, -6.8406, -6.8406, -6.8406, -7.1116, -7.1116, -7.1117, -7.1117, -7.1117, -7.1117, -7.1118, -7.1795, -7.1795, -7.1795, -7.1795, -7.1795, -7.1795, -7.1795, -7.1795, -6.3083, -6.5238, -6.3377, -6.7993, -5.2699, -6.7989, -5.7128, -6.0074, -6.8406, -6.8406, -6.8406, -6.9027, -6.8406, -6.0115, -6.4716, -6.5139, -6.6662, -6.8232, -6.8294, -6.8367, -4.8016, -4.8016, -5.1918, -5.3403, -5.3878, -5.4376, -5.4377, -5.4377, -5.4378, -5.4378, -5.4378, -5.4523, -5.4523, -5.4525, -5.4905, -5.4905, -5.4905, -5.4905, -5.3968, -5.3573, -5.4904, -5.3538, -5.0591, -5.2122, -5.4369, -5.3779, -5.3358, -5.4411, -6.7644, -5.3407, -5.4904, -5.1827, -4.7079, -5.125, -3.0951, -4.651, -4.5127, -4.5103, -4.7015, -4.6091, -4.5906, -4.5334, -4.6343, -4.6857, -5.1678, -4.6694, -5.0655, -5.2064, -5.198, -5.2289, -5.2979, -5.2237, -5.2214, -5.2435, -5.2061, -5.221, -5.2547, -5.2492, -4.9279, -4.949, -4.949, -4.949, -4.949, -4.949, -4.9493, -4.9992, -4.9992, -4.9992, -4.9992, -4.9992, -4.9992, -4.9992, -4.9992, -4.9992, -4.9992, -4.9992, -4.9992, -4.9992, -4.9992, -4.9992, -4.9992, -5.3893, -5.3893, -6.4705, -6.5413, -6.5414, -6.8164, -6.8164, -4.2602, -5.5361, -5.0037, -6.326, -5.9981], \"loglift\": [30.0, 29.0, 28.0, 27.0, 26.0, 25.0, 24.0, 23.0, 22.0, 21.0, 20.0, 19.0, 18.0, 17.0, 16.0, 15.0, 14.0, 13.0, 12.0, 11.0, 10.0, 9.0, 8.0, 7.0, 6.0, 5.0, 4.0, 3.0, 2.0, 1.0, 0.495, 0.4939, 0.4925, 0.4905, 0.4899, 0.4871, 0.4867, 0.4865, 0.4862, 0.4844, 0.4838, 0.4834, 0.4828, 0.4825, 0.4824, 0.4819, 0.4817, 0.4816, 0.4813, 0.4813, 0.48, 0.4791, 0.4788, 0.4787, 0.4781, 0.4775, 0.4775, 0.4767, 0.4759, 0.4757, 0.473, 0.4701, 0.4669, 0.4558, 0.4632, 0.4565, 0.4342, 0.4612, 0.4649, 0.4332, 0.4557, 0.4636, 0.4242, 0.4524, 0.4375, 0.4409, 0.3815, 0.4021, 0.3892, 0.4005, 0.4055, 0.3555, 0.4221, 0.353, 0.3737, 0.3735, 0.2926, 0.3704, 0.292, 0.1819, -0.0792, 0.3713, 0.3349, 0.3851, 0.2122, 0.1273, 0.3536, -0.0729, 0.1851, 0.3063, 2.0493, 2.049, 2.0379, 2.0376, 2.0221, 2.0016, 2.0016, 1.9976, 1.9715, 1.9715, 1.9715, 1.9715, 1.9715, 1.9715, 1.9715, 1.9715, 1.9714, 1.9712, 1.9712, 1.97, 1.9673, 1.9641, 1.9595, 1.9594, 1.9546, 1.9493, 1.9389, 1.9244, 1.9244, 1.9244, 1.9136, 1.9077, 1.8947, 1.8819, 1.7603, 1.8531, 1.714, 1.7345, 1.7678, 1.7454, 1.3753, 1.3322, 1.3033, 0.5642, 1.7898, 1.5684, 0.742, 1.4337, 1.0678, 1.7063, 1.0731, 1.2105, 1.2716, 1.0747, 1.0442, 1.4065, 1.0609, 0.2574, 0.8867, 0.5234, 0.4225, 0.4494, 0.2573, 0.6528, -0.35, 0.4913, 0.558, 0.14, -0.6487, -0.1918, 2.316, 2.2913, 2.2913, 2.2836, 2.2789, 2.2606, 2.2606, 2.2485, 2.2445, 2.2419, 2.2262, 2.2262, 2.2262, 2.226, 2.226, 2.2159, 2.2159, 2.2158, 2.2158, 2.2157, 2.2112, 2.1996, 2.17, 2.17, 2.17, 2.17, 2.1697, 2.1697, 2.1697, 2.1622, 2.1605, 2.1368, 2.0335, 2.004, 1.438, 1.7341, 1.8211, 1.6638, 1.3558, 0.0824, 1.6669, 1.6393, -0.1907, 0.5976, 1.3081, 0.3847, -0.857, 2.7881, 2.7615, 2.7365, 2.7316, 2.7294, 2.7294, 2.7294, 2.7292, 2.7282, 2.7259, 2.7259, 2.7259, 2.7259, 2.7259, 2.7259, 2.7054, 2.6633, 2.6528, 2.6431, 2.641, 2.6168, 2.5707, 2.5634, 2.5588, 2.5442, 2.5144, 2.5137, 2.4997, 2.4876, 2.4766, 2.2757, 2.4224, 2.2358, 2.1423, 2.102, 2.0183, 1.8698, 1.8179, 1.9426, 1.7906, 1.6309, 1.5432, 1.4558, 1.2133, 1.6492, 1.48, 1.364, 1.5386, 0.8395, 0.6304, 0.9205, 1.3657, 1.6338, 1.5629, 1.425, 1.4263, 1.3029, 2.7814, 2.7563, 2.7427, 2.6824, 2.6823, 2.6823, 2.6823, 2.6822, 2.6822, 2.6722, 2.6722, 2.6722, 2.6722, 2.6722, 2.6722, 2.5967, 2.5967, 2.5967, 2.5967, 2.5967, 2.5967, 2.5966, 2.5758, 2.5758, 2.5758, 2.5758, 2.5758, 2.5758, 2.5758, 2.5758, 2.5266, 2.5141, 2.4858, 2.5122, 1.7435, 2.406, 0.3505, 0.7018, 1.8496, 1.8496, 1.8496, 1.9914, 1.7185, -1.1775, 0.3617, 0.4448, 0.9622, -0.4287, -0.8813, -0.0703, 3.1911, 3.1911, 3.1611, 3.1481, 3.1444, 3.1396, 3.1396, 3.1395, 3.1395, 3.1393, 3.1393, 3.1381, 3.138, 3.1377, 3.1339, 3.1339, 3.1339, 3.1339, 3.1134, 3.0248, 2.9665, 2.9578, 2.9563, 2.9476, 2.9251, 2.9219, 2.9174, 2.906, 2.8808, 2.8433, 2.8237, 2.8015, 2.6609, 2.7777, 1.7388, 2.5005, 2.0848, 2.0206, 2.1569, 1.9507, 1.8558, 1.7357, 1.6331, 1.0909, 2.3653, 0.8428, 1.3712, 1.9267, 1.8508, 1.8908, 2.3218, 1.5093, 1.4013, 1.66, 1.1562, 1.3327, 1.5134, 1.1638, 3.2416, 3.2402, 3.2402, 3.2402, 3.2402, 3.2402, 3.24, 3.2366, 3.2366, 3.2366, 3.2366, 3.2366, 3.2366, 3.2366, 3.2366, 3.2366, 3.2366, 3.2366, 3.2366, 3.2366, 3.2366, 3.2366, 3.2366, 3.2021, 3.2021, 3.0162, 2.9978, 2.9977, 2.9157, 2.9157, 2.8809, 2.3675, 1.8462, 2.6828, 2.0959]}, \"token.table\": {\"Topic\": [1, 2, 3, 1, 3, 1, 2, 1, 1, 2, 4, 5, 1, 2, 7, 1, 2, 6, 3, 4, 2, 4, 2, 2, 4, 5, 3, 1, 2, 4, 5, 7, 2, 5, 3, 7, 1, 4, 6, 7, 3, 3, 4, 4, 5, 1, 1, 2, 5, 5, 5, 1, 4, 1, 2, 3, 7, 1, 2, 7, 1, 4, 4, 1, 2, 3, 5, 1, 2, 1, 2, 6, 5, 3, 1, 2, 1, 2, 1, 2, 4, 1, 2, 1, 4, 3, 3, 1, 2, 6, 7, 2, 7, 1, 2, 1, 3, 6, 2, 1, 2, 3, 5, 1, 2, 4, 1, 1, 2, 5, 6, 1, 2, 1, 2, 3, 6, 1, 6, 6, 1, 3, 1, 2, 1, 2, 6, 6, 1, 2, 1, 4, 2, 1, 2, 4, 3, 1, 2, 1, 2, 4, 1, 6, 1, 2, 5, 1, 5, 7, 2, 1, 2, 4, 7, 2, 1, 2, 3, 4, 7, 1, 2, 6, 1, 2, 6, 1, 5, 5, 5, 7, 1, 3, 1, 2, 5, 6, 5, 4, 1, 2, 5, 1, 2, 4, 5, 1, 2, 3, 4, 5, 6, 1, 6, 1, 4, 5, 6, 2, 2, 5, 6, 4, 6, 3, 5, 1, 2, 4, 7, 6, 1, 3, 1, 2, 3, 4, 5, 1, 2, 1, 2, 1, 5, 1, 3, 1, 2, 3, 4, 1, 2, 1, 2, 5, 7, 1, 4, 5, 3, 1, 1, 3, 5, 1, 2, 4, 5, 2, 3, 6, 3, 1, 1, 2, 6, 1, 4, 1, 5, 1, 2, 3, 4, 5, 6, 1, 4, 1, 2, 1, 2, 2, 7, 3, 1, 2, 6, 2, 4, 7, 4, 4, 5, 1, 2, 4, 5, 1, 1, 2, 4, 1, 6, 6, 6, 1, 4, 1, 2, 3, 5, 1, 5, 4, 2, 3, 5, 6, 1, 7, 1, 2, 3, 4, 5, 7, 1, 3, 5, 7, 1, 2, 1, 2, 6, 4, 1, 4, 1, 5, 1, 2, 5, 3, 5, 1, 1, 2, 5, 6, 7, 3, 1, 4, 2, 6, 5, 5, 1, 3, 4, 3, 1, 2, 3, 5, 7, 1, 2, 5, 3, 2, 2, 1, 2, 4, 5, 4, 1, 2, 4, 5, 3, 7, 3, 5, 1, 2, 1, 2, 5, 1, 2, 5, 3, 5, 6, 1, 4, 7, 4, 1, 6, 1, 2, 4, 6, 7, 6, 2, 6, 6, 1, 6, 6, 4, 4, 1, 3, 7, 1, 2, 3, 4, 5, 6, 3, 6, 5, 1, 5, 7, 1, 6, 1, 2, 1, 2, 6, 3, 7, 1, 5, 6, 4, 1, 2, 5, 1, 2, 5, 7, 1, 2, 5, 1, 3, 1, 3, 5, 7, 1, 2, 2, 4, 1, 2, 4, 6, 1, 2, 5, 6, 7, 2, 1, 2, 5, 3, 1, 2, 1, 2, 4, 1, 2, 6, 2, 1, 2, 4, 7, 1, 2, 3, 4, 6, 7, 2, 2, 1, 2, 4, 7, 1, 4, 1, 2, 3, 1, 2, 3, 1, 2, 6, 3, 4, 7, 5, 3, 5, 5, 1, 2, 4, 1, 2, 3, 5, 1, 2, 4, 2, 1, 2, 6, 1, 1, 3, 1, 2, 3, 7, 1, 2, 5, 6, 1, 4, 5, 1, 1, 2, 3, 5, 1, 2, 5, 5, 7, 2, 6, 7, 1, 2, 3, 1, 2, 5, 2, 2, 7, 7, 1, 2, 3, 6, 7, 6, 1, 3, 7, 2, 1, 2, 3, 6, 1, 1, 4, 2, 4, 1, 7, 1, 1, 1, 5, 4, 5, 1, 2, 4, 5, 1, 2, 3, 4, 3, 1, 2, 3, 5, 1, 2, 5, 6, 1, 6, 2, 2, 1, 2, 6, 5, 6, 2, 5, 1, 2, 5, 3, 2, 4, 6, 1, 2, 1, 2, 6, 1, 7, 1, 2, 3, 1, 2, 3, 7, 4, 1, 3, 5, 7, 1, 4, 7, 5, 1, 3, 5, 1, 2, 3, 5, 7, 1, 4, 5, 7, 1, 2, 3, 4, 6, 1, 2, 3, 4, 5, 1, 2, 5, 7], \"Freq\": [0.9256342460422017, 0.060367450828839236, 0.02012248360961308, 0.9761173028776008, 0.9650242056711892, 0.306443479389255, 0.7661086984731375, 0.9680392067830285, 0.5402713386037283, 0.33247466990998664, 0.04155933373874833, 0.04155933373874833, 0.6159386522480789, 0.33363343663437606, 0.02566411051033662, 0.6620394341147013, 0.15980262202768653, 0.15980262202768653, 0.9424467951511588, 0.9746673383634659, 0.6905256723239145, 0.1381051344647829, 0.8657599639433772, 0.8876633056912403, 0.335912176293219, 0.671824352586438, 0.7673091824803867, 0.645012095657194, 0.08062651195714925, 0.24187953587144773, 0.026875503985716413, 0.9841497803553684, 0.8600162225579328, 0.09555735806199253, 0.7802593750296198, 0.9165031078801471, 0.6456386400589581, 0.022263401381343383, 0.31168761933880734, 0.022263401381343383, 0.7674299012795431, 0.9626976157432457, 0.9925977427194523, 0.9875038439650293, 0.49957869002608746, 0.9606325513943202, 0.9716860129892309, 0.7855318384495026, 0.5235534389542186, 0.4995561165859457, 0.5235534454091285, 0.6315997925301882, 0.36566303778063525, 0.8780276152036922, 0.04541522147605305, 0.07569203579342175, 0.9165031324261573, 0.9616449787303679, 0.029140756931223272, 0.8435629922934319, 0.617692628577257, 0.390121660154057, 0.9277961287092606, 0.8024091666882969, 0.15117853865141825, 0.023258236715602808, 0.023258236715602808, 0.3230101992607163, 0.6460203985214326, 0.3093439971853291, 0.3093439971853291, 0.3712127966223949, 0.7963413097597397, 0.8275622718518262, 0.6580727486334653, 0.32903637431673266, 0.5807906169213746, 0.4020858117147978, 0.9313445901070505, 0.061407335611453874, 0.010234555935242313, 0.9436342791987041, 0.04718171395993521, 0.09492080989758843, 0.8542872890782958, 0.962567765904989, 0.9839848255296738, 0.7393516644295753, 0.07921624976031164, 0.18483791610739383, 0.9165031197023498, 0.7875105187431872, 0.916504011410119, 0.6957041608909879, 0.29815892609613764, 0.6068722801288247, 0.02889868000613451, 0.34678416007361407, 0.7857470309241978, 0.6241472622587856, 0.18724417867763568, 0.06241472622587856, 0.12482945245175713, 0.6137954323991992, 0.09206931485987989, 0.27620794457963965, 0.9743944703691632, 0.16422448273071494, 0.08211224136535747, 0.08211224136535747, 0.6568979309228598, 0.9608104241269186, 0.02956339766544365, 0.5244161231965465, 0.17480537439884883, 0.034961074879769766, 0.24472752415838836, 0.14292092212991964, 0.7146046106495981, 0.9672112417335772, 0.6172438278705832, 0.35271075878319036, 0.15741093420684485, 0.7870546710342243, 0.6732454469708107, 0.0961779209958301, 0.22441514899027024, 0.8984884438217992, 0.5125164542946964, 0.4555701815952857, 0.5606154119775899, 0.42046155898319243, 0.6577143376269344, 0.6524593809328281, 0.10194677827075438, 0.24467226784981053, 0.7880772513336217, 0.6420285849183096, 0.3363006873381622, 0.7242184136606965, 0.06163560967325077, 0.200315731438065, 0.13262344289194933, 0.795740657351696, 0.8854181447081749, 0.08608231962440589, 0.012297474232057985, 0.20857968613555264, 0.625739058406658, 0.9165036974349637, 0.9750094652450845, 0.4522758416668192, 0.4522758416668192, 0.07537930694446987, 0.9841513338188572, 0.8700717753058529, 0.49266975637335153, 0.18768371671365774, 0.046920929178414436, 0.2580651104812794, 0.023460464589207218, 0.6862294764381832, 0.17595627600979058, 0.1231693932068534, 0.3851371161068424, 0.0481421395133553, 0.5295635346469083, 0.9592005977170306, 0.023980014942925763, 0.5235534209654175, 0.5235532654021533, 0.9165031192981229, 0.1790920031598179, 0.7163680126392716, 0.6240901734702492, 0.160023121402628, 0.016002312140262803, 0.19202774568315362, 0.7963414008383539, 0.927794815641521, 0.474866558560883, 0.3165777057072553, 0.3165777057072553, 0.6935957016583713, 0.026676757756091202, 0.266767577560912, 0.026676757756091202, 0.6820569445749279, 0.06495780424523123, 0.032478902122615616, 0.140741909198001, 0.010826300707538539, 0.06495780424523123, 0.24426556881788475, 0.7327967064536542, 0.09162849420638765, 0.8246564478574888, 0.09162849420638765, 0.8166107938292084, 0.8341493022232485, 0.2061942751065689, 0.6185828253197067, 0.2061942751065689, 0.9746665926238156, 0.9670425244626562, 0.7270597852080214, 0.18176494630200535, 0.6321499051394899, 0.08156772969541805, 0.26509512151010867, 0.8435447316652681, 0.844847803683949, 0.9529212213241631, 0.9839693903926442, 0.8536287168927483, 0.07940732250165101, 0.03970366125082551, 0.009925915312706377, 0.009925915312706377, 0.8470519521780706, 0.1347582651192385, 0.9465449662685056, 0.031551498875616854, 0.4425912485831916, 0.4425912485831916, 0.9896155624203679, 0.9086838809718745, 0.8670835051609304, 0.08528690214697676, 0.028428967382325587, 0.8402764302431828, 0.9699397019857879, 0.01830074909407147, 0.9026357692924336, 0.0887838461599115, 0.014797307693318584, 0.9165044246050335, 0.3979957833378385, 0.5969936750067578, 0.7962872040070248, 0.66539229705672, 0.9895963741773762, 0.2787645896377481, 0.5575291792754962, 0.13938229481887404, 0.5605382975883912, 0.08850604698764074, 0.324522172288016, 0.02950201566254691, 0.8576386488975856, 0.8493640973922634, 0.884959431921417, 0.9424467806451428, 0.9738248980124313, 0.6849023964095854, 0.18510875578637442, 0.1295761290504621, 0.08757663977245121, 0.8757663977245121, 0.8961292555456587, 0.09956991728285096, 0.30591728502556137, 0.15295864251278068, 0.025493107085463446, 0.30591728502556137, 0.025493107085463446, 0.17845174959824414, 0.16801638125797203, 0.6720655250318881, 0.575309215504381, 0.41840670218500436, 0.41268081922624145, 0.5777531469167381, 0.7854359032128383, 0.9165033384370691, 0.9650758837330311, 0.5415398431053489, 0.16662764403241503, 0.2915983770567263, 0.24818122246168178, 0.24818122246168178, 0.49636244492336357, 0.9277954698043289, 0.9435076088516431, 0.049658295202718056, 0.9549043022757965, 0.7855503865704659, 0.9012177416419226, 0.49956720960854784, 0.9792789257922537, 0.9846836571722057, 0.7904429957041401, 0.15808859914082804, 0.7129994791103312, 0.2626840186195957, 0.8984877731098675, 0.9672132424160127, 0.9647330178744569, 0.025387710996696233, 0.8170700723004422, 0.07907129731939762, 0.026357099106465873, 0.052714198212931745, 0.9586458611684988, 0.7962871595781834, 0.8968296601857104, 0.6780802851155641, 0.1356160570231128, 0.1356160570231128, 0.967219301517323, 0.9475958729290807, 0.9165026612361625, 0.809814655270422, 0.10797528736938959, 0.0179958812282316, 0.0179958812282316, 0.0179958812282316, 0.0179958812282316, 0.23619966504683107, 0.40491371150885325, 0.30368528363163994, 0.06748561858480888, 0.878904367934862, 0.09765604088165133, 0.9397808111016601, 0.04946214795271895, 0.8165755987081115, 0.7812101279224901, 0.9763786893662306, 0.9404781737745609, 0.9931539705501751, 0.5235534576108268, 0.3609522596527077, 0.3609522596527077, 0.3609522596527077, 0.3019426076548949, 0.6038852153097898, 0.9814544425482318, 0.6646110157516866, 0.021439065024247955, 0.04287813004849591, 0.2787078453152234, 0.9841890426521361, 0.7673090956146179, 0.18545190452669286, 0.8345335703701179, 0.26723505275361603, 0.6235484564251041, 0.4995682262327728, 0.49956732130006054, 0.32858326089408035, 0.5476387681568007, 0.10952775363136012, 0.9502566753974604, 0.39013103180627867, 0.13004367726875957, 0.39013103180627867, 0.06502183863437978, 0.9165040360670192, 0.9349805990261078, 0.046749029951305386, 0.023374514975652693, 0.7672225180554093, 0.8655470410485463, 0.7855371976478303, 0.6219489262172654, 0.03273415401143502, 0.3273415401143502, 0.03273415401143502, 0.9746671481507804, 0.7437676242755007, 0.026097109623701778, 0.15658265774221067, 0.07829132887110533, 0.9652080814094387, 0.9841513471811021, 0.962698542856206, 0.5235534246819927, 0.30368172313412783, 0.6832838770517876, 0.8466982418946133, 0.13281541049327267, 0.016601926311659083, 0.5341310011954907, 0.43398143847133624, 0.8216482263698194, 0.2555123008649859, 0.7665369025949578, 0.8448475770696251, 0.37177056127938324, 0.511184521759152, 0.09294264031984581, 0.9277769468829777, 0.24717935315994444, 0.7415380594798333, 0.6615288417399784, 0.02544341698999917, 0.27987758688999087, 0.8164982579526668, 0.8005094667330576, 0.9015708602235298, 0.7855353922918112, 0.9669920282593097, 0.46902187180565985, 0.8523218401346834, 0.1491563220235696, 0.8448475021568016, 0.777541788964985, 0.9746673117474712, 0.49865707104832874, 0.49865707104832874, 0.5115580466925297, 0.7219479141104633, 0.06016232617587194, 0.0977637800357919, 0.015040581543967984, 0.015040581543967984, 0.09024348926380792, 0.7672225719747828, 0.9044091301786625, 0.7962696516853482, 0.9508556138771895, 0.01980949195577478, 0.01980949195577478, 0.18382154024005892, 0.7352861609602357, 0.4789437850423197, 0.4789437850423197, 0.10878360752915334, 0.10878360752915334, 0.65270164517492, 0.9625677866266038, 0.81751974552996, 0.2478206163561834, 0.1239103081780917, 0.6195515408904585, 0.7027132954489147, 0.3609522092006238, 0.3609522092006238, 0.3609522092006238, 0.8739705842796233, 0.11157071288676042, 0.01859511881446007, 0.9165037644888284, 0.12827361377950658, 0.7696416826770395, 0.8216486139429308, 0.9709808316093845, 0.962567335738967, 0.1533523935631538, 0.1533523935631538, 0.03833809839078845, 0.6517476726434037, 0.7538505222429175, 0.22336311770160516, 0.7565655465251435, 0.18914138663128588, 0.9813160893317384, 0.12997652509792565, 0.12997652509792565, 0.779859150587554, 0.695318369015964, 0.030231233435476693, 0.030231233435476693, 0.21161863404833686, 0.9165034767912467, 0.7855375461056736, 0.6116344246678248, 0.35978495568695573, 0.035978495568695576, 0.8379707400189457, 0.31358483300382706, 0.6898866326084195, 0.9494532385729185, 0.026373701071469958, 0.026373701071469958, 0.45394689406694794, 0.11348672351673698, 0.3972035323085794, 0.8700758763595134, 0.6983820310354962, 0.04655880206903308, 0.2327940103451654, 0.9165031216358382, 0.562502432288012, 0.2500010810168942, 0.0178572200726353, 0.11607193047212945, 0.0535716602179059, 0.00892861003631765, 0.9300985724691012, 0.6577141989010319, 0.6163373046501945, 0.0684819227389105, 0.29675499853527887, 0.022827307579636837, 0.0954875111399113, 0.8593876002592017, 0.7635139763325546, 0.19577281444424477, 0.019577281444424475, 0.9256846529799818, 0.0201235794126083, 0.0402471588252166, 0.689028191223512, 0.05741901593529267, 0.24881573571960158, 0.9650306027041164, 0.6941260245051176, 0.23137534150170588, 0.8216482860196413, 0.7335059841570933, 0.8216483208615671, 0.8216485306385466, 0.5321835519284727, 0.4612257450046763, 0.6581481669331882, 0.7560937554421645, 0.09073125065305973, 0.15121875108843288, 0.7963095142017241, 0.18760956923083555, 0.6566334923079244, 0.09380478461541777, 0.7855370090870407, 0.6846272250245327, 0.03803484583469626, 0.2662439208428738, 0.9879462935374191, 0.06546456255718093, 0.9165038758005329, 0.8544731864057464, 0.09627866889078833, 0.048139334445394165, 0.9165031999493065, 0.7531984598582112, 0.20777888547812723, 0.025972360684765904, 0.8448472724623132, 0.9426134462115252, 0.9746679319141759, 0.8075077908306153, 0.9924186214809716, 0.8781159966478997, 0.09756844407198886, 0.016261407345331477, 0.5235534495338053, 0.9449288155965597, 0.018171707992241534, 0.03634341598448307, 0.5235534281938296, 0.9650296884236923, 0.8721040977256619, 0.6994811621516925, 0.23316038738389752, 0.898468003321743, 0.054452606261923824, 0.040839454696442866, 0.9694187824094367, 0.8771061609127472, 0.07973692371934066, 0.7856127166496634, 0.6577149509835675, 0.9841510969792863, 0.9165035248904307, 0.739269953916947, 0.05686691953207285, 0.03791127968804857, 0.15164511875219427, 0.018955639844024284, 0.967177403487964, 0.9707883789227757, 0.9652212882198525, 0.5115580793840686, 0.7855311563436039, 0.80332425554619, 0.048983186313792074, 0.01959327452551683, 0.11755964715310098, 0.9865623941241347, 0.490836194364138, 0.4417525749277242, 0.785531903088505, 0.777685549052404, 0.9488788409990496, 0.9841511799350021, 0.9875318832891973, 0.9525778167221063, 0.8945504259274037, 0.09584468849222183, 0.9671722998527411, 0.9096419388418642, 0.27382255335876005, 0.12169891260389336, 0.6084945630194668, 0.49955612579195185, 0.5053041419250244, 0.06737388559000325, 0.033686942795001625, 0.40424331354001947, 0.9649854412490623, 0.9169959483257224, 0.050944219351429024, 0.012736054837857256, 0.025472109675714512, 0.557201555442708, 0.20608824653360433, 0.015265796039526247, 0.22135404257313057, 0.2561322660204043, 0.7683967980612129, 0.7857550145319422, 0.7869729449604571, 0.10617767132462698, 0.10617767132462698, 0.7432436992723889, 0.9635128789003731, 0.9245003989154806, 0.8341753018022428, 0.8216482095937329, 0.3609521778475437, 0.3609521778475437, 0.3609521778475437, 0.965030709923598, 0.11563281432150191, 0.5203476644467586, 0.3468984429645057, 0.21717906978128143, 0.6515372093438443, 0.3873877908843829, 0.11621633726531487, 0.4648653490612595, 0.5753095834566964, 0.4109354167547831, 0.9729172308232711, 0.0216203829071838, 0.8680983716278813, 0.8994971527832267, 0.08177246843483879, 0.016354493686967758, 0.9165036261345638, 0.9746673801886028, 0.9898948435960293, 0.4971347623274505, 0.1988539049309802, 0.2982808573964703, 0.20844081374598553, 0.6253224412379565, 0.8175196107364868, 0.49956345837928945, 0.37851795152836193, 0.5046906020378159, 0.12617265050945398, 0.9297517758100493, 0.039846504677573544, 0.013282168225857847, 0.013282168225857847, 0.013282168225857847, 0.6590821727473951, 0.057311493282382185, 0.028655746641191093, 0.22924597312952874, 0.5171772895862525, 0.09850995992119096, 0.02462748998029774, 0.22164740982267966, 0.14776493988178643, 0.8836731104425657, 0.08749238717253126, 0.017498477434506252, 0.008749238717253126, 0.008749238717253126, 0.704580927543369, 0.16909942261040856, 0.08454971130520428, 0.02818323710173476], \"Term\": [\"accord\", \"accord\", \"accord\", \"ad\", \"address morrison\", \"administ\", \"administ\", \"admit\", \"affect\", \"affect\", \"affect\", \"affect\", \"age\", \"age\", \"age\", \"alreadi\", \"alreadi\", \"alreadi\", \"amount money\", \"anesthesiolog\", \"anim\", \"anim\", \"antibodi\", \"antigen\", \"anyway\", \"anyway\", \"appear forget\", \"ask\", \"ask\", \"ask\", \"ask\", \"ask survey\", \"astrazeneca\", \"astrazeneca\", \"australian\", \"australian addit\", \"author\", \"author\", \"author\", \"author\", \"bavarian radio\", \"beatrix\", \"bed\", \"bed oper\", \"bed year\", \"benefit\", \"bill\", \"biontech pfizer\", \"birth die\", \"boba\", \"broadcast interview\", \"build\", \"build\", \"call\", \"call\", \"call\", \"call fan\", \"cancer\", \"cancer\", \"capit\", \"care\", \"care\", \"care bed\", \"case\", \"case\", \"case\", \"case\", \"case report\", \"case report\", \"case vaccin\", \"case vaccin\", \"case vaccin\", \"cash cour\", \"cathol\", \"cell\", \"cell\", \"cent\", \"cent\", \"child\", \"child\", \"child\", \"claim\", \"claim\", \"clinic\", \"clinic\", \"clog line\", \"cocain\", \"come\", \"come\", \"come\", \"comment survey\", \"compar year\", \"complet vaccin\", \"concern\", \"concern\", \"confirm\", \"confirm\", \"confirm\", \"connect vaccin\", \"contain\", \"contain\", \"contain\", \"contain\", \"continu\", \"continu\", \"continu\", \"contract\", \"corona\", \"corona\", \"corona\", \"corona\", \"countri\", \"countri\", \"cour\", \"cour\", \"cour\", \"cour\", \"cour covid\", \"cour covid\", \"cour vaccin\", \"court\", \"court\", \"cov\", \"cov\", \"covid\", \"covid\", \"covid\", \"covid cour\", \"covid vaccin\", \"covid vaccin\", \"creat\", \"creat\", \"crime class\", \"current\", \"current\", \"current\", \"current work\", \"datum\", \"datum\", \"day\", \"day\", \"day\", \"deadli\", \"deadli\", \"death\", \"death\", \"death\", \"death certif\", \"death certif\", \"decis survey\", \"dengu\", \"depend\", \"depend\", \"depend\", \"deport tight\", \"detent rate\", \"develop\", \"develop\", \"develop\", \"develop\", \"develop\", \"differ\", \"differ\", \"differ\", \"difficult\", \"difficult\", \"difficult\", \"doctor\", \"doctor\", \"doctor ask\", \"doctor falsifi\", \"drop ball\", \"editor\", \"editor\", \"effect\", \"effect\", \"effect\", \"effect\", \"effect death\", \"effect inten\", \"email address\", \"email address\", \"email address\", \"enough\", \"enough\", \"enough\", \"enough\", \"even\", \"even\", \"even\", \"even\", \"even\", \"even\", \"even well\", \"even well\", \"everywher\", \"everywher\", \"everywher\", \"exact\", \"exclud\", \"exempt\", \"exempt\", \"exempt\", \"existedha\", \"expect mean\", \"fabric\", \"fabric\", \"fact\", \"fact\", \"fact\", \"fact sheet\", \"falter\", \"famili\", \"fiber\", \"find\", \"find\", \"find\", \"find\", \"find\", \"follow\", \"follow\", \"former\", \"former\", \"former presid\", \"former presid\", \"fund\", \"gamestop stock\", \"give\", \"give\", \"give\", \"glacier\", \"go\", \"go\", \"govern\", \"govern\", \"govern\", \"govern embarrass\", \"grant\", \"grant\", \"harri\", \"hate preacher\", \"health\", \"health care\", \"health care\", \"health care\", \"hear\", \"hear\", \"hear\", \"hear\", \"hear say\", \"heathrow\", \"heavy\", \"hedg fund\", \"help\", \"high\", \"high\", \"high\", \"high number\", \"high number\", \"hospit\", \"hospit\", \"howev\", \"howev\", \"howev\", \"howev\", \"howev\", \"howev\", \"ice\", \"ice\", \"ill\", \"ill\", \"immun system\", \"immun system\", \"impair\", \"import wake\", \"indian side\", \"infect\", \"infect\", \"infect\", \"inhabit\", \"inhabit\", \"inhabit\", \"inten bed\", \"inten care\", \"inten care\", \"investig\", \"italian\", \"jet stream\", \"justic depart\", \"keep\", \"kill\", \"lack\", \"lack\", \"larg\", \"larg\", \"lead difficult\", \"least show\", \"life\", \"life\", \"long\", \"long\", \"long\", \"long\", \"lose\", \"lose countri\", \"lot money\", \"lung\", \"lung\", \"lung\", \"main effect\", \"major\", \"major citizen\", \"make\", \"make\", \"make\", \"make\", \"make\", \"make\", \"mask\", \"mask\", \"mask\", \"mask\", \"mean\", \"mean\", \"medic\", \"medic\", \"medic staff\", \"melt\", \"member\", \"member member\", \"merck\", \"messag close\", \"messag verifyerror\", \"messag verifyerror\", \"messag verifyerror\", \"microfib\", \"microfib\", \"money\", \"month\", \"month\", \"month\", \"month\", \"month result\", \"morrison\", \"motion\", \"motion\", \"mrna\", \"mrna\", \"mueller\", \"mueller investig\", \"murder\", \"murder\", \"murder\", \"mushroom\", \"name\", \"name\", \"name\", \"name\", \"name dbt\", \"need\", \"need\", \"need\", \"need need\", \"neutral\", \"neutral antibodi\", \"never\", \"never\", \"never\", \"never\", \"never exist\", \"new\", \"new\", \"new\", \"new\", \"new runway\", \"new survey\", \"ninth circl\", \"note twice\", \"notic\", \"notic\", \"number\", \"number\", \"number\", \"occur\", \"occur\", \"offer event\", \"op mask\", \"op mask\", \"openli\", \"oper\", \"oper\", \"oper\", \"oper inten\", \"opposit\", \"opposit\", \"order\", \"order\", \"order\", \"order protect\", \"orthomolecular org\", \"outbreak\", \"overview\", \"pa\", \"particip previous\", \"patient\", \"patient\", \"patient point\", \"pay peopl\", \"payer\", \"pcr test\", \"pcr test\", \"pdf\", \"peopl\", \"peopl\", \"peopl\", \"peopl\", \"peopl\", \"peopl\", \"peopl care\", \"peopl fall\", \"peopl nur\", \"percent\", \"percent\", \"percent\", \"pfizer biontech\", \"pfizer biontech\", \"pfizer vaccin\", \"pfizer vaccin\", \"phenomenon\", \"phenomenon\", \"phenomenon\", \"phone line\", \"photo state\", \"plagu\", \"plagu\", \"plagu\", \"planet\", \"plea enter\", \"plea enter\", \"plea enter\", \"point\", \"point\", \"point\", \"point coalit\", \"pregnanc\", \"pregnanc\", \"present grey\", \"presid\", \"price go\", \"prime minist\", \"prime minist\", \"prime minist\", \"prime minist\", \"problem\", \"problem\", \"protein\", \"protein\", \"public\", \"purpos\", \"purpos\", \"purpos\", \"question\", \"question\", \"question\", \"question\", \"quick test\", \"rabbit\", \"rate\", \"rate\", \"rate\", \"ratze\", \"reaction\", \"reaction\", \"recent\", \"recent\", \"recent\", \"refer\", \"refer\", \"refer\", \"reinfect\", \"remain\", \"remain\", \"remain\", \"remain taciturn\", \"report\", \"report\", \"report\", \"report\", \"report\", \"report\", \"report case\", \"report sexual\", \"research\", \"research\", \"research\", \"research\", \"reserv\", \"reserv\", \"result\", \"result\", \"result\", \"right\", \"right\", \"right\", \"risk\", \"risk\", \"risk\", \"rocket\", \"sand\", \"sand\", \"say later\", \"say new\", \"say reflect\", \"say twitter\", \"school\", \"school\", \"sea\", \"seem\", \"seem\", \"seem\", \"self destruct\", \"self employ\", \"self employ\", \"self employ\", \"serotyp\", \"sever\", \"sever\", \"sever\", \"shoot\", \"short seller\", \"short seller\", \"show\", \"show\", \"show\", \"show rid\", \"side effect\", \"side effect\", \"side effect\", \"sincealmost\", \"social\", \"spahn\", \"special fund\", \"staff\", \"state\", \"state\", \"state\", \"statement say\", \"still\", \"still\", \"still\", \"strong tobak\", \"survey show\", \"suscept\", \"symptom\", \"symptom\", \"take\", \"take\", \"take\", \"talk\", \"teacher\", \"teacher\", \"teacher leave\", \"teacher shortag\", \"tell way\", \"tenni player\", \"test\", \"test\", \"test\", \"test\", \"test\", \"theoret\", \"thing\", \"third runway\", \"threat reduct\", \"thrombol event\", \"time\", \"time\", \"time\", \"time\", \"today\", \"top\", \"top\", \"total case\", \"toxin\", \"treat\", \"treat feder\", \"treatment\", \"trial\", \"trump\", \"trump\", \"tunnel\", \"type diabet\", \"understand\", \"understand\", \"understand\", \"undig\", \"univer\", \"univer\", \"univer\", \"univer\", \"usccb\", \"use\", \"use\", \"use\", \"use\", \"vaccin\", \"vaccin\", \"vaccin\", \"vaccin\", \"vaccin actual\", \"vaccin actual\", \"vaccin astrazeneca\", \"vaccin campaign\", \"vaccin covid\", \"vaccin covid\", \"vaccin covid\", \"vaccin free\", \"vaccin lead\", \"vaer\", \"verifyerror email\", \"verifyerror messag\", \"verifyerror messag\", \"verifyerror messag\", \"veteran today\", \"view\", \"view\", \"view\", \"viral\", \"viral\", \"viru\", \"viru\", \"viru\", \"vitamin\", \"vitamin\", \"vote\", \"vote\", \"wait time\", \"want\", \"want\", \"want\", \"want deport\", \"warehous\", \"watch\", \"wear\", \"wear\", \"wear\", \"weather\", \"weather\", \"web http\", \"white blood\", \"wit\", \"wit\", \"wit\", \"work\", \"work\", \"work\", \"work\", \"work\", \"world\", \"world\", \"world\", \"world\", \"write\", \"write\", \"write\", \"write\", \"write\", \"year\", \"year\", \"year\", \"year\", \"year\", \"year old\", \"year old\", \"year old\", \"year old\"]}, \"R\": 30, \"lambda.step\": 0.01, \"plot.opts\": {\"xlab\": \"PC1\", \"ylab\": \"PC2\"}, \"topic.order\": [7, 1, 5, 3, 4, 2, 6]};\n",
              "\n",
              "function LDAvis_load_lib(url, callback){\n",
              "  var s = document.createElement('script');\n",
              "  s.src = url;\n",
              "  s.async = true;\n",
              "  s.onreadystatechange = s.onload = callback;\n",
              "  s.onerror = function(){console.warn(\"failed to load library \" + url);};\n",
              "  document.getElementsByTagName(\"head\")[0].appendChild(s);\n",
              "}\n",
              "\n",
              "if(typeof(LDAvis) !== \"undefined\"){\n",
              "   // already loaded: just create the visualization\n",
              "   !function(LDAvis){\n",
              "       new LDAvis(\"#\" + \"ldavis_el3001336685945552963189463499\", ldavis_el3001336685945552963189463499_data);\n",
              "   }(LDAvis);\n",
              "}else if(typeof define === \"function\" && define.amd){\n",
              "   // require.js is available: use it to load d3/LDAvis\n",
              "   require.config({paths: {d3: \"https://d3js.org/d3.v5\"}});\n",
              "   require([\"d3\"], function(d3){\n",
              "      window.d3 = d3;\n",
              "      LDAvis_load_lib(\"https://cdn.jsdelivr.net/gh/bmabey/pyLDAvis@3.4.0/pyLDAvis/js/ldavis.v3.0.0.js\", function(){\n",
              "        new LDAvis(\"#\" + \"ldavis_el3001336685945552963189463499\", ldavis_el3001336685945552963189463499_data);\n",
              "      });\n",
              "    });\n",
              "}else{\n",
              "    // require.js not available: dynamically load d3 & LDAvis\n",
              "    LDAvis_load_lib(\"https://d3js.org/d3.v5.js\", function(){\n",
              "         LDAvis_load_lib(\"https://cdn.jsdelivr.net/gh/bmabey/pyLDAvis@3.4.0/pyLDAvis/js/ldavis.v3.0.0.js\", function(){\n",
              "                 new LDAvis(\"#\" + \"ldavis_el3001336685945552963189463499\", ldavis_el3001336685945552963189463499_data);\n",
              "            })\n",
              "         });\n",
              "}\n",
              "</script>"
            ]
          },
          "metadata": {},
          "execution_count": 19
        }
      ],
      "source": [
        "#Meilleur modèle de la classe OTHER\n",
        "best = max(coherence_values_other)\n",
        "print(\"Best coherence: \"+str(best))\n",
        "for i in range(len(coherence_values_other)):\n",
        "  if(coherence_values_other[i] == best):\n",
        "    model_other = model_list_other[i]\n",
        "visu_data_other = gensimvis.prepare(model_other, corpus_other, dictionary_other)\n",
        "pyLDAvis.display(visu_data_other)"
      ]
    },
    {
      "cell_type": "markdown",
      "metadata": {
        "id": "BGwOM_AeD2JL"
      },
      "source": [
        "#Equilibrage des jeux de données\n",
        "(Sans Topic Moding)"
      ]
    },
    {
      "cell_type": "markdown",
      "metadata": {
        "id": "-LqCkVMMD86i"
      },
      "source": [
        "###Vrai & Faux\n",
        "\n",
        "Réduction du dataframe fake tant qu'il est supérieur au dataframe vrai"
      ]
    },
    {
      "cell_type": "code",
      "execution_count": null,
      "metadata": {
        "id": "tvU9YHttEKRW"
      },
      "outputs": [],
      "source": [
        "def equilibrer_vraifaux(df_source):\n",
        "  df_fake = df_source[df_source[\"rating\"] == \"false\"]\n",
        "  df_true = df_source[df_source[\"rating\"] == \"true\"]\n",
        "\n",
        "  df_fake_vf = df_fake.copy()\n",
        "  df_true_vf = df_true.copy()\n",
        "\n",
        "  while (df_fake_vf.size > df_true_vf.size):\n",
        "    random_index = np.random.choice(df_fake_vf.index)\n",
        "    # Supprimer la ligne correspondant à l'indice aléatoire\n",
        "    df_fake_vf = df_fake_vf.drop(random_index)\n",
        "\n",
        "  while (df_fake_vf.size < df_true_vf.size):\n",
        "    random_index = np.random.choice(df_true_vf.index)\n",
        "    # Supprimer la ligne correspondant à l'indice aléatoire\n",
        "    df_true_vf = df_true_vf.drop(random_index)\n",
        "\n",
        "  #print(df_fake_vf.size)\n",
        "  #print(df_true_vf.size)\n",
        "\n",
        "  return pd.concat([df_fake_vf,df_true_vf], ignore_index=True)"
      ]
    },
    {
      "cell_type": "markdown",
      "metadata": {
        "id": "XG-0h3R6D_lh"
      },
      "source": [
        "###(Vrai, Faux) & Other\n",
        "\n",
        "Réduction du dataframe (fake,vrai) tant qu'il est supérieur au dataframe other"
      ]
    },
    {
      "cell_type": "code",
      "execution_count": null,
      "metadata": {
        "id": "Uug5zq9bENKK"
      },
      "outputs": [],
      "source": [
        "def equilibrer_other(df_source):\n",
        "  df_fake = df_source[df_source[\"rating\"] == \"false\"]\n",
        "  df_true = df_source[df_source[\"rating\"] == \"true\"]\n",
        "  df_other = df_source[df_source[\"rating\"] == \"other\"]\n",
        "\n",
        "  df_fake_copy = df_fake.copy()\n",
        "  df_true_copy = df_true.copy()\n",
        "  df_other_copy = df_other.copy()\n",
        "\n",
        "  while (df_fake_copy.size > df_other_copy.size/2):\n",
        "    random_index = np.random.choice(df_fake_copy.index)\n",
        "    # Supprimer la ligne correspondant à l'indice aléatoire\n",
        "    df_fake_copy = df_fake_copy.drop(random_index)\n",
        "\n",
        "  while (df_true_copy.size > df_other_copy.size/2):\n",
        "    random_index = np.random.choice(df_true_copy.index)\n",
        "    # Supprimer la ligne correspondant à l'indice aléatoire\n",
        "    df_true_copy = df_true_copy.drop(random_index)\n",
        "\n",
        "  df_faketrue = pd.concat([df_true_copy, df_fake_copy], ignore_index=True)\n",
        "  df_faketrue[\"rating\"] = [1]*len(df_faketrue)\n",
        "\n",
        "  while (df_faketrue.size > df_other_copy.size):\n",
        "    random_index = np.random.choice(df_faketrue.index)\n",
        "    # Supprimer la ligne correspondant à l'indice aléatoire\n",
        "    df_faketrue = df_faketrue.drop(random_index)\n",
        "\n",
        "  while (df_faketrue.size < df_other_copy.size):\n",
        "    random_index = np.random.choice(df_other_copy.index)\n",
        "    # Supprimer la ligne correspondant à l'indice aléatoire\n",
        "    df_other_copy = df_other_copy.drop(random_index)\n",
        "\n",
        "  df_other_copy[\"rating\"] = [0]*len(df_other_copy)\n",
        "\n",
        "  #print(df_faketrue.size)\n",
        "  #print(df_other_copy.size)\n",
        "\n",
        "  return pd.concat([df_faketrue,df_other_copy], ignore_index=True)"
      ]
    },
    {
      "cell_type": "markdown",
      "metadata": {
        "id": "qmoIPjB9ECu4"
      },
      "source": [
        "###Vrai & Faux & Mixture & Other\n",
        "Réduction des dataframe (fake,vrai,mixture) tant qu'il est supérieur au dataframe other"
      ]
    },
    {
      "cell_type": "code",
      "execution_count": null,
      "metadata": {
        "id": "lzeQeJcVEO7E"
      },
      "outputs": [],
      "source": [
        "def equilibrer_quatreclasses(df_source):\n",
        "  df_fake = df_source[df_source[\"rating\"] == \"false\"]\n",
        "  df_true = df_source[df_source[\"rating\"] == \"true\"]\n",
        "  df_other = df_source[df_source[\"rating\"] == \"other\"]\n",
        "  df_mixture = df_source[df_source[\"rating\"] == \"mixture\"]\n",
        "\n",
        "  df_fake_copy = df_fake.copy()\n",
        "  df_true_copy = df_true.copy()\n",
        "  df_other_copy = df_other.copy()\n",
        "  df_mixture_copy = df_mixture.copy()\n",
        "\n",
        "  while (df_fake_copy.size > df_other_copy.size):\n",
        "    random_index = np.random.choice(df_fake_copy.index)\n",
        "    # Supprimer la ligne correspondant à l'indice aléatoire\n",
        "    df_fake_copy = df_fake_copy.drop(random_index)\n",
        "  df_fake_copy[\"rating\"] = [0]*len(df_fake_copy)\n",
        "\n",
        "  while (df_true_copy.size > df_other_copy.size):\n",
        "    random_index = np.random.choice(df_true_copy.index)\n",
        "    # Supprimer la ligne correspondant à l'indice aléatoire\n",
        "    df_true_copy = df_true_copy.drop(random_index)\n",
        "  df_true_copy[\"rating\"] = [1]*len(df_true_copy)\n",
        "\n",
        "  while (df_mixture_copy.size > df_other_copy.size):\n",
        "    random_index = np.random.choice(df_mixture_copy.index)\n",
        "    # Supprimer la ligne correspondant à l'indice aléatoire\n",
        "    df_mixture_copy = df_mixture_copy.drop(random_index)\n",
        "  df_mixture_copy[\"rating\"] = [2]*len(df_mixture_copy)\n",
        "\n",
        "  df_other_copy[\"rating\"] = [3]*len(df_other_copy)\n",
        "\n",
        "  #print(df_fake_copy.size)\n",
        "  #print(df_true_copy.size)\n",
        "  #print(df_other_copy.size)\n",
        "  #print(df_mixture_copy.size)\n",
        "\n",
        "  return pd.concat([df_fake_copy,df_true_copy,df_other_copy,df_mixture_copy], ignore_index=True)"
      ]
    },
    {
      "cell_type": "markdown",
      "metadata": {
        "id": "31tZQb67QlWL"
      },
      "source": [
        "# Vectorisation et Modèles"
      ]
    },
    {
      "cell_type": "markdown",
      "metadata": {
        "id": "mwKGXKPaHLdu"
      },
      "source": [
        "##Initialisation\n",
        "(à faire tourner absolument)"
      ]
    },
    {
      "cell_type": "code",
      "execution_count": null,
      "metadata": {
        "id": "fHx-lOO8_HNg"
      },
      "outputs": [],
      "source": [
        "def enregistrerModele_Default(pretraitement, classifieur, n_split, accuracy, precision, recall, fmesure, matrice, cheminFichier):\n",
        "\n",
        "  try :\n",
        "    df_results = pd.read_csv(cheminFichier, sep=',')\n",
        "\n",
        "    results_dict = {'pretraitement': df_results.get('pretraitement').tolist(),\n",
        "                    'classifieur': df_results.get('classifieur').tolist(),\n",
        "                    'n_split': df_results.get('n_split').tolist(),\n",
        "                    'accuracy': df_results.get('accuracy').tolist(),\n",
        "                    'precision': df_results.get('precision').tolist(),\n",
        "                    'recall': df_results.get('recall').tolist(),\n",
        "                    'fmesure': df_results.get('fmesure').tolist(),\n",
        "                    'matrice': df_results.get('matrice').tolist()\n",
        "                    }\n",
        "\n",
        "    results_dict['pretraitement'].append(pretraitement)\n",
        "    results_dict['classifieur'].append(classifieur)\n",
        "    results_dict['n_split'].append(n_split)\n",
        "    results_dict['accuracy'].append(accuracy)\n",
        "    results_dict['precision'].append(precision)\n",
        "    results_dict['recall'].append(recall)\n",
        "    results_dict['fmesure'].append(fmesure)\n",
        "    results_dict['matrice'].append(matrice)\n",
        "\n",
        "  except FileNotFoundError:\n",
        "    results_dict = {'pretraitement': [pretraitement],\n",
        "                    'classifieur': [classifieur],\n",
        "                    'n_split': [n_split],\n",
        "                    'accuracy': [accuracy],\n",
        "                    'precision': [precision],\n",
        "                    'recall': [recall],\n",
        "                    'fmesure': [fmesure],\n",
        "                    'matrice': [matrice],\n",
        "                    }\n",
        "\n",
        "  # Créer un DataFrame à partir du dictionnaire\n",
        "  df_results = pd.DataFrame(results_dict)\n",
        "\n",
        "  # Enregistrement du DataFrame dans un fichier CSV\n",
        "  pretraitementTab = list(pretraitement)\n",
        "  avance = 0\n",
        "  for index in range(len(pretraitementTab)):\n",
        "    if(pretraitementTab[index]=='T'):\n",
        "      avance += pow(2,4-index)\n",
        "  avance /= 0.32\n",
        "\n",
        "  print(pretraitement, classifieur,\"enregistrés. (\",avance,\"% )\")\n",
        "  df_results.to_csv(cheminFichier, index=False)"
      ]
    },
    {
      "cell_type": "code",
      "execution_count": null,
      "metadata": {
        "id": "UQe5aAd3Upq1"
      },
      "outputs": [],
      "source": [
        "from sklearn.feature_extraction.text import CountVectorizer, TfidfVectorizer\n",
        "from sklearn.model_selection import train_test_split, cross_val_score, KFold\n",
        "from sklearn.preprocessing import LabelEncoder\n",
        "vectorizer = TfidfVectorizer()\n",
        "label_encoder = LabelEncoder()\n",
        "\n",
        "# Vectorisation des données textuelles\n",
        "def Vectorisation(df_source):\n",
        "    X = vectorizer.fit_transform(df_source['text'].values.astype('U'))\n",
        "    y = label_encoder.fit_transform(df_source['rating'].values.astype('U'))\n",
        "    return X,y"
      ]
    },
    {
      "cell_type": "markdown",
      "metadata": {
        "id": "T-rivYRmGyNg"
      },
      "source": [
        "##Fonction Classifieur"
      ]
    },
    {
      "cell_type": "code",
      "execution_count": null,
      "metadata": {
        "id": "yKSDXgwvVIDY"
      },
      "outputs": [],
      "source": [
        "def Classifieur_Default(pretraitement, classification, name, X, y):\n",
        "    nb_split = 5\n",
        "    seed = 30\n",
        "\n",
        "    if(name == \"KNN\"):\n",
        "      model = KNeighborsClassifier()\n",
        "    elif(name == \"CART\"):\n",
        "      model = DecisionTreeClassifier()\n",
        "    elif(name == \"SVM\"):\n",
        "      model = SVC()\n",
        "    elif(name == \"RFO\"):\n",
        "      model = RandomForestClassifier()\n",
        "    elif(name == \"MultinomialNB\"):\n",
        "      model = MultinomialNB()\n",
        "    elif(name == \"Xgboost\"):\n",
        "      model = XGBClassifier()\n",
        "    else:\n",
        "      raise Exception(\"Classifieur indéterminé\")\n",
        "\n",
        "    # Validation croisée\n",
        "    kfold = KFold(n_splits=nb_split, shuffle=True, random_state=seed)\n",
        "\n",
        "    # Initialiser des listes pour stocker les résultats\n",
        "    accuracies = []\n",
        "    precisions = []\n",
        "    recalls = []\n",
        "    f1_scores = []\n",
        "    confusion_matrices = []\n",
        "\n",
        "    for train_index, test_index in kfold.split(X):\n",
        "        X_train, X_test = X[train_index], X[test_index]\n",
        "        y_train, y_test = y[train_index], y[test_index]\n",
        "\n",
        "        # Entraînement du meilleur modèle sur les données d'entraînement\n",
        "        model.fit(X_train, y_train)\n",
        "\n",
        "        # Prédiction des étiquettes sur les données de test\n",
        "        y_pred = model.predict(X_test)\n",
        "\n",
        "        # Calculs des différentes mesures\n",
        "        accuracies.append(accuracy_score(y_test, y_pred))\n",
        "        precisions.append(precision_score(y_test, y_pred, average='weighted'))\n",
        "        recalls.append(recall_score(y_test, y_pred, average='weighted'))\n",
        "        f1_scores.append(f1_score(y_test, y_pred, average='weighted'))\n",
        "        confusion_matrices.append(confusion_matrix(y_test, y_pred))\n",
        "\n",
        "    # Moyenne des mesures\n",
        "    accuracy = np.mean(accuracies)\n",
        "    precision = np.mean(precisions)\n",
        "    recall = np.mean(recalls)\n",
        "    f1 = np.mean(f1_scores)\n",
        "    confusion_matrix_result = np.mean(confusion_matrices, axis=0)\n",
        "\n",
        "    enregistrerModele_Default(pretraitement, name, nb_split, accuracy, precision, recall, f1, confusion_matrix_result, 'HAI817_Default_'+classification+'.csv')"
      ]
    },
    {
      "cell_type": "markdown",
      "metadata": {
        "id": "yICnn9kzH1QR"
      },
      "source": [
        "##Baseline avec les classes Vrai & Faux\n",
        "**ATTENTION : Peut être long à faire tourner !**"
      ]
    },
    {
      "cell_type": "code",
      "execution_count": null,
      "metadata": {
        "id": "WUzeHcjwWd4n"
      },
      "outputs": [],
      "source": [
        "def test_base_Vrai_Faux(classifieur):\n",
        "  num = 0\n",
        "  tabs = list(itertools.product([False, True], repeat=5))\n",
        "\n",
        "  # Parcourir chaque combinaison\n",
        "  for tab in tabs:\n",
        "    num += 1\n",
        "    name = ''\n",
        "    for i in range(len(tab)):\n",
        "      if(tab[i]): name += 'T'\n",
        "      else: name += 'F'\n",
        "    df_preTraite = pd.read_csv('HAI817_Projet_Traitement_'+name+'.csv', sep=',')\n",
        "    df_preTraite = equilibrer_vraifaux(df_preTraite)\n",
        "    X,y = Vectorisation(df_preTraite)\n",
        "    Classifieur_Default(name, 'Vrai_Faux', classifieur, X, y)"
      ]
    },
    {
      "cell_type": "code",
      "execution_count": null,
      "metadata": {
        "id": "dp5JAHH1XL4A"
      },
      "outputs": [],
      "source": [
        "#KNeighborsClassifier\n",
        "test_base_Vrai_Faux(\"KNN\")\n",
        "#DecisionTreeClassifier\n",
        "test_base_Vrai_Faux(\"CART\")\n",
        "#SVM\n",
        "test_base_Vrai_Faux(\"SVM\")\n",
        "#RandomForestClassifier\n",
        "test_base_Vrai_Faux(\"RFO\")\n",
        "#MultinomialNB\n",
        "test_base_Vrai_Faux(\"MultinomialNB\")\n",
        "#Xgboost\n",
        "test_base_Vrai_Faux(\"Xgboost\")"
      ]
    },
    {
      "cell_type": "markdown",
      "metadata": {
        "id": "APF8oUUaMe-D"
      },
      "source": [
        "##Baseline avec les classes VraiFaux & Other\n",
        "**ATTENTION : Peut être long à faire tourner !**"
      ]
    },
    {
      "cell_type": "code",
      "execution_count": null,
      "metadata": {
        "id": "S7XHUWZYLpiF"
      },
      "outputs": [],
      "source": [
        "def test_base_VraiFaux_Other(classifieur):\n",
        "  num = 0\n",
        "  tabs = list(itertools.product([False, True], repeat=5))\n",
        "\n",
        "  # Parcourir chaque combinaison\n",
        "  for tab in tabs:\n",
        "    num += 1\n",
        "    name = ''\n",
        "    for i in range(len(tab)):\n",
        "      if(tab[i]): name += 'T'\n",
        "      else: name += 'F'\n",
        "    df_preTraite = pd.read_csv('HAI817_Projet_Traitement_'+name+'.csv', sep=',')\n",
        "    df_preTraite = equilibrer_other(df_preTraite)\n",
        "    X,y = Vectorisation(df_preTraite)\n",
        "    Classifieur_Default(name, 'VraiFaux_Other', classifieur, X, y)"
      ]
    },
    {
      "cell_type": "code",
      "execution_count": null,
      "metadata": {
        "id": "0h12Bq15Ml0s"
      },
      "outputs": [],
      "source": [
        "#KNeighborsClassifier\n",
        "test_base_VraiFaux_Other(\"KNN\")\n",
        "#DecisionTreeClassifier\n",
        "test_base_VraiFaux_Other(\"CART\")\n",
        "#SVM\n",
        "test_base_VraiFaux_Other(\"SVM\")\n",
        "#RandomForestClassifier\n",
        "test_base_VraiFaux_Other(\"RFO\")\n",
        "#MultinomialNB\n",
        "test_base_VraiFaux_Other(\"MultinomialNB\")\n",
        "#Xgboost\n",
        "test_base_VraiFaux_Other(\"Xgboost\")"
      ]
    },
    {
      "cell_type": "markdown",
      "metadata": {
        "id": "kaCYyCD5xzwc"
      },
      "source": [
        "##Baseline avec les classes Vrai & Faux & Other & Mixture\n",
        "**ATTENTION : Peut être long à faire tourner !**"
      ]
    },
    {
      "cell_type": "code",
      "execution_count": null,
      "metadata": {
        "id": "Q_ZEzN7nxzwo"
      },
      "outputs": [],
      "source": [
        "def test_base_Vrai_Faux_Other_Mixture(classifieur):\n",
        "  num = 0\n",
        "  tabs = list(itertools.product([False, True], repeat=5))\n",
        "\n",
        "  # Parcourir chaque combinaison\n",
        "  for tab in tabs:\n",
        "    num += 1\n",
        "    name = ''\n",
        "    for i in range(len(tab)):\n",
        "      if(tab[i]): name += 'T'\n",
        "      else: name += 'F'\n",
        "    df_preTraite = pd.read_csv('HAI817_Projet_Traitement_'+name+'.csv', sep=',')\n",
        "    df_preTraite = equilibrer_quatreclasses(df_preTraite)\n",
        "    X,y = Vectorisation(df_preTraite)\n",
        "    Classifieur_Default(name, 'Vrai_Faux_Other_Mixture', classifieur, X, y)"
      ]
    },
    {
      "cell_type": "code",
      "execution_count": null,
      "metadata": {
        "id": "JtlRbxbvxzwp"
      },
      "outputs": [],
      "source": [
        "#KNeighborsClassifier\n",
        "test_base_Vrai_Faux_Other_Mixture(\"KNN\")\n",
        "#DecisionTreeClassifier\n",
        "test_base_Vrai_Faux_Other_Mixture(\"CART\")\n",
        "#SVM\n",
        "test_base_Vrai_Faux_Other_Mixture(\"SVM\")\n",
        "#RandomForestClassifier\n",
        "test_base_Vrai_Faux_Other_Mixture(\"RFO\")\n",
        "#MultinomialNB\n",
        "test_base_Vrai_Faux_Other_Mixture(\"MultinomialNB\")\n",
        "#Xgboost\n",
        "test_base_Vrai_Faux_Other_Mixture(\"Xgboost\")"
      ]
    },
    {
      "cell_type": "markdown",
      "metadata": {
        "id": "gin70hA7UOQi"
      },
      "source": [
        "#Trouver les meilleurs paramètres"
      ]
    },
    {
      "cell_type": "markdown",
      "metadata": {
        "id": "dCOyyJY1HG7c"
      },
      "source": [
        "Nous allons maintenant essayer de trouver les meilleurs paramètres afin d'obtenir le meilleur modèle possible. Pour cela, nous allons identifier pour chaque classification, quelle sont les meilleurs classifieurs. Nous chercherons alors les meilleurs paramètres sur ces classifieurs.\n"
      ]
    },
    {
      "cell_type": "markdown",
      "metadata": {
        "id": "VBbZ7q4-dvMv"
      },
      "source": [
        "##Initialisation"
      ]
    },
    {
      "cell_type": "code",
      "execution_count": null,
      "metadata": {
        "id": "OjoOhrsXdyxb"
      },
      "outputs": [],
      "source": [
        "def enregistrerModele_Params(pretraitement, classifieur, best_params, kfold_Tab, size, testsize, accuracy, precision, recall, fmesure, matrice, cheminFichier):\n",
        "\n",
        "  try :\n",
        "    df_results = pd.read_csv(cheminFichier, sep=',')\n",
        "\n",
        "    results_dict = {'pretraitement': df_results.get('pretraitement').tolist(),\n",
        "                    'classifieur': df_results.get('classifieur').tolist(),\n",
        "                    'best_params': df_results.get('best_params').tolist(),\n",
        "                    'kfold': df_results.get('kfold').tolist(),\n",
        "                    'size': df_results.get('size').tolist(),\n",
        "                    'testsize': df_results.get('testsize').tolist(),\n",
        "                    'accuracy': df_results.get('accuracy').tolist(),\n",
        "                    'precision': df_results.get('precision').tolist(),\n",
        "                    'recall': df_results.get('recall').tolist(),\n",
        "                    'fmesure': df_results.get('fmesure').tolist(),\n",
        "                    'matrice': df_results.get('matrice').tolist()\n",
        "                    }\n",
        "\n",
        "    results_dict['pretraitement'].append(pretraitement)\n",
        "    results_dict['classifieur'].append(classifieur)\n",
        "    results_dict['best_params'].append(best_params)\n",
        "    results_dict['kfold'].append(kfold_Tab)\n",
        "    results_dict['size'].append(size)\n",
        "    results_dict['testsize'].append(testsize)\n",
        "    results_dict['accuracy'].append(accuracy)\n",
        "    results_dict['precision'].append(precision)\n",
        "    results_dict['recall'].append(recall)\n",
        "    results_dict['fmesure'].append(fmesure)\n",
        "    results_dict['matrice'].append(matrice)\n",
        "\n",
        "  except FileNotFoundError:\n",
        "    results_dict = {'pretraitement': [pretraitement],\n",
        "                    'classifieur': [classifieur],\n",
        "                    'best_params': [best_params],\n",
        "                    'kfold': [kfold_Tab],\n",
        "                    'size': [size],\n",
        "                    'testsize': [testsize],\n",
        "                    'accuracy': [accuracy],\n",
        "                    'precision': [precision],\n",
        "                    'recall': [recall],\n",
        "                    'fmesure': [fmesure],\n",
        "                    'matrice': [matrice]\n",
        "                    }\n",
        "\n",
        "  # Créer un DataFrame à partir du dictionnaire\n",
        "  df_results = pd.DataFrame(results_dict)\n",
        "\n",
        "  # Enregistrement du DataFrame dans un fichier CSV\n",
        "  pretraitementTab = list(pretraitement)\n",
        "  avance = 1\n",
        "  for index in range(len(pretraitementTab)):\n",
        "    if(pretraitementTab[index]=='T'):\n",
        "      avance += pow(2,4-index)\n",
        "  avance /= 0.32\n",
        "\n",
        "  print(pretraitement, classifieur,\"enregistrés. (\",avance,\"% )\")\n",
        "  df_results.to_csv(cheminFichier, index=False)"
      ]
    },
    {
      "cell_type": "code",
      "execution_count": null,
      "metadata": {
        "id": "GyZaI-fgHG7d"
      },
      "outputs": [],
      "source": [
        "from sklearn.model_selection import RandomizedSearchCV, KFold, cross_val_score, cross_validate\n",
        "from sklearn.metrics import make_scorer, accuracy_score, precision_score, recall_score, f1_score, confusion_matrix\n",
        "\n",
        "def Classifieur_Params(pretraitement, classification, name, X, y):\n",
        "    nb_split = 5\n",
        "    iterations = 20\n",
        "    seed = 30\n",
        "    testsize = 0.2\n",
        "    size = 1-testsize\n",
        "\n",
        "    if name == \"SVM\":\n",
        "        # Grille de paramètres pour SVM\n",
        "        param_grid = {'C': [0.01, 0.1, 1, 10, 100],\n",
        "                      'gamma': ['scale', 'auto', 0.001, 0.01, 0.1, 1, 10],\n",
        "                      'kernel': ['rbf', 'linear', 'poly', 'sigmoid'],\n",
        "                      'degree': [2, 3, 4, 5],\n",
        "                      'coef0': [0.0, 0.1, 0.5, 1.0]}\n",
        "        random_search = RandomizedSearchCV(SVC(), param_distributions=param_grid, n_iter=iterations, random_state=seed, scoring='accuracy', cv=nb_split)\n",
        "\n",
        "    elif name == \"Xgboost\":\n",
        "        # Grille de paramètres pour XGBoost\n",
        "        param_grid = {'max_depth': [3, 4, 5, 6, 7],\n",
        "                      'learning_rate': [0.01, 0.05, 0.1, 0.2, 0.3],\n",
        "                      'n_estimators': [100, 200, 300, 400, 500],\n",
        "                      'subsample': [0.6, 0.7, 0.8, 0.9, 1.0],\n",
        "                      'colsample_bytree': [0.6, 0.7, 0.8, 0.9, 1.0],\n",
        "                      'gamma': [0, 0.1, 0.2, 0.3, 0.4]}\n",
        "        random_search = RandomizedSearchCV(XGBClassifier(), param_distributions=param_grid, n_iter=iterations, random_state=seed, scoring='accuracy', cv=nb_split)\n",
        "\n",
        "    elif name == \"MultinomialNB\":\n",
        "        # Grille de paramètres pour MultinomialNB\n",
        "        param_grid = {'alpha': [0.0, 0.01, 0.1, 0.5, 1.0, 2.0, 5.0, 10.0],\n",
        "                      'fit_prior': [True, False]}\n",
        "\n",
        "        random_search = RandomizedSearchCV(MultinomialNB(), param_distributions=param_grid, n_iter=iterations, random_state=seed, scoring='accuracy', cv=nb_split)\n",
        "\n",
        "\n",
        "    elif name == \"RFO\":\n",
        "        # Grille de paramètres pour RFO\n",
        "        param_grid = {'n_estimators': [50, 100, 200, 300, 400, 500],\n",
        "                      'max_features': ['autp', 'sqrt', 'log2'],\n",
        "                      'max_depth': [None, 10, 20, 30, 40, 50],\n",
        "                      'min_samples_split': [2, 5, 10],\n",
        "                      'min_samples_leaf': [1, 2, 4],\n",
        "                      'bootstrap': [True, False]}\n",
        "\n",
        "        random_search = RandomizedSearchCV(RandomForestClassifier(), param_distributions=param_grid, n_iter=iterations, random_state=seed, scoring='accuracy', cv=nb_split)\n",
        "\n",
        "    elif name == \"KNN\":\n",
        "        # Grille de paramètres pour KNN\n",
        "        param_grid = {\n",
        "            'n_neighbors': [1, 3, 5, 7, 9, 11, 13, 15],\n",
        "            'weights': ['uniform', 'distance'],\n",
        "            'algorithm': ['auto', 'ball_tree', 'kd_tree', 'brute'],\n",
        "            'leaf_size': [10, 20, 30, 40, 50],\n",
        "            'p': [1, 2]}\n",
        "\n",
        "        random_search = RandomizedSearchCV(KNeighborsClassifier(), param_distributions=param_grid, n_iter=iterations, random_state=seed, scoring='accuracy', cv=nb_split)\n",
        "\n",
        "    elif name == \"CART\":\n",
        "        # Grille de paramètres pour CART\n",
        "        param_grid = {\n",
        "            'criterion': ['gini', 'entropy'],\n",
        "            'splitter': ['best', 'random'],\n",
        "            'max_depth': [None, 10, 20, 30, 40, 50],\n",
        "            'min_samples_split': [2, 5, 10, 20],\n",
        "            'min_samples_leaf': [1, 2, 4, 10],\n",
        "            'max_features': [None, 'sqrt', 'log2'],\n",
        "            'class_weight': [None, 'balanced']}\n",
        "\n",
        "        random_search = RandomizedSearchCV(DecisionTreeClassifier(), param_distributions=param_grid, n_iter=iterations, random_state=seed, scoring='accuracy', cv=nb_split)\n",
        "\n",
        "    else:\n",
        "        raise Exception(\"Classifieur indéterminé\")\n",
        "\n",
        "    # Entraînement du modèle sur les données\n",
        "    random_search.fit(X, y)\n",
        "    #pd.DataFrame(random_search.cv_results_).to_csv('export.csv')\n",
        "    best_model = random_search.best_estimator_\n",
        "    best_model.set_params(**(random_search.best_params_))\n",
        "\n",
        "    # Validation croisée\n",
        "    kfold = KFold(n_splits=nb_split, shuffle=True, random_state=seed)\n",
        "\n",
        "    # Initialiser des listes pour stocker les résultats\n",
        "    accuracies = []\n",
        "    precisions = []\n",
        "    recalls = []\n",
        "    f1_scores = []\n",
        "    confusion_matrices = []\n",
        "\n",
        "    for train_index, test_index in kfold.split(X):\n",
        "        X_train, X_test = X[train_index], X[test_index]\n",
        "        y_train, y_test = y[train_index], y[test_index]\n",
        "\n",
        "        # Entraînement du meilleur modèle sur les données d'entraînement\n",
        "        best_model.fit(X_train, y_train)\n",
        "\n",
        "        # Prédiction des étiquettes sur les données de test\n",
        "        y_pred = best_model.predict(X_test)\n",
        "\n",
        "        # Calculs des différentes mesures\n",
        "        accuracies.append(accuracy_score(y_test, y_pred))\n",
        "        precisions.append(precision_score(y_test, y_pred, average='weighted'))\n",
        "        recalls.append(recall_score(y_test, y_pred, average='weighted'))\n",
        "        f1_scores.append(f1_score(y_test, y_pred, average='weighted'))\n",
        "        confusion_matrices.append(confusion_matrix(y_test, y_pred))\n",
        "\n",
        "    # Moyenne des mesures\n",
        "    accuracy = np.mean(accuracies)\n",
        "    precision = np.mean(precisions)\n",
        "    recall = np.mean(recalls)\n",
        "    f1 = np.mean(f1_scores)\n",
        "    confusion_matrix_result = np.mean(confusion_matrices, axis=0)\n",
        "\n",
        "    enregistrerModele_Params(pretraitement, name, random_search.best_params_, [iterations, seed, nb_split], size, testsize, accuracy, precision, recall, f1, confusion_matrix_result, 'HAI817_BestParams_'+classification+'.csv')"
      ]
    },
    {
      "cell_type": "markdown",
      "metadata": {
        "id": "qG3TOw7xKUqO"
      },
      "source": [
        "##Classification VRAI/FAUX"
      ]
    },
    {
      "cell_type": "markdown",
      "metadata": {
        "id": "QWgB6soyK0uL"
      },
      "source": [
        "---\n",
        "Classifieur Accuracy RecallT RecallF PrecisionT PrecisionF  FMesureT FMesureF\n",
        "* KNN 0.61995 0.71415 0.5216 0.60273 0.68886 0.63728 0.56349\n",
        "* CART 0.63182 0.60865 0.65531 0.63839 0.62581 0.62297 0.64001\n",
        "* RFO 0.71492 0.71645 0.71468 0.71504 0.71576 0.71515 0.71463\n",
        "* SVM 0.7399 0.74205 0.739 0.73954 0.741 0.74027 0.73948\n",
        "* MultiNB 0.69356 0.87146 0.51812 0.64345 0.80545 0.73924 0.62839\n",
        "* Xgboost 0.71613 0.71812 0.71487 0.71622 0.71733 0.71642 0.71532\n",
        "\n",
        "Il semblerait donc qu'il soit intéréssant de chercher les meilleurs paramètres de la classification VRAI/FAUX sur SVM, RandomForest et XGBoost.\n",
        "\n",
        "---"
      ]
    },
    {
      "cell_type": "code",
      "execution_count": null,
      "metadata": {
        "id": "nBFPM-kieOlZ"
      },
      "outputs": [],
      "source": [
        "def test_params_Vrai_Faux(classifieur):\n",
        "  num = 0\n",
        "  tabs = list(itertools.product([False, True], repeat=5))\n",
        "\n",
        "  # Parcourir chaque combinaison\n",
        "  for tab in tabs:\n",
        "    num += 1\n",
        "    if(num > 0):\n",
        "      name = ''\n",
        "      for i in range(len(tab)):\n",
        "        if(tab[i]): name += 'T'\n",
        "        else: name += 'F'\n",
        "      df_preTraite = pd.read_csv('HAI817_Projet_Traitement_'+name+'.csv', sep=',')\n",
        "      df_preTraite = equilibrer_vraifaux(df_preTraite)\n",
        "      X,y = Vectorisation(df_preTraite)\n",
        "      Classifieur_Params(name, 'Vrai_Faux', classifieur, X, y)"
      ]
    },
    {
      "cell_type": "code",
      "execution_count": null,
      "metadata": {
        "id": "-jVUS1loeWuF"
      },
      "outputs": [],
      "source": [
        "#SVM\n",
        "test_params_Vrai_Faux(\"SVM\")"
      ]
    },
    {
      "cell_type": "code",
      "source": [
        "#RandomForestClassifier\n",
        "test_params_Vrai_Faux(\"RFO\")"
      ],
      "metadata": {
        "id": "vK-eC6WSeujo"
      },
      "execution_count": null,
      "outputs": []
    },
    {
      "cell_type": "code",
      "execution_count": null,
      "metadata": {
        "id": "uCuVHuR1QuGB"
      },
      "outputs": [],
      "source": [
        "#Xgboost\n",
        "test_params_Vrai_Faux(\"Xgboost\")"
      ]
    },
    {
      "cell_type": "markdown",
      "metadata": {
        "id": "0gWlo85zKbpZ"
      },
      "source": [
        "##Classification VRAIFAUX/OTHER"
      ]
    },
    {
      "cell_type": "markdown",
      "metadata": {
        "id": "IchuD7fRKyCQ"
      },
      "source": [
        "---\n",
        "\n",
        "Classifieur Accuracy Precision Recall FMesure\n",
        "* KNN 0.52712 0.53565 0.52712 0.49382\n",
        "* CART 0.55068 0.56295 0.55068 0.54733\n",
        "* RFO 0.61520 0.62747 0.61520 0.61414\n",
        "* SVM 0.62175 0.65367 0.62175 0.60992\n",
        "* MultiNB 0.59136 0.65195 0.59136 0.56986\n",
        "* Xgboost 0.59797 0.60157 0.59797 0.59878\n",
        "\n",
        "Il semblerait donc qu'il soit intéréssant de chercher les meilleurs paramètres de la classification VRAI/FAUX sur SVM, RFO et MultinomialNB.\n",
        "\n",
        "---"
      ]
    },
    {
      "cell_type": "code",
      "execution_count": null,
      "metadata": {
        "id": "bgMZCwAzfz18"
      },
      "outputs": [],
      "source": [
        "warnings.filterwarnings('always')  # \"error\", \"ignore\", \"always\", \"default\", \"module\" or \"once\"\n",
        "warnings.filterwarnings(\"ignore\", category=FutureWarning)\n",
        "warnings.filterwarnings(\"ignore\", category=DeprecationWarning)\n",
        "def test_params_VraiFaux_Other(classifieur):\n",
        "  num = 0\n",
        "  tabs = list(itertools.product([False, True], repeat=5))\n",
        "\n",
        "  # Parcourir chaque combinaison\n",
        "  for tab in tabs:\n",
        "    num += 1\n",
        "    name = ''\n",
        "    for i in range(len(tab)):\n",
        "      if(tab[i]): name += 'T'\n",
        "      else: name += 'F'\n",
        "    df_preTraite = pd.read_csv('HAI817_Projet_Traitement_'+name+'.csv', sep=',')\n",
        "    df_preTraite = equilibrer_other(df_preTraite)\n",
        "    X,y = Vectorisation(df_preTraite)\n",
        "    Classifieur_Params(name, 'VraiFaux_Other', classifieur, X, y)"
      ]
    },
    {
      "cell_type": "code",
      "source": [
        "#MultinomialNB\n",
        "test_params_VraiFaux_Other(\"MultinomialNB\")"
      ],
      "metadata": {
        "id": "7WT1cG-DlcEj"
      },
      "execution_count": null,
      "outputs": []
    },
    {
      "cell_type": "code",
      "execution_count": null,
      "metadata": {
        "id": "ciwuVCUNf1tb"
      },
      "outputs": [],
      "source": [
        "#SVM\n",
        "test_params_VraiFaux_Other(\"SVM\")"
      ]
    },
    {
      "cell_type": "code",
      "execution_count": null,
      "metadata": {
        "id": "WWTxlOmIKulC"
      },
      "outputs": [],
      "source": [
        "#RandomForest\n",
        "test_params_VraiFaux_Other(\"RFO\")"
      ]
    },
    {
      "cell_type": "markdown",
      "metadata": {
        "id": "HKTo-Uq2KmIo"
      },
      "source": [
        "##Classification VRAI/FAUX/OTHER/MIXTURE"
      ]
    },
    {
      "cell_type": "markdown",
      "metadata": {
        "id": "RVXZUdoXKvyn"
      },
      "source": [
        "---\n",
        "Classifieur Accuracy Precision Recall FMesure\n",
        "* KNN 0.34629 0.38682 0.34629 0.31601\n",
        "* CART 0.37332 0.38211 0.37332 0.37133\n",
        "* RFO 0.40541 0.42350 0.40541 0.39803\n",
        "* SVM 0.47307 0.51519 0.47307 0.47350\n",
        "* MultiNB 0.38174 0.58271 0.38174 0.36473\n",
        "* Xgboost 0.42222 0.43179 0.42222 0.41898\n",
        "\n",
        "Il semblerait donc qu'il soit intéréssant de chercher les meilleurs paramètres de la classification VRAI/FAUX/OTHER/MIXTURE sur SVM, Xgboost et RFO.\n",
        "\n",
        "---"
      ]
    },
    {
      "cell_type": "code",
      "source": [
        "warnings.filterwarnings('always')  # \"error\", \"ignore\", \"always\", \"default\", \"module\" or \"once\"\n",
        "warnings.filterwarnings(\"ignore\", category=FutureWarning)\n",
        "warnings.filterwarnings(\"ignore\", category=DeprecationWarning)\n",
        "def test_params_Vrai_Faux_Other_Mixture(classifieur):\n",
        "  num = 0\n",
        "  tabs = list(itertools.product([False, True], repeat=5))\n",
        "\n",
        "  # Parcourir chaque combinaison\n",
        "  for tab in tabs:\n",
        "    num += 1\n",
        "    if(num > 0):\n",
        "      name = ''\n",
        "      for i in range(len(tab)):\n",
        "        if(tab[i]): name += 'T'\n",
        "        else: name += 'F'\n",
        "      df_preTraite = pd.read_csv('HAI817_Projet_Traitement_'+name+'.csv', sep=',')\n",
        "      df_preTraite = equilibrer_quatreclasses(df_preTraite)\n",
        "      X,y = Vectorisation(df_preTraite)\n",
        "      Classifieur_Params(name, 'Vrai_Faux_Other_Mixture', classifieur, X, y)"
      ],
      "metadata": {
        "id": "eBk9hKv7-wrd"
      },
      "execution_count": null,
      "outputs": []
    },
    {
      "cell_type": "code",
      "source": [
        "#SVM\n",
        "test_params_Vrai_Faux_Other_Mixture(\"SVM\")"
      ],
      "metadata": {
        "id": "Gdjyd4lz3-EP"
      },
      "execution_count": null,
      "outputs": []
    },
    {
      "cell_type": "code",
      "source": [
        "#RandomForestClassifier\n",
        "test_params_Vrai_Faux_Other_Mixture(\"RFO\")"
      ],
      "metadata": {
        "id": "kVSHkcMB6_kd"
      },
      "execution_count": null,
      "outputs": []
    },
    {
      "cell_type": "code",
      "source": [
        "#XGboost\n",
        "#test_params_Vrai_Faux_Other_Mixture(\"Xgboost\")"
      ],
      "metadata": {
        "id": "0nr2p5cp6-Pc"
      },
      "execution_count": null,
      "outputs": []
    },
    {
      "cell_type": "markdown",
      "source": [
        "#Pipeline\n",
        "---\n",
        "Création des pipelines pour les 3 classifieurs\n",
        "\n",
        "---"
      ],
      "metadata": {
        "id": "YBktE253iYVH"
      }
    },
    {
      "cell_type": "markdown",
      "source": [
        "##DfNormalisers\n",
        "---"
      ],
      "metadata": {
        "id": "YPfK2R6FdO2g"
      }
    },
    {
      "cell_type": "code",
      "source": [
        "def preTraitement_pipeline(X,\n",
        "               removedigit=False, # supprimer les nombres\n",
        "               token_exclamation_interrogation=False, # tokeniser les \"!\" et \"?\"\n",
        "               removestopwords=False, # supprimer les stopwords\n",
        "               lemmatisation_racinisation=False, # lematisation des termes et conserver la racine\n",
        "              ):\n",
        "\n",
        "    texte = str(X)\n",
        "\n",
        "    \"\"\"\n",
        "      PARTIE PRE-TOKENISATION\n",
        "    \"\"\"\n",
        "\n",
        "    # suppression des caractères spéciaux\n",
        "    texte = re.sub(r'[^\\w\\s]',' ', texte)\n",
        "    # suppression de tous les caractères uniques\n",
        "    texte = re.sub(r'\\s+[a-zA-Z]\\s+', ' ', texte)\n",
        "    # substitution des espaces multiples par un seul espace\n",
        "    texte = re.sub(r'\\s+', ' ', texte, flags=re.I)\n",
        "\n",
        "    # minuscule\n",
        "    texte = texte.lower()\n",
        "\n",
        "    # retirer les chiffres\n",
        "    if removedigit:\n",
        "      texte = re.sub(r'\\d+', '', texte)\n",
        "\n",
        "    \"\"\"\n",
        "      PARTIE POST-TOKENISATION\n",
        "    \"\"\"\n",
        "\n",
        "    # découpage en tokens\n",
        "    tokens = texte.split()\n",
        "\n",
        "    # suppression ponctuation\n",
        "    if(token_exclamation_interrogation):\n",
        "      words = sep_ponctuation(sep_ponctuation(tokens,'?'),'!')\n",
        "    else:\n",
        "      table = str.maketrans('', '', string.punctuation)\n",
        "      words = [token.translate(table) for token in tokens]\n",
        "\n",
        "    # suppression des stopwords\n",
        "    stop_words = set(stopwords.words('english'))\n",
        "    stop_words.update(['always','try','go','get','make','would','really','like','came','got','know','come','also','see'])\n",
        "    non_stop_words = ['d', 'o', 't']\n",
        "    for word in non_stop_words:\n",
        "        stop_words.discard(word)\n",
        "\n",
        "    if removestopwords:\n",
        "      words = [word for word in words if not word in stop_words]\n",
        "\n",
        "    # lemmatisation & racinisation\n",
        "    if lemmatisation_racinisation:\n",
        "        lem = nltk.stem.wordnet.WordNetLemmatizer()\n",
        "        words = [lem.lemmatize(word)for word in words]\n",
        "        ps = nltk.stem.porter.PorterStemmer()\n",
        "        words=[ps.stem(word) for word in words]\n",
        "\n",
        "    sentence = ' '.join(words)\n",
        "\n",
        "    return sentence"
      ],
      "metadata": {
        "id": "9wFPXbDTkd3d"
      },
      "execution_count": null,
      "outputs": []
    },
    {
      "cell_type": "code",
      "source": [
        "class DfNormalizer(BaseEstimator, TransformerMixin):\n",
        "    def __init__(self,\n",
        "                removedigit=False, # supprimer les nombres\n",
        "                token_exclamation_interrogation=False, # tokeniser les \"!\" et \"?\"\n",
        "                removestopwords=False, # supprimer les stopwords\n",
        "                lemmatisation_racinisation=False # lematisation des termes et conserver la racine\n",
        "                ):\n",
        "\n",
        "        self.removestopwords=removestopwords\n",
        "        self.removedigit=removedigit\n",
        "        self.token_exclamation_interrogation=token_exclamation_interrogation\n",
        "        self.removestopwords=removestopwords\n",
        "        self.lemmatisation_racinisation=lemmatisation_racinisation\n",
        "\n",
        "    def transform(self, X, **transform_params):\n",
        "        # Nettoyage du texte\n",
        "        X=X.copy() # pour conserver le fichier d'origine\n",
        "        return [preTraitement_pipeline(\n",
        "                            text,\n",
        "                            removedigit=self.removedigit,\n",
        "                            token_exclamation_interrogation=self.token_exclamation_interrogation,\n",
        "                            removestopwords=self.removestopwords,\n",
        "                            lemmatisation_racinisation=self.lemmatisation_racinisation)\n",
        "        for text in X]\n",
        "\n",
        "    def fit(self, X, y=None, **fit_params):\n",
        "        return self\n",
        "\n",
        "    def fit_transform(self, X, y=None, **fit_params):\n",
        "        return self.fit(X).transform(X)\n",
        "\n",
        "    def get_params(self, deep=True):\n",
        "        return {\n",
        "            'removedigit':self.removedigit,\n",
        "            'token_exclamation_interrogation':self.token_exclamation_interrogation,\n",
        "            'removestopwords':self.removestopwords,\n",
        "            'lemmatisation_racinisation':self.lemmatisation_racinisation\n",
        "        }\n",
        "\n",
        "    def set_params (self, **parameters):\n",
        "        for parameter, value in parameters.items():\n",
        "            setattr(self,parameter,value)\n",
        "        return self"
      ],
      "metadata": {
        "id": "NSE7SyDwaKf7"
      },
      "execution_count": null,
      "outputs": []
    },
    {
      "cell_type": "markdown",
      "source": [
        "##Mise en place des Piplines\n",
        "---"
      ],
      "metadata": {
        "id": "1SGcWptndWai"
      }
    },
    {
      "cell_type": "code",
      "source": [
        "from sklearn.pipeline import Pipeline"
      ],
      "metadata": {
        "id": "T2bEvqIfd0fE"
      },
      "execution_count": null,
      "outputs": []
    },
    {
      "cell_type": "code",
      "source": [
        "#Import des fichiers de base\n",
        "df1=pd.read_csv('HAI817_Projet_train.csv', sep=',')\n",
        "df2=pd.read_csv('HAI817_Projet_test.csv', sep=',')\n",
        "df_dutch=pd.read_csv('HAI817_Projet_german_translate.csv', sep=',')\n",
        "\n",
        "df1['text'] = df1['title'] + ' ' + df1['text']\n",
        "df2['text'] = df2['title'] + ' ' + df2['text']\n",
        "\n",
        "df1 = df1.drop(columns=[\"public_id\"])\n",
        "df2 = df2.drop(columns=[\"ID\"])\n",
        "\n",
        "df1 = df1.drop(columns=[\"title\"])\n",
        "df2 = df2.drop(columns=[\"title\"])\n",
        "df_dutch = df_dutch.drop(columns=[\"our rating\"])\n",
        "\n",
        "df1 = df1.rename(columns={'our rating': 'rating'})\n",
        "df2 = df2.rename(columns={'our rating': 'rating'})"
      ],
      "metadata": {
        "id": "cOuBqKb3nFlt"
      },
      "execution_count": null,
      "outputs": []
    },
    {
      "cell_type": "code",
      "source": [
        "def pipeline_function(\n",
        "    df_source,\n",
        "    removedigit,\n",
        "    token_exclamation_interrogation,\n",
        "    removestopwords,\n",
        "    lemmatisation_racinisation\n",
        "):\n",
        "\n",
        "  X = df_source[\"text\"].copy()\n",
        "  y = df_source[\"rating\"].copy()\n",
        "\n",
        "  pipeline = Pipeline([('df_pretraite', DfNormalizer(removedigit=removedigit,\n",
        "                                                     token_exclamation_interrogation=token_exclamation_interrogation,\n",
        "                                                     removestopwords=removestopwords,\n",
        "                                                     lemmatisation_racinisation=lemmatisation_racinisation,\n",
        "                                                     )),\n",
        "                      ('tfidf', TfidfVectorizer()),\n",
        "                      ('clf', SVC())])\n",
        "\n",
        "  #grid_param = [{'clf': [SVC()],\n",
        "  #                'clf__C': [0.01, 0.1, 1.0, 10.0, 100.0],\n",
        "  #                'clf__gamma': ['scale', 'auto', 0.001, 0.01, 0.1, 1, 10],\n",
        "  #                'clf__degree': [2, 3, 4, 5],\n",
        "  #                'clf__coef0': [0.0, 0.1, 0.5, 1.0],\n",
        "  #                'clf__kernel': ['rbf', 'linear', 'poly', 'sigmoid']\n",
        "  #                }]\n",
        "\n",
        "  grid_param = [{'clf': [SVC()],\n",
        "                  'clf__C': [100],\n",
        "                  'clf__gamma': [0.01],\n",
        "                  'clf__kernel': ['rbf']\n",
        "                  }]\n",
        "\n",
        "  gd_sr = GridSearchCV(pipeline,\n",
        "                      param_grid=grid_param,\n",
        "                      scoring='accuracy',\n",
        "                      cv=5,\n",
        "                      n_jobs=1,\n",
        "                      return_train_score=True)\n",
        "\n",
        "  # Entraînement du meilleur modèle sur les données d'entraînement\n",
        "  gd_sr.fit(X, y)\n",
        "\n",
        "  print('meilleurs paramètres', gd_sr.best_params_,'\\n')\n",
        "  print('meilleur estimateur',gd_sr.best_estimator_,'\\n')\n",
        "\n",
        "  return gd_sr"
      ],
      "metadata": {
        "id": "6L3oKmujifk-"
      },
      "execution_count": null,
      "outputs": []
    },
    {
      "cell_type": "code",
      "source": [
        "import pickle\n",
        "df_avec_allemand = pd.concat([df1, df2, df_dutch], ignore_index=True)\n",
        "\n",
        "df_vf = equilibrer_vraifaux(df_avec_allemand)\n",
        "df_vfo = equilibrer_other(df_avec_allemand)\n",
        "df_vfom = equilibrer_quatreclasses(df_avec_allemand)"
      ],
      "metadata": {
        "id": "7-4wsjQVnOcd"
      },
      "execution_count": null,
      "outputs": []
    },
    {
      "cell_type": "code",
      "source": [
        "filename = \"Vrai_Faux_Modele.pkl\"\n",
        "pickle.dump(pipeline_function(df_vf,False,False,False,True), open(filename, 'wb'))\n",
        "print(\"Sauvegarde du modèle\")"
      ],
      "metadata": {
        "colab": {
          "base_uri": "https://localhost:8080/"
        },
        "id": "yOag0E0Qpba4",
        "outputId": "daaa3410-d506-4f70-851d-2d9de567d96d"
      },
      "execution_count": null,
      "outputs": [
        {
          "output_type": "stream",
          "name": "stdout",
          "text": [
            "meilleurs paramètres {'clf': SVC(C=100, gamma=0.01), 'clf__C': 100, 'clf__gamma': 0.01, 'clf__kernel': 'rbf'} \n",
            "\n",
            "meilleur estimateur Pipeline(steps=[('df_pretraite', DfNormalizer(lemmatisation_racinisation=True)),\n",
            "                ('tfidf', TfidfVectorizer()), ('clf', SVC(C=100, gamma=0.01))]) \n",
            "\n",
            "Sauvegarde du modèle\n"
          ]
        }
      ]
    },
    {
      "cell_type": "code",
      "source": [
        "filename = \"VraiFaux_Other_Modele.pkl\"\n",
        "pickle.dump(pipeline_function(df_vfo,False,True,True,False), open(filename, 'wb'))\n",
        "print(\"Sauvegarde du modèle\")"
      ],
      "metadata": {
        "id": "W1iiFCFCpgjZ",
        "colab": {
          "base_uri": "https://localhost:8080/"
        },
        "outputId": "635e0dbc-ae27-4c8b-a354-4808e305d231"
      },
      "execution_count": null,
      "outputs": [
        {
          "output_type": "stream",
          "name": "stdout",
          "text": [
            "meilleurs paramètres {'clf': SVC(C=10, gamma=1), 'clf__C': 10, 'clf__gamma': 1, 'clf__kernel': 'rbf'} \n",
            "\n",
            "meilleur estimateur Pipeline(steps=[('df_pretraite',\n",
            "                 DfNormalizer(removestopwords=True,\n",
            "                              token_exclamation_interrogation=True)),\n",
            "                ('tfidf', TfidfVectorizer()), ('clf', SVC(C=10, gamma=1))]) \n",
            "\n",
            "Sauvegarde du modèle\n"
          ]
        }
      ]
    },
    {
      "cell_type": "code",
      "source": [
        "filename = \"Vrai_Faux_Other_Mixture_Modele.pkl\"\n",
        "pickle.dump(pipeline_function(df_vfom,False,True,False,False), open(filename, 'wb'))\n",
        "print(\"Sauvegarde du modèle\")"
      ],
      "metadata": {
        "id": "ON-GPPH1phol",
        "colab": {
          "base_uri": "https://localhost:8080/"
        },
        "outputId": "6095dd2f-2c21-4101-8af2-2fbe9969a6a2"
      },
      "execution_count": null,
      "outputs": [
        {
          "output_type": "stream",
          "name": "stdout",
          "text": [
            "meilleurs paramètres {'clf': SVC(C=100, gamma=0.01), 'clf__C': 100, 'clf__gamma': 0.01, 'clf__kernel': 'rbf'} \n",
            "\n",
            "meilleur estimateur Pipeline(steps=[('df_pretraite',\n",
            "                 DfNormalizer(token_exclamation_interrogation=True)),\n",
            "                ('tfidf', TfidfVectorizer()), ('clf', SVC(C=100, gamma=0.01))]) \n",
            "\n",
            "Sauvegarde du modèle\n"
          ]
        }
      ]
    }
  ],
  "metadata": {
    "colab": {
      "provenance": [],
      "toc_visible": true
    },
    "kernelspec": {
      "display_name": "Python 3",
      "name": "python3"
    },
    "language_info": {
      "name": "python"
    }
  },
  "nbformat": 4,
  "nbformat_minor": 0
}